{
 "cells": [
  {
   "cell_type": "markdown",
   "metadata": {},
   "source": [
    "# EDA Project - Zuber"
   ]
  },
  {
   "cell_type": "markdown",
   "metadata": {},
   "source": [
    "## Introduction\n",
    "\n",
    "For this project, I'm going to work with the data I've parsed from the internet regarding taxi rides in Chicago. The purpose of this project is to analyze and better understand passenger preferences as well as external factors that could impact the rides. I will try to uncover patterns from the data to provide better insights in future rides as well as improved customer satisfaction. \n",
    "\n",
    "This project will consist of 3 steps:\n",
    "\n",
    "1. [Data Overview](#data_overview)\n",
    "2. [Data Preprocessing](#data_preprocessing)\n",
    "3. [Data Analysis](#data_analysis)\n",
    "\n",
    "First I will do an overview of the data to identify what the dataframe entails, such as their data types, column names, the contents of each column, whether or not they have missing and/or duplicate values, etc. \n",
    "\n",
    "Secondly, I will preprocess the data by changing the data to their correct types, changing the column names to their appropriate format, as well as dealing with the missing and duplicate values. I may also add more columns and values should the need arises.\n",
    "\n",
    "Lastly, once the data has been processed, I will begin the analysis. This includes making graphs, comparisons, and coming up with some hypotheses and answers. By the end of this step I would expect to have gained an understanding to the patterns of the customers and the external factors."
   ]
  },
  {
   "cell_type": "markdown",
   "metadata": {},
   "source": [
    "## Initialize"
   ]
  },
  {
   "cell_type": "code",
   "execution_count": 1,
   "metadata": {},
   "outputs": [],
   "source": [
    "# Importing the necessary libraries\n",
    "\n",
    "import pandas as pd\n",
    "import numpy as np\n",
    "from scipy import stats as st\n",
    "from matplotlib import pyplot as plt"
   ]
  },
  {
   "cell_type": "markdown",
   "metadata": {},
   "source": [
    "<a id='data_overview'></a>\n",
    "## Data Overview"
   ]
  },
  {
   "cell_type": "code",
   "execution_count": 2,
   "metadata": {},
   "outputs": [],
   "source": [
    "# Pulling the dataset and assigning to a variable\n",
    "\n",
    "companies = pd.read_csv('/datasets/project_sql_result_01.csv')\n",
    "trips = pd.read_csv('/datasets/project_sql_result_04.csv')"
   ]
  },
  {
   "cell_type": "code",
   "execution_count": 3,
   "metadata": {},
   "outputs": [
    {
     "name": "stdout",
     "output_type": "stream",
     "text": [
      "<class 'pandas.core.frame.DataFrame'>\n",
      "RangeIndex: 64 entries, 0 to 63\n",
      "Data columns (total 2 columns):\n",
      " #   Column        Non-Null Count  Dtype \n",
      "---  ------        --------------  ----- \n",
      " 0   company_name  64 non-null     object\n",
      " 1   trips_amount  64 non-null     int64 \n",
      "dtypes: int64(1), object(1)\n",
      "memory usage: 1.1+ KB\n"
     ]
    }
   ],
   "source": [
    "# Getting an overview of the data\n",
    "\n",
    "companies.info()"
   ]
  },
  {
   "cell_type": "code",
   "execution_count": 4,
   "metadata": {},
   "outputs": [
    {
     "data": {
      "text/html": [
       "<div>\n",
       "<style scoped>\n",
       "    .dataframe tbody tr th:only-of-type {\n",
       "        vertical-align: middle;\n",
       "    }\n",
       "\n",
       "    .dataframe tbody tr th {\n",
       "        vertical-align: top;\n",
       "    }\n",
       "\n",
       "    .dataframe thead th {\n",
       "        text-align: right;\n",
       "    }\n",
       "</style>\n",
       "<table border=\"1\" class=\"dataframe\">\n",
       "  <thead>\n",
       "    <tr style=\"text-align: right;\">\n",
       "      <th></th>\n",
       "      <th>company_name</th>\n",
       "      <th>trips_amount</th>\n",
       "    </tr>\n",
       "  </thead>\n",
       "  <tbody>\n",
       "    <tr>\n",
       "      <th>0</th>\n",
       "      <td>Flash Cab</td>\n",
       "      <td>19558</td>\n",
       "    </tr>\n",
       "    <tr>\n",
       "      <th>1</th>\n",
       "      <td>Taxi Affiliation Services</td>\n",
       "      <td>11422</td>\n",
       "    </tr>\n",
       "    <tr>\n",
       "      <th>2</th>\n",
       "      <td>Medallion Leasing</td>\n",
       "      <td>10367</td>\n",
       "    </tr>\n",
       "    <tr>\n",
       "      <th>3</th>\n",
       "      <td>Yellow Cab</td>\n",
       "      <td>9888</td>\n",
       "    </tr>\n",
       "    <tr>\n",
       "      <th>4</th>\n",
       "      <td>Taxi Affiliation Service Yellow</td>\n",
       "      <td>9299</td>\n",
       "    </tr>\n",
       "    <tr>\n",
       "      <th>5</th>\n",
       "      <td>Chicago Carriage Cab Corp</td>\n",
       "      <td>9181</td>\n",
       "    </tr>\n",
       "    <tr>\n",
       "      <th>6</th>\n",
       "      <td>City Service</td>\n",
       "      <td>8448</td>\n",
       "    </tr>\n",
       "    <tr>\n",
       "      <th>7</th>\n",
       "      <td>Sun Taxi</td>\n",
       "      <td>7701</td>\n",
       "    </tr>\n",
       "    <tr>\n",
       "      <th>8</th>\n",
       "      <td>Star North Management LLC</td>\n",
       "      <td>7455</td>\n",
       "    </tr>\n",
       "    <tr>\n",
       "      <th>9</th>\n",
       "      <td>Blue Ribbon Taxi Association Inc.</td>\n",
       "      <td>5953</td>\n",
       "    </tr>\n",
       "  </tbody>\n",
       "</table>\n",
       "</div>"
      ],
      "text/plain": [
       "                        company_name  trips_amount\n",
       "0                          Flash Cab         19558\n",
       "1          Taxi Affiliation Services         11422\n",
       "2                  Medallion Leasing         10367\n",
       "3                         Yellow Cab          9888\n",
       "4    Taxi Affiliation Service Yellow          9299\n",
       "5          Chicago Carriage Cab Corp          9181\n",
       "6                       City Service          8448\n",
       "7                           Sun Taxi          7701\n",
       "8          Star North Management LLC          7455\n",
       "9  Blue Ribbon Taxi Association Inc.          5953"
      ]
     },
     "execution_count": 4,
     "metadata": {},
     "output_type": "execute_result"
    }
   ],
   "source": [
    "# Printing the first rows\n",
    "\n",
    "companies.head(10)"
   ]
  },
  {
   "cell_type": "markdown",
   "metadata": {},
   "source": [
    "**This dataset looks good.**"
   ]
  },
  {
   "cell_type": "code",
   "execution_count": 5,
   "metadata": {},
   "outputs": [
    {
     "name": "stdout",
     "output_type": "stream",
     "text": [
      "<class 'pandas.core.frame.DataFrame'>\n",
      "RangeIndex: 94 entries, 0 to 93\n",
      "Data columns (total 2 columns):\n",
      " #   Column                 Non-Null Count  Dtype  \n",
      "---  ------                 --------------  -----  \n",
      " 0   dropoff_location_name  94 non-null     object \n",
      " 1   average_trips          94 non-null     float64\n",
      "dtypes: float64(1), object(1)\n",
      "memory usage: 1.6+ KB\n"
     ]
    }
   ],
   "source": [
    "trips.info()"
   ]
  },
  {
   "cell_type": "code",
   "execution_count": 6,
   "metadata": {},
   "outputs": [
    {
     "data": {
      "text/html": [
       "<div>\n",
       "<style scoped>\n",
       "    .dataframe tbody tr th:only-of-type {\n",
       "        vertical-align: middle;\n",
       "    }\n",
       "\n",
       "    .dataframe tbody tr th {\n",
       "        vertical-align: top;\n",
       "    }\n",
       "\n",
       "    .dataframe thead th {\n",
       "        text-align: right;\n",
       "    }\n",
       "</style>\n",
       "<table border=\"1\" class=\"dataframe\">\n",
       "  <thead>\n",
       "    <tr style=\"text-align: right;\">\n",
       "      <th></th>\n",
       "      <th>dropoff_location_name</th>\n",
       "      <th>average_trips</th>\n",
       "    </tr>\n",
       "  </thead>\n",
       "  <tbody>\n",
       "    <tr>\n",
       "      <th>0</th>\n",
       "      <td>Loop</td>\n",
       "      <td>10727.466667</td>\n",
       "    </tr>\n",
       "    <tr>\n",
       "      <th>1</th>\n",
       "      <td>River North</td>\n",
       "      <td>9523.666667</td>\n",
       "    </tr>\n",
       "    <tr>\n",
       "      <th>2</th>\n",
       "      <td>Streeterville</td>\n",
       "      <td>6664.666667</td>\n",
       "    </tr>\n",
       "    <tr>\n",
       "      <th>3</th>\n",
       "      <td>West Loop</td>\n",
       "      <td>5163.666667</td>\n",
       "    </tr>\n",
       "    <tr>\n",
       "      <th>4</th>\n",
       "      <td>O'Hare</td>\n",
       "      <td>2546.900000</td>\n",
       "    </tr>\n",
       "    <tr>\n",
       "      <th>5</th>\n",
       "      <td>Lake View</td>\n",
       "      <td>2420.966667</td>\n",
       "    </tr>\n",
       "    <tr>\n",
       "      <th>6</th>\n",
       "      <td>Grant Park</td>\n",
       "      <td>2068.533333</td>\n",
       "    </tr>\n",
       "    <tr>\n",
       "      <th>7</th>\n",
       "      <td>Museum Campus</td>\n",
       "      <td>1510.000000</td>\n",
       "    </tr>\n",
       "    <tr>\n",
       "      <th>8</th>\n",
       "      <td>Gold Coast</td>\n",
       "      <td>1364.233333</td>\n",
       "    </tr>\n",
       "    <tr>\n",
       "      <th>9</th>\n",
       "      <td>Sheffield &amp; DePaul</td>\n",
       "      <td>1259.766667</td>\n",
       "    </tr>\n",
       "  </tbody>\n",
       "</table>\n",
       "</div>"
      ],
      "text/plain": [
       "  dropoff_location_name  average_trips\n",
       "0                  Loop   10727.466667\n",
       "1           River North    9523.666667\n",
       "2         Streeterville    6664.666667\n",
       "3             West Loop    5163.666667\n",
       "4                O'Hare    2546.900000\n",
       "5             Lake View    2420.966667\n",
       "6            Grant Park    2068.533333\n",
       "7         Museum Campus    1510.000000\n",
       "8            Gold Coast    1364.233333\n",
       "9    Sheffield & DePaul    1259.766667"
      ]
     },
     "execution_count": 6,
     "metadata": {},
     "output_type": "execute_result"
    }
   ],
   "source": [
    "trips.head(10)"
   ]
  },
  {
   "cell_type": "markdown",
   "metadata": {},
   "source": [
    "It wouldn't make sense for there to be a half-trip, so I am going to change the data type of the average trips column so it shows whole numbers. Overall everything looks ok."
   ]
  },
  {
   "cell_type": "markdown",
   "metadata": {},
   "source": [
    "<a id='data_preprocessing'><a/>\n",
    "## Data Preprocessing"
   ]
  },
  {
   "cell_type": "markdown",
   "metadata": {},
   "source": [
    "There doesn't seem to be missing values according to the overview, so I'm just going to check for duplicates instead."
   ]
  },
  {
   "cell_type": "code",
   "execution_count": 7,
   "metadata": {},
   "outputs": [
    {
     "data": {
      "text/html": [
       "<div>\n",
       "<style scoped>\n",
       "    .dataframe tbody tr th:only-of-type {\n",
       "        vertical-align: middle;\n",
       "    }\n",
       "\n",
       "    .dataframe tbody tr th {\n",
       "        vertical-align: top;\n",
       "    }\n",
       "\n",
       "    .dataframe thead th {\n",
       "        text-align: right;\n",
       "    }\n",
       "</style>\n",
       "<table border=\"1\" class=\"dataframe\">\n",
       "  <thead>\n",
       "    <tr style=\"text-align: right;\">\n",
       "      <th></th>\n",
       "      <th>dropoff_location_name</th>\n",
       "      <th>average_trips</th>\n",
       "    </tr>\n",
       "  </thead>\n",
       "  <tbody>\n",
       "    <tr>\n",
       "      <th>0</th>\n",
       "      <td>Loop</td>\n",
       "      <td>10727</td>\n",
       "    </tr>\n",
       "    <tr>\n",
       "      <th>1</th>\n",
       "      <td>River North</td>\n",
       "      <td>9523</td>\n",
       "    </tr>\n",
       "    <tr>\n",
       "      <th>2</th>\n",
       "      <td>Streeterville</td>\n",
       "      <td>6664</td>\n",
       "    </tr>\n",
       "    <tr>\n",
       "      <th>3</th>\n",
       "      <td>West Loop</td>\n",
       "      <td>5163</td>\n",
       "    </tr>\n",
       "    <tr>\n",
       "      <th>4</th>\n",
       "      <td>O'Hare</td>\n",
       "      <td>2546</td>\n",
       "    </tr>\n",
       "    <tr>\n",
       "      <th>5</th>\n",
       "      <td>Lake View</td>\n",
       "      <td>2420</td>\n",
       "    </tr>\n",
       "    <tr>\n",
       "      <th>6</th>\n",
       "      <td>Grant Park</td>\n",
       "      <td>2068</td>\n",
       "    </tr>\n",
       "    <tr>\n",
       "      <th>7</th>\n",
       "      <td>Museum Campus</td>\n",
       "      <td>1510</td>\n",
       "    </tr>\n",
       "    <tr>\n",
       "      <th>8</th>\n",
       "      <td>Gold Coast</td>\n",
       "      <td>1364</td>\n",
       "    </tr>\n",
       "    <tr>\n",
       "      <th>9</th>\n",
       "      <td>Sheffield &amp; DePaul</td>\n",
       "      <td>1259</td>\n",
       "    </tr>\n",
       "  </tbody>\n",
       "</table>\n",
       "</div>"
      ],
      "text/plain": [
       "  dropoff_location_name  average_trips\n",
       "0                  Loop          10727\n",
       "1           River North           9523\n",
       "2         Streeterville           6664\n",
       "3             West Loop           5163\n",
       "4                O'Hare           2546\n",
       "5             Lake View           2420\n",
       "6            Grant Park           2068\n",
       "7         Museum Campus           1510\n",
       "8            Gold Coast           1364\n",
       "9    Sheffield & DePaul           1259"
      ]
     },
     "execution_count": 7,
     "metadata": {},
     "output_type": "execute_result"
    }
   ],
   "source": [
    "# Changing data type of the average trip\n",
    "\n",
    "trips.average_trips = trips.average_trips.astype('int')\n",
    "trips.head(10)"
   ]
  },
  {
   "cell_type": "code",
   "execution_count": 8,
   "metadata": {},
   "outputs": [
    {
     "name": "stdout",
     "output_type": "stream",
     "text": [
      "<class 'pandas.core.frame.DataFrame'>\n",
      "RangeIndex: 94 entries, 0 to 93\n",
      "Data columns (total 2 columns):\n",
      " #   Column                 Non-Null Count  Dtype \n",
      "---  ------                 --------------  ----- \n",
      " 0   dropoff_location_name  94 non-null     object\n",
      " 1   average_trips          94 non-null     int64 \n",
      "dtypes: int64(1), object(1)\n",
      "memory usage: 1.6+ KB\n"
     ]
    }
   ],
   "source": [
    "trips.info()"
   ]
  },
  {
   "cell_type": "markdown",
   "metadata": {},
   "source": [
    "Looks better."
   ]
  },
  {
   "cell_type": "code",
   "execution_count": 9,
   "metadata": {},
   "outputs": [
    {
     "data": {
      "text/plain": [
       "0"
      ]
     },
     "execution_count": 9,
     "metadata": {},
     "output_type": "execute_result"
    }
   ],
   "source": [
    "# Checking for duplicates\n",
    "\n",
    "companies.duplicated().sum()"
   ]
  },
  {
   "cell_type": "code",
   "execution_count": 10,
   "metadata": {},
   "outputs": [
    {
     "data": {
      "text/plain": [
       "0"
      ]
     },
     "execution_count": 10,
     "metadata": {},
     "output_type": "execute_result"
    }
   ],
   "source": [
    "# Checking duplicates in just the name\n",
    "\n",
    "companies.company_name.duplicated().sum()"
   ]
  },
  {
   "cell_type": "code",
   "execution_count": 11,
   "metadata": {},
   "outputs": [
    {
     "data": {
      "text/plain": [
       "0"
      ]
     },
     "execution_count": 11,
     "metadata": {},
     "output_type": "execute_result"
    }
   ],
   "source": [
    "trips.duplicated().sum()"
   ]
  },
  {
   "cell_type": "code",
   "execution_count": 12,
   "metadata": {},
   "outputs": [
    {
     "data": {
      "text/plain": [
       "0"
      ]
     },
     "execution_count": 12,
     "metadata": {},
     "output_type": "execute_result"
    }
   ],
   "source": [
    "trips.dropoff_location_name.duplicated().sum()"
   ]
  },
  {
   "cell_type": "markdown",
   "metadata": {},
   "source": [
    "No duplicates found."
   ]
  },
  {
   "cell_type": "markdown",
   "metadata": {},
   "source": [
    "<a id='data_analysis'></a>\n",
    "## Data Analysis"
   ]
  },
  {
   "cell_type": "code",
   "execution_count": 13,
   "metadata": {},
   "outputs": [
    {
     "data": {
      "text/html": [
       "<div>\n",
       "<style scoped>\n",
       "    .dataframe tbody tr th:only-of-type {\n",
       "        vertical-align: middle;\n",
       "    }\n",
       "\n",
       "    .dataframe tbody tr th {\n",
       "        vertical-align: top;\n",
       "    }\n",
       "\n",
       "    .dataframe thead th {\n",
       "        text-align: right;\n",
       "    }\n",
       "</style>\n",
       "<table border=\"1\" class=\"dataframe\">\n",
       "  <thead>\n",
       "    <tr style=\"text-align: right;\">\n",
       "      <th></th>\n",
       "      <th>dropoff_location_name</th>\n",
       "      <th>average_trips</th>\n",
       "    </tr>\n",
       "  </thead>\n",
       "  <tbody>\n",
       "    <tr>\n",
       "      <th>0</th>\n",
       "      <td>Loop</td>\n",
       "      <td>10727</td>\n",
       "    </tr>\n",
       "    <tr>\n",
       "      <th>1</th>\n",
       "      <td>River North</td>\n",
       "      <td>9523</td>\n",
       "    </tr>\n",
       "    <tr>\n",
       "      <th>2</th>\n",
       "      <td>Streeterville</td>\n",
       "      <td>6664</td>\n",
       "    </tr>\n",
       "    <tr>\n",
       "      <th>3</th>\n",
       "      <td>West Loop</td>\n",
       "      <td>5163</td>\n",
       "    </tr>\n",
       "    <tr>\n",
       "      <th>4</th>\n",
       "      <td>O'Hare</td>\n",
       "      <td>2546</td>\n",
       "    </tr>\n",
       "    <tr>\n",
       "      <th>5</th>\n",
       "      <td>Lake View</td>\n",
       "      <td>2420</td>\n",
       "    </tr>\n",
       "    <tr>\n",
       "      <th>6</th>\n",
       "      <td>Grant Park</td>\n",
       "      <td>2068</td>\n",
       "    </tr>\n",
       "    <tr>\n",
       "      <th>7</th>\n",
       "      <td>Museum Campus</td>\n",
       "      <td>1510</td>\n",
       "    </tr>\n",
       "    <tr>\n",
       "      <th>8</th>\n",
       "      <td>Gold Coast</td>\n",
       "      <td>1364</td>\n",
       "    </tr>\n",
       "    <tr>\n",
       "      <th>9</th>\n",
       "      <td>Sheffield &amp; DePaul</td>\n",
       "      <td>1259</td>\n",
       "    </tr>\n",
       "  </tbody>\n",
       "</table>\n",
       "</div>"
      ],
      "text/plain": [
       "  dropoff_location_name  average_trips\n",
       "0                  Loop          10727\n",
       "1           River North           9523\n",
       "2         Streeterville           6664\n",
       "3             West Loop           5163\n",
       "4                O'Hare           2546\n",
       "5             Lake View           2420\n",
       "6            Grant Park           2068\n",
       "7         Museum Campus           1510\n",
       "8            Gold Coast           1364\n",
       "9    Sheffield & DePaul           1259"
      ]
     },
     "execution_count": 13,
     "metadata": {},
     "output_type": "execute_result"
    }
   ],
   "source": [
    "# Looking for the top 10 neighborhood in terms of trips\n",
    "\n",
    "top10_trips = trips.sort_values(by='average_trips', ascending=False).head(10)\n",
    "top10_trips"
   ]
  },
  {
   "cell_type": "code",
   "execution_count": 14,
   "metadata": {},
   "outputs": [
    {
     "data": {
      "text/html": [
       "<div>\n",
       "<style scoped>\n",
       "    .dataframe tbody tr th:only-of-type {\n",
       "        vertical-align: middle;\n",
       "    }\n",
       "\n",
       "    .dataframe tbody tr th {\n",
       "        vertical-align: top;\n",
       "    }\n",
       "\n",
       "    .dataframe thead th {\n",
       "        text-align: right;\n",
       "    }\n",
       "</style>\n",
       "<table border=\"1\" class=\"dataframe\">\n",
       "  <thead>\n",
       "    <tr style=\"text-align: right;\">\n",
       "      <th></th>\n",
       "      <th>company_name</th>\n",
       "      <th>trips_amount</th>\n",
       "    </tr>\n",
       "  </thead>\n",
       "  <tbody>\n",
       "    <tr>\n",
       "      <th>0</th>\n",
       "      <td>Flash Cab</td>\n",
       "      <td>19558</td>\n",
       "    </tr>\n",
       "    <tr>\n",
       "      <th>1</th>\n",
       "      <td>Taxi Affiliation Services</td>\n",
       "      <td>11422</td>\n",
       "    </tr>\n",
       "    <tr>\n",
       "      <th>2</th>\n",
       "      <td>Medallion Leasing</td>\n",
       "      <td>10367</td>\n",
       "    </tr>\n",
       "    <tr>\n",
       "      <th>3</th>\n",
       "      <td>Yellow Cab</td>\n",
       "      <td>9888</td>\n",
       "    </tr>\n",
       "    <tr>\n",
       "      <th>4</th>\n",
       "      <td>Taxi Affiliation Service Yellow</td>\n",
       "      <td>9299</td>\n",
       "    </tr>\n",
       "    <tr>\n",
       "      <th>5</th>\n",
       "      <td>Chicago Carriage Cab Corp</td>\n",
       "      <td>9181</td>\n",
       "    </tr>\n",
       "    <tr>\n",
       "      <th>6</th>\n",
       "      <td>City Service</td>\n",
       "      <td>8448</td>\n",
       "    </tr>\n",
       "    <tr>\n",
       "      <th>7</th>\n",
       "      <td>Sun Taxi</td>\n",
       "      <td>7701</td>\n",
       "    </tr>\n",
       "    <tr>\n",
       "      <th>8</th>\n",
       "      <td>Star North Management LLC</td>\n",
       "      <td>7455</td>\n",
       "    </tr>\n",
       "    <tr>\n",
       "      <th>9</th>\n",
       "      <td>Blue Ribbon Taxi Association Inc.</td>\n",
       "      <td>5953</td>\n",
       "    </tr>\n",
       "  </tbody>\n",
       "</table>\n",
       "</div>"
      ],
      "text/plain": [
       "                        company_name  trips_amount\n",
       "0                          Flash Cab         19558\n",
       "1          Taxi Affiliation Services         11422\n",
       "2                  Medallion Leasing         10367\n",
       "3                         Yellow Cab          9888\n",
       "4    Taxi Affiliation Service Yellow          9299\n",
       "5          Chicago Carriage Cab Corp          9181\n",
       "6                       City Service          8448\n",
       "7                           Sun Taxi          7701\n",
       "8          Star North Management LLC          7455\n",
       "9  Blue Ribbon Taxi Association Inc.          5953"
      ]
     },
     "execution_count": 14,
     "metadata": {},
     "output_type": "execute_result"
    }
   ],
   "source": [
    "# Top 10 companies in terms of trips \n",
    "\n",
    "top10_comps = companies.sort_values(by='trips_amount', ascending=False).head(10)\n",
    "top10_comps"
   ]
  },
  {
   "cell_type": "code",
   "execution_count": 15,
   "metadata": {},
   "outputs": [
    {
     "data": {
      "image/png": "[encoded data removed]",
      "text/plain": [
       "<Figure size 800x400 with 1 Axes>"
      ]
     },
     "metadata": {},
     "output_type": "display_data"
    }
   ],
   "source": [
    "top10_comps.plot(\n",
    "    ylim=(0, 20000),\n",
    "    legend=False,\n",
    "    title='Companies and amount of trips',\n",
    "    kind='barh',\n",
    "    x='company_name',\n",
    "    color='orange',\n",
    "    xlabel='Company Names',\n",
    "    \n",
    "    figsize=[8, 4]\n",
    ")\n",
    "\n",
    "plt.show()"
   ]
  },
  {
   "cell_type": "markdown",
   "metadata": {},
   "source": [
    "It seems that Flash Cab dominates the amount of trips, showed by the fact that Taxi Affiliation Services, which comes in 2nd, has nearly half the amount of trips as Flash Cab."
   ]
  },
  {
   "cell_type": "code",
   "execution_count": 22,
   "metadata": {},
   "outputs": [
    {
     "data": {
      "image/png": "[encoded data removed]",
      "text/plain": [
       "<Figure size 640x480 with 1 Axes>"
      ]
     },
     "metadata": {},
     "output_type": "display_data"
    }
   ],
   "source": [
    "top10_trips.plot(\n",
    "    kind='barh',\n",
    "    color='yellow',\n",
    "    x='dropoff_location_name',\n",
    "    xlabel='Dropoff Locations',\n",
    "    legend=False,\n",
    "    title='Locations vs amount of trips'\n",
    ")\n",
    "\n",
    "plt.show()"
   ]
  },
  {
   "cell_type": "markdown",
   "metadata": {},
   "source": [
    "Loop seems to be the most popular destination on cabs, followed by River North, Streeterville, and West Loop. After West Loop, the destination's amount of trips drop to nearly half the one above it, and continues to decrease at a steady rate to the 10th place."
   ]
  },
  {
   "cell_type": "markdown",
   "metadata": {},
   "source": [
    "# Loop - O'Hare Trips"
   ]
  },
  {
   "cell_type": "code",
   "execution_count": 16,
   "metadata": {},
   "outputs": [
    {
     "name": "stdout",
     "output_type": "stream",
     "text": [
      "<class 'pandas.core.frame.DataFrame'>\n",
      "RangeIndex: 1068 entries, 0 to 1067\n",
      "Data columns (total 3 columns):\n",
      " #   Column              Non-Null Count  Dtype  \n",
      "---  ------              --------------  -----  \n",
      " 0   start_ts            1068 non-null   object \n",
      " 1   weather_conditions  1068 non-null   object \n",
      " 2   duration_seconds    1068 non-null   float64\n",
      "dtypes: float64(1), object(2)\n",
      "memory usage: 25.2+ KB\n"
     ]
    }
   ],
   "source": [
    "# Loading the dataset\n",
    "\n",
    "rides = pd.read_csv('/datasets/project_sql_result_07.csv')\n",
    "\n",
    "# Overview \n",
    "\n",
    "rides.info()"
   ]
  },
  {
   "cell_type": "code",
   "execution_count": 17,
   "metadata": {},
   "outputs": [
    {
     "data": {
      "text/html": [
       "<div>\n",
       "<style scoped>\n",
       "    .dataframe tbody tr th:only-of-type {\n",
       "        vertical-align: middle;\n",
       "    }\n",
       "\n",
       "    .dataframe tbody tr th {\n",
       "        vertical-align: top;\n",
       "    }\n",
       "\n",
       "    .dataframe thead th {\n",
       "        text-align: right;\n",
       "    }\n",
       "</style>\n",
       "<table border=\"1\" class=\"dataframe\">\n",
       "  <thead>\n",
       "    <tr style=\"text-align: right;\">\n",
       "      <th></th>\n",
       "      <th>start_ts</th>\n",
       "      <th>weather_conditions</th>\n",
       "      <th>duration_seconds</th>\n",
       "    </tr>\n",
       "  </thead>\n",
       "  <tbody>\n",
       "    <tr>\n",
       "      <th>0</th>\n",
       "      <td>2017-11-25 16:00:00</td>\n",
       "      <td>Good</td>\n",
       "      <td>2410.0</td>\n",
       "    </tr>\n",
       "    <tr>\n",
       "      <th>1</th>\n",
       "      <td>2017-11-25 14:00:00</td>\n",
       "      <td>Good</td>\n",
       "      <td>1920.0</td>\n",
       "    </tr>\n",
       "    <tr>\n",
       "      <th>2</th>\n",
       "      <td>2017-11-25 12:00:00</td>\n",
       "      <td>Good</td>\n",
       "      <td>1543.0</td>\n",
       "    </tr>\n",
       "    <tr>\n",
       "      <th>3</th>\n",
       "      <td>2017-11-04 10:00:00</td>\n",
       "      <td>Good</td>\n",
       "      <td>2512.0</td>\n",
       "    </tr>\n",
       "    <tr>\n",
       "      <th>4</th>\n",
       "      <td>2017-11-11 07:00:00</td>\n",
       "      <td>Good</td>\n",
       "      <td>1440.0</td>\n",
       "    </tr>\n",
       "    <tr>\n",
       "      <th>5</th>\n",
       "      <td>2017-11-11 04:00:00</td>\n",
       "      <td>Good</td>\n",
       "      <td>1320.0</td>\n",
       "    </tr>\n",
       "    <tr>\n",
       "      <th>6</th>\n",
       "      <td>2017-11-04 16:00:00</td>\n",
       "      <td>Bad</td>\n",
       "      <td>2969.0</td>\n",
       "    </tr>\n",
       "    <tr>\n",
       "      <th>7</th>\n",
       "      <td>2017-11-18 11:00:00</td>\n",
       "      <td>Good</td>\n",
       "      <td>2280.0</td>\n",
       "    </tr>\n",
       "    <tr>\n",
       "      <th>8</th>\n",
       "      <td>2017-11-11 14:00:00</td>\n",
       "      <td>Good</td>\n",
       "      <td>2460.0</td>\n",
       "    </tr>\n",
       "    <tr>\n",
       "      <th>9</th>\n",
       "      <td>2017-11-11 12:00:00</td>\n",
       "      <td>Good</td>\n",
       "      <td>2040.0</td>\n",
       "    </tr>\n",
       "  </tbody>\n",
       "</table>\n",
       "</div>"
      ],
      "text/plain": [
       "              start_ts weather_conditions  duration_seconds\n",
       "0  2017-11-25 16:00:00               Good            2410.0\n",
       "1  2017-11-25 14:00:00               Good            1920.0\n",
       "2  2017-11-25 12:00:00               Good            1543.0\n",
       "3  2017-11-04 10:00:00               Good            2512.0\n",
       "4  2017-11-11 07:00:00               Good            1440.0\n",
       "5  2017-11-11 04:00:00               Good            1320.0\n",
       "6  2017-11-04 16:00:00                Bad            2969.0\n",
       "7  2017-11-18 11:00:00               Good            2280.0\n",
       "8  2017-11-11 14:00:00               Good            2460.0\n",
       "9  2017-11-11 12:00:00               Good            2040.0"
      ]
     },
     "execution_count": 17,
     "metadata": {},
     "output_type": "execute_result"
    }
   ],
   "source": [
    "rides.head(10)"
   ]
  },
  {
   "cell_type": "markdown",
   "metadata": {},
   "source": [
    "This dataset has the wrong data type on the start_ts column, and doesn't have the necessary data available for me to calculate on, which is the day of the week."
   ]
  },
  {
   "cell_type": "code",
   "execution_count": 18,
   "metadata": {},
   "outputs": [
    {
     "name": "stdout",
     "output_type": "stream",
     "text": [
      "<class 'pandas.core.frame.DataFrame'>\n",
      "RangeIndex: 1068 entries, 0 to 1067\n",
      "Data columns (total 3 columns):\n",
      " #   Column              Non-Null Count  Dtype         \n",
      "---  ------              --------------  -----         \n",
      " 0   start_ts            1068 non-null   datetime64[ns]\n",
      " 1   weather_conditions  1068 non-null   object        \n",
      " 2   duration_seconds    1068 non-null   float64       \n",
      "dtypes: datetime64[ns](1), float64(1), object(1)\n",
      "memory usage: 25.2+ KB\n"
     ]
    }
   ],
   "source": [
    "# Changing the data type\n",
    "\n",
    "rides.start_ts = pd.to_datetime(rides.start_ts)\n",
    "rides.info()"
   ]
  },
  {
   "cell_type": "code",
   "execution_count": 19,
   "metadata": {},
   "outputs": [
    {
     "data": {
      "text/html": [
       "<div>\n",
       "<style scoped>\n",
       "    .dataframe tbody tr th:only-of-type {\n",
       "        vertical-align: middle;\n",
       "    }\n",
       "\n",
       "    .dataframe tbody tr th {\n",
       "        vertical-align: top;\n",
       "    }\n",
       "\n",
       "    .dataframe thead th {\n",
       "        text-align: right;\n",
       "    }\n",
       "</style>\n",
       "<table border=\"1\" class=\"dataframe\">\n",
       "  <thead>\n",
       "    <tr style=\"text-align: right;\">\n",
       "      <th></th>\n",
       "      <th>start_ts</th>\n",
       "      <th>weather_conditions</th>\n",
       "      <th>duration_seconds</th>\n",
       "      <th>day</th>\n",
       "    </tr>\n",
       "  </thead>\n",
       "  <tbody>\n",
       "    <tr>\n",
       "      <th>0</th>\n",
       "      <td>2017-11-25 16:00:00</td>\n",
       "      <td>Good</td>\n",
       "      <td>2410.0</td>\n",
       "      <td>Saturday</td>\n",
       "    </tr>\n",
       "    <tr>\n",
       "      <th>1</th>\n",
       "      <td>2017-11-25 14:00:00</td>\n",
       "      <td>Good</td>\n",
       "      <td>1920.0</td>\n",
       "      <td>Saturday</td>\n",
       "    </tr>\n",
       "    <tr>\n",
       "      <th>2</th>\n",
       "      <td>2017-11-25 12:00:00</td>\n",
       "      <td>Good</td>\n",
       "      <td>1543.0</td>\n",
       "      <td>Saturday</td>\n",
       "    </tr>\n",
       "    <tr>\n",
       "      <th>3</th>\n",
       "      <td>2017-11-04 10:00:00</td>\n",
       "      <td>Good</td>\n",
       "      <td>2512.0</td>\n",
       "      <td>Saturday</td>\n",
       "    </tr>\n",
       "    <tr>\n",
       "      <th>4</th>\n",
       "      <td>2017-11-11 07:00:00</td>\n",
       "      <td>Good</td>\n",
       "      <td>1440.0</td>\n",
       "      <td>Saturday</td>\n",
       "    </tr>\n",
       "    <tr>\n",
       "      <th>...</th>\n",
       "      <td>...</td>\n",
       "      <td>...</td>\n",
       "      <td>...</td>\n",
       "      <td>...</td>\n",
       "    </tr>\n",
       "    <tr>\n",
       "      <th>1063</th>\n",
       "      <td>2017-11-25 11:00:00</td>\n",
       "      <td>Good</td>\n",
       "      <td>0.0</td>\n",
       "      <td>Saturday</td>\n",
       "    </tr>\n",
       "    <tr>\n",
       "      <th>1064</th>\n",
       "      <td>2017-11-11 10:00:00</td>\n",
       "      <td>Good</td>\n",
       "      <td>1318.0</td>\n",
       "      <td>Saturday</td>\n",
       "    </tr>\n",
       "    <tr>\n",
       "      <th>1065</th>\n",
       "      <td>2017-11-11 13:00:00</td>\n",
       "      <td>Good</td>\n",
       "      <td>2100.0</td>\n",
       "      <td>Saturday</td>\n",
       "    </tr>\n",
       "    <tr>\n",
       "      <th>1066</th>\n",
       "      <td>2017-11-11 08:00:00</td>\n",
       "      <td>Good</td>\n",
       "      <td>1380.0</td>\n",
       "      <td>Saturday</td>\n",
       "    </tr>\n",
       "    <tr>\n",
       "      <th>1067</th>\n",
       "      <td>2017-11-04 16:00:00</td>\n",
       "      <td>Bad</td>\n",
       "      <td>2834.0</td>\n",
       "      <td>Saturday</td>\n",
       "    </tr>\n",
       "  </tbody>\n",
       "</table>\n",
       "<p>1068 rows × 4 columns</p>\n",
       "</div>"
      ],
      "text/plain": [
       "                start_ts weather_conditions  duration_seconds       day\n",
       "0    2017-11-25 16:00:00               Good            2410.0  Saturday\n",
       "1    2017-11-25 14:00:00               Good            1920.0  Saturday\n",
       "2    2017-11-25 12:00:00               Good            1543.0  Saturday\n",
       "3    2017-11-04 10:00:00               Good            2512.0  Saturday\n",
       "4    2017-11-11 07:00:00               Good            1440.0  Saturday\n",
       "...                  ...                ...               ...       ...\n",
       "1063 2017-11-25 11:00:00               Good               0.0  Saturday\n",
       "1064 2017-11-11 10:00:00               Good            1318.0  Saturday\n",
       "1065 2017-11-11 13:00:00               Good            2100.0  Saturday\n",
       "1066 2017-11-11 08:00:00               Good            1380.0  Saturday\n",
       "1067 2017-11-04 16:00:00                Bad            2834.0  Saturday\n",
       "\n",
       "[1068 rows x 4 columns]"
      ]
     },
     "execution_count": 19,
     "metadata": {},
     "output_type": "execute_result"
    }
   ],
   "source": [
    "# Grabbing the day of the week from the date\n",
    "\n",
    "rides['day'] = rides.start_ts.dt.day_name()\n",
    "rides"
   ]
  },
  {
   "cell_type": "code",
   "execution_count": 20,
   "metadata": {},
   "outputs": [
    {
     "data": {
      "text/plain": [
       "array(['Saturday'], dtype=object)"
      ]
     },
     "execution_count": 20,
     "metadata": {},
     "output_type": "execute_result"
    }
   ],
   "source": [
    "rides.day.unique()"
   ]
  },
  {
   "cell_type": "markdown",
   "metadata": {},
   "source": [
    "With everything in place, I will now test and calculate the dataset on how the weather affects the duration of the rides. I will assume the weather condition 'Bad' refers to rainy days."
   ]
  },
  {
   "cell_type": "markdown",
   "metadata": {},
   "source": [
    "H₀ = The average duration of rides stay the same on rainy Saturdays.\n",
    "\n",
    "H1 = The average duration of rides differs on rainy Saturdays."
   ]
  },
  {
   "cell_type": "code",
   "execution_count": 21,
   "metadata": {},
   "outputs": [
    {
     "name": "stdout",
     "output_type": "stream",
     "text": [
      "p-value: 6.517970327099473e-12\n",
      "We reject the null hypothesis\n"
     ]
    }
   ],
   "source": [
    "# Setting the alpha value to 5% for appropriate amount of uncertainty\n",
    "\n",
    "alpha = 0.05\n",
    "\n",
    "# Applying the test to duration for both weather conditions and compare the values\n",
    "\n",
    "results = st.ttest_ind(\n",
    "    rides[rides.weather_conditions == 'Good'].duration_seconds,\n",
    "    rides[rides.weather_conditions == 'Bad'].duration_seconds\n",
    ")\n",
    "# \n",
    "print('p-value:', results.pvalue)\n",
    "\n",
    "if results.pvalue < alpha:\n",
    "    print(\"We reject the null hypothesis\")\n",
    "else:\n",
    "    print(\"We can't reject the null hypothesis\")"
   ]
  },
  {
   "cell_type": "markdown",
   "metadata": {},
   "source": [
    "Based on this test we can see that the weather actually does affect how long the rides would take. This logically would make sense, considering how the weather impacts a lot things in our daily lives, such as roads, traffic, schedules, etc."
   ]
  },
  {
   "cell_type": "markdown",
   "metadata": {},
   "source": [
    "## Conclusion\n",
    "\n",
    "From the exploratory data analysis I have gotten some insights into Chicago's passenger's preferences and external factors that could impact the rides.\n",
    "\n",
    "The data shows that Flash Cab dominates the amount of trips with over two times the amount of trips from the 2nd place, which is the Taxi Affiliation Service. The most popular destionation using cabs seems tobe Loop, followed by River North, Streeterville, and West Loop.\n",
    "\n",
    "At the end of the analysis, I've formulated a hypothesis based on how weather would affect the duration of the rides. The test results show that the weather actually does affect how long the rides would take. This logically would make sense, considering how the weather impacts a lot things in our daily lives, such as roads, traffic, schedules, etc."
   ]
  },
  {
   "cell_type": "code",
   "execution_count": null,
   "metadata": {},
   "outputs": [],
   "source": []
  }
 ],
 "metadata": {
  "ExecuteTimeLog": [
   {
    "duration": 4907,
    "start_time": "2024-05-30T05:48:04.292Z"
   },
   {
    "duration": 4,
    "start_time": "2024-05-30T05:48:17.728Z"
   },
   {
    "duration": 13,
    "start_time": "2024-05-30T05:51:22.404Z"
   },
   {
    "duration": 19,
    "start_time": "2024-05-30T05:51:26.504Z"
   },
   {
    "duration": 16,
    "start_time": "2024-05-30T05:52:04.954Z"
   },
   {
    "duration": 416,
    "start_time": "2024-05-30T05:52:39.635Z"
   },
   {
    "duration": 10,
    "start_time": "2024-05-30T05:52:43.937Z"
   },
   {
    "duration": 15,
    "start_time": "2024-05-30T05:52:52.327Z"
   },
   {
    "duration": 9,
    "start_time": "2024-05-30T05:53:19.783Z"
   },
   {
    "duration": 14,
    "start_time": "2024-05-30T05:54:27.517Z"
   },
   {
    "duration": 11,
    "start_time": "2024-05-30T05:54:32.114Z"
   },
   {
    "duration": 419,
    "start_time": "2024-05-31T17:30:49.375Z"
   },
   {
    "duration": 5180,
    "start_time": "2024-05-31T17:30:56.705Z"
   },
   {
    "duration": 21,
    "start_time": "2024-05-31T17:31:01.889Z"
   },
   {
    "duration": 17,
    "start_time": "2024-05-31T17:31:01.913Z"
   },
   {
    "duration": 14,
    "start_time": "2024-05-31T17:31:01.936Z"
   },
   {
    "duration": 49,
    "start_time": "2024-05-31T17:31:01.954Z"
   },
   {
    "duration": 13,
    "start_time": "2024-05-31T17:31:02.007Z"
   },
   {
    "duration": 6,
    "start_time": "2024-05-31T17:31:02.024Z"
   },
   {
    "duration": 337,
    "start_time": "2024-05-31T18:18:01.247Z"
   },
   {
    "duration": 23,
    "start_time": "2024-05-31T18:18:07.250Z"
   },
   {
    "duration": 4954,
    "start_time": "2024-05-31T18:18:10.302Z"
   },
   {
    "duration": 29,
    "start_time": "2024-05-31T18:18:15.260Z"
   },
   {
    "duration": 22,
    "start_time": "2024-05-31T18:18:15.292Z"
   },
   {
    "duration": 15,
    "start_time": "2024-05-31T18:18:15.324Z"
   },
   {
    "duration": 14,
    "start_time": "2024-05-31T18:18:15.343Z"
   },
   {
    "duration": 11,
    "start_time": "2024-05-31T18:18:15.361Z"
   },
   {
    "duration": 59,
    "start_time": "2024-05-31T18:18:15.376Z"
   },
   {
    "duration": 117,
    "start_time": "2024-05-31T18:18:56.531Z"
   },
   {
    "duration": 14,
    "start_time": "2024-05-31T18:19:01.098Z"
   },
   {
    "duration": 17,
    "start_time": "2024-05-31T18:19:18.459Z"
   },
   {
    "duration": 9,
    "start_time": "2024-05-31T18:19:46.125Z"
   },
   {
    "duration": 11,
    "start_time": "2024-05-31T18:20:07.759Z"
   },
   {
    "duration": 10,
    "start_time": "2024-05-31T18:20:49.400Z"
   },
   {
    "duration": 12,
    "start_time": "2024-05-31T18:20:58.277Z"
   },
   {
    "duration": 10,
    "start_time": "2024-05-31T18:21:01.548Z"
   },
   {
    "duration": 9,
    "start_time": "2024-05-31T18:21:14.633Z"
   },
   {
    "duration": 7,
    "start_time": "2024-05-31T18:21:21.680Z"
   },
   {
    "duration": 9,
    "start_time": "2024-05-31T18:21:44.204Z"
   },
   {
    "duration": 12,
    "start_time": "2024-05-31T18:21:54.492Z"
   },
   {
    "duration": 24,
    "start_time": "2024-05-31T18:22:04.701Z"
   },
   {
    "duration": 7,
    "start_time": "2024-05-31T18:22:11.946Z"
   },
   {
    "duration": 8,
    "start_time": "2024-05-31T18:22:36.079Z"
   },
   {
    "duration": 6,
    "start_time": "2024-05-31T18:22:38.960Z"
   },
   {
    "duration": 6,
    "start_time": "2024-05-31T18:22:52.416Z"
   },
   {
    "duration": 16,
    "start_time": "2024-05-31T18:25:23.302Z"
   },
   {
    "duration": 14,
    "start_time": "2024-05-31T18:25:31.263Z"
   },
   {
    "duration": 12,
    "start_time": "2024-05-31T18:25:35.518Z"
   },
   {
    "duration": 17,
    "start_time": "2024-05-31T18:27:53.215Z"
   },
   {
    "duration": 11,
    "start_time": "2024-05-31T18:27:57.053Z"
   },
   {
    "duration": 11,
    "start_time": "2024-05-31T18:28:23.615Z"
   },
   {
    "duration": 12,
    "start_time": "2024-05-31T18:28:56.884Z"
   },
   {
    "duration": 12,
    "start_time": "2024-05-31T18:29:04.022Z"
   },
   {
    "duration": 13,
    "start_time": "2024-05-31T18:29:11.979Z"
   },
   {
    "duration": 12,
    "start_time": "2024-05-31T18:29:16.277Z"
   },
   {
    "duration": 5,
    "start_time": "2024-05-31T18:29:49.129Z"
   },
   {
    "duration": 24,
    "start_time": "2024-05-31T18:29:51.478Z"
   },
   {
    "duration": 228,
    "start_time": "2024-05-31T18:29:54.232Z"
   },
   {
    "duration": 215,
    "start_time": "2024-05-31T18:31:03.282Z"
   },
   {
    "duration": 2129,
    "start_time": "2024-05-31T18:31:22.365Z"
   },
   {
    "duration": 188,
    "start_time": "2024-05-31T18:31:37.664Z"
   },
   {
    "duration": 235,
    "start_time": "2024-05-31T18:32:15.710Z"
   },
   {
    "duration": 292,
    "start_time": "2024-05-31T18:32:25.534Z"
   },
   {
    "duration": 301,
    "start_time": "2024-05-31T18:32:42.644Z"
   },
   {
    "duration": 277,
    "start_time": "2024-05-31T18:32:48.867Z"
   },
   {
    "duration": 305,
    "start_time": "2024-05-31T18:32:53.695Z"
   },
   {
    "duration": 539,
    "start_time": "2024-05-31T18:33:05.810Z"
   },
   {
    "duration": 296,
    "start_time": "2024-05-31T18:34:05.052Z"
   },
   {
    "duration": 288,
    "start_time": "2024-05-31T18:34:12.253Z"
   },
   {
    "duration": 280,
    "start_time": "2024-05-31T18:34:16.690Z"
   },
   {
    "duration": 291,
    "start_time": "2024-05-31T18:34:24.095Z"
   },
   {
    "duration": 330,
    "start_time": "2024-05-31T18:34:31.905Z"
   },
   {
    "duration": 274,
    "start_time": "2024-05-31T18:34:44.376Z"
   },
   {
    "duration": 292,
    "start_time": "2024-05-31T18:34:52.977Z"
   },
   {
    "duration": 467,
    "start_time": "2024-05-31T18:35:00.686Z"
   },
   {
    "duration": 260,
    "start_time": "2024-05-31T18:35:05.137Z"
   },
   {
    "duration": 303,
    "start_time": "2024-05-31T18:35:10.235Z"
   },
   {
    "duration": 301,
    "start_time": "2024-05-31T18:35:18.925Z"
   },
   {
    "duration": 274,
    "start_time": "2024-05-31T18:36:46.728Z"
   },
   {
    "duration": 293,
    "start_time": "2024-05-31T18:36:51.423Z"
   },
   {
    "duration": 291,
    "start_time": "2024-05-31T18:37:11.336Z"
   },
   {
    "duration": 274,
    "start_time": "2024-05-31T18:37:47.136Z"
   },
   {
    "duration": 268,
    "start_time": "2024-05-31T18:37:56.085Z"
   },
   {
    "duration": 298,
    "start_time": "2024-05-31T18:38:12.815Z"
   },
   {
    "duration": 287,
    "start_time": "2024-05-31T18:38:18.407Z"
   },
   {
    "duration": 402,
    "start_time": "2024-05-31T18:38:30.684Z"
   },
   {
    "duration": 281,
    "start_time": "2024-05-31T18:38:40.968Z"
   },
   {
    "duration": 270,
    "start_time": "2024-05-31T18:38:47.844Z"
   },
   {
    "duration": 232,
    "start_time": "2024-05-31T18:47:51.670Z"
   },
   {
    "duration": 9,
    "start_time": "2024-05-31T18:48:21.918Z"
   },
   {
    "duration": 250,
    "start_time": "2024-05-31T18:48:29.205Z"
   },
   {
    "duration": 240,
    "start_time": "2024-05-31T18:48:37.246Z"
   },
   {
    "duration": 274,
    "start_time": "2024-05-31T18:49:22.021Z"
   },
   {
    "duration": 302,
    "start_time": "2024-05-31T18:49:26.665Z"
   },
   {
    "duration": 244,
    "start_time": "2024-05-31T18:49:48.114Z"
   },
   {
    "duration": 228,
    "start_time": "2024-05-31T18:49:55.277Z"
   },
   {
    "duration": 310,
    "start_time": "2024-06-01T01:56:32.645Z"
   },
   {
    "duration": 4720,
    "start_time": "2024-06-01T01:56:41.383Z"
   },
   {
    "duration": 24,
    "start_time": "2024-06-01T01:56:46.106Z"
   },
   {
    "duration": 15,
    "start_time": "2024-06-01T01:56:46.133Z"
   },
   {
    "duration": 13,
    "start_time": "2024-06-01T01:56:46.153Z"
   },
   {
    "duration": 13,
    "start_time": "2024-06-01T01:56:46.169Z"
   },
   {
    "duration": 49,
    "start_time": "2024-06-01T01:56:46.185Z"
   },
   {
    "duration": 10,
    "start_time": "2024-06-01T01:56:46.237Z"
   },
   {
    "duration": 14,
    "start_time": "2024-06-01T01:56:46.250Z"
   },
   {
    "duration": 7,
    "start_time": "2024-06-01T01:56:46.267Z"
   },
   {
    "duration": 53,
    "start_time": "2024-06-01T01:56:46.280Z"
   },
   {
    "duration": 6,
    "start_time": "2024-06-01T01:56:46.337Z"
   },
   {
    "duration": 7,
    "start_time": "2024-06-01T01:56:46.346Z"
   },
   {
    "duration": 12,
    "start_time": "2024-06-01T01:56:46.356Z"
   },
   {
    "duration": 11,
    "start_time": "2024-06-01T01:56:46.371Z"
   },
   {
    "duration": 281,
    "start_time": "2024-06-01T01:56:46.434Z"
   },
   {
    "duration": 255,
    "start_time": "2024-06-01T01:56:46.718Z"
   },
   {
    "duration": 25,
    "start_time": "2024-06-01T01:56:46.977Z"
   },
   {
    "duration": 11,
    "start_time": "2024-06-01T02:01:58.390Z"
   },
   {
    "duration": 320,
    "start_time": "2024-06-01T20:22:38.032Z"
   },
   {
    "duration": 5386,
    "start_time": "2024-06-01T20:22:49.092Z"
   },
   {
    "duration": 28,
    "start_time": "2024-06-01T20:22:54.484Z"
   },
   {
    "duration": 23,
    "start_time": "2024-06-01T20:22:54.525Z"
   },
   {
    "duration": 19,
    "start_time": "2024-06-01T20:22:54.552Z"
   },
   {
    "duration": 54,
    "start_time": "2024-06-01T20:22:54.575Z"
   },
   {
    "duration": 15,
    "start_time": "2024-06-01T20:22:54.633Z"
   },
   {
    "duration": 16,
    "start_time": "2024-06-01T20:22:54.652Z"
   },
   {
    "duration": 56,
    "start_time": "2024-06-01T20:22:54.672Z"
   },
   {
    "duration": 9,
    "start_time": "2024-06-01T20:22:54.736Z"
   },
   {
    "duration": 8,
    "start_time": "2024-06-01T20:22:54.749Z"
   },
   {
    "duration": 9,
    "start_time": "2024-06-01T20:22:54.761Z"
   },
   {
    "duration": 9,
    "start_time": "2024-06-01T20:22:54.823Z"
   },
   {
    "duration": 15,
    "start_time": "2024-06-01T20:22:54.836Z"
   },
   {
    "duration": 14,
    "start_time": "2024-06-01T20:22:54.863Z"
   },
   {
    "duration": 346,
    "start_time": "2024-06-01T20:22:54.883Z"
   },
   {
    "duration": 251,
    "start_time": "2024-06-01T20:22:55.233Z"
   },
   {
    "duration": 36,
    "start_time": "2024-06-01T20:22:55.490Z"
   },
   {
    "duration": 18,
    "start_time": "2024-06-01T20:22:55.534Z"
   },
   {
    "duration": 0,
    "start_time": "2024-06-01T20:22:56.637Z"
   },
   {
    "duration": 59,
    "start_time": "2024-06-01T20:22:59.172Z"
   },
   {
    "duration": 23,
    "start_time": "2024-06-01T20:28:57.696Z"
   },
   {
    "duration": 23,
    "start_time": "2024-06-01T20:29:05.743Z"
   },
   {
    "duration": 25,
    "start_time": "2024-06-01T20:29:09.445Z"
   },
   {
    "duration": 7,
    "start_time": "2024-06-01T20:29:24.761Z"
   },
   {
    "duration": 6,
    "start_time": "2024-06-01T20:31:26.023Z"
   },
   {
    "duration": 6,
    "start_time": "2024-06-01T20:33:06.352Z"
   },
   {
    "duration": 23,
    "start_time": "2024-06-01T20:35:19.147Z"
   },
   {
    "duration": 865,
    "start_time": "2024-06-01T20:35:27.613Z"
   },
   {
    "duration": 7,
    "start_time": "2024-06-01T20:55:10.675Z"
   },
   {
    "duration": 6,
    "start_time": "2024-06-01T20:55:15.875Z"
   },
   {
    "duration": 7,
    "start_time": "2024-06-01T20:55:21.807Z"
   },
   {
    "duration": 7,
    "start_time": "2024-06-01T20:55:24.296Z"
   },
   {
    "duration": 5,
    "start_time": "2024-06-01T20:55:28.488Z"
   },
   {
    "duration": 24,
    "start_time": "2024-06-01T20:56:41.769Z"
   },
   {
    "duration": 349,
    "start_time": "2024-06-01T23:39:00.925Z"
   },
   {
    "duration": 4927,
    "start_time": "2024-06-01T23:39:06.315Z"
   },
   {
    "duration": 23,
    "start_time": "2024-06-01T23:39:11.247Z"
   },
   {
    "duration": 16,
    "start_time": "2024-06-01T23:39:11.273Z"
   },
   {
    "duration": 41,
    "start_time": "2024-06-01T23:39:11.294Z"
   },
   {
    "duration": 25,
    "start_time": "2024-06-01T23:39:11.339Z"
   },
   {
    "duration": 15,
    "start_time": "2024-06-01T23:39:11.367Z"
   },
   {
    "duration": 12,
    "start_time": "2024-06-01T23:39:11.385Z"
   },
   {
    "duration": 39,
    "start_time": "2024-06-01T23:39:11.400Z"
   },
   {
    "duration": 9,
    "start_time": "2024-06-01T23:39:11.443Z"
   },
   {
    "duration": 7,
    "start_time": "2024-06-01T23:39:11.459Z"
   },
   {
    "duration": 7,
    "start_time": "2024-06-01T23:39:11.469Z"
   },
   {
    "duration": 54,
    "start_time": "2024-06-01T23:39:11.479Z"
   },
   {
    "duration": 17,
    "start_time": "2024-06-01T23:39:11.536Z"
   },
   {
    "duration": 11,
    "start_time": "2024-06-01T23:39:11.556Z"
   },
   {
    "duration": 320,
    "start_time": "2024-06-01T23:39:11.570Z"
   },
   {
    "duration": 240,
    "start_time": "2024-06-01T23:39:11.895Z"
   },
   {
    "duration": 23,
    "start_time": "2024-06-01T23:39:12.139Z"
   },
   {
    "duration": 13,
    "start_time": "2024-06-01T23:39:12.165Z"
   },
   {
    "duration": 16,
    "start_time": "2024-06-01T23:39:12.181Z"
   },
   {
    "duration": 53,
    "start_time": "2024-06-01T23:39:12.200Z"
   },
   {
    "duration": 6,
    "start_time": "2024-06-01T23:39:12.256Z"
   },
   {
    "duration": 7,
    "start_time": "2024-06-01T23:39:12.266Z"
   },
   {
    "duration": 5,
    "start_time": "2024-06-01T23:39:12.276Z"
   },
   {
    "duration": 1117,
    "start_time": "2024-06-01T23:39:12.285Z"
   },
   {
    "duration": 21,
    "start_time": "2024-06-01T23:39:26.413Z"
   },
   {
    "duration": 24,
    "start_time": "2024-06-01T23:39:38.595Z"
   },
   {
    "duration": 136,
    "start_time": "2024-06-01T23:39:55.372Z"
   },
   {
    "duration": 16,
    "start_time": "2024-06-01T23:40:15.556Z"
   },
   {
    "duration": 86,
    "start_time": "2024-06-01T23:40:42.229Z"
   },
   {
    "duration": 7,
    "start_time": "2024-06-01T23:41:01.903Z"
   },
   {
    "duration": 6,
    "start_time": "2024-06-01T23:41:53.589Z"
   },
   {
    "duration": 1159,
    "start_time": "2024-06-02T00:02:33.098Z"
   },
   {
    "duration": 14,
    "start_time": "2024-06-02T00:02:34.261Z"
   },
   {
    "duration": 15,
    "start_time": "2024-06-02T00:02:34.278Z"
   },
   {
    "duration": 38,
    "start_time": "2024-06-02T00:02:34.297Z"
   },
   {
    "duration": 15,
    "start_time": "2024-06-02T00:02:34.337Z"
   },
   {
    "duration": 10,
    "start_time": "2024-06-02T00:02:34.355Z"
   },
   {
    "duration": 14,
    "start_time": "2024-06-02T00:02:34.368Z"
   },
   {
    "duration": 56,
    "start_time": "2024-06-02T00:02:34.385Z"
   },
   {
    "duration": 8,
    "start_time": "2024-06-02T00:02:34.444Z"
   },
   {
    "duration": 7,
    "start_time": "2024-06-02T00:02:34.458Z"
   },
   {
    "duration": 7,
    "start_time": "2024-06-02T00:02:34.468Z"
   },
   {
    "duration": 54,
    "start_time": "2024-06-02T00:02:34.479Z"
   },
   {
    "duration": 10,
    "start_time": "2024-06-02T00:02:34.536Z"
   },
   {
    "duration": 12,
    "start_time": "2024-06-02T00:02:34.549Z"
   },
   {
    "duration": 311,
    "start_time": "2024-06-02T00:02:34.563Z"
   },
   {
    "duration": 255,
    "start_time": "2024-06-02T00:02:34.877Z"
   },
   {
    "duration": 20,
    "start_time": "2024-06-02T00:02:35.135Z"
   },
   {
    "duration": 12,
    "start_time": "2024-06-02T00:02:35.158Z"
   },
   {
    "duration": 16,
    "start_time": "2024-06-02T00:02:35.173Z"
   },
   {
    "duration": 61,
    "start_time": "2024-06-02T00:02:35.193Z"
   },
   {
    "duration": 6,
    "start_time": "2024-06-02T00:02:35.258Z"
   },
   {
    "duration": 13,
    "start_time": "2024-06-02T00:02:35.267Z"
   },
   {
    "duration": 51,
    "start_time": "2024-06-02T00:02:35.283Z"
   },
   {
    "duration": 1287,
    "start_time": "2024-06-02T00:02:35.337Z"
   },
   {
    "duration": 25,
    "start_time": "2024-06-02T00:03:00.583Z"
   },
   {
    "duration": 21,
    "start_time": "2024-06-02T00:03:12.082Z"
   },
   {
    "duration": 11,
    "start_time": "2024-06-02T00:04:37.581Z"
   },
   {
    "duration": 10,
    "start_time": "2024-06-02T00:07:22.298Z"
   },
   {
    "duration": 11,
    "start_time": "2024-06-02T00:07:44.950Z"
   },
   {
    "duration": 10,
    "start_time": "2024-06-02T00:07:47.834Z"
   },
   {
    "duration": 9,
    "start_time": "2024-06-02T00:07:52.680Z"
   },
   {
    "duration": 9,
    "start_time": "2024-06-02T00:07:54.822Z"
   },
   {
    "duration": 4883,
    "start_time": "2024-06-02T03:12:08.359Z"
   },
   {
    "duration": 21,
    "start_time": "2024-06-02T03:12:13.246Z"
   },
   {
    "duration": 16,
    "start_time": "2024-06-02T03:12:13.270Z"
   },
   {
    "duration": 36,
    "start_time": "2024-06-02T03:12:13.289Z"
   },
   {
    "duration": 14,
    "start_time": "2024-06-02T03:12:13.330Z"
   },
   {
    "duration": 15,
    "start_time": "2024-06-02T03:12:13.347Z"
   },
   {
    "duration": 47,
    "start_time": "2024-06-02T03:12:13.366Z"
   },
   {
    "duration": 16,
    "start_time": "2024-06-02T03:12:13.415Z"
   },
   {
    "duration": 7,
    "start_time": "2024-06-02T03:12:13.434Z"
   },
   {
    "duration": 6,
    "start_time": "2024-06-02T03:12:13.444Z"
   },
   {
    "duration": 7,
    "start_time": "2024-06-02T03:12:13.459Z"
   },
   {
    "duration": 9,
    "start_time": "2024-06-02T03:12:13.511Z"
   },
   {
    "duration": 11,
    "start_time": "2024-06-02T03:12:13.525Z"
   },
   {
    "duration": 11,
    "start_time": "2024-06-02T03:12:13.542Z"
   },
   {
    "duration": 338,
    "start_time": "2024-06-02T03:12:13.556Z"
   },
   {
    "duration": 250,
    "start_time": "2024-06-02T03:12:13.897Z"
   },
   {
    "duration": 24,
    "start_time": "2024-06-02T03:12:14.150Z"
   },
   {
    "duration": 13,
    "start_time": "2024-06-02T03:12:14.177Z"
   },
   {
    "duration": 17,
    "start_time": "2024-06-02T03:12:14.211Z"
   },
   {
    "duration": 23,
    "start_time": "2024-06-02T03:12:14.230Z"
   },
   {
    "duration": 6,
    "start_time": "2024-06-02T03:12:14.256Z"
   },
   {
    "duration": 52,
    "start_time": "2024-06-02T03:12:14.266Z"
   },
   {
    "duration": 1196,
    "start_time": "2024-06-02T03:16:15.442Z"
   },
   {
    "duration": 12,
    "start_time": "2024-06-02T03:16:16.641Z"
   },
   {
    "duration": 15,
    "start_time": "2024-06-02T03:16:16.656Z"
   },
   {
    "duration": 40,
    "start_time": "2024-06-02T03:16:16.674Z"
   },
   {
    "duration": 16,
    "start_time": "2024-06-02T03:16:16.719Z"
   },
   {
    "duration": 14,
    "start_time": "2024-06-02T03:16:16.739Z"
   },
   {
    "duration": 14,
    "start_time": "2024-06-02T03:16:16.757Z"
   },
   {
    "duration": 53,
    "start_time": "2024-06-02T03:16:16.775Z"
   },
   {
    "duration": 7,
    "start_time": "2024-06-02T03:16:16.832Z"
   },
   {
    "duration": 7,
    "start_time": "2024-06-02T03:16:16.842Z"
   },
   {
    "duration": 7,
    "start_time": "2024-06-02T03:16:16.853Z"
   },
   {
    "duration": 50,
    "start_time": "2024-06-02T03:16:16.864Z"
   },
   {
    "duration": 12,
    "start_time": "2024-06-02T03:16:16.917Z"
   },
   {
    "duration": 11,
    "start_time": "2024-06-02T03:16:16.934Z"
   },
   {
    "duration": 318,
    "start_time": "2024-06-02T03:16:16.948Z"
   },
   {
    "duration": 17,
    "start_time": "2024-06-02T03:16:17.268Z"
   },
   {
    "duration": 29,
    "start_time": "2024-06-02T03:16:17.287Z"
   },
   {
    "duration": 16,
    "start_time": "2024-06-02T03:16:17.319Z"
   },
   {
    "duration": 23,
    "start_time": "2024-06-02T03:16:17.338Z"
   },
   {
    "duration": 47,
    "start_time": "2024-06-02T03:16:17.365Z"
   },
   {
    "duration": 11,
    "start_time": "2024-06-02T03:16:17.415Z"
   },
   {
    "duration": 231,
    "start_time": "2024-06-02T03:16:35.153Z"
   }
  ],
  "kernelspec": {
   "display_name": "Python 3 (ipykernel)",
   "language": "python",
   "name": "python3"
  },
  "language_info": {
   "codemirror_mode": {
    "name": "ipython",
    "version": 3
   },
   "file_extension": ".py",
   "mimetype": "text/x-python",
   "name": "python",
   "nbconvert_exporter": "python",
   "pygments_lexer": "ipython3",
   "version": "3.9.19"
  },
  "toc": {
   "base_numbering": 1,
   "nav_menu": {},
   "number_sections": true,
   "sideBar": true,
   "skip_h1_title": true,
   "title_cell": "Table of Contents",
   "title_sidebar": "Contents",
   "toc_cell": false,
   "toc_position": {},
   "toc_section_display": true,
   "toc_window_display": false
  }
 },
 "nbformat": 4,
 "nbformat_minor": 2
}
