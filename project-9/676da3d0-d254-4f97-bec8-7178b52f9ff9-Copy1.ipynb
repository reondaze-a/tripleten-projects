{
 "cells": [
  {
   "cell_type": "markdown",
   "metadata": {},
   "source": [
    "# OilyGiant - Project"
   ]
  },
  {
   "cell_type": "markdown",
   "metadata": {},
   "source": [
    "## Introduction\n",
    "\n",
    "In this project I will be working with data from OilyGiant. The data I have will be on the oil samples from 3 regions. The goal of this project is to find the well with the best parameters that would lead to the highest profit margin. For this project, I will be going through steps:\n",
    "\n",
    "   1. [Data Overview and Preprocessing](#data_overview)\n",
    "   2. [Model Training and Testing](#model_training)\n",
    "   3. Profit Calculation\n",
    "   4. Presenting findings and Conclusion\n"
   ]
  },
  {
   "cell_type": "markdown",
   "metadata": {},
   "source": [
    "<a id='data_overview'></a>\n",
    "## Data Overview and Preprocessing\n"
   ]
  },
  {
   "cell_type": "code",
   "execution_count": 1,
   "metadata": {},
   "outputs": [],
   "source": [
    "## Importing the necessary libraries\n",
    "\n",
    "import pandas as pd\n",
    "import numpy as np\n",
    "from sklearn.model_selection import train_test_split, GridSearchCV, RandomizedSearchCV, cross_val_score\n",
    "from sklearn.linear_model import LogisticRegression, LinearRegression\n",
    "from sklearn.dummy import DummyRegressor\n",
    "from sklearn.tree import DecisionTreeClassifier\n",
    "from sklearn.ensemble import RandomForestClassifier\n",
    "from sklearn.metrics import mean_squared_error, mean_absolute_error, r2_score\n",
    "from sklearn.preprocessing import OrdinalEncoder\n",
    "from sklearn.utils import shuffle, resample\n",
    "from sklearn.pipeline import Pipeline\n",
    "from sklearn.preprocessing import StandardScaler, PolynomialFeatures\n",
    "import matplotlib.pyplot as plt\n",
    "import seaborn as sns"
   ]
  },
  {
   "cell_type": "code",
   "execution_count": 2,
   "metadata": {},
   "outputs": [
    {
     "name": "stdout",
     "output_type": "stream",
     "text": [
      "Region 1 Info:\n",
      "\n",
      "<class 'pandas.core.frame.DataFrame'>\n",
      "RangeIndex: 100000 entries, 0 to 99999\n",
      "Data columns (total 5 columns):\n",
      " #   Column   Non-Null Count   Dtype  \n",
      "---  ------   --------------   -----  \n",
      " 0   id       100000 non-null  object \n",
      " 1   f0       100000 non-null  float64\n",
      " 2   f1       100000 non-null  float64\n",
      " 3   f2       100000 non-null  float64\n",
      " 4   product  100000 non-null  float64\n",
      "dtypes: float64(4), object(1)\n",
      "memory usage: 3.8+ MB\n",
      "\n",
      "Region 2 Info:\n",
      "\n",
      "<class 'pandas.core.frame.DataFrame'>\n",
      "RangeIndex: 100000 entries, 0 to 99999\n",
      "Data columns (total 5 columns):\n",
      " #   Column   Non-Null Count   Dtype  \n",
      "---  ------   --------------   -----  \n",
      " 0   id       100000 non-null  object \n",
      " 1   f0       100000 non-null  float64\n",
      " 2   f1       100000 non-null  float64\n",
      " 3   f2       100000 non-null  float64\n",
      " 4   product  100000 non-null  float64\n",
      "dtypes: float64(4), object(1)\n",
      "memory usage: 3.8+ MB\n",
      "\n",
      "Region 3 Info:\n",
      "\n",
      "<class 'pandas.core.frame.DataFrame'>\n",
      "RangeIndex: 100000 entries, 0 to 99999\n",
      "Data columns (total 5 columns):\n",
      " #   Column   Non-Null Count   Dtype  \n",
      "---  ------   --------------   -----  \n",
      " 0   id       100000 non-null  object \n",
      " 1   f0       100000 non-null  float64\n",
      " 2   f1       100000 non-null  float64\n",
      " 3   f2       100000 non-null  float64\n",
      " 4   product  100000 non-null  float64\n",
      "dtypes: float64(4), object(1)\n",
      "memory usage: 3.8+ MB\n"
     ]
    }
   ],
   "source": [
    "# Pulling the dataset\n",
    "\n",
    "df1 = pd.read_csv('/datasets/geo_data_0.csv')\n",
    "df2 = pd.read_csv('/datasets/geo_data_1.csv')\n",
    "df3 = pd.read_csv('/datasets/geo_data_2.csv')\n",
    "regions = ['region_1', 'region_2', 'region_3']\n",
    "\n",
    "print(\"Region 1 Info:\")\n",
    "print()\n",
    "df1.info()\n",
    "print()\n",
    "print(\"Region 2 Info:\")\n",
    "print()\n",
    "df2.info()\n",
    "print()\n",
    "print(\"Region 3 Info:\")\n",
    "print()\n",
    "df3.info()"
   ]
  },
  {
   "cell_type": "code",
   "execution_count": 3,
   "metadata": {},
   "outputs": [
    {
     "data": {
      "text/html": [
       "<div>\n",
       "<style scoped>\n",
       "    .dataframe tbody tr th:only-of-type {\n",
       "        vertical-align: middle;\n",
       "    }\n",
       "\n",
       "    .dataframe tbody tr th {\n",
       "        vertical-align: top;\n",
       "    }\n",
       "\n",
       "    .dataframe thead th {\n",
       "        text-align: right;\n",
       "    }\n",
       "</style>\n",
       "<table border=\"1\" class=\"dataframe\">\n",
       "  <thead>\n",
       "    <tr style=\"text-align: right;\">\n",
       "      <th></th>\n",
       "      <th>id</th>\n",
       "      <th>f0</th>\n",
       "      <th>f1</th>\n",
       "      <th>f2</th>\n",
       "      <th>product</th>\n",
       "    </tr>\n",
       "  </thead>\n",
       "  <tbody>\n",
       "    <tr>\n",
       "      <th>0</th>\n",
       "      <td>txEyH</td>\n",
       "      <td>0.705745</td>\n",
       "      <td>-0.497823</td>\n",
       "      <td>1.221170</td>\n",
       "      <td>105.280062</td>\n",
       "    </tr>\n",
       "    <tr>\n",
       "      <th>1</th>\n",
       "      <td>2acmU</td>\n",
       "      <td>1.334711</td>\n",
       "      <td>-0.340164</td>\n",
       "      <td>4.365080</td>\n",
       "      <td>73.037750</td>\n",
       "    </tr>\n",
       "    <tr>\n",
       "      <th>2</th>\n",
       "      <td>409Wp</td>\n",
       "      <td>1.022732</td>\n",
       "      <td>0.151990</td>\n",
       "      <td>1.419926</td>\n",
       "      <td>85.265647</td>\n",
       "    </tr>\n",
       "    <tr>\n",
       "      <th>3</th>\n",
       "      <td>iJLyR</td>\n",
       "      <td>-0.032172</td>\n",
       "      <td>0.139033</td>\n",
       "      <td>2.978566</td>\n",
       "      <td>168.620776</td>\n",
       "    </tr>\n",
       "    <tr>\n",
       "      <th>4</th>\n",
       "      <td>Xdl7t</td>\n",
       "      <td>1.988431</td>\n",
       "      <td>0.155413</td>\n",
       "      <td>4.751769</td>\n",
       "      <td>154.036647</td>\n",
       "    </tr>\n",
       "  </tbody>\n",
       "</table>\n",
       "</div>"
      ],
      "text/plain": [
       "      id        f0        f1        f2     product\n",
       "0  txEyH  0.705745 -0.497823  1.221170  105.280062\n",
       "1  2acmU  1.334711 -0.340164  4.365080   73.037750\n",
       "2  409Wp  1.022732  0.151990  1.419926   85.265647\n",
       "3  iJLyR -0.032172  0.139033  2.978566  168.620776\n",
       "4  Xdl7t  1.988431  0.155413  4.751769  154.036647"
      ]
     },
     "execution_count": 3,
     "metadata": {},
     "output_type": "execute_result"
    }
   ],
   "source": [
    "df1.head()"
   ]
  },
  {
   "cell_type": "code",
   "execution_count": 4,
   "metadata": {},
   "outputs": [
    {
     "data": {
      "text/html": [
       "<div>\n",
       "<style scoped>\n",
       "    .dataframe tbody tr th:only-of-type {\n",
       "        vertical-align: middle;\n",
       "    }\n",
       "\n",
       "    .dataframe tbody tr th {\n",
       "        vertical-align: top;\n",
       "    }\n",
       "\n",
       "    .dataframe thead th {\n",
       "        text-align: right;\n",
       "    }\n",
       "</style>\n",
       "<table border=\"1\" class=\"dataframe\">\n",
       "  <thead>\n",
       "    <tr style=\"text-align: right;\">\n",
       "      <th></th>\n",
       "      <th>id</th>\n",
       "      <th>f0</th>\n",
       "      <th>f1</th>\n",
       "      <th>f2</th>\n",
       "      <th>product</th>\n",
       "    </tr>\n",
       "  </thead>\n",
       "  <tbody>\n",
       "    <tr>\n",
       "      <th>0</th>\n",
       "      <td>kBEdx</td>\n",
       "      <td>-15.001348</td>\n",
       "      <td>-8.276000</td>\n",
       "      <td>-0.005876</td>\n",
       "      <td>3.179103</td>\n",
       "    </tr>\n",
       "    <tr>\n",
       "      <th>1</th>\n",
       "      <td>62mP7</td>\n",
       "      <td>14.272088</td>\n",
       "      <td>-3.475083</td>\n",
       "      <td>0.999183</td>\n",
       "      <td>26.953261</td>\n",
       "    </tr>\n",
       "    <tr>\n",
       "      <th>2</th>\n",
       "      <td>vyE1P</td>\n",
       "      <td>6.263187</td>\n",
       "      <td>-5.948386</td>\n",
       "      <td>5.001160</td>\n",
       "      <td>134.766305</td>\n",
       "    </tr>\n",
       "    <tr>\n",
       "      <th>3</th>\n",
       "      <td>KcrkZ</td>\n",
       "      <td>-13.081196</td>\n",
       "      <td>-11.506057</td>\n",
       "      <td>4.999415</td>\n",
       "      <td>137.945408</td>\n",
       "    </tr>\n",
       "    <tr>\n",
       "      <th>4</th>\n",
       "      <td>AHL4O</td>\n",
       "      <td>12.702195</td>\n",
       "      <td>-8.147433</td>\n",
       "      <td>5.004363</td>\n",
       "      <td>134.766305</td>\n",
       "    </tr>\n",
       "  </tbody>\n",
       "</table>\n",
       "</div>"
      ],
      "text/plain": [
       "      id         f0         f1        f2     product\n",
       "0  kBEdx -15.001348  -8.276000 -0.005876    3.179103\n",
       "1  62mP7  14.272088  -3.475083  0.999183   26.953261\n",
       "2  vyE1P   6.263187  -5.948386  5.001160  134.766305\n",
       "3  KcrkZ -13.081196 -11.506057  4.999415  137.945408\n",
       "4  AHL4O  12.702195  -8.147433  5.004363  134.766305"
      ]
     },
     "execution_count": 4,
     "metadata": {},
     "output_type": "execute_result"
    }
   ],
   "source": [
    "df2.head()"
   ]
  },
  {
   "cell_type": "code",
   "execution_count": 5,
   "metadata": {},
   "outputs": [
    {
     "data": {
      "text/html": [
       "<div>\n",
       "<style scoped>\n",
       "    .dataframe tbody tr th:only-of-type {\n",
       "        vertical-align: middle;\n",
       "    }\n",
       "\n",
       "    .dataframe tbody tr th {\n",
       "        vertical-align: top;\n",
       "    }\n",
       "\n",
       "    .dataframe thead th {\n",
       "        text-align: right;\n",
       "    }\n",
       "</style>\n",
       "<table border=\"1\" class=\"dataframe\">\n",
       "  <thead>\n",
       "    <tr style=\"text-align: right;\">\n",
       "      <th></th>\n",
       "      <th>id</th>\n",
       "      <th>f0</th>\n",
       "      <th>f1</th>\n",
       "      <th>f2</th>\n",
       "      <th>product</th>\n",
       "    </tr>\n",
       "  </thead>\n",
       "  <tbody>\n",
       "    <tr>\n",
       "      <th>0</th>\n",
       "      <td>fwXo0</td>\n",
       "      <td>-1.146987</td>\n",
       "      <td>0.963328</td>\n",
       "      <td>-0.828965</td>\n",
       "      <td>27.758673</td>\n",
       "    </tr>\n",
       "    <tr>\n",
       "      <th>1</th>\n",
       "      <td>WJtFt</td>\n",
       "      <td>0.262778</td>\n",
       "      <td>0.269839</td>\n",
       "      <td>-2.530187</td>\n",
       "      <td>56.069697</td>\n",
       "    </tr>\n",
       "    <tr>\n",
       "      <th>2</th>\n",
       "      <td>ovLUW</td>\n",
       "      <td>0.194587</td>\n",
       "      <td>0.289035</td>\n",
       "      <td>-5.586433</td>\n",
       "      <td>62.871910</td>\n",
       "    </tr>\n",
       "    <tr>\n",
       "      <th>3</th>\n",
       "      <td>q6cA6</td>\n",
       "      <td>2.236060</td>\n",
       "      <td>-0.553760</td>\n",
       "      <td>0.930038</td>\n",
       "      <td>114.572842</td>\n",
       "    </tr>\n",
       "    <tr>\n",
       "      <th>4</th>\n",
       "      <td>WPMUX</td>\n",
       "      <td>-0.515993</td>\n",
       "      <td>1.716266</td>\n",
       "      <td>5.899011</td>\n",
       "      <td>149.600746</td>\n",
       "    </tr>\n",
       "  </tbody>\n",
       "</table>\n",
       "</div>"
      ],
      "text/plain": [
       "      id        f0        f1        f2     product\n",
       "0  fwXo0 -1.146987  0.963328 -0.828965   27.758673\n",
       "1  WJtFt  0.262778  0.269839 -2.530187   56.069697\n",
       "2  ovLUW  0.194587  0.289035 -5.586433   62.871910\n",
       "3  q6cA6  2.236060 -0.553760  0.930038  114.572842\n",
       "4  WPMUX -0.515993  1.716266  5.899011  149.600746"
      ]
     },
     "execution_count": 5,
     "metadata": {},
     "output_type": "execute_result"
    }
   ],
   "source": [
    "df3.head()"
   ]
  },
  {
   "cell_type": "markdown",
   "metadata": {},
   "source": [
    "The datasets look good and there seems to be no obvious problems. The ID column however doesn't seem to show any use in future applications for training the models, so I'll discard it later."
   ]
  },
  {
   "cell_type": "code",
   "execution_count": 6,
   "metadata": {},
   "outputs": [
    {
     "data": {
      "text/plain": [
       "0"
      ]
     },
     "execution_count": 6,
     "metadata": {},
     "output_type": "execute_result"
    }
   ],
   "source": [
    "# Checking for duplicates\n",
    "\n",
    "df1.duplicated().sum()"
   ]
  },
  {
   "cell_type": "code",
   "execution_count": 7,
   "metadata": {},
   "outputs": [
    {
     "data": {
      "text/plain": [
       "0"
      ]
     },
     "execution_count": 7,
     "metadata": {},
     "output_type": "execute_result"
    }
   ],
   "source": [
    "df2.duplicated().sum()"
   ]
  },
  {
   "cell_type": "code",
   "execution_count": 8,
   "metadata": {},
   "outputs": [
    {
     "data": {
      "text/plain": [
       "0"
      ]
     },
     "execution_count": 8,
     "metadata": {},
     "output_type": "execute_result"
    }
   ],
   "source": [
    "df3.duplicated().sum()"
   ]
  },
  {
   "cell_type": "markdown",
   "metadata": {},
   "source": [
    "There also seems to be no duplicates found. The data is perfect and is ready to be worked on."
   ]
  },
  {
   "cell_type": "markdown",
   "metadata": {},
   "source": [
    "### Getting the necessary variables"
   ]
  },
  {
   "cell_type": "code",
   "execution_count": 9,
   "metadata": {},
   "outputs": [
    {
     "data": {
      "text/html": [
       "<div>\n",
       "<style scoped>\n",
       "    .dataframe tbody tr th:only-of-type {\n",
       "        vertical-align: middle;\n",
       "    }\n",
       "\n",
       "    .dataframe tbody tr th {\n",
       "        vertical-align: top;\n",
       "    }\n",
       "\n",
       "    .dataframe thead th {\n",
       "        text-align: right;\n",
       "    }\n",
       "</style>\n",
       "<table border=\"1\" class=\"dataframe\">\n",
       "  <thead>\n",
       "    <tr style=\"text-align: right;\">\n",
       "      <th></th>\n",
       "      <th>region_1</th>\n",
       "      <th>region_2</th>\n",
       "      <th>region_3</th>\n",
       "    </tr>\n",
       "  </thead>\n",
       "  <tbody>\n",
       "    <tr>\n",
       "      <th>count</th>\n",
       "      <td>100000.000</td>\n",
       "      <td>100000.000</td>\n",
       "      <td>100000.000</td>\n",
       "    </tr>\n",
       "    <tr>\n",
       "      <th>mean</th>\n",
       "      <td>92.500</td>\n",
       "      <td>68.825</td>\n",
       "      <td>95.000</td>\n",
       "    </tr>\n",
       "    <tr>\n",
       "      <th>std</th>\n",
       "      <td>44.289</td>\n",
       "      <td>45.944</td>\n",
       "      <td>44.750</td>\n",
       "    </tr>\n",
       "    <tr>\n",
       "      <th>min</th>\n",
       "      <td>0.000</td>\n",
       "      <td>0.000</td>\n",
       "      <td>0.000</td>\n",
       "    </tr>\n",
       "    <tr>\n",
       "      <th>25%</th>\n",
       "      <td>56.498</td>\n",
       "      <td>26.953</td>\n",
       "      <td>59.450</td>\n",
       "    </tr>\n",
       "    <tr>\n",
       "      <th>50%</th>\n",
       "      <td>91.850</td>\n",
       "      <td>57.086</td>\n",
       "      <td>94.926</td>\n",
       "    </tr>\n",
       "    <tr>\n",
       "      <th>75%</th>\n",
       "      <td>128.564</td>\n",
       "      <td>107.813</td>\n",
       "      <td>130.595</td>\n",
       "    </tr>\n",
       "    <tr>\n",
       "      <th>max</th>\n",
       "      <td>185.364</td>\n",
       "      <td>137.945</td>\n",
       "      <td>190.030</td>\n",
       "    </tr>\n",
       "  </tbody>\n",
       "</table>\n",
       "</div>"
      ],
      "text/plain": [
       "         region_1    region_2    region_3\n",
       "count  100000.000  100000.000  100000.000\n",
       "mean       92.500      68.825      95.000\n",
       "std        44.289      45.944      44.750\n",
       "min         0.000       0.000       0.000\n",
       "25%        56.498      26.953      59.450\n",
       "50%        91.850      57.086      94.926\n",
       "75%       128.564     107.813     130.595\n",
       "max       185.364     137.945     190.030"
      ]
     },
     "execution_count": 9,
     "metadata": {},
     "output_type": "execute_result"
    }
   ],
   "source": [
    "df1_statistics = df1['product'].describe().round(3).to_frame()\n",
    "df2_statistics = df2['product'].describe().round(3).to_frame()\n",
    "df3_statistics = df3['product'].describe().round(3).to_frame()\n",
    "\n",
    "statistics = pd.concat([df1_statistics, df2_statistics, df3_statistics], axis=1, ignore_index=True)\n",
    "statistics.columns = regions\n",
    "statistics"
   ]
  },
  {
   "cell_type": "code",
   "execution_count": 10,
   "metadata": {},
   "outputs": [
    {
     "data": {
      "image/png": "[encoded data removed]",
      "text/plain": [
       "<Figure size 640x480 with 1 Axes>"
      ]
     },
     "metadata": {},
     "output_type": "display_data"
    },
    {
     "data": {
      "image/png": "[encoded data removed]",
      "text/plain": [
       "<Figure size 640x480 with 1 Axes>"
      ]
     },
     "metadata": {},
     "output_type": "display_data"
    },
    {
     "data": {
      "image/png": "[encoded data removed]",
      "text/plain": [
       "<Figure size 640x480 with 1 Axes>"
      ]
     },
     "metadata": {},
     "output_type": "display_data"
    }
   ],
   "source": [
    "# Visualizing the distribution of products from each region\n",
    "\n",
    "for i, region in enumerate([df1, df2, df3]):\n",
    "    plt.hist(\n",
    "        region['product'],\n",
    "        bins=20,\n",
    "        color='skyblue',\n",
    "        )\n",
    "\n",
    "    plt.xlabel('Product Values', fontdict={'weight':'bold'})\n",
    "    plt.ylabel('Frequency', fontdict={'weight':'bold'})\n",
    "    plt.title(f\"Distribution of Products (Region {i+1})\", fontdict={'weight':'bold', 'size':12})\n",
    "    plt.show()"
   ]
  },
  {
   "cell_type": "markdown",
   "metadata": {},
   "source": [
    "From the statistics we can see that the values look pretty evenly distributed, with the 2nd region being the exception. It seems that region 3 has the highest volume of reserves, having over 190k barrels. Region 2 has a much lower reserves compared to the other 2 regions, with only 138k barrels of oil, as well as seemingly an uneven distribution."
   ]
  },
  {
   "cell_type": "markdown",
   "metadata": {},
   "source": [
    "<a id='model_training'></a>\n",
    "## Model Training and Testing"
   ]
  },
  {
   "cell_type": "markdown",
   "metadata": {},
   "source": [
    "As recommended, I will only be using Linear Regression as the model and adjust it to the required needs of the task. I will also start making the features and target columns as well as splitting the dataset to the training and valid sets respectively."
   ]
  },
  {
   "cell_type": "code",
   "execution_count": 11,
   "metadata": {},
   "outputs": [],
   "source": [
    "# Getting the features and target columns\n",
    "feature_columns = ['f0', 'f1', 'f2']\n",
    "target_columns = ['product']\n",
    "datasets = [df1, df2, df3]\n",
    "\n",
    "# Creating a pipeline\n",
    "pipeline = Pipeline([\n",
    "    ('scaler', StandardScaler()),\n",
    "    ('poly', PolynomialFeatures(degree=2, include_bias=False)),\n",
    "    ('regressor', LinearRegression(n_jobs=-1))\n",
    "])\n",
    "\n",
    "predicted_df = pd.DataFrame()\n",
    "predicted_df_statistics = pd.DataFrame(columns=[\"region\", \"actual_average_product_vol\", \"predicted_average_product_vol\", \"baseline_RMSE\", \"predicted_RMSE\"])\n",
    "\n",
    "\n",
    "x = 1\n",
    "for i, frame in enumerate(datasets):\n",
    "    column_name = f'predicted_{i+1}'\n",
    "    features = frame[feature_columns]\n",
    "    target = frame[target_columns]\n",
    "    \n",
    "    x_train, x_val, y_train, y_val = train_test_split(\n",
    "    features, target, test_size=.25, random_state=123)\n",
    "    \n",
    "    # Getting the baseline for comparison\n",
    "    base_model = DummyRegressor(strategy='mean')\n",
    "    base_model.fit(x_train, y_train)\n",
    "    base_pred = base_model.predict(x_val)\n",
    "    baseline_rmse = np.sqrt(mean_squared_error(y_val, base_pred))\n",
    "    \n",
    "    # Training the LinearRegression Model\n",
    "    pipeline.fit(x_train, y_train)\n",
    "    y_pred = pipeline.predict(x_val)\n",
    "    mean_product = y_pred.mean()\n",
    "    mse = mean_squared_error(y_val, y_pred)\n",
    "    rmse = np.sqrt(mse)\n",
    "    \n",
    "    region = f\"Region {x}\"\n",
    "    predicted_df[column_name] = pd.Series(y_pred.flatten().round(2)) \n",
    "    \n",
    "    actual = f'actual_{x}'\n",
    "    predicted_df[actual] = y_val.reset_index(drop=True).round(2)\n",
    "    x += 1\n",
    "    \n",
    "    \n",
    "    # Getting the rows for statistics\n",
    "    row = {\n",
    "        \"region\": region,\n",
    "        \"actual_average_product_vol\": frame[target_columns].mean().round(2).item(),\n",
    "        \"predicted_average_product_vol\": mean_product.round(2), \n",
    "        \"predicted_RMSE\": rmse.round(3),\n",
    "        \"baseline_RMSE\": baseline_rmse.round(3)\n",
    "    }\n",
    "    predicted_df_statistics = predicted_df_statistics.append(row, ignore_index=True)\n",
    "    \n"
   ]
  },
  {
   "cell_type": "code",
   "execution_count": 12,
   "metadata": {},
   "outputs": [
    {
     "data": {
      "text/html": [
       "<div>\n",
       "<style scoped>\n",
       "    .dataframe tbody tr th:only-of-type {\n",
       "        vertical-align: middle;\n",
       "    }\n",
       "\n",
       "    .dataframe tbody tr th {\n",
       "        vertical-align: top;\n",
       "    }\n",
       "\n",
       "    .dataframe thead th {\n",
       "        text-align: right;\n",
       "    }\n",
       "</style>\n",
       "<table border=\"1\" class=\"dataframe\">\n",
       "  <thead>\n",
       "    <tr style=\"text-align: right;\">\n",
       "      <th></th>\n",
       "      <th>predicted_1</th>\n",
       "      <th>actual_1</th>\n",
       "      <th>predicted_2</th>\n",
       "      <th>actual_2</th>\n",
       "      <th>predicted_3</th>\n",
       "      <th>actual_3</th>\n",
       "    </tr>\n",
       "  </thead>\n",
       "  <tbody>\n",
       "    <tr>\n",
       "      <th>0</th>\n",
       "      <td>123.35</td>\n",
       "      <td>145.83</td>\n",
       "      <td>56.05</td>\n",
       "      <td>57.09</td>\n",
       "      <td>109.62</td>\n",
       "      <td>147.45</td>\n",
       "    </tr>\n",
       "    <tr>\n",
       "      <th>1</th>\n",
       "      <td>75.61</td>\n",
       "      <td>134.02</td>\n",
       "      <td>81.58</td>\n",
       "      <td>80.86</td>\n",
       "      <td>113.84</td>\n",
       "      <td>128.71</td>\n",
       "    </tr>\n",
       "    <tr>\n",
       "      <th>2</th>\n",
       "      <td>55.63</td>\n",
       "      <td>88.91</td>\n",
       "      <td>54.45</td>\n",
       "      <td>53.91</td>\n",
       "      <td>91.73</td>\n",
       "      <td>106.63</td>\n",
       "    </tr>\n",
       "    <tr>\n",
       "      <th>3</th>\n",
       "      <td>86.50</td>\n",
       "      <td>19.51</td>\n",
       "      <td>108.65</td>\n",
       "      <td>107.81</td>\n",
       "      <td>136.59</td>\n",
       "      <td>128.79</td>\n",
       "    </tr>\n",
       "    <tr>\n",
       "      <th>4</th>\n",
       "      <td>109.81</td>\n",
       "      <td>108.71</td>\n",
       "      <td>54.48</td>\n",
       "      <td>53.91</td>\n",
       "      <td>91.20</td>\n",
       "      <td>159.33</td>\n",
       "    </tr>\n",
       "  </tbody>\n",
       "</table>\n",
       "</div>"
      ],
      "text/plain": [
       "   predicted_1  actual_1  predicted_2  actual_2  predicted_3  actual_3\n",
       "0       123.35    145.83        56.05     57.09       109.62    147.45\n",
       "1        75.61    134.02        81.58     80.86       113.84    128.71\n",
       "2        55.63     88.91        54.45     53.91        91.73    106.63\n",
       "3        86.50     19.51       108.65    107.81       136.59    128.79\n",
       "4       109.81    108.71        54.48     53.91        91.20    159.33"
      ]
     },
     "execution_count": 12,
     "metadata": {},
     "output_type": "execute_result"
    }
   ],
   "source": [
    "predicted_df.head()"
   ]
  },
  {
   "cell_type": "code",
   "execution_count": 13,
   "metadata": {},
   "outputs": [],
   "source": [
    "# Splitting the data into the respective regions\n",
    "\n",
    "regions_data = {}\n",
    "\n",
    "for i in range(3):\n",
    "    regions_data[f'region_{i+1}'] = predicted_df[[f'predicted_{i+1}', f'actual_{i+1}']]\n",
    "    regions_data[f'region_{i+1}'].columns = ['predicted_volume', 'actual_volume']"
   ]
  },
  {
   "cell_type": "code",
   "execution_count": 14,
   "metadata": {},
   "outputs": [
    {
     "name": "stdout",
     "output_type": "stream",
     "text": [
      "Table of region_1's data\n"
     ]
    },
    {
     "data": {
      "text/html": [
       "<div>\n",
       "<style scoped>\n",
       "    .dataframe tbody tr th:only-of-type {\n",
       "        vertical-align: middle;\n",
       "    }\n",
       "\n",
       "    .dataframe tbody tr th {\n",
       "        vertical-align: top;\n",
       "    }\n",
       "\n",
       "    .dataframe thead th {\n",
       "        text-align: right;\n",
       "    }\n",
       "</style>\n",
       "<table border=\"1\" class=\"dataframe\">\n",
       "  <thead>\n",
       "    <tr style=\"text-align: right;\">\n",
       "      <th></th>\n",
       "      <th>predicted_volume</th>\n",
       "      <th>actual_volume</th>\n",
       "    </tr>\n",
       "  </thead>\n",
       "  <tbody>\n",
       "    <tr>\n",
       "      <th>0</th>\n",
       "      <td>123.35</td>\n",
       "      <td>145.83</td>\n",
       "    </tr>\n",
       "    <tr>\n",
       "      <th>1</th>\n",
       "      <td>75.61</td>\n",
       "      <td>134.02</td>\n",
       "    </tr>\n",
       "    <tr>\n",
       "      <th>2</th>\n",
       "      <td>55.63</td>\n",
       "      <td>88.91</td>\n",
       "    </tr>\n",
       "    <tr>\n",
       "      <th>3</th>\n",
       "      <td>86.50</td>\n",
       "      <td>19.51</td>\n",
       "    </tr>\n",
       "    <tr>\n",
       "      <th>4</th>\n",
       "      <td>109.81</td>\n",
       "      <td>108.71</td>\n",
       "    </tr>\n",
       "  </tbody>\n",
       "</table>\n",
       "</div>"
      ],
      "text/plain": [
       "   predicted_volume  actual_volume\n",
       "0            123.35         145.83\n",
       "1             75.61         134.02\n",
       "2             55.63          88.91\n",
       "3             86.50          19.51\n",
       "4            109.81         108.71"
      ]
     },
     "metadata": {},
     "output_type": "display_data"
    },
    {
     "name": "stdout",
     "output_type": "stream",
     "text": [
      "(25000, 2)\n",
      "\n",
      "***********************************\n",
      "\n",
      "Table of region_2's data\n"
     ]
    },
    {
     "data": {
      "text/html": [
       "<div>\n",
       "<style scoped>\n",
       "    .dataframe tbody tr th:only-of-type {\n",
       "        vertical-align: middle;\n",
       "    }\n",
       "\n",
       "    .dataframe tbody tr th {\n",
       "        vertical-align: top;\n",
       "    }\n",
       "\n",
       "    .dataframe thead th {\n",
       "        text-align: right;\n",
       "    }\n",
       "</style>\n",
       "<table border=\"1\" class=\"dataframe\">\n",
       "  <thead>\n",
       "    <tr style=\"text-align: right;\">\n",
       "      <th></th>\n",
       "      <th>predicted_volume</th>\n",
       "      <th>actual_volume</th>\n",
       "    </tr>\n",
       "  </thead>\n",
       "  <tbody>\n",
       "    <tr>\n",
       "      <th>0</th>\n",
       "      <td>56.05</td>\n",
       "      <td>57.09</td>\n",
       "    </tr>\n",
       "    <tr>\n",
       "      <th>1</th>\n",
       "      <td>81.58</td>\n",
       "      <td>80.86</td>\n",
       "    </tr>\n",
       "    <tr>\n",
       "      <th>2</th>\n",
       "      <td>54.45</td>\n",
       "      <td>53.91</td>\n",
       "    </tr>\n",
       "    <tr>\n",
       "      <th>3</th>\n",
       "      <td>108.65</td>\n",
       "      <td>107.81</td>\n",
       "    </tr>\n",
       "    <tr>\n",
       "      <th>4</th>\n",
       "      <td>54.48</td>\n",
       "      <td>53.91</td>\n",
       "    </tr>\n",
       "  </tbody>\n",
       "</table>\n",
       "</div>"
      ],
      "text/plain": [
       "   predicted_volume  actual_volume\n",
       "0             56.05          57.09\n",
       "1             81.58          80.86\n",
       "2             54.45          53.91\n",
       "3            108.65         107.81\n",
       "4             54.48          53.91"
      ]
     },
     "metadata": {},
     "output_type": "display_data"
    },
    {
     "name": "stdout",
     "output_type": "stream",
     "text": [
      "(25000, 2)\n",
      "\n",
      "***********************************\n",
      "\n",
      "Table of region_3's data\n"
     ]
    },
    {
     "data": {
      "text/html": [
       "<div>\n",
       "<style scoped>\n",
       "    .dataframe tbody tr th:only-of-type {\n",
       "        vertical-align: middle;\n",
       "    }\n",
       "\n",
       "    .dataframe tbody tr th {\n",
       "        vertical-align: top;\n",
       "    }\n",
       "\n",
       "    .dataframe thead th {\n",
       "        text-align: right;\n",
       "    }\n",
       "</style>\n",
       "<table border=\"1\" class=\"dataframe\">\n",
       "  <thead>\n",
       "    <tr style=\"text-align: right;\">\n",
       "      <th></th>\n",
       "      <th>predicted_volume</th>\n",
       "      <th>actual_volume</th>\n",
       "    </tr>\n",
       "  </thead>\n",
       "  <tbody>\n",
       "    <tr>\n",
       "      <th>0</th>\n",
       "      <td>109.62</td>\n",
       "      <td>147.45</td>\n",
       "    </tr>\n",
       "    <tr>\n",
       "      <th>1</th>\n",
       "      <td>113.84</td>\n",
       "      <td>128.71</td>\n",
       "    </tr>\n",
       "    <tr>\n",
       "      <th>2</th>\n",
       "      <td>91.73</td>\n",
       "      <td>106.63</td>\n",
       "    </tr>\n",
       "    <tr>\n",
       "      <th>3</th>\n",
       "      <td>136.59</td>\n",
       "      <td>128.79</td>\n",
       "    </tr>\n",
       "    <tr>\n",
       "      <th>4</th>\n",
       "      <td>91.20</td>\n",
       "      <td>159.33</td>\n",
       "    </tr>\n",
       "  </tbody>\n",
       "</table>\n",
       "</div>"
      ],
      "text/plain": [
       "   predicted_volume  actual_volume\n",
       "0            109.62         147.45\n",
       "1            113.84         128.71\n",
       "2             91.73         106.63\n",
       "3            136.59         128.79\n",
       "4             91.20         159.33"
      ]
     },
     "metadata": {},
     "output_type": "display_data"
    },
    {
     "name": "stdout",
     "output_type": "stream",
     "text": [
      "(25000, 2)\n",
      "\n",
      "***********************************\n",
      "\n"
     ]
    }
   ],
   "source": [
    "for r in regions_data:\n",
    "    print(f\"Table of {r}'s data\")\n",
    "    display(regions_data[r].head())\n",
    "    print(regions_data[r].shape)\n",
    "    print()\n",
    "    print('*'*35)\n",
    "    print()"
   ]
  },
  {
   "cell_type": "code",
   "execution_count": 15,
   "metadata": {},
   "outputs": [
    {
     "data": {
      "text/html": [
       "<div>\n",
       "<style scoped>\n",
       "    .dataframe tbody tr th:only-of-type {\n",
       "        vertical-align: middle;\n",
       "    }\n",
       "\n",
       "    .dataframe tbody tr th {\n",
       "        vertical-align: top;\n",
       "    }\n",
       "\n",
       "    .dataframe thead th {\n",
       "        text-align: right;\n",
       "    }\n",
       "</style>\n",
       "<table border=\"1\" class=\"dataframe\">\n",
       "  <thead>\n",
       "    <tr style=\"text-align: right;\">\n",
       "      <th></th>\n",
       "      <th>region</th>\n",
       "      <th>actual_average_product_vol</th>\n",
       "      <th>predicted_average_product_vol</th>\n",
       "      <th>baseline_RMSE</th>\n",
       "      <th>predicted_RMSE</th>\n",
       "    </tr>\n",
       "  </thead>\n",
       "  <tbody>\n",
       "    <tr>\n",
       "      <th>0</th>\n",
       "      <td>Region 1</td>\n",
       "      <td>92.50</td>\n",
       "      <td>92.55</td>\n",
       "      <td>44.411</td>\n",
       "      <td>37.648</td>\n",
       "    </tr>\n",
       "    <tr>\n",
       "      <th>1</th>\n",
       "      <td>Region 2</td>\n",
       "      <td>68.83</td>\n",
       "      <td>69.28</td>\n",
       "      <td>45.823</td>\n",
       "      <td>0.895</td>\n",
       "    </tr>\n",
       "    <tr>\n",
       "      <th>2</th>\n",
       "      <td>Region 3</td>\n",
       "      <td>95.00</td>\n",
       "      <td>95.14</td>\n",
       "      <td>44.674</td>\n",
       "      <td>38.864</td>\n",
       "    </tr>\n",
       "  </tbody>\n",
       "</table>\n",
       "</div>"
      ],
      "text/plain": [
       "     region  actual_average_product_vol  predicted_average_product_vol  \\\n",
       "0  Region 1                       92.50                          92.55   \n",
       "1  Region 2                       68.83                          69.28   \n",
       "2  Region 3                       95.00                          95.14   \n",
       "\n",
       "   baseline_RMSE  predicted_RMSE  \n",
       "0         44.411          37.648  \n",
       "1         45.823           0.895  \n",
       "2         44.674          38.864  "
      ]
     },
     "execution_count": 15,
     "metadata": {},
     "output_type": "execute_result"
    }
   ],
   "source": [
    "predicted_df_statistics"
   ]
  },
  {
   "cell_type": "markdown",
   "metadata": {},
   "source": [
    "It seems that the RMSE for all 3 regions are lower than the baseline. The model for Region 2 seems to be the most accurate one from the 3 as it ahs the lowest value of RMSE, which shows reliabilty in the data for having low deviation and high accuracy of the predicted scores. Although the RMSE from the other 2 regions are low, they're still pretty accurate in the average product volumes, which could still be useful when trying to calculate profits from a huge number of wells."
   ]
  },
  {
   "cell_type": "markdown",
   "metadata": {},
   "source": [
    "## Profit Calculation and Risk Assesment"
   ]
  },
  {
   "cell_type": "code",
   "execution_count": 16,
   "metadata": {},
   "outputs": [],
   "source": [
    "# Storing key values\n",
    "\n",
    "budget = 100000000\n",
    "unit_revenue = 4500\n",
    "wells = 200\n",
    "barrel_revenue = 4.5\n",
    "max_risk = 0.025\n",
    "state = np.random.RandomState(123)\n",
    "\n",
    "# Creating a formula for profit calculation\n",
    "\n",
    "def calc_profit(frame):\n",
    "    \n",
    "    return frame.sort_values(by='predicted_volume', ascending=False).iloc[:wells]['actual_volume'].sum() * unit_revenue - budget\n"
   ]
  },
  {
   "cell_type": "code",
   "execution_count": 17,
   "metadata": {},
   "outputs": [
    {
     "name": "stdout",
     "output_type": "stream",
     "text": [
      "The minimum volume of reserves per oil well without losses: 111.11 \n",
      "\n",
      "The predicted volume of oil reserves per region:\n",
      "Region 1:  92.55\n",
      "Region 2:  69.28\n",
      "Region 3:  95.14\n"
     ]
    }
   ],
   "source": [
    "# Getting the minimum oil reserves per well\n",
    "min_volume_per_well = budget / wells / unit_revenue\n",
    "\n",
    "print(f'The minimum volume of reserves per oil well without losses: {min_volume_per_well:.2f} \\n')\n",
    "\n",
    "print(\"The predicted volume of oil reserves per region:\")\n",
    "print(\"Region 1: \", predicted_df_statistics['predicted_average_product_vol'].loc[0])\n",
    "print(\"Region 2: \", predicted_df_statistics['predicted_average_product_vol'].loc[1])\n",
    "print(\"Region 3: \", predicted_df_statistics['predicted_average_product_vol'].loc[2])"
   ]
  },
  {
   "cell_type": "markdown",
   "metadata": {},
   "source": [
    "The minimum reserves per oil well is 111.11. From the looks of the average reserves in all the regions, the company won't earn a profit if they were to choose any random 200 oil wells. We can however use the model to take the top potential wells with the highest volume of reserves as well as calculate their profitability."
   ]
  },
  {
   "cell_type": "code",
   "execution_count": 18,
   "metadata": {
    "scrolled": true
   },
   "outputs": [
    {
     "name": "stdout",
     "output_type": "stream",
     "text": [
      "Profits from the top 200 wells of each region:\n",
      "\n",
      "The profit for region_1: $35.38 million\n",
      "The profit for region_2: $24.16 million\n",
      "The profit for region_3: $24.95 million\n"
     ]
    }
   ],
   "source": [
    "# Getting the top wells based on the predicted values\n",
    "    \n",
    "print(\"Profits from the top 200 wells of each region:\\n\")\n",
    "profits = {} # Initializing the dictionary for the profits\n",
    "for i, r in enumerate(regions): \n",
    "    \n",
    "    data = regions_data[r]\n",
    "    \n",
    "    # Calculating the profits by getting total revenue and subtracting the budget to it\n",
    "    profits[f'profit_{i+1}'] = (calc_profit(data) / 1000000).round(2)\n",
    "    print(f\"The profit for {r}: ${profits[f'profit_{i+1}']} million\")"
   ]
  },
  {
   "cell_type": "markdown",
   "metadata": {},
   "source": [
    "From the results we can see that region 1 has the highest potential profit when we choose the top 200 wells from each region. Next I will be making extra samples using the bootstrapping technique to assess the profitability and risks."
   ]
  },
  {
   "cell_type": "code",
   "execution_count": 19,
   "metadata": {},
   "outputs": [
    {
     "name": "stdout",
     "output_type": "stream",
     "text": [
      "--region_1--\n",
      "Mean profit of the region = $4.86 Million\n",
      "95% Confidence Interval:  (-0.13, 10.08)\n",
      "Risk of losses: 0.032%\n",
      "\n",
      "--region_2--\n",
      "Mean profit of the region = $4.62 Million\n",
      "95% Confidence Interval:  (0.9, 8.6)\n",
      "Risk of losses: 0.008%\n",
      "\n",
      "--region_3--\n",
      "Mean profit of the region = $5.39 Million\n",
      "95% Confidence Interval:  (0.05, 10.27)\n",
      "Risk of losses: 0.024%\n",
      "\n"
     ]
    }
   ],
   "source": [
    "# Number of total samples and random state value\n",
    "total_samples = 1000\n",
    "state = np.random.RandomState(234)\n",
    "\n",
    "# Dictionaries to store profits and calculation result\n",
    "sample_profits = {}\n",
    "\n",
    "\n",
    "# Initiating the Bootstrapping technique\n",
    "for r in regions:\n",
    "    sample_profits[r] = [] # List to store the profits of 1000 samples for each region\n",
    "    \n",
    "    for i in range(total_samples):\n",
    "        # Getting the 500 points of study for the samples\n",
    "        sample = (regions_data[r]).sample(n=500, replace=True, random_state=state).reset_index(drop=True)\n",
    "        \n",
    "        # Recalculating the top 200 wells through the samples and putting them together\n",
    "        sample_profits[r].append(calc_profit(sample))\n",
    "        \n",
    "    sample_profits[r] = pd.Series(sample_profits[r])\n",
    "    profit_mean = np.mean(sample_profits[r])\n",
    "    negative_profit = sample_profits[r] < 0\n",
    "    confidence_interval = ((sample_profits[r].quantile(0.025) / 1000000).round(2), (sample_profits[r].quantile(0.975) / 1000000).round(2))\n",
    "    \n",
    "    # Printing the results of the assessment\n",
    "    \n",
    "    print(f\"--{r}--\")\n",
    "    print(f\"Mean profit of the region = ${(profit_mean / 1000000).round(2)} Million\")\n",
    "    print(\"95% Confidence Interval: \", confidence_interval)\n",
    "    print(f\"Risk of losses: {sum(negative_profit) / len(sample_profits[r])}%\")\n",
    "    print()"
   ]
  },
  {
   "cell_type": "markdown",
   "metadata": {},
   "source": [
    "The results of bootstrapping the values shows that there are very minimal risks when it comes to taking the top 200 wells of all 3 regions. Region 3 boasts the highest amount of profit across all 3 regions, however  region 2 has the lowest amount of risk of losses, and a much higher value on the lower confidence interval. Region 1 has the highest amount of risk of losses as well as it's bottom confidence interval is below 0, which doesn't make it a good choice."
   ]
  },
  {
   "cell_type": "markdown",
   "metadata": {},
   "source": [
    "## Conclusion"
   ]
  },
  {
   "cell_type": "markdown",
   "metadata": {},
   "source": [
    "Through the processing of the data, we were able to gather the statistics for each region. These, when combined with the model created for predicting the values of each region, allowed us to see the just how profitable the wells are. The initial preprocessing shows that the data was well prepared, without any missing and/or duplicate values. With the exception of the index column, the model training was able to commence almost immediately. \n",
    "\n",
    "Across all regions, region 3 has the highest volume of reserves across all three, followed by 1 and finally 2. Through the predictions from the model however, it shows that region 3 also has the highest RMSE, which means the values from the features weren't exactly too accurate in making the predictions, and the predicted values also has a high deviation, leading to potentially unreliable results. \n",
    "\n",
    "After calculating the revenue using the formula we can see that we need at least 111 volume of reserves to make a profit from selecting 200 random wells from each region, however the prediction shows that the average number of reserves from each region only goes up to ~90, which means we can't really take any random 200 wells and expect profits from it. From there we rely on the model predictions to find the top 200 wells from each region instead and see how much of a profit can we actually make. Initial assesments show over 20 million USD in profits if we were to choose the top 200 wells from each region, with region 1 being the most profitable from all 3 regions. We have to make sure one last time using the bootstrapping technique to obtain the mean profit from each region. The result shows that region 3 has the highest amount of all 3 with an average of over 5 million USD, however it also has the 2nd highest risk of losses after region 1. Region 2, while having the smaller average profit of 4.6 million USD, has the lowest risk of losses as well as a much higher bottom confidence interval across all 3 regions."
   ]
  },
  {
   "cell_type": "code",
   "execution_count": null,
   "metadata": {},
   "outputs": [],
   "source": []
  }
 ],
 "metadata": {
  "ExecuteTimeLog": [
   {
    "duration": 164,
    "start_time": "2024-09-20T16:06:43.712Z"
   },
   {
    "duration": 12,
    "start_time": "2024-09-20T16:06:55.715Z"
   },
   {
    "duration": 300,
    "start_time": "2024-09-20T16:07:01.178Z"
   },
   {
    "duration": 484,
    "start_time": "2024-09-20T16:07:57.851Z"
   },
   {
    "duration": 216,
    "start_time": "2024-09-23T18:27:46.046Z"
   },
   {
    "duration": 783,
    "start_time": "2024-09-23T18:27:50.315Z"
   },
   {
    "duration": 516,
    "start_time": "2024-09-23T18:27:51.151Z"
   },
   {
    "duration": 4,
    "start_time": "2024-09-23T18:28:00.916Z"
   },
   {
    "duration": 95,
    "start_time": "2024-09-23T18:28:26.718Z"
   },
   {
    "duration": 381,
    "start_time": "2024-09-23T18:29:06.610Z"
   },
   {
    "duration": 13,
    "start_time": "2024-09-23T18:29:11.059Z"
   },
   {
    "duration": 8,
    "start_time": "2024-09-23T18:29:34.825Z"
   },
   {
    "duration": 9,
    "start_time": "2024-09-23T18:29:41.671Z"
   },
   {
    "duration": 7,
    "start_time": "2024-09-23T18:29:45.636Z"
   },
   {
    "duration": 4,
    "start_time": "2024-09-23T18:31:56.059Z"
   },
   {
    "duration": 231,
    "start_time": "2024-09-23T18:32:13.540Z"
   },
   {
    "duration": 243,
    "start_time": "2024-09-23T18:32:25.161Z"
   },
   {
    "duration": 253,
    "start_time": "2024-09-23T18:32:37.355Z"
   },
   {
    "duration": 243,
    "start_time": "2024-09-23T18:33:02.459Z"
   },
   {
    "duration": 3,
    "start_time": "2024-09-23T18:36:29.311Z"
   },
   {
    "duration": 226,
    "start_time": "2024-09-23T18:36:53.087Z"
   },
   {
    "duration": 238,
    "start_time": "2024-09-23T18:37:05.098Z"
   },
   {
    "duration": 251,
    "start_time": "2024-09-23T18:37:26.416Z"
   },
   {
    "duration": 14,
    "start_time": "2024-09-23T18:38:12.581Z"
   },
   {
    "duration": 7,
    "start_time": "2024-09-23T18:38:18.843Z"
   },
   {
    "duration": 13,
    "start_time": "2024-09-23T18:38:25.948Z"
   },
   {
    "duration": 13,
    "start_time": "2024-09-23T18:38:33.370Z"
   },
   {
    "duration": 32,
    "start_time": "2024-09-23T18:39:27.356Z"
   },
   {
    "duration": 31,
    "start_time": "2024-09-23T18:39:34.567Z"
   },
   {
    "duration": 30,
    "start_time": "2024-09-23T18:39:39.654Z"
   },
   {
    "duration": 30,
    "start_time": "2024-09-23T18:39:42.540Z"
   },
   {
    "duration": 82,
    "start_time": "2024-09-23T18:39:57.299Z"
   },
   {
    "duration": 18,
    "start_time": "2024-09-23T18:42:29.034Z"
   },
   {
    "duration": 3,
    "start_time": "2024-09-23T18:42:55.333Z"
   },
   {
    "duration": 50,
    "start_time": "2024-09-23T18:42:58.691Z"
   },
   {
    "duration": 19,
    "start_time": "2024-09-23T18:43:06.049Z"
   },
   {
    "duration": 3,
    "start_time": "2024-09-23T18:43:10.221Z"
   },
   {
    "duration": 2,
    "start_time": "2024-09-23T18:43:26.956Z"
   },
   {
    "duration": 2,
    "start_time": "2024-09-23T18:45:03.260Z"
   },
   {
    "duration": 17,
    "start_time": "2024-09-23T18:45:52.672Z"
   },
   {
    "duration": 268,
    "start_time": "2024-09-24T19:08:20.334Z"
   },
   {
    "duration": 786,
    "start_time": "2024-09-24T19:08:37.297Z"
   },
   {
    "duration": 326,
    "start_time": "2024-09-24T19:08:38.086Z"
   },
   {
    "duration": 20,
    "start_time": "2024-09-24T19:08:38.415Z"
   },
   {
    "duration": 106,
    "start_time": "2024-09-24T19:08:38.437Z"
   },
   {
    "duration": 9,
    "start_time": "2024-09-24T19:08:38.546Z"
   },
   {
    "duration": 2,
    "start_time": "2024-09-24T19:08:38.557Z"
   },
   {
    "duration": 18,
    "start_time": "2024-09-24T19:09:22.111Z"
   },
   {
    "duration": 23,
    "start_time": "2024-09-24T19:10:18.087Z"
   },
   {
    "duration": 609,
    "start_time": "2024-09-24T19:14:13.071Z"
   },
   {
    "duration": 42,
    "start_time": "2024-09-24T19:14:38.563Z"
   },
   {
    "duration": 3,
    "start_time": "2024-09-24T19:15:06.114Z"
   },
   {
    "duration": 5,
    "start_time": "2024-09-24T19:15:15.320Z"
   },
   {
    "duration": 10,
    "start_time": "2024-09-24T19:15:18.984Z"
   },
   {
    "duration": 5,
    "start_time": "2024-09-24T19:15:37.156Z"
   },
   {
    "duration": 14,
    "start_time": "2024-09-24T19:16:06.664Z"
   },
   {
    "duration": 14,
    "start_time": "2024-09-24T19:16:26.035Z"
   },
   {
    "duration": 27,
    "start_time": "2024-09-24T19:16:30.633Z"
   },
   {
    "duration": 9,
    "start_time": "2024-09-24T19:16:43.968Z"
   },
   {
    "duration": 18,
    "start_time": "2024-09-24T19:16:56.921Z"
   },
   {
    "duration": 13,
    "start_time": "2024-09-24T19:17:05.654Z"
   },
   {
    "duration": 22,
    "start_time": "2024-09-24T19:17:14.603Z"
   },
   {
    "duration": 10,
    "start_time": "2024-09-24T19:17:30.591Z"
   },
   {
    "duration": 13,
    "start_time": "2024-09-24T19:17:34.068Z"
   },
   {
    "duration": 34,
    "start_time": "2024-09-24T19:17:48.578Z"
   },
   {
    "duration": 30,
    "start_time": "2024-09-24T19:18:26.097Z"
   },
   {
    "duration": 14,
    "start_time": "2024-09-24T19:18:58.450Z"
   },
   {
    "duration": 25,
    "start_time": "2024-09-24T19:19:19.055Z"
   },
   {
    "duration": 887,
    "start_time": "2024-09-24T19:19:29.026Z"
   },
   {
    "duration": 284,
    "start_time": "2024-09-24T19:19:29.916Z"
   },
   {
    "duration": 25,
    "start_time": "2024-09-24T19:19:30.202Z"
   },
   {
    "duration": 100,
    "start_time": "2024-09-24T19:19:30.229Z"
   },
   {
    "duration": 46,
    "start_time": "2024-09-24T19:19:30.330Z"
   },
   {
    "duration": 157,
    "start_time": "2024-09-24T19:19:30.378Z"
   },
   {
    "duration": 0,
    "start_time": "2024-09-24T19:19:30.537Z"
   },
   {
    "duration": 13,
    "start_time": "2024-09-24T19:19:42.942Z"
   },
   {
    "duration": 108,
    "start_time": "2024-09-24T19:20:53.347Z"
   },
   {
    "duration": 13,
    "start_time": "2024-09-24T19:21:17.292Z"
   },
   {
    "duration": 27,
    "start_time": "2024-09-24T19:22:29.947Z"
   },
   {
    "duration": 24,
    "start_time": "2024-09-24T19:23:00.181Z"
   },
   {
    "duration": 120,
    "start_time": "2024-09-24T19:23:54.925Z"
   },
   {
    "duration": 22,
    "start_time": "2024-09-24T19:24:27.628Z"
   },
   {
    "duration": 16,
    "start_time": "2024-09-24T19:24:28.310Z"
   },
   {
    "duration": 61,
    "start_time": "2024-09-24T19:25:48.484Z"
   },
   {
    "duration": 279,
    "start_time": "2024-09-24T19:26:03.007Z"
   },
   {
    "duration": 159,
    "start_time": "2024-09-25T19:05:42.377Z"
   },
   {
    "duration": 752,
    "start_time": "2024-09-25T19:05:47.442Z"
   },
   {
    "duration": 373,
    "start_time": "2024-09-25T19:05:48.196Z"
   },
   {
    "duration": 20,
    "start_time": "2024-09-25T19:05:48.570Z"
   },
   {
    "duration": 106,
    "start_time": "2024-09-25T19:05:48.592Z"
   },
   {
    "duration": 34,
    "start_time": "2024-09-25T19:05:48.700Z"
   },
   {
    "duration": 51,
    "start_time": "2024-09-25T19:05:48.735Z"
   },
   {
    "duration": 22,
    "start_time": "2024-09-25T19:05:48.788Z"
   },
   {
    "duration": 479,
    "start_time": "2024-09-25T19:06:07.123Z"
   },
   {
    "duration": 3,
    "start_time": "2024-09-25T19:08:36.910Z"
   },
   {
    "duration": 18,
    "start_time": "2024-09-25T19:09:17.933Z"
   },
   {
    "duration": 19,
    "start_time": "2024-09-25T19:09:21.233Z"
   },
   {
    "duration": 161,
    "start_time": "2024-09-26T19:03:15.342Z"
   },
   {
    "duration": 15,
    "start_time": "2024-09-26T19:03:58.119Z"
   },
   {
    "duration": 780,
    "start_time": "2024-09-26T19:04:02.157Z"
   },
   {
    "duration": 402,
    "start_time": "2024-09-26T19:04:02.939Z"
   },
   {
    "duration": 22,
    "start_time": "2024-09-26T19:04:03.343Z"
   },
   {
    "duration": 97,
    "start_time": "2024-09-26T19:04:03.368Z"
   },
   {
    "duration": 43,
    "start_time": "2024-09-26T19:04:03.466Z"
   },
   {
    "duration": 29,
    "start_time": "2024-09-26T19:04:03.511Z"
   },
   {
    "duration": 66,
    "start_time": "2024-09-26T19:04:03.542Z"
   },
   {
    "duration": 153,
    "start_time": "2024-09-27T19:18:53.349Z"
   },
   {
    "duration": 779,
    "start_time": "2024-09-27T19:19:04.802Z"
   },
   {
    "duration": 334,
    "start_time": "2024-09-27T19:19:05.583Z"
   },
   {
    "duration": 26,
    "start_time": "2024-09-27T19:19:05.919Z"
   },
   {
    "duration": 103,
    "start_time": "2024-09-27T19:19:05.947Z"
   },
   {
    "duration": 33,
    "start_time": "2024-09-27T19:19:06.053Z"
   },
   {
    "duration": 25,
    "start_time": "2024-09-27T19:19:06.088Z"
   },
   {
    "duration": 28,
    "start_time": "2024-09-27T19:19:06.132Z"
   },
   {
    "duration": 382,
    "start_time": "2024-09-27T19:19:06.163Z"
   },
   {
    "duration": 178,
    "start_time": "2024-09-27T19:19:58.575Z"
   },
   {
    "duration": 944,
    "start_time": "2024-09-30T19:15:05.194Z"
   },
   {
    "duration": 769,
    "start_time": "2024-09-30T19:15:12.855Z"
   },
   {
    "duration": 348,
    "start_time": "2024-09-30T19:15:13.626Z"
   },
   {
    "duration": 20,
    "start_time": "2024-09-30T19:15:13.976Z"
   },
   {
    "duration": 86,
    "start_time": "2024-09-30T19:15:14.006Z"
   },
   {
    "duration": 34,
    "start_time": "2024-09-30T19:15:14.107Z"
   },
   {
    "duration": 32,
    "start_time": "2024-09-30T19:15:14.144Z"
   },
   {
    "duration": 54,
    "start_time": "2024-09-30T19:15:14.179Z"
   },
   {
    "duration": 375,
    "start_time": "2024-09-30T19:15:14.238Z"
   },
   {
    "duration": 250,
    "start_time": "2024-09-30T19:18:05.055Z"
   },
   {
    "duration": 242,
    "start_time": "2024-09-30T19:18:10.682Z"
   },
   {
    "duration": 180,
    "start_time": "2024-09-30T19:18:17.963Z"
   },
   {
    "duration": 263,
    "start_time": "2024-09-30T19:18:31.158Z"
   },
   {
    "duration": 3,
    "start_time": "2024-09-30T19:22:22.367Z"
   },
   {
    "duration": 3,
    "start_time": "2024-09-30T19:23:01.040Z"
   },
   {
    "duration": 829,
    "start_time": "2024-10-01T19:08:39.158Z"
   },
   {
    "duration": 243,
    "start_time": "2024-10-01T19:09:54.659Z"
   },
   {
    "duration": 819,
    "start_time": "2024-10-01T19:10:02.035Z"
   },
   {
    "duration": 379,
    "start_time": "2024-10-01T19:10:02.856Z"
   },
   {
    "duration": 19,
    "start_time": "2024-10-01T19:10:03.237Z"
   },
   {
    "duration": 110,
    "start_time": "2024-10-01T19:10:03.258Z"
   },
   {
    "duration": 42,
    "start_time": "2024-10-01T19:10:03.370Z"
   },
   {
    "duration": 26,
    "start_time": "2024-10-01T19:10:03.414Z"
   },
   {
    "duration": 70,
    "start_time": "2024-10-01T19:10:03.442Z"
   },
   {
    "duration": 317,
    "start_time": "2024-10-01T19:10:03.513Z"
   },
   {
    "duration": 388,
    "start_time": "2024-10-01T19:10:03.832Z"
   },
   {
    "duration": 3,
    "start_time": "2024-10-01T19:10:48.490Z"
   },
   {
    "duration": 28,
    "start_time": "2024-10-01T19:11:03.204Z"
   },
   {
    "duration": 9,
    "start_time": "2024-10-01T19:11:58.365Z"
   },
   {
    "duration": 9,
    "start_time": "2024-10-01T19:12:07.833Z"
   },
   {
    "duration": 13,
    "start_time": "2024-10-01T19:12:20.900Z"
   },
   {
    "duration": 20,
    "start_time": "2024-10-01T19:12:44.671Z"
   },
   {
    "duration": 16,
    "start_time": "2024-10-01T19:12:50.561Z"
   },
   {
    "duration": 3,
    "start_time": "2024-10-01T19:15:36.019Z"
   },
   {
    "duration": 68,
    "start_time": "2024-10-01T19:15:38.393Z"
   },
   {
    "duration": 78,
    "start_time": "2024-10-01T19:18:51.434Z"
   },
   {
    "duration": 8,
    "start_time": "2024-10-01T19:19:49.781Z"
   },
   {
    "duration": 74,
    "start_time": "2024-10-01T19:19:53.777Z"
   },
   {
    "duration": 8,
    "start_time": "2024-10-01T19:19:55.615Z"
   },
   {
    "duration": 10,
    "start_time": "2024-10-01T19:20:13.232Z"
   },
   {
    "duration": 16,
    "start_time": "2024-10-01T19:23:00.761Z"
   },
   {
    "duration": 10,
    "start_time": "2024-10-01T19:23:02.771Z"
   },
   {
    "duration": 157,
    "start_time": "2024-10-02T18:48:31.613Z"
   },
   {
    "duration": 808,
    "start_time": "2024-10-02T18:48:35.616Z"
   },
   {
    "duration": 351,
    "start_time": "2024-10-02T18:48:36.427Z"
   },
   {
    "duration": 21,
    "start_time": "2024-10-02T18:48:36.779Z"
   },
   {
    "duration": 93,
    "start_time": "2024-10-02T18:48:36.802Z"
   },
   {
    "duration": 20,
    "start_time": "2024-10-02T18:48:36.897Z"
   },
   {
    "duration": 33,
    "start_time": "2024-10-02T18:48:36.919Z"
   },
   {
    "duration": 32,
    "start_time": "2024-10-02T18:48:36.954Z"
   },
   {
    "duration": 37,
    "start_time": "2024-10-02T18:48:36.988Z"
   },
   {
    "duration": 22,
    "start_time": "2024-10-02T18:48:37.027Z"
   },
   {
    "duration": 365,
    "start_time": "2024-10-02T18:48:37.052Z"
   },
   {
    "duration": 3,
    "start_time": "2024-10-02T18:48:37.418Z"
   },
   {
    "duration": 144,
    "start_time": "2024-10-02T18:48:37.423Z"
   },
   {
    "duration": 49,
    "start_time": "2024-10-02T18:48:37.569Z"
   },
   {
    "duration": 9,
    "start_time": "2024-10-02T18:49:00.102Z"
   },
   {
    "duration": 5,
    "start_time": "2024-10-02T18:49:05.233Z"
   },
   {
    "duration": 25,
    "start_time": "2024-10-02T18:49:58.556Z"
   },
   {
    "duration": 9,
    "start_time": "2024-10-02T18:50:16.012Z"
   },
   {
    "duration": 9,
    "start_time": "2024-10-02T18:52:45.209Z"
   },
   {
    "duration": 9,
    "start_time": "2024-10-02T18:52:50.492Z"
   },
   {
    "duration": 10,
    "start_time": "2024-10-02T18:52:55.421Z"
   },
   {
    "duration": 9,
    "start_time": "2024-10-02T18:52:59.568Z"
   },
   {
    "duration": 9,
    "start_time": "2024-10-02T18:53:04.879Z"
   },
   {
    "duration": 9,
    "start_time": "2024-10-02T18:53:09.420Z"
   },
   {
    "duration": 8,
    "start_time": "2024-10-02T18:53:23.317Z"
   },
   {
    "duration": 9,
    "start_time": "2024-10-02T18:53:33.117Z"
   },
   {
    "duration": 9,
    "start_time": "2024-10-02T18:54:03.995Z"
   },
   {
    "duration": 9,
    "start_time": "2024-10-02T18:54:21.212Z"
   },
   {
    "duration": 9,
    "start_time": "2024-10-02T18:54:38.613Z"
   },
   {
    "duration": 234,
    "start_time": "2024-10-02T19:01:53.053Z"
   },
   {
    "duration": 1840,
    "start_time": "2024-10-02T19:02:18.387Z"
   },
   {
    "duration": 625,
    "start_time": "2024-10-02T19:03:08.495Z"
   },
   {
    "duration": 111,
    "start_time": "2024-10-02T19:03:25.967Z"
   },
   {
    "duration": 559,
    "start_time": "2024-10-02T19:03:36.015Z"
   },
   {
    "duration": 123,
    "start_time": "2024-10-02T19:03:47.251Z"
   },
   {
    "duration": 142,
    "start_time": "2024-10-02T19:03:52.611Z"
   },
   {
    "duration": 133,
    "start_time": "2024-10-02T19:03:56.818Z"
   },
   {
    "duration": 134,
    "start_time": "2024-10-02T19:04:03.353Z"
   },
   {
    "duration": 137,
    "start_time": "2024-10-02T19:04:15.250Z"
   },
   {
    "duration": 154,
    "start_time": "2024-10-02T19:04:25.002Z"
   },
   {
    "duration": 68,
    "start_time": "2024-10-02T19:05:08.667Z"
   },
   {
    "duration": 603,
    "start_time": "2024-10-02T19:05:34.828Z"
   },
   {
    "duration": 477,
    "start_time": "2024-10-02T19:07:13.534Z"
   },
   {
    "duration": 163,
    "start_time": "2024-10-02T19:07:55.718Z"
   },
   {
    "duration": 185,
    "start_time": "2024-10-07T15:07:30.086Z"
   },
   {
    "duration": 3161,
    "start_time": "2024-10-07T15:07:35.224Z"
   },
   {
    "duration": 409,
    "start_time": "2024-10-07T15:07:38.388Z"
   },
   {
    "duration": 27,
    "start_time": "2024-10-07T15:07:38.799Z"
   },
   {
    "duration": 109,
    "start_time": "2024-10-07T15:07:38.830Z"
   },
   {
    "duration": 20,
    "start_time": "2024-10-07T15:07:38.941Z"
   },
   {
    "duration": 9,
    "start_time": "2024-10-07T15:07:38.963Z"
   },
   {
    "duration": 8,
    "start_time": "2024-10-07T15:07:38.974Z"
   },
   {
    "duration": 54,
    "start_time": "2024-10-07T15:07:38.984Z"
   },
   {
    "duration": 33,
    "start_time": "2024-10-07T15:07:39.041Z"
   },
   {
    "duration": 16,
    "start_time": "2024-10-07T15:07:39.077Z"
   },
   {
    "duration": 68,
    "start_time": "2024-10-07T15:07:39.095Z"
   },
   {
    "duration": 296,
    "start_time": "2024-10-07T15:07:39.165Z"
   },
   {
    "duration": 64,
    "start_time": "2024-10-07T15:07:39.463Z"
   },
   {
    "duration": 130,
    "start_time": "2024-10-07T15:07:39.531Z"
   },
   {
    "duration": 67,
    "start_time": "2024-10-07T15:07:39.664Z"
   },
   {
    "duration": 372,
    "start_time": "2024-10-07T15:07:39.733Z"
   },
   {
    "duration": 5,
    "start_time": "2024-10-07T15:07:47.881Z"
   },
   {
    "duration": 4,
    "start_time": "2024-10-07T15:25:07.152Z"
   },
   {
    "duration": 18,
    "start_time": "2024-10-07T15:25:30.545Z"
   },
   {
    "duration": 161,
    "start_time": "2024-10-07T18:36:40.893Z"
   },
   {
    "duration": 2715,
    "start_time": "2024-10-07T18:36:47.462Z"
   },
   {
    "duration": 374,
    "start_time": "2024-10-07T18:36:50.180Z"
   },
   {
    "duration": 28,
    "start_time": "2024-10-07T18:36:50.557Z"
   },
   {
    "duration": 101,
    "start_time": "2024-10-07T18:36:50.587Z"
   },
   {
    "duration": 9,
    "start_time": "2024-10-07T18:36:50.690Z"
   },
   {
    "duration": 8,
    "start_time": "2024-10-07T18:36:50.701Z"
   },
   {
    "duration": 9,
    "start_time": "2024-10-07T18:36:50.711Z"
   },
   {
    "duration": 65,
    "start_time": "2024-10-07T18:36:50.722Z"
   },
   {
    "duration": 30,
    "start_time": "2024-10-07T18:36:50.789Z"
   },
   {
    "duration": 16,
    "start_time": "2024-10-07T18:36:50.822Z"
   },
   {
    "duration": 51,
    "start_time": "2024-10-07T18:36:50.840Z"
   },
   {
    "duration": 391,
    "start_time": "2024-10-07T18:36:50.893Z"
   },
   {
    "duration": 3,
    "start_time": "2024-10-07T18:36:51.286Z"
   },
   {
    "duration": 184,
    "start_time": "2024-10-07T18:36:51.291Z"
   },
   {
    "duration": 10,
    "start_time": "2024-10-07T18:36:51.476Z"
   },
   {
    "duration": 6,
    "start_time": "2024-10-07T18:36:51.487Z"
   },
   {
    "duration": 3,
    "start_time": "2024-10-07T18:37:25.589Z"
   },
   {
    "duration": 240,
    "start_time": "2024-10-07T18:37:29.344Z"
   },
   {
    "duration": 165,
    "start_time": "2024-10-07T18:38:17.693Z"
   },
   {
    "duration": 949,
    "start_time": "2024-10-07T18:38:25.264Z"
   },
   {
    "duration": 250,
    "start_time": "2024-10-07T18:38:26.215Z"
   },
   {
    "duration": 10,
    "start_time": "2024-10-07T18:38:26.469Z"
   },
   {
    "duration": 105,
    "start_time": "2024-10-07T18:38:26.482Z"
   },
   {
    "duration": 10,
    "start_time": "2024-10-07T18:38:26.589Z"
   },
   {
    "duration": 8,
    "start_time": "2024-10-07T18:38:26.600Z"
   },
   {
    "duration": 8,
    "start_time": "2024-10-07T18:38:26.610Z"
   },
   {
    "duration": 62,
    "start_time": "2024-10-07T18:38:26.619Z"
   },
   {
    "duration": 28,
    "start_time": "2024-10-07T18:38:26.683Z"
   },
   {
    "duration": 16,
    "start_time": "2024-10-07T18:38:26.714Z"
   },
   {
    "duration": 46,
    "start_time": "2024-10-07T18:38:26.732Z"
   },
   {
    "duration": 308,
    "start_time": "2024-10-07T18:38:26.780Z"
   },
   {
    "duration": 4,
    "start_time": "2024-10-07T18:38:27.090Z"
   },
   {
    "duration": 192,
    "start_time": "2024-10-07T18:38:27.095Z"
   },
   {
    "duration": 86,
    "start_time": "2024-10-07T18:38:27.289Z"
   },
   {
    "duration": 7,
    "start_time": "2024-10-07T18:38:27.378Z"
   },
   {
    "duration": 3,
    "start_time": "2024-10-07T18:38:51.535Z"
   },
   {
    "duration": 237,
    "start_time": "2024-10-07T18:38:52.124Z"
   },
   {
    "duration": 31,
    "start_time": "2024-10-07T18:59:34.378Z"
   },
   {
    "duration": 28,
    "start_time": "2024-10-07T18:59:59.695Z"
   },
   {
    "duration": 30,
    "start_time": "2024-10-07T19:00:07.774Z"
   },
   {
    "duration": 7,
    "start_time": "2024-10-07T19:00:28.590Z"
   },
   {
    "duration": 7,
    "start_time": "2024-10-07T19:00:35.911Z"
   },
   {
    "duration": 7,
    "start_time": "2024-10-07T19:00:41.490Z"
   },
   {
    "duration": 6,
    "start_time": "2024-10-07T19:01:13.801Z"
   },
   {
    "duration": 6,
    "start_time": "2024-10-07T19:01:20.951Z"
   },
   {
    "duration": 6,
    "start_time": "2024-10-07T19:01:31.426Z"
   },
   {
    "duration": 5,
    "start_time": "2024-10-07T19:01:37.775Z"
   },
   {
    "duration": 6,
    "start_time": "2024-10-07T19:13:24.435Z"
   },
   {
    "duration": 6,
    "start_time": "2024-10-07T19:13:33.227Z"
   },
   {
    "duration": 6,
    "start_time": "2024-10-07T19:13:45.135Z"
   },
   {
    "duration": 5,
    "start_time": "2024-10-07T19:14:12.196Z"
   },
   {
    "duration": 225,
    "start_time": "2024-10-07T19:16:22.905Z"
   },
   {
    "duration": 5,
    "start_time": "2024-10-07T19:16:30.783Z"
   },
   {
    "duration": 4,
    "start_time": "2024-10-07T19:16:34.689Z"
   },
   {
    "duration": 4,
    "start_time": "2024-10-07T19:16:41.719Z"
   },
   {
    "duration": 5,
    "start_time": "2024-10-07T19:16:47.605Z"
   },
   {
    "duration": 5,
    "start_time": "2024-10-07T19:16:52.054Z"
   },
   {
    "duration": 176,
    "start_time": "2024-10-09T15:21:01.771Z"
   },
   {
    "duration": 2707,
    "start_time": "2024-10-09T15:21:09.419Z"
   },
   {
    "duration": 378,
    "start_time": "2024-10-09T15:21:12.129Z"
   },
   {
    "duration": 10,
    "start_time": "2024-10-09T15:21:12.509Z"
   },
   {
    "duration": 6,
    "start_time": "2024-10-09T15:21:12.526Z"
   },
   {
    "duration": 7,
    "start_time": "2024-10-09T15:21:12.534Z"
   },
   {
    "duration": 41,
    "start_time": "2024-10-09T15:21:12.543Z"
   },
   {
    "duration": 64,
    "start_time": "2024-10-09T15:21:12.586Z"
   },
   {
    "duration": 32,
    "start_time": "2024-10-09T15:21:12.651Z"
   },
   {
    "duration": 19,
    "start_time": "2024-10-09T15:21:12.684Z"
   },
   {
    "duration": 18,
    "start_time": "2024-10-09T15:21:12.707Z"
   },
   {
    "duration": 11,
    "start_time": "2024-10-09T15:21:12.726Z"
   },
   {
    "duration": 44,
    "start_time": "2024-10-09T15:21:12.739Z"
   },
   {
    "duration": 52,
    "start_time": "2024-10-09T15:21:12.785Z"
   },
   {
    "duration": 15,
    "start_time": "2024-10-09T15:21:12.841Z"
   },
   {
    "duration": 66,
    "start_time": "2024-10-09T15:21:12.858Z"
   },
   {
    "duration": 330,
    "start_time": "2024-10-09T15:21:12.926Z"
   },
   {
    "duration": 66,
    "start_time": "2024-10-09T15:21:13.259Z"
   },
   {
    "duration": 142,
    "start_time": "2024-10-09T15:21:13.327Z"
   },
   {
    "duration": 56,
    "start_time": "2024-10-09T15:21:13.471Z"
   },
   {
    "duration": 4,
    "start_time": "2024-10-09T15:21:13.528Z"
   },
   {
    "duration": 3,
    "start_time": "2024-10-09T15:28:03.043Z"
   },
   {
    "duration": 2779,
    "start_time": "2024-10-09T19:12:28.864Z"
   },
   {
    "duration": 419,
    "start_time": "2024-10-09T19:12:31.645Z"
   },
   {
    "duration": 15,
    "start_time": "2024-10-09T19:12:32.066Z"
   },
   {
    "duration": 10,
    "start_time": "2024-10-09T19:12:32.085Z"
   },
   {
    "duration": 10,
    "start_time": "2024-10-09T19:12:32.096Z"
   },
   {
    "duration": 34,
    "start_time": "2024-10-09T19:12:35.211Z"
   },
   {
    "duration": 30,
    "start_time": "2024-10-09T19:12:35.507Z"
   },
   {
    "duration": 33,
    "start_time": "2024-10-09T19:12:35.746Z"
   },
   {
    "duration": 9,
    "start_time": "2024-10-09T19:12:36.703Z"
   },
   {
    "duration": 9,
    "start_time": "2024-10-09T19:12:37.150Z"
   },
   {
    "duration": 10,
    "start_time": "2024-10-09T19:12:38.931Z"
   },
   {
    "duration": 9,
    "start_time": "2024-10-09T19:12:39.525Z"
   },
   {
    "duration": 308,
    "start_time": "2024-10-09T19:12:43.993Z"
   },
   {
    "duration": 363,
    "start_time": "2024-10-09T19:13:01.615Z"
   },
   {
    "duration": 347,
    "start_time": "2024-10-09T19:13:13.362Z"
   },
   {
    "duration": 367,
    "start_time": "2024-10-09T19:13:24.027Z"
   },
   {
    "duration": 276,
    "start_time": "2024-10-09T19:14:03.397Z"
   },
   {
    "duration": 5,
    "start_time": "2024-10-09T19:14:12.053Z"
   },
   {
    "duration": 339,
    "start_time": "2024-10-09T19:14:24.066Z"
   },
   {
    "duration": 287,
    "start_time": "2024-10-09T19:14:25.387Z"
   },
   {
    "duration": 8,
    "start_time": "2024-10-09T19:14:26.264Z"
   },
   {
    "duration": 322,
    "start_time": "2024-10-09T19:14:32.667Z"
   },
   {
    "duration": 8,
    "start_time": "2024-10-09T19:14:33.309Z"
   },
   {
    "duration": 256,
    "start_time": "2024-10-09T19:14:49.543Z"
   },
   {
    "duration": 8,
    "start_time": "2024-10-09T19:14:50.703Z"
   },
   {
    "duration": 329,
    "start_time": "2024-10-09T19:15:01.346Z"
   },
   {
    "duration": 8,
    "start_time": "2024-10-09T19:15:02.003Z"
   },
   {
    "duration": 332,
    "start_time": "2024-10-09T19:18:00.853Z"
   },
   {
    "duration": 6,
    "start_time": "2024-10-09T19:18:01.453Z"
   },
   {
    "duration": 157,
    "start_time": "2024-10-14T16:23:14.481Z"
   },
   {
    "duration": 2739,
    "start_time": "2024-10-14T16:23:21.158Z"
   },
   {
    "duration": 337,
    "start_time": "2024-10-14T16:23:23.900Z"
   },
   {
    "duration": 11,
    "start_time": "2024-10-14T16:23:24.239Z"
   },
   {
    "duration": 7,
    "start_time": "2024-10-14T16:23:24.253Z"
   },
   {
    "duration": 8,
    "start_time": "2024-10-14T16:23:24.262Z"
   },
   {
    "duration": 52,
    "start_time": "2024-10-14T16:23:24.271Z"
   },
   {
    "duration": 29,
    "start_time": "2024-10-14T16:23:24.324Z"
   },
   {
    "duration": 34,
    "start_time": "2024-10-14T16:23:24.355Z"
   },
   {
    "duration": 22,
    "start_time": "2024-10-14T16:23:24.390Z"
   },
   {
    "duration": 9,
    "start_time": "2024-10-14T16:23:24.414Z"
   },
   {
    "duration": 9,
    "start_time": "2024-10-14T16:23:24.425Z"
   },
   {
    "duration": 370,
    "start_time": "2024-10-14T16:23:24.435Z"
   },
   {
    "duration": 10,
    "start_time": "2024-10-14T16:23:24.807Z"
   },
   {
    "duration": 4,
    "start_time": "2024-10-14T16:23:24.821Z"
   },
   {
    "duration": 10,
    "start_time": "2024-10-14T16:25:18.065Z"
   },
   {
    "duration": 12,
    "start_time": "2024-10-14T16:25:37.958Z"
   },
   {
    "duration": 10,
    "start_time": "2024-10-14T16:25:39.274Z"
   },
   {
    "duration": 8,
    "start_time": "2024-10-14T16:35:35.159Z"
   },
   {
    "duration": 342,
    "start_time": "2024-10-14T16:36:10.840Z"
   },
   {
    "duration": 20,
    "start_time": "2024-10-14T16:36:17.019Z"
   },
   {
    "duration": 10,
    "start_time": "2024-10-14T16:37:02.462Z"
   },
   {
    "duration": 13,
    "start_time": "2024-10-14T16:37:08.428Z"
   },
   {
    "duration": 14,
    "start_time": "2024-10-14T16:37:23.866Z"
   },
   {
    "duration": 12,
    "start_time": "2024-10-14T16:37:47.813Z"
   },
   {
    "duration": 14,
    "start_time": "2024-10-14T16:39:07.383Z"
   },
   {
    "duration": 9,
    "start_time": "2024-10-14T16:39:47.892Z"
   },
   {
    "duration": 13,
    "start_time": "2024-10-14T16:39:54.749Z"
   },
   {
    "duration": 8,
    "start_time": "2024-10-14T16:40:00.697Z"
   },
   {
    "duration": 22,
    "start_time": "2024-10-14T16:40:40.360Z"
   },
   {
    "duration": 19,
    "start_time": "2024-10-14T16:48:40.201Z"
   },
   {
    "duration": 237,
    "start_time": "2024-10-14T16:50:33.453Z"
   },
   {
    "duration": 21,
    "start_time": "2024-10-14T16:50:41.555Z"
   },
   {
    "duration": 254,
    "start_time": "2024-10-14T16:50:46.118Z"
   },
   {
    "duration": 2885,
    "start_time": "2024-10-15T19:11:28.896Z"
   },
   {
    "duration": 246,
    "start_time": "2024-10-15T19:17:31.553Z"
   },
   {
    "duration": 1036,
    "start_time": "2024-10-15T19:18:36.453Z"
   },
   {
    "duration": 350,
    "start_time": "2024-10-15T19:18:37.491Z"
   },
   {
    "duration": 13,
    "start_time": "2024-10-15T19:18:37.843Z"
   },
   {
    "duration": 11,
    "start_time": "2024-10-15T19:18:37.859Z"
   },
   {
    "duration": 10,
    "start_time": "2024-10-15T19:18:37.872Z"
   },
   {
    "duration": 54,
    "start_time": "2024-10-15T19:18:37.883Z"
   },
   {
    "duration": 32,
    "start_time": "2024-10-15T19:18:37.939Z"
   },
   {
    "duration": 45,
    "start_time": "2024-10-15T19:18:37.973Z"
   },
   {
    "duration": 20,
    "start_time": "2024-10-15T19:18:38.020Z"
   },
   {
    "duration": 291,
    "start_time": "2024-10-15T19:18:38.042Z"
   },
   {
    "duration": 9,
    "start_time": "2024-10-15T19:18:38.410Z"
   },
   {
    "duration": 3,
    "start_time": "2024-10-15T19:18:38.421Z"
   },
   {
    "duration": 3,
    "start_time": "2024-10-15T19:19:50.299Z"
   },
   {
    "duration": 11,
    "start_time": "2024-10-15T19:24:03.385Z"
   },
   {
    "duration": 358,
    "start_time": "2024-10-15T19:24:08.882Z"
   },
   {
    "duration": 10,
    "start_time": "2024-10-15T19:24:10.701Z"
   },
   {
    "duration": 374,
    "start_time": "2024-10-15T19:24:40.459Z"
   },
   {
    "duration": 9,
    "start_time": "2024-10-15T19:24:40.835Z"
   },
   {
    "duration": 1070,
    "start_time": "2024-10-15T19:24:55.109Z"
   },
   {
    "duration": 262,
    "start_time": "2024-10-15T19:24:56.181Z"
   },
   {
    "duration": 10,
    "start_time": "2024-10-15T19:24:56.445Z"
   },
   {
    "duration": 6,
    "start_time": "2024-10-15T19:24:56.457Z"
   },
   {
    "duration": 7,
    "start_time": "2024-10-15T19:24:56.465Z"
   },
   {
    "duration": 57,
    "start_time": "2024-10-15T19:24:56.474Z"
   },
   {
    "duration": 31,
    "start_time": "2024-10-15T19:24:56.533Z"
   },
   {
    "duration": 49,
    "start_time": "2024-10-15T19:24:56.566Z"
   },
   {
    "duration": 22,
    "start_time": "2024-10-15T19:24:56.617Z"
   },
   {
    "duration": 378,
    "start_time": "2024-10-15T19:24:56.642Z"
   },
   {
    "duration": 8,
    "start_time": "2024-10-15T19:24:57.022Z"
   },
   {
    "duration": 370,
    "start_time": "2024-10-15T19:24:57.031Z"
   },
   {
    "duration": 354,
    "start_time": "2024-10-15T19:25:16.066Z"
   },
   {
    "duration": 9,
    "start_time": "2024-10-15T19:25:16.510Z"
   },
   {
    "duration": 1070,
    "start_time": "2024-10-15T19:25:24.817Z"
   },
   {
    "duration": 253,
    "start_time": "2024-10-15T19:25:25.889Z"
   },
   {
    "duration": 10,
    "start_time": "2024-10-15T19:25:26.145Z"
   },
   {
    "duration": 7,
    "start_time": "2024-10-15T19:25:26.158Z"
   },
   {
    "duration": 8,
    "start_time": "2024-10-15T19:25:26.168Z"
   },
   {
    "duration": 62,
    "start_time": "2024-10-15T19:25:26.178Z"
   },
   {
    "duration": 32,
    "start_time": "2024-10-15T19:25:26.242Z"
   },
   {
    "duration": 54,
    "start_time": "2024-10-15T19:25:26.276Z"
   },
   {
    "duration": 26,
    "start_time": "2024-10-15T19:25:26.333Z"
   },
   {
    "duration": 361,
    "start_time": "2024-10-15T19:25:26.361Z"
   },
   {
    "duration": 13,
    "start_time": "2024-10-15T19:25:26.723Z"
   },
   {
    "duration": 268,
    "start_time": "2024-10-15T19:25:26.815Z"
   },
   {
    "duration": 1056,
    "start_time": "2024-10-15T19:26:02.403Z"
   },
   {
    "duration": 270,
    "start_time": "2024-10-15T19:26:03.462Z"
   },
   {
    "duration": 13,
    "start_time": "2024-10-15T19:26:03.733Z"
   },
   {
    "duration": 8,
    "start_time": "2024-10-15T19:26:03.748Z"
   },
   {
    "duration": 7,
    "start_time": "2024-10-15T19:26:03.760Z"
   },
   {
    "duration": 59,
    "start_time": "2024-10-15T19:26:03.769Z"
   },
   {
    "duration": 38,
    "start_time": "2024-10-15T19:26:03.829Z"
   },
   {
    "duration": 48,
    "start_time": "2024-10-15T19:26:03.869Z"
   },
   {
    "duration": 28,
    "start_time": "2024-10-15T19:26:03.918Z"
   },
   {
    "duration": 381,
    "start_time": "2024-10-15T19:26:03.949Z"
   },
   {
    "duration": 0,
    "start_time": "2024-10-15T19:26:04.332Z"
   },
   {
    "duration": 0,
    "start_time": "2024-10-15T19:26:04.333Z"
   },
   {
    "duration": 428,
    "start_time": "2024-10-15T19:26:24.089Z"
   },
   {
    "duration": 9,
    "start_time": "2024-10-15T19:26:24.858Z"
   },
   {
    "duration": 331,
    "start_time": "2024-10-15T19:27:58.299Z"
   },
   {
    "duration": 285,
    "start_time": "2024-10-15T19:28:22.351Z"
   },
   {
    "duration": 9,
    "start_time": "2024-10-15T19:28:22.861Z"
   },
   {
    "duration": 2670,
    "start_time": "2024-10-16T19:06:48.544Z"
   },
   {
    "duration": 347,
    "start_time": "2024-10-16T19:06:51.216Z"
   },
   {
    "duration": 9,
    "start_time": "2024-10-16T19:06:51.565Z"
   },
   {
    "duration": 7,
    "start_time": "2024-10-16T19:06:51.576Z"
   },
   {
    "duration": 13,
    "start_time": "2024-10-16T19:06:51.585Z"
   },
   {
    "duration": 43,
    "start_time": "2024-10-16T19:06:51.600Z"
   },
   {
    "duration": 45,
    "start_time": "2024-10-16T19:06:51.645Z"
   },
   {
    "duration": 31,
    "start_time": "2024-10-16T19:06:51.692Z"
   },
   {
    "duration": 21,
    "start_time": "2024-10-16T19:06:51.724Z"
   },
   {
    "duration": 495,
    "start_time": "2024-10-16T19:06:51.747Z"
   },
   {
    "duration": 0,
    "start_time": "2024-10-16T19:06:52.244Z"
   },
   {
    "duration": 0,
    "start_time": "2024-10-16T19:06:52.245Z"
   },
   {
    "duration": 336,
    "start_time": "2024-10-16T19:07:01.250Z"
   },
   {
    "duration": 7,
    "start_time": "2024-10-16T19:07:03.695Z"
   },
   {
    "duration": 156,
    "start_time": "2024-10-16T19:07:28.521Z"
   },
   {
    "duration": 6,
    "start_time": "2024-10-16T19:07:29.337Z"
   },
   {
    "duration": 341,
    "start_time": "2024-10-16T19:09:53.055Z"
   },
   {
    "duration": 7,
    "start_time": "2024-10-16T19:09:53.556Z"
   },
   {
    "duration": 166,
    "start_time": "2024-10-17T19:11:03.675Z"
   },
   {
    "duration": 12,
    "start_time": "2024-10-17T19:11:04.109Z"
   },
   {
    "duration": 2675,
    "start_time": "2024-10-17T19:11:07.987Z"
   },
   {
    "duration": 308,
    "start_time": "2024-10-17T19:11:10.665Z"
   },
   {
    "duration": 11,
    "start_time": "2024-10-17T19:11:10.975Z"
   },
   {
    "duration": 7,
    "start_time": "2024-10-17T19:11:10.988Z"
   },
   {
    "duration": 8,
    "start_time": "2024-10-17T19:11:11.005Z"
   },
   {
    "duration": 32,
    "start_time": "2024-10-17T19:11:11.014Z"
   },
   {
    "duration": 28,
    "start_time": "2024-10-17T19:11:11.048Z"
   },
   {
    "duration": 57,
    "start_time": "2024-10-17T19:11:11.078Z"
   },
   {
    "duration": 20,
    "start_time": "2024-10-17T19:11:11.137Z"
   },
   {
    "duration": 361,
    "start_time": "2024-10-17T19:11:11.160Z"
   },
   {
    "duration": 9,
    "start_time": "2024-10-17T19:11:11.523Z"
   },
   {
    "duration": 318,
    "start_time": "2024-10-17T19:11:11.534Z"
   },
   {
    "duration": 4,
    "start_time": "2024-10-17T19:17:48.757Z"
   },
   {
    "duration": 3,
    "start_time": "2024-10-17T19:18:36.857Z"
   },
   {
    "duration": 3,
    "start_time": "2024-10-17T19:19:21.157Z"
   },
   {
    "duration": 64,
    "start_time": "2024-10-17T19:19:27.378Z"
   },
   {
    "duration": 3,
    "start_time": "2024-10-17T19:19:33.889Z"
   },
   {
    "duration": 4,
    "start_time": "2024-10-17T19:20:11.409Z"
   },
   {
    "duration": 2,
    "start_time": "2024-10-17T19:20:24.410Z"
   },
   {
    "duration": 3,
    "start_time": "2024-10-17T19:20:44.822Z"
   },
   {
    "duration": 14,
    "start_time": "2024-10-17T19:20:51.088Z"
   },
   {
    "duration": 3,
    "start_time": "2024-10-17T19:21:05.343Z"
   },
   {
    "duration": 5,
    "start_time": "2024-10-17T19:21:22.445Z"
   },
   {
    "duration": 3,
    "start_time": "2024-10-17T19:21:26.545Z"
   },
   {
    "duration": 3,
    "start_time": "2024-10-17T19:22:34.612Z"
   },
   {
    "duration": 3,
    "start_time": "2024-10-17T19:22:43.874Z"
   },
   {
    "duration": 589,
    "start_time": "2024-10-17T19:23:25.831Z"
   },
   {
    "duration": 5,
    "start_time": "2024-10-17T19:23:35.713Z"
   },
   {
    "duration": 38,
    "start_time": "2024-10-17T19:23:44.424Z"
   },
   {
    "duration": 4,
    "start_time": "2024-10-17T19:24:30.264Z"
   },
   {
    "duration": 3,
    "start_time": "2024-10-17T19:24:38.023Z"
   },
   {
    "duration": 3,
    "start_time": "2024-10-17T19:25:08.593Z"
   },
   {
    "duration": 4,
    "start_time": "2024-10-17T19:25:48.892Z"
   },
   {
    "duration": 2783,
    "start_time": "2024-10-21T16:41:23.775Z"
   },
   {
    "duration": 326,
    "start_time": "2024-10-21T16:41:26.560Z"
   },
   {
    "duration": 9,
    "start_time": "2024-10-21T16:41:26.888Z"
   },
   {
    "duration": 8,
    "start_time": "2024-10-21T16:41:26.900Z"
   },
   {
    "duration": 6,
    "start_time": "2024-10-21T16:41:26.910Z"
   },
   {
    "duration": 59,
    "start_time": "2024-10-21T16:41:26.918Z"
   },
   {
    "duration": 30,
    "start_time": "2024-10-21T16:41:26.978Z"
   },
   {
    "duration": 31,
    "start_time": "2024-10-21T16:41:27.009Z"
   },
   {
    "duration": 39,
    "start_time": "2024-10-21T16:41:27.042Z"
   },
   {
    "duration": 397,
    "start_time": "2024-10-21T16:41:27.084Z"
   },
   {
    "duration": 12,
    "start_time": "2024-10-21T16:41:27.483Z"
   },
   {
    "duration": 76,
    "start_time": "2024-10-21T16:41:27.497Z"
   },
   {
    "duration": 3,
    "start_time": "2024-10-21T16:41:27.575Z"
   },
   {
    "duration": 3,
    "start_time": "2024-10-21T16:42:11.436Z"
   },
   {
    "duration": 276,
    "start_time": "2024-10-21T16:42:15.398Z"
   },
   {
    "duration": 7,
    "start_time": "2024-10-21T16:42:33.345Z"
   },
   {
    "duration": 171,
    "start_time": "2024-10-21T18:40:59.599Z"
   },
   {
    "duration": 15,
    "start_time": "2024-10-21T18:40:59.909Z"
   },
   {
    "duration": 26,
    "start_time": "2024-10-21T18:41:17.641Z"
   },
   {
    "duration": 18,
    "start_time": "2024-10-21T18:41:17.924Z"
   },
   {
    "duration": 16,
    "start_time": "2024-10-21T18:41:23.398Z"
   },
   {
    "duration": 2964,
    "start_time": "2024-10-21T18:41:46.987Z"
   },
   {
    "duration": 355,
    "start_time": "2024-10-21T18:41:49.954Z"
   },
   {
    "duration": 12,
    "start_time": "2024-10-21T18:41:50.311Z"
   },
   {
    "duration": 8,
    "start_time": "2024-10-21T18:41:50.326Z"
   },
   {
    "duration": 7,
    "start_time": "2024-10-21T18:41:50.336Z"
   },
   {
    "duration": 65,
    "start_time": "2024-10-21T18:41:50.345Z"
   },
   {
    "duration": 32,
    "start_time": "2024-10-21T18:41:50.412Z"
   },
   {
    "duration": 32,
    "start_time": "2024-10-21T18:41:50.445Z"
   },
   {
    "duration": 47,
    "start_time": "2024-10-21T18:41:50.479Z"
   },
   {
    "duration": 395,
    "start_time": "2024-10-21T18:41:50.528Z"
   },
   {
    "duration": 15,
    "start_time": "2024-10-21T18:41:50.926Z"
   },
   {
    "duration": 4,
    "start_time": "2024-10-21T18:41:51.009Z"
   },
   {
    "duration": 273,
    "start_time": "2024-10-21T18:41:51.016Z"
   },
   {
    "duration": 4,
    "start_time": "2024-10-21T18:42:08.409Z"
   },
   {
    "duration": 4,
    "start_time": "2024-10-21T18:52:55.545Z"
   },
   {
    "duration": 605,
    "start_time": "2024-10-21T18:58:24.830Z"
   },
   {
    "duration": 15,
    "start_time": "2024-10-21T18:58:45.065Z"
   },
   {
    "duration": 294,
    "start_time": "2024-10-21T18:58:47.352Z"
   },
   {
    "duration": 7,
    "start_time": "2024-10-21T18:58:56.299Z"
   },
   {
    "duration": 249,
    "start_time": "2024-10-21T19:25:14.084Z"
   },
   {
    "duration": 167,
    "start_time": "2024-10-22T19:06:33.667Z"
   },
   {
    "duration": 2647,
    "start_time": "2024-10-22T19:06:40.076Z"
   },
   {
    "duration": 311,
    "start_time": "2024-10-22T19:06:42.725Z"
   },
   {
    "duration": 10,
    "start_time": "2024-10-22T19:06:43.038Z"
   },
   {
    "duration": 7,
    "start_time": "2024-10-22T19:06:43.050Z"
   },
   {
    "duration": 7,
    "start_time": "2024-10-22T19:06:43.058Z"
   },
   {
    "duration": 54,
    "start_time": "2024-10-22T19:06:43.066Z"
   },
   {
    "duration": 30,
    "start_time": "2024-10-22T19:06:43.121Z"
   },
   {
    "duration": 31,
    "start_time": "2024-10-22T19:06:43.153Z"
   },
   {
    "duration": 39,
    "start_time": "2024-10-22T19:06:43.186Z"
   },
   {
    "duration": 565,
    "start_time": "2024-10-22T19:06:43.227Z"
   },
   {
    "duration": 0,
    "start_time": "2024-10-22T19:06:43.794Z"
   },
   {
    "duration": 0,
    "start_time": "2024-10-22T19:06:43.795Z"
   },
   {
    "duration": 0,
    "start_time": "2024-10-22T19:06:43.796Z"
   },
   {
    "duration": 0,
    "start_time": "2024-10-22T19:06:43.797Z"
   },
   {
    "duration": 3,
    "start_time": "2024-10-22T19:08:34.603Z"
   },
   {
    "duration": 400,
    "start_time": "2024-10-22T19:10:44.006Z"
   },
   {
    "duration": 4,
    "start_time": "2024-10-22T19:10:47.169Z"
   },
   {
    "duration": 10,
    "start_time": "2024-10-22T19:10:54.632Z"
   },
   {
    "duration": 333,
    "start_time": "2024-10-22T19:12:11.195Z"
   },
   {
    "duration": 9,
    "start_time": "2024-10-22T19:12:12.150Z"
   },
   {
    "duration": 198,
    "start_time": "2024-10-22T19:17:02.139Z"
   },
   {
    "duration": 371,
    "start_time": "2024-10-22T19:18:06.239Z"
   },
   {
    "duration": 10,
    "start_time": "2024-10-22T19:18:07.798Z"
   },
   {
    "duration": 339,
    "start_time": "2024-10-22T19:18:53.381Z"
   },
   {
    "duration": 83,
    "start_time": "2024-10-22T19:18:53.722Z"
   },
   {
    "duration": 364,
    "start_time": "2024-10-22T19:19:58.341Z"
   },
   {
    "duration": 11,
    "start_time": "2024-10-22T19:19:59.428Z"
   },
   {
    "duration": 623,
    "start_time": "2024-10-22T19:21:22.108Z"
   },
   {
    "duration": 0,
    "start_time": "2024-10-22T19:21:22.733Z"
   },
   {
    "duration": 596,
    "start_time": "2024-10-22T19:21:31.394Z"
   },
   {
    "duration": 0,
    "start_time": "2024-10-22T19:21:31.992Z"
   },
   {
    "duration": 478,
    "start_time": "2024-10-22T19:21:42.628Z"
   },
   {
    "duration": 0,
    "start_time": "2024-10-22T19:21:43.108Z"
   },
   {
    "duration": 350,
    "start_time": "2024-10-22T19:22:44.178Z"
   },
   {
    "duration": 12,
    "start_time": "2024-10-22T19:22:44.706Z"
   },
   {
    "duration": 414,
    "start_time": "2024-10-22T19:22:51.592Z"
   },
   {
    "duration": 12,
    "start_time": "2024-10-22T19:22:56.815Z"
   },
   {
    "duration": 75,
    "start_time": "2024-10-22T19:26:13.150Z"
   },
   {
    "duration": 387,
    "start_time": "2024-10-22T19:26:30.143Z"
   },
   {
    "duration": 9,
    "start_time": "2024-10-22T19:26:44.225Z"
   },
   {
    "duration": 779,
    "start_time": "2024-10-22T19:27:00.727Z"
   },
   {
    "duration": 0,
    "start_time": "2024-10-22T19:27:01.508Z"
   },
   {
    "duration": 542,
    "start_time": "2024-10-22T19:27:36.934Z"
   },
   {
    "duration": 47,
    "start_time": "2024-10-22T19:27:37.730Z"
   },
   {
    "duration": 1007,
    "start_time": "2024-10-22T19:28:01.540Z"
   },
   {
    "duration": 265,
    "start_time": "2024-10-22T19:28:02.549Z"
   },
   {
    "duration": 12,
    "start_time": "2024-10-22T19:28:02.816Z"
   },
   {
    "duration": 8,
    "start_time": "2024-10-22T19:28:02.831Z"
   },
   {
    "duration": 8,
    "start_time": "2024-10-22T19:28:02.841Z"
   },
   {
    "duration": 34,
    "start_time": "2024-10-22T19:28:02.852Z"
   },
   {
    "duration": 33,
    "start_time": "2024-10-22T19:28:02.906Z"
   },
   {
    "duration": 30,
    "start_time": "2024-10-22T19:28:02.941Z"
   },
   {
    "duration": 38,
    "start_time": "2024-10-22T19:28:02.973Z"
   },
   {
    "duration": 1134,
    "start_time": "2024-10-22T19:28:03.015Z"
   },
   {
    "duration": 0,
    "start_time": "2024-10-22T19:28:04.153Z"
   },
   {
    "duration": 0,
    "start_time": "2024-10-22T19:28:04.155Z"
   },
   {
    "duration": 0,
    "start_time": "2024-10-22T19:28:04.156Z"
   },
   {
    "duration": 0,
    "start_time": "2024-10-22T19:28:04.157Z"
   },
   {
    "duration": 0,
    "start_time": "2024-10-22T19:28:04.158Z"
   },
   {
    "duration": 537,
    "start_time": "2024-10-22T19:28:24.289Z"
   },
   {
    "duration": 13,
    "start_time": "2024-10-22T19:28:24.900Z"
   },
   {
    "duration": 352,
    "start_time": "2024-10-22T19:28:43.255Z"
   },
   {
    "duration": 11,
    "start_time": "2024-10-22T19:28:43.702Z"
   },
   {
    "duration": 7,
    "start_time": "2024-10-22T19:28:57.641Z"
   },
   {
    "duration": 783,
    "start_time": "2024-10-22T19:29:14.661Z"
   },
   {
    "duration": 0,
    "start_time": "2024-10-22T19:29:15.447Z"
   },
   {
    "duration": 7,
    "start_time": "2024-10-22T19:29:18.380Z"
   },
   {
    "duration": 173,
    "start_time": "2024-10-23T18:40:25.072Z"
   },
   {
    "duration": 2756,
    "start_time": "2024-10-23T18:40:32.843Z"
   },
   {
    "duration": 305,
    "start_time": "2024-10-23T18:40:35.601Z"
   },
   {
    "duration": 9,
    "start_time": "2024-10-23T18:40:35.910Z"
   },
   {
    "duration": 7,
    "start_time": "2024-10-23T18:40:35.922Z"
   },
   {
    "duration": 15,
    "start_time": "2024-10-23T18:40:35.931Z"
   },
   {
    "duration": 31,
    "start_time": "2024-10-23T18:40:35.948Z"
   },
   {
    "duration": 28,
    "start_time": "2024-10-23T18:40:35.982Z"
   },
   {
    "duration": 48,
    "start_time": "2024-10-23T18:40:36.012Z"
   },
   {
    "duration": 21,
    "start_time": "2024-10-23T18:40:36.062Z"
   },
   {
    "duration": 1432,
    "start_time": "2024-10-23T18:40:36.085Z"
   },
   {
    "duration": 0,
    "start_time": "2024-10-23T18:40:37.520Z"
   },
   {
    "duration": 0,
    "start_time": "2024-10-23T18:40:37.521Z"
   },
   {
    "duration": 0,
    "start_time": "2024-10-23T18:40:37.522Z"
   },
   {
    "duration": 0,
    "start_time": "2024-10-23T18:40:37.523Z"
   },
   {
    "duration": 0,
    "start_time": "2024-10-23T18:40:37.524Z"
   },
   {
    "duration": 0,
    "start_time": "2024-10-23T18:40:37.525Z"
   },
   {
    "duration": 355,
    "start_time": "2024-10-23T18:42:12.208Z"
   },
   {
    "duration": 11,
    "start_time": "2024-10-23T18:42:12.901Z"
   },
   {
    "duration": 7,
    "start_time": "2024-10-23T18:42:26.721Z"
   },
   {
    "duration": 10,
    "start_time": "2024-10-23T18:43:03.980Z"
   },
   {
    "duration": 316,
    "start_time": "2024-10-23T18:44:07.453Z"
   },
   {
    "duration": 10,
    "start_time": "2024-10-23T18:44:09.172Z"
   },
   {
    "duration": 13,
    "start_time": "2024-10-23T18:44:13.038Z"
   },
   {
    "duration": 271,
    "start_time": "2024-10-23T18:44:18.998Z"
   },
   {
    "duration": 12,
    "start_time": "2024-10-23T18:44:20.991Z"
   },
   {
    "duration": 9,
    "start_time": "2024-10-23T18:57:58.565Z"
   },
   {
    "duration": 8,
    "start_time": "2024-10-23T18:58:02.275Z"
   },
   {
    "duration": 7,
    "start_time": "2024-10-23T18:58:12.021Z"
   },
   {
    "duration": 3,
    "start_time": "2024-10-23T18:58:32.363Z"
   },
   {
    "duration": 4,
    "start_time": "2024-10-23T18:58:32.597Z"
   },
   {
    "duration": 158,
    "start_time": "2024-10-25T19:11:39.201Z"
   },
   {
    "duration": 2811,
    "start_time": "2024-10-25T19:11:43.390Z"
   },
   {
    "duration": 345,
    "start_time": "2024-10-25T19:11:46.204Z"
   },
   {
    "duration": 9,
    "start_time": "2024-10-25T19:11:46.551Z"
   },
   {
    "duration": 7,
    "start_time": "2024-10-25T19:11:46.563Z"
   },
   {
    "duration": 8,
    "start_time": "2024-10-25T19:11:46.571Z"
   },
   {
    "duration": 61,
    "start_time": "2024-10-25T19:11:46.581Z"
   },
   {
    "duration": 31,
    "start_time": "2024-10-25T19:11:46.644Z"
   },
   {
    "duration": 52,
    "start_time": "2024-10-25T19:11:46.676Z"
   },
   {
    "duration": 22,
    "start_time": "2024-10-25T19:11:46.729Z"
   },
   {
    "duration": 377,
    "start_time": "2024-10-25T19:11:46.755Z"
   },
   {
    "duration": 80,
    "start_time": "2024-10-25T19:11:47.134Z"
   },
   {
    "duration": 12,
    "start_time": "2024-10-25T19:11:47.216Z"
   },
   {
    "duration": 3,
    "start_time": "2024-10-25T19:11:47.229Z"
   },
   {
    "duration": 4,
    "start_time": "2024-10-25T19:11:47.234Z"
   },
   {
    "duration": 274,
    "start_time": "2024-10-25T19:11:47.240Z"
   },
   {
    "duration": 0,
    "start_time": "2024-10-25T19:11:47.516Z"
   },
   {
    "duration": 14,
    "start_time": "2024-10-25T19:11:54.137Z"
   },
   {
    "duration": 14,
    "start_time": "2024-10-25T19:12:14.961Z"
   },
   {
    "duration": 15,
    "start_time": "2024-10-25T19:12:22.767Z"
   },
   {
    "duration": 7,
    "start_time": "2024-10-25T19:15:32.571Z"
   },
   {
    "duration": 363,
    "start_time": "2024-10-25T19:15:43.775Z"
   },
   {
    "duration": 364,
    "start_time": "2024-10-25T19:16:00.148Z"
   },
   {
    "duration": 8,
    "start_time": "2024-10-25T19:16:00.688Z"
   },
   {
    "duration": 4,
    "start_time": "2024-10-25T19:16:03.772Z"
   },
   {
    "duration": 9,
    "start_time": "2024-10-25T19:16:07.452Z"
   },
   {
    "duration": 5,
    "start_time": "2024-10-25T19:17:07.843Z"
   },
   {
    "duration": 11,
    "start_time": "2024-10-25T19:17:36.844Z"
   },
   {
    "duration": 28,
    "start_time": "2024-10-25T19:17:43.011Z"
   },
   {
    "duration": 11,
    "start_time": "2024-10-25T19:17:48.359Z"
   },
   {
    "duration": 11,
    "start_time": "2024-10-25T19:17:52.324Z"
   },
   {
    "duration": 19,
    "start_time": "2024-10-25T19:17:57.648Z"
   },
   {
    "duration": 15,
    "start_time": "2024-10-25T19:18:03.086Z"
   },
   {
    "duration": 22,
    "start_time": "2024-10-25T19:19:35.671Z"
   },
   {
    "duration": 44,
    "start_time": "2024-10-25T19:20:30.889Z"
   },
   {
    "duration": 11,
    "start_time": "2024-10-25T19:21:05.106Z"
   },
   {
    "duration": 4,
    "start_time": "2024-10-25T19:21:14.875Z"
   },
   {
    "duration": 25,
    "start_time": "2024-10-25T19:21:18.278Z"
   },
   {
    "duration": 26,
    "start_time": "2024-10-25T19:21:28.381Z"
   },
   {
    "duration": 38,
    "start_time": "2024-10-25T19:21:49.403Z"
   },
   {
    "duration": 27,
    "start_time": "2024-10-25T19:22:03.871Z"
   },
   {
    "duration": 25,
    "start_time": "2024-10-25T19:24:00.758Z"
   },
   {
    "duration": 37,
    "start_time": "2024-10-25T19:24:14.199Z"
   },
   {
    "duration": 2727,
    "start_time": "2024-11-01T19:04:45.284Z"
   },
   {
    "duration": 331,
    "start_time": "2024-11-01T19:04:48.013Z"
   },
   {
    "duration": 10,
    "start_time": "2024-11-01T19:04:48.346Z"
   },
   {
    "duration": 8,
    "start_time": "2024-11-01T19:04:48.359Z"
   },
   {
    "duration": 7,
    "start_time": "2024-11-01T19:04:48.369Z"
   },
   {
    "duration": 48,
    "start_time": "2024-11-01T19:04:48.377Z"
   },
   {
    "duration": 29,
    "start_time": "2024-11-01T19:04:48.427Z"
   },
   {
    "duration": 30,
    "start_time": "2024-11-01T19:04:48.458Z"
   },
   {
    "duration": 41,
    "start_time": "2024-11-01T19:04:48.490Z"
   },
   {
    "duration": 390,
    "start_time": "2024-11-01T19:04:48.534Z"
   },
   {
    "duration": 10,
    "start_time": "2024-11-01T19:04:48.926Z"
   },
   {
    "duration": 7,
    "start_time": "2024-11-01T19:04:48.938Z"
   },
   {
    "duration": 78,
    "start_time": "2024-11-01T19:04:48.946Z"
   },
   {
    "duration": 5,
    "start_time": "2024-11-01T19:04:49.026Z"
   },
   {
    "duration": 24,
    "start_time": "2024-11-01T19:04:49.032Z"
   },
   {
    "duration": 25,
    "start_time": "2024-11-01T19:06:07.405Z"
   },
   {
    "duration": 24,
    "start_time": "2024-11-01T19:06:11.572Z"
   },
   {
    "duration": 24,
    "start_time": "2024-11-01T19:06:16.681Z"
   },
   {
    "duration": 29,
    "start_time": "2024-11-01T19:06:25.593Z"
   },
   {
    "duration": 8,
    "start_time": "2024-11-01T19:06:36.546Z"
   },
   {
    "duration": 25,
    "start_time": "2024-11-01T19:06:42.139Z"
   },
   {
    "duration": 25,
    "start_time": "2024-11-01T19:22:40.801Z"
   },
   {
    "duration": 238,
    "start_time": "2024-11-01T19:22:48.034Z"
   },
   {
    "duration": 5,
    "start_time": "2024-11-01T19:23:01.625Z"
   },
   {
    "duration": 8,
    "start_time": "2024-11-01T19:23:07.638Z"
   },
   {
    "duration": 7,
    "start_time": "2024-11-01T19:23:32.241Z"
   },
   {
    "duration": 7,
    "start_time": "2024-11-01T19:23:37.952Z"
   },
   {
    "duration": 164,
    "start_time": "2024-11-02T18:50:42.316Z"
   },
   {
    "duration": 2989,
    "start_time": "2024-11-02T18:50:48.942Z"
   },
   {
    "duration": 332,
    "start_time": "2024-11-02T18:50:51.933Z"
   },
   {
    "duration": 12,
    "start_time": "2024-11-02T18:50:52.267Z"
   },
   {
    "duration": 11,
    "start_time": "2024-11-02T18:50:52.281Z"
   },
   {
    "duration": 7,
    "start_time": "2024-11-02T18:50:52.296Z"
   },
   {
    "duration": 35,
    "start_time": "2024-11-02T18:50:52.323Z"
   },
   {
    "duration": 32,
    "start_time": "2024-11-02T18:50:52.360Z"
   },
   {
    "duration": 50,
    "start_time": "2024-11-02T18:50:52.394Z"
   },
   {
    "duration": 21,
    "start_time": "2024-11-02T18:50:52.446Z"
   },
   {
    "duration": 372,
    "start_time": "2024-11-02T18:50:52.470Z"
   },
   {
    "duration": 81,
    "start_time": "2024-11-02T18:50:52.844Z"
   },
   {
    "duration": 8,
    "start_time": "2024-11-02T18:50:52.928Z"
   },
   {
    "duration": 2,
    "start_time": "2024-11-02T18:50:52.938Z"
   },
   {
    "duration": 4,
    "start_time": "2024-11-02T18:50:52.942Z"
   },
   {
    "duration": 394,
    "start_time": "2024-11-02T18:50:52.948Z"
   },
   {
    "duration": 28,
    "start_time": "2024-11-02T18:51:20.988Z"
   },
   {
    "duration": 27,
    "start_time": "2024-11-02T18:52:23.344Z"
   },
   {
    "duration": 29,
    "start_time": "2024-11-02T18:52:31.586Z"
   },
   {
    "duration": 41,
    "start_time": "2024-11-02T18:57:09.473Z"
   },
   {
    "duration": 43,
    "start_time": "2024-11-02T18:57:18.842Z"
   },
   {
    "duration": 45,
    "start_time": "2024-11-02T18:57:28.093Z"
   },
   {
    "duration": 46,
    "start_time": "2024-11-02T18:57:34.393Z"
   },
   {
    "duration": 29,
    "start_time": "2024-11-02T18:57:46.066Z"
   },
   {
    "duration": 30,
    "start_time": "2024-11-02T18:58:09.544Z"
   },
   {
    "duration": 32,
    "start_time": "2024-11-02T18:59:28.010Z"
   },
   {
    "duration": 17,
    "start_time": "2024-11-02T18:59:38.479Z"
   },
   {
    "duration": 19,
    "start_time": "2024-11-02T18:59:48.579Z"
   },
   {
    "duration": 16,
    "start_time": "2024-11-02T19:00:22.867Z"
   },
   {
    "duration": 16,
    "start_time": "2024-11-02T19:00:25.823Z"
   },
   {
    "duration": 16,
    "start_time": "2024-11-02T19:00:34.143Z"
   },
   {
    "duration": 16,
    "start_time": "2024-11-02T19:00:41.893Z"
   },
   {
    "duration": 161,
    "start_time": "2024-11-07T20:01:30.244Z"
   },
   {
    "duration": 2796,
    "start_time": "2024-11-07T20:01:37.500Z"
   },
   {
    "duration": 320,
    "start_time": "2024-11-07T20:01:40.298Z"
   },
   {
    "duration": 14,
    "start_time": "2024-11-07T20:01:40.620Z"
   },
   {
    "duration": 7,
    "start_time": "2024-11-07T20:01:40.636Z"
   },
   {
    "duration": 8,
    "start_time": "2024-11-07T20:01:40.645Z"
   },
   {
    "duration": 33,
    "start_time": "2024-11-07T20:01:40.655Z"
   },
   {
    "duration": 58,
    "start_time": "2024-11-07T20:01:40.690Z"
   },
   {
    "duration": 34,
    "start_time": "2024-11-07T20:01:40.749Z"
   },
   {
    "duration": 23,
    "start_time": "2024-11-07T20:01:40.784Z"
   },
   {
    "duration": 426,
    "start_time": "2024-11-07T20:01:40.810Z"
   },
   {
    "duration": 10,
    "start_time": "2024-11-07T20:01:41.238Z"
   },
   {
    "duration": 5,
    "start_time": "2024-11-07T20:01:41.250Z"
   },
   {
    "duration": 9,
    "start_time": "2024-11-07T20:01:41.332Z"
   },
   {
    "duration": 3,
    "start_time": "2024-11-07T20:01:41.343Z"
   },
   {
    "duration": 5,
    "start_time": "2024-11-07T20:01:41.347Z"
   },
   {
    "duration": 15,
    "start_time": "2024-11-07T20:01:41.353Z"
   },
   {
    "duration": 3,
    "start_time": "2024-11-07T20:01:41.370Z"
   },
   {
    "duration": 9,
    "start_time": "2024-11-07T20:02:01.368Z"
   },
   {
    "duration": 10,
    "start_time": "2024-11-07T20:02:06.730Z"
   },
   {
    "duration": 4,
    "start_time": "2024-11-07T20:02:12.238Z"
   },
   {
    "duration": 244,
    "start_time": "2024-11-07T20:03:12.484Z"
   },
   {
    "duration": 22,
    "start_time": "2024-11-07T20:05:02.118Z"
   },
   {
    "duration": 6,
    "start_time": "2024-11-07T20:06:25.640Z"
   },
   {
    "duration": 5,
    "start_time": "2024-11-07T20:06:41.153Z"
   },
   {
    "duration": 439,
    "start_time": "2024-11-07T20:13:43.368Z"
   },
   {
    "duration": 437,
    "start_time": "2024-11-07T20:15:29.343Z"
   },
   {
    "duration": 310,
    "start_time": "2024-11-07T20:15:49.737Z"
   },
   {
    "duration": 7,
    "start_time": "2024-11-07T20:15:55.961Z"
   },
   {
    "duration": 5,
    "start_time": "2024-11-07T20:18:37.121Z"
   },
   {
    "duration": 8,
    "start_time": "2024-11-07T20:18:40.423Z"
   },
   {
    "duration": 440,
    "start_time": "2024-11-07T20:18:46.239Z"
   },
   {
    "duration": 448,
    "start_time": "2024-11-07T20:18:56.415Z"
   },
   {
    "duration": 4,
    "start_time": "2024-11-07T20:20:36.387Z"
   },
   {
    "duration": 10,
    "start_time": "2024-11-07T20:20:58.155Z"
   },
   {
    "duration": 7,
    "start_time": "2024-11-07T20:21:09.644Z"
   },
   {
    "duration": 162,
    "start_time": "2024-11-08T17:36:01.008Z"
   },
   {
    "duration": 2671,
    "start_time": "2024-11-08T17:36:04.594Z"
   },
   {
    "duration": 314,
    "start_time": "2024-11-08T17:36:07.268Z"
   },
   {
    "duration": 9,
    "start_time": "2024-11-08T17:36:07.584Z"
   },
   {
    "duration": 7,
    "start_time": "2024-11-08T17:36:07.596Z"
   },
   {
    "duration": 25,
    "start_time": "2024-11-08T17:36:07.605Z"
   },
   {
    "duration": 31,
    "start_time": "2024-11-08T17:36:07.633Z"
   },
   {
    "duration": 29,
    "start_time": "2024-11-08T17:36:07.665Z"
   },
   {
    "duration": 53,
    "start_time": "2024-11-08T17:36:07.695Z"
   },
   {
    "duration": 21,
    "start_time": "2024-11-08T17:36:07.751Z"
   },
   {
    "duration": 392,
    "start_time": "2024-11-08T17:36:07.776Z"
   },
   {
    "duration": 66,
    "start_time": "2024-11-08T17:36:08.169Z"
   },
   {
    "duration": 9,
    "start_time": "2024-11-08T17:36:08.237Z"
   },
   {
    "duration": 82,
    "start_time": "2024-11-08T17:36:08.247Z"
   },
   {
    "duration": 4,
    "start_time": "2024-11-08T17:36:08.331Z"
   },
   {
    "duration": 4,
    "start_time": "2024-11-08T17:36:08.336Z"
   },
   {
    "duration": 307,
    "start_time": "2024-11-08T17:36:08.341Z"
   },
   {
    "duration": 0,
    "start_time": "2024-11-08T17:36:08.650Z"
   },
   {
    "duration": 0,
    "start_time": "2024-11-08T17:36:08.651Z"
   },
   {
    "duration": 0,
    "start_time": "2024-11-08T17:36:08.654Z"
   },
   {
    "duration": 19,
    "start_time": "2024-11-08T17:39:10.803Z"
   },
   {
    "duration": 13,
    "start_time": "2024-11-08T17:47:10.323Z"
   },
   {
    "duration": 9,
    "start_time": "2024-11-08T17:47:16.810Z"
   },
   {
    "duration": 7,
    "start_time": "2024-11-08T17:47:26.674Z"
   },
   {
    "duration": 22,
    "start_time": "2024-11-08T17:50:14.133Z"
   },
   {
    "duration": 17,
    "start_time": "2024-11-08T17:50:28.254Z"
   },
   {
    "duration": 7,
    "start_time": "2024-11-08T17:50:38.855Z"
   },
   {
    "duration": 26,
    "start_time": "2024-11-08T17:50:44.218Z"
   },
   {
    "duration": 29,
    "start_time": "2024-11-08T17:52:45.915Z"
   },
   {
    "duration": 10,
    "start_time": "2024-11-08T17:53:09.411Z"
   },
   {
    "duration": 8,
    "start_time": "2024-11-08T17:53:20.015Z"
   },
   {
    "duration": 27,
    "start_time": "2024-11-08T17:56:19.125Z"
   },
   {
    "duration": 9,
    "start_time": "2024-11-08T17:56:35.913Z"
   },
   {
    "duration": 14,
    "start_time": "2024-11-08T17:59:05.265Z"
   },
   {
    "duration": 2855,
    "start_time": "2024-11-08T20:04:49.383Z"
   },
   {
    "duration": 381,
    "start_time": "2024-11-08T20:04:52.243Z"
   },
   {
    "duration": 16,
    "start_time": "2024-11-08T20:04:52.626Z"
   },
   {
    "duration": 9,
    "start_time": "2024-11-08T20:04:52.645Z"
   },
   {
    "duration": 7,
    "start_time": "2024-11-08T20:04:52.656Z"
   },
   {
    "duration": 35,
    "start_time": "2024-11-08T20:04:52.665Z"
   },
   {
    "duration": 55,
    "start_time": "2024-11-08T20:04:52.701Z"
   },
   {
    "duration": 36,
    "start_time": "2024-11-08T20:04:52.758Z"
   },
   {
    "duration": 21,
    "start_time": "2024-11-08T20:04:52.796Z"
   },
   {
    "duration": 343,
    "start_time": "2024-11-08T20:04:52.821Z"
   },
   {
    "duration": 89,
    "start_time": "2024-11-08T20:04:53.166Z"
   },
   {
    "duration": 6,
    "start_time": "2024-11-08T20:04:53.257Z"
   },
   {
    "duration": 8,
    "start_time": "2024-11-08T20:04:53.265Z"
   },
   {
    "duration": 3,
    "start_time": "2024-11-08T20:04:53.275Z"
   },
   {
    "duration": 64,
    "start_time": "2024-11-08T20:04:53.281Z"
   },
   {
    "duration": 9,
    "start_time": "2024-11-08T20:04:53.348Z"
   },
   {
    "duration": 13,
    "start_time": "2024-11-08T20:04:53.359Z"
   },
   {
    "duration": 461,
    "start_time": "2024-11-08T20:04:53.373Z"
   },
   {
    "duration": 10,
    "start_time": "2024-11-08T20:04:53.836Z"
   },
   {
    "duration": 315,
    "start_time": "2024-11-08T20:04:53.849Z"
   },
   {
    "duration": 9,
    "start_time": "2024-11-08T20:05:36.558Z"
   },
   {
    "duration": 8,
    "start_time": "2024-11-08T20:09:39.799Z"
   },
   {
    "duration": 503,
    "start_time": "2024-11-08T20:13:38.091Z"
   },
   {
    "duration": 4642,
    "start_time": "2024-11-08T20:13:43.041Z"
   },
   {
    "duration": 14,
    "start_time": "2024-11-08T20:14:11.100Z"
   },
   {
    "duration": 4161,
    "start_time": "2024-11-08T20:14:23.143Z"
   },
   {
    "duration": 430,
    "start_time": "2024-11-08T20:15:36.552Z"
   },
   {
    "duration": 7,
    "start_time": "2024-11-08T20:15:38.060Z"
   },
   {
    "duration": 16,
    "start_time": "2024-11-08T20:15:54.195Z"
   },
   {
    "duration": 9,
    "start_time": "2024-11-08T20:15:58.588Z"
   },
   {
    "duration": 9,
    "start_time": "2024-11-08T20:16:11.964Z"
   },
   {
    "duration": 11,
    "start_time": "2024-11-08T20:16:26.849Z"
   },
   {
    "duration": 11,
    "start_time": "2024-11-08T20:16:41.569Z"
   },
   {
    "duration": 35,
    "start_time": "2024-11-08T20:23:40.486Z"
   },
   {
    "duration": 24,
    "start_time": "2024-11-08T20:24:15.112Z"
   },
   {
    "duration": 1465,
    "start_time": "2024-11-08T20:27:34.301Z"
   },
   {
    "duration": 9,
    "start_time": "2024-11-08T20:27:41.779Z"
   },
   {
    "duration": 2749,
    "start_time": "2024-11-09T18:32:21.479Z"
   },
   {
    "duration": 328,
    "start_time": "2024-11-09T18:32:24.230Z"
   },
   {
    "duration": 10,
    "start_time": "2024-11-09T18:32:24.560Z"
   },
   {
    "duration": 7,
    "start_time": "2024-11-09T18:32:24.572Z"
   },
   {
    "duration": 8,
    "start_time": "2024-11-09T18:32:24.580Z"
   },
   {
    "duration": 54,
    "start_time": "2024-11-09T18:32:24.589Z"
   },
   {
    "duration": 29,
    "start_time": "2024-11-09T18:32:24.645Z"
   },
   {
    "duration": 31,
    "start_time": "2024-11-09T18:32:24.675Z"
   },
   {
    "duration": 36,
    "start_time": "2024-11-09T18:32:24.707Z"
   },
   {
    "duration": 403,
    "start_time": "2024-11-09T18:32:24.747Z"
   },
   {
    "duration": 15,
    "start_time": "2024-11-09T18:32:25.152Z"
   },
   {
    "duration": 5,
    "start_time": "2024-11-09T18:32:25.243Z"
   },
   {
    "duration": 7,
    "start_time": "2024-11-09T18:32:25.250Z"
   },
   {
    "duration": 4,
    "start_time": "2024-11-09T18:32:25.259Z"
   },
   {
    "duration": 5,
    "start_time": "2024-11-09T18:32:25.264Z"
   },
   {
    "duration": 13,
    "start_time": "2024-11-09T18:32:25.271Z"
   },
   {
    "duration": 1489,
    "start_time": "2024-11-09T18:32:25.285Z"
   },
   {
    "duration": 286,
    "start_time": "2024-11-09T18:32:41.286Z"
   },
   {
    "duration": 15,
    "start_time": "2024-11-09T18:32:53.524Z"
   },
   {
    "duration": 8,
    "start_time": "2024-11-09T18:32:57.776Z"
   },
   {
    "duration": 13,
    "start_time": "2024-11-09T18:34:52.886Z"
   },
   {
    "duration": 13,
    "start_time": "2024-11-09T18:35:30.795Z"
   },
   {
    "duration": 15,
    "start_time": "2024-11-09T18:35:37.450Z"
   },
   {
    "duration": 6,
    "start_time": "2024-11-09T18:35:42.709Z"
   },
   {
    "duration": 4,
    "start_time": "2024-11-09T18:35:52.110Z"
   },
   {
    "duration": 5,
    "start_time": "2024-11-09T18:35:58.591Z"
   },
   {
    "duration": 14,
    "start_time": "2024-11-09T18:36:06.232Z"
   },
   {
    "duration": 4,
    "start_time": "2024-11-09T18:36:14.776Z"
   },
   {
    "duration": 4,
    "start_time": "2024-11-09T18:36:16.635Z"
   },
   {
    "duration": 1486,
    "start_time": "2024-11-09T18:46:25.457Z"
   },
   {
    "duration": 631,
    "start_time": "2024-11-09T18:49:54.659Z"
   },
   {
    "duration": 547,
    "start_time": "2024-11-09T18:50:34.705Z"
   },
   {
    "duration": 1558,
    "start_time": "2024-11-09T18:51:00.832Z"
   },
   {
    "duration": 1646,
    "start_time": "2024-11-09T18:51:11.975Z"
   },
   {
    "duration": 8,
    "start_time": "2024-11-09T18:51:32.877Z"
   },
   {
    "duration": 10,
    "start_time": "2024-11-09T18:52:08.603Z"
   },
   {
    "duration": 34,
    "start_time": "2024-11-09T18:53:21.930Z"
   },
   {
    "duration": 17,
    "start_time": "2024-11-09T18:53:35.897Z"
   },
   {
    "duration": 16,
    "start_time": "2024-11-09T18:53:41.773Z"
   },
   {
    "duration": 1482,
    "start_time": "2024-11-09T18:54:25.521Z"
   },
   {
    "duration": 5,
    "start_time": "2024-11-09T18:54:31.491Z"
   },
   {
    "duration": 1483,
    "start_time": "2024-11-09T18:54:33.126Z"
   },
   {
    "duration": 1640,
    "start_time": "2024-11-09T18:55:07.088Z"
   },
   {
    "duration": 1655,
    "start_time": "2024-11-09T18:55:22.390Z"
   },
   {
    "duration": 1461,
    "start_time": "2024-11-09T18:55:56.582Z"
   },
   {
    "duration": 1475,
    "start_time": "2024-11-09T18:56:07.804Z"
   },
   {
    "duration": 1511,
    "start_time": "2024-11-09T18:56:52.232Z"
   },
   {
    "duration": 1448,
    "start_time": "2024-11-09T18:57:03.375Z"
   },
   {
    "duration": 1468,
    "start_time": "2024-11-09T18:57:22.362Z"
   },
   {
    "duration": 1544,
    "start_time": "2024-11-09T18:57:58.605Z"
   },
   {
    "duration": 1503,
    "start_time": "2024-11-09T18:58:07.027Z"
   },
   {
    "duration": 1565,
    "start_time": "2024-11-09T18:58:17.753Z"
   },
   {
    "duration": 1535,
    "start_time": "2024-11-09T18:58:20.498Z"
   },
   {
    "duration": 1515,
    "start_time": "2024-11-09T18:59:57.810Z"
   },
   {
    "duration": 518,
    "start_time": "2024-11-09T19:03:42.639Z"
   },
   {
    "duration": 1478,
    "start_time": "2024-11-09T19:04:05.536Z"
   },
   {
    "duration": 509,
    "start_time": "2024-11-09T19:04:11.694Z"
   },
   {
    "duration": 1500,
    "start_time": "2024-11-09T19:05:08.113Z"
   },
   {
    "duration": 158,
    "start_time": "2024-11-09T21:08:52.258Z"
   },
   {
    "duration": 2786,
    "start_time": "2024-11-09T21:08:57.939Z"
   },
   {
    "duration": 361,
    "start_time": "2024-11-09T21:09:00.727Z"
   },
   {
    "duration": 11,
    "start_time": "2024-11-09T21:09:01.090Z"
   },
   {
    "duration": 7,
    "start_time": "2024-11-09T21:09:01.103Z"
   },
   {
    "duration": 7,
    "start_time": "2024-11-09T21:09:01.112Z"
   },
   {
    "duration": 34,
    "start_time": "2024-11-09T21:09:01.121Z"
   },
   {
    "duration": 58,
    "start_time": "2024-11-09T21:09:01.157Z"
   },
   {
    "duration": 32,
    "start_time": "2024-11-09T21:09:01.218Z"
   },
   {
    "duration": 34,
    "start_time": "2024-11-09T21:09:01.253Z"
   },
   {
    "duration": 423,
    "start_time": "2024-11-09T21:09:01.289Z"
   },
   {
    "duration": 9,
    "start_time": "2024-11-09T21:09:01.714Z"
   },
   {
    "duration": 5,
    "start_time": "2024-11-09T21:09:01.724Z"
   },
   {
    "duration": 14,
    "start_time": "2024-11-09T21:09:01.789Z"
   },
   {
    "duration": 5,
    "start_time": "2024-11-09T21:09:01.807Z"
   },
   {
    "duration": 5,
    "start_time": "2024-11-09T21:09:01.813Z"
   },
   {
    "duration": 14,
    "start_time": "2024-11-09T21:09:01.819Z"
   },
   {
    "duration": 1511,
    "start_time": "2024-11-09T21:09:01.887Z"
   },
   {
    "duration": 6,
    "start_time": "2024-11-09T21:09:03.402Z"
   },
   {
    "duration": 10,
    "start_time": "2024-11-09T21:09:14.680Z"
   },
   {
    "duration": 11,
    "start_time": "2024-11-09T21:09:37.104Z"
   },
   {
    "duration": 7,
    "start_time": "2024-11-09T21:14:04.612Z"
   },
   {
    "duration": 1522,
    "start_time": "2024-11-09T21:17:28.057Z"
   },
   {
    "duration": 1497,
    "start_time": "2024-11-09T21:17:48.826Z"
   },
   {
    "duration": 1505,
    "start_time": "2024-11-09T21:31:54.995Z"
   },
   {
    "duration": 1623,
    "start_time": "2024-11-09T21:33:09.900Z"
   },
   {
    "duration": 4,
    "start_time": "2024-11-09T21:33:18.136Z"
   },
   {
    "duration": 2760,
    "start_time": "2024-11-11T17:57:30.373Z"
   },
   {
    "duration": 326,
    "start_time": "2024-11-11T17:57:33.135Z"
   },
   {
    "duration": 9,
    "start_time": "2024-11-11T17:57:33.464Z"
   },
   {
    "duration": 6,
    "start_time": "2024-11-11T17:57:33.476Z"
   },
   {
    "duration": 7,
    "start_time": "2024-11-11T17:57:33.484Z"
   },
   {
    "duration": 34,
    "start_time": "2024-11-11T17:57:33.492Z"
   },
   {
    "duration": 54,
    "start_time": "2024-11-11T17:57:33.527Z"
   },
   {
    "duration": 31,
    "start_time": "2024-11-11T17:57:33.583Z"
   },
   {
    "duration": 21,
    "start_time": "2024-11-11T17:57:33.616Z"
   },
   {
    "duration": 432,
    "start_time": "2024-11-11T17:57:33.640Z"
   },
   {
    "duration": 18,
    "start_time": "2024-11-11T17:57:34.074Z"
   },
   {
    "duration": 6,
    "start_time": "2024-11-11T17:57:34.093Z"
   },
   {
    "duration": 8,
    "start_time": "2024-11-11T17:57:34.100Z"
   },
   {
    "duration": 4,
    "start_time": "2024-11-11T17:57:34.170Z"
   },
   {
    "duration": 5,
    "start_time": "2024-11-11T17:57:34.176Z"
   },
   {
    "duration": 15,
    "start_time": "2024-11-11T17:57:34.183Z"
   },
   {
    "duration": 1446,
    "start_time": "2024-11-11T17:57:34.200Z"
   },
   {
    "duration": 5,
    "start_time": "2024-11-11T17:57:35.648Z"
   },
   {
    "duration": 5,
    "start_time": "2024-11-11T17:59:30.387Z"
   },
   {
    "duration": 7,
    "start_time": "2024-11-11T17:59:58.951Z"
   },
   {
    "duration": 7,
    "start_time": "2024-11-11T18:00:09.399Z"
   },
   {
    "duration": 5,
    "start_time": "2024-11-11T18:00:26.789Z"
   },
   {
    "duration": 9,
    "start_time": "2024-11-11T18:00:29.794Z"
   },
   {
    "duration": 5,
    "start_time": "2024-11-11T18:03:12.264Z"
   },
   {
    "duration": 4,
    "start_time": "2024-11-11T18:03:22.373Z"
   },
   {
    "duration": 1405,
    "start_time": "2024-11-11T18:05:24.321Z"
   },
   {
    "duration": 697,
    "start_time": "2024-11-11T18:05:58.425Z"
   },
   {
    "duration": 5,
    "start_time": "2024-11-11T18:06:14.134Z"
   },
   {
    "duration": 4,
    "start_time": "2024-11-11T18:06:23.673Z"
   },
   {
    "duration": 4,
    "start_time": "2024-11-11T18:06:28.553Z"
   },
   {
    "duration": 5,
    "start_time": "2024-11-11T18:06:34.032Z"
   },
   {
    "duration": 4,
    "start_time": "2024-11-11T18:06:36.512Z"
   },
   {
    "duration": 1459,
    "start_time": "2024-11-11T18:10:48.296Z"
   },
   {
    "duration": 1459,
    "start_time": "2024-11-11T18:11:38.103Z"
   },
   {
    "duration": 1422,
    "start_time": "2024-11-11T18:11:47.544Z"
   },
   {
    "duration": 176,
    "start_time": "2024-11-11T20:18:04.105Z"
   },
   {
    "duration": 2738,
    "start_time": "2024-11-11T20:18:09.935Z"
   },
   {
    "duration": 309,
    "start_time": "2024-11-11T20:18:12.675Z"
   },
   {
    "duration": 9,
    "start_time": "2024-11-11T20:18:12.986Z"
   },
   {
    "duration": 7,
    "start_time": "2024-11-11T20:18:12.997Z"
   },
   {
    "duration": 19,
    "start_time": "2024-11-11T20:18:13.006Z"
   },
   {
    "duration": 32,
    "start_time": "2024-11-11T20:18:13.026Z"
   },
   {
    "duration": 29,
    "start_time": "2024-11-11T20:18:13.059Z"
   },
   {
    "duration": 51,
    "start_time": "2024-11-11T20:18:13.090Z"
   },
   {
    "duration": 26,
    "start_time": "2024-11-11T20:18:13.143Z"
   },
   {
    "duration": 146,
    "start_time": "2024-11-11T20:18:13.173Z"
   },
   {
    "duration": 404,
    "start_time": "2024-11-11T20:18:13.320Z"
   },
   {
    "duration": 11,
    "start_time": "2024-11-11T20:18:13.726Z"
   },
   {
    "duration": 6,
    "start_time": "2024-11-11T20:18:13.739Z"
   },
   {
    "duration": 83,
    "start_time": "2024-11-11T20:18:13.747Z"
   },
   {
    "duration": 3,
    "start_time": "2024-11-11T20:18:13.832Z"
   },
   {
    "duration": 4,
    "start_time": "2024-11-11T20:18:13.836Z"
   },
   {
    "duration": 13,
    "start_time": "2024-11-11T20:18:13.842Z"
   },
   {
    "duration": 1496,
    "start_time": "2024-11-11T20:18:13.857Z"
   },
   {
    "duration": 103,
    "start_time": "2024-11-11T20:18:26.041Z"
   },
   {
    "duration": 159,
    "start_time": "2024-11-11T20:18:42.349Z"
   },
   {
    "duration": 116,
    "start_time": "2024-11-11T20:18:45.576Z"
   },
   {
    "duration": 133,
    "start_time": "2024-11-11T20:18:49.727Z"
   },
   {
    "duration": 5,
    "start_time": "2024-11-11T20:19:19.524Z"
   },
   {
    "duration": 101,
    "start_time": "2024-11-11T20:19:22.983Z"
   },
   {
    "duration": 126,
    "start_time": "2024-11-11T20:19:33.617Z"
   },
   {
    "duration": 4,
    "start_time": "2024-11-11T20:19:37.900Z"
   },
   {
    "duration": 134,
    "start_time": "2024-11-11T20:19:44.535Z"
   },
   {
    "duration": 939,
    "start_time": "2024-11-11T20:20:26.573Z"
   },
   {
    "duration": 186,
    "start_time": "2024-11-11T20:20:36.799Z"
   },
   {
    "duration": 155,
    "start_time": "2024-11-11T20:22:10.729Z"
   },
   {
    "duration": 136,
    "start_time": "2024-11-11T20:22:20.249Z"
   },
   {
    "duration": 134,
    "start_time": "2024-11-11T20:24:56.430Z"
   },
   {
    "duration": 159,
    "start_time": "2024-11-12T20:03:11.319Z"
   },
   {
    "duration": 2730,
    "start_time": "2024-11-12T20:03:16.485Z"
   },
   {
    "duration": 328,
    "start_time": "2024-11-12T20:03:19.218Z"
   },
   {
    "duration": 10,
    "start_time": "2024-11-12T20:03:19.549Z"
   },
   {
    "duration": 7,
    "start_time": "2024-11-12T20:03:19.562Z"
   },
   {
    "duration": 8,
    "start_time": "2024-11-12T20:03:19.571Z"
   },
   {
    "duration": 53,
    "start_time": "2024-11-12T20:03:19.580Z"
   },
   {
    "duration": 31,
    "start_time": "2024-11-12T20:03:19.634Z"
   },
   {
    "duration": 47,
    "start_time": "2024-11-12T20:03:19.666Z"
   },
   {
    "duration": 21,
    "start_time": "2024-11-12T20:03:19.714Z"
   },
   {
    "duration": 185,
    "start_time": "2024-11-12T20:03:19.737Z"
   },
   {
    "duration": 411,
    "start_time": "2024-11-12T20:03:19.923Z"
   },
   {
    "duration": 84,
    "start_time": "2024-11-12T20:03:20.336Z"
   },
   {
    "duration": 6,
    "start_time": "2024-11-12T20:03:20.422Z"
   },
   {
    "duration": 7,
    "start_time": "2024-11-12T20:03:20.430Z"
   },
   {
    "duration": 4,
    "start_time": "2024-11-12T20:03:20.438Z"
   },
   {
    "duration": 4,
    "start_time": "2024-11-12T20:03:20.444Z"
   },
   {
    "duration": 14,
    "start_time": "2024-11-12T20:03:20.449Z"
   },
   {
    "duration": 1526,
    "start_time": "2024-11-12T20:03:20.464Z"
   },
   {
    "duration": 225,
    "start_time": "2024-11-12T20:04:22.958Z"
   },
   {
    "duration": 153,
    "start_time": "2024-11-12T20:04:58.701Z"
   },
   {
    "duration": 157,
    "start_time": "2024-11-12T20:05:27.284Z"
   },
   {
    "duration": 155,
    "start_time": "2024-11-12T20:05:57.911Z"
   },
   {
    "duration": 456,
    "start_time": "2024-11-12T20:11:50.654Z"
   },
   {
    "duration": 383,
    "start_time": "2024-11-12T20:12:00.345Z"
   },
   {
    "duration": 474,
    "start_time": "2024-11-12T20:13:00.540Z"
   },
   {
    "duration": 387,
    "start_time": "2024-11-12T20:13:05.867Z"
   },
   {
    "duration": 407,
    "start_time": "2024-11-12T20:13:37.828Z"
   },
   {
    "duration": 1509,
    "start_time": "2024-11-12T20:16:27.183Z"
   },
   {
    "duration": 1016,
    "start_time": "2024-11-12T20:27:19.971Z"
   },
   {
    "duration": 250,
    "start_time": "2024-11-12T20:27:20.989Z"
   },
   {
    "duration": 10,
    "start_time": "2024-11-12T20:27:21.240Z"
   },
   {
    "duration": 7,
    "start_time": "2024-11-12T20:27:21.252Z"
   },
   {
    "duration": 7,
    "start_time": "2024-11-12T20:27:21.261Z"
   },
   {
    "duration": 57,
    "start_time": "2024-11-12T20:27:21.270Z"
   },
   {
    "duration": 30,
    "start_time": "2024-11-12T20:27:21.329Z"
   },
   {
    "duration": 32,
    "start_time": "2024-11-12T20:27:21.360Z"
   },
   {
    "duration": 41,
    "start_time": "2024-11-12T20:27:21.393Z"
   },
   {
    "duration": 403,
    "start_time": "2024-11-12T20:27:21.438Z"
   },
   {
    "duration": 374,
    "start_time": "2024-11-12T20:27:21.843Z"
   },
   {
    "duration": 95,
    "start_time": "2024-11-12T20:27:22.219Z"
   },
   {
    "duration": 6,
    "start_time": "2024-11-12T20:27:22.316Z"
   },
   {
    "duration": 8,
    "start_time": "2024-11-12T20:27:22.323Z"
   },
   {
    "duration": 4,
    "start_time": "2024-11-12T20:27:22.333Z"
   },
   {
    "duration": 5,
    "start_time": "2024-11-12T20:27:22.338Z"
   },
   {
    "duration": 13,
    "start_time": "2024-11-12T20:27:22.345Z"
   },
   {
    "duration": 1514,
    "start_time": "2024-11-12T20:27:22.360Z"
   },
   {
    "duration": 159,
    "start_time": "2024-11-13T17:37:24.710Z"
   },
   {
    "duration": 2800,
    "start_time": "2024-11-13T17:37:28.756Z"
   },
   {
    "duration": 324,
    "start_time": "2024-11-13T17:37:31.558Z"
   },
   {
    "duration": 10,
    "start_time": "2024-11-13T17:37:31.884Z"
   },
   {
    "duration": 7,
    "start_time": "2024-11-13T17:37:31.897Z"
   },
   {
    "duration": 8,
    "start_time": "2024-11-13T17:37:31.906Z"
   },
   {
    "duration": 53,
    "start_time": "2024-11-13T17:37:31.916Z"
   },
   {
    "duration": 28,
    "start_time": "2024-11-13T17:37:31.971Z"
   },
   {
    "duration": 43,
    "start_time": "2024-11-13T17:37:32.001Z"
   },
   {
    "duration": 21,
    "start_time": "2024-11-13T17:37:32.045Z"
   },
   {
    "duration": 398,
    "start_time": "2024-11-13T17:37:32.070Z"
   },
   {
    "duration": 385,
    "start_time": "2024-11-13T17:37:32.470Z"
   },
   {
    "duration": 87,
    "start_time": "2024-11-13T17:37:32.858Z"
   },
   {
    "duration": 6,
    "start_time": "2024-11-13T17:37:32.947Z"
   },
   {
    "duration": 15,
    "start_time": "2024-11-13T17:37:32.955Z"
   },
   {
    "duration": 3,
    "start_time": "2024-11-13T17:37:32.973Z"
   },
   {
    "duration": 20,
    "start_time": "2024-11-13T17:37:32.978Z"
   },
   {
    "duration": 20,
    "start_time": "2024-11-13T17:37:32.999Z"
   },
   {
    "duration": 1484,
    "start_time": "2024-11-13T17:37:33.021Z"
   },
   {
    "duration": 18,
    "start_time": "2024-11-13T17:39:57.081Z"
   },
   {
    "duration": 19,
    "start_time": "2024-11-13T17:41:04.238Z"
   },
   {
    "duration": 14,
    "start_time": "2024-11-13T17:41:09.491Z"
   },
   {
    "duration": 15,
    "start_time": "2024-11-13T17:41:19.043Z"
   },
   {
    "duration": 15,
    "start_time": "2024-11-13T17:41:27.057Z"
   },
   {
    "duration": 16,
    "start_time": "2024-11-13T17:41:51.163Z"
   },
   {
    "duration": 15,
    "start_time": "2024-11-13T17:41:56.184Z"
   },
   {
    "duration": 20,
    "start_time": "2024-11-13T17:42:04.324Z"
   },
   {
    "duration": 16,
    "start_time": "2024-11-13T17:42:17.092Z"
   },
   {
    "duration": 17,
    "start_time": "2024-11-13T17:42:46.879Z"
   },
   {
    "duration": 16,
    "start_time": "2024-11-13T17:42:55.732Z"
   },
   {
    "duration": 16,
    "start_time": "2024-11-13T17:43:30.162Z"
   },
   {
    "duration": 16,
    "start_time": "2024-11-13T17:43:34.395Z"
   },
   {
    "duration": 16,
    "start_time": "2024-11-13T17:43:42.024Z"
   },
   {
    "duration": 12,
    "start_time": "2024-11-13T17:55:06.521Z"
   },
   {
    "duration": 12,
    "start_time": "2024-11-13T17:55:16.420Z"
   },
   {
    "duration": 1505,
    "start_time": "2024-11-13T17:55:19.885Z"
   },
   {
    "duration": 314,
    "start_time": "2024-11-13T18:00:03.802Z"
   },
   {
    "duration": 23,
    "start_time": "2024-11-13T18:00:17.739Z"
   },
   {
    "duration": 525,
    "start_time": "2024-11-13T18:00:23.661Z"
   },
   {
    "duration": 524,
    "start_time": "2024-11-13T18:00:44.410Z"
   },
   {
    "duration": 1497,
    "start_time": "2024-11-13T18:00:50.660Z"
   },
   {
    "duration": 23,
    "start_time": "2024-11-13T18:02:00.737Z"
   },
   {
    "duration": 22,
    "start_time": "2024-11-13T18:02:11.103Z"
   },
   {
    "duration": 27,
    "start_time": "2024-11-13T18:02:16.974Z"
   },
   {
    "duration": 15,
    "start_time": "2024-11-13T18:02:27.942Z"
   },
   {
    "duration": 16,
    "start_time": "2024-11-13T18:02:46.895Z"
   },
   {
    "duration": 17,
    "start_time": "2024-11-13T18:02:53.521Z"
   },
   {
    "duration": 13,
    "start_time": "2024-11-13T18:03:32.598Z"
   },
   {
    "duration": 13,
    "start_time": "2024-11-13T18:03:37.623Z"
   },
   {
    "duration": 4,
    "start_time": "2024-11-13T18:03:45.576Z"
   },
   {
    "duration": 1485,
    "start_time": "2024-11-13T18:04:36.331Z"
   },
   {
    "duration": 1517,
    "start_time": "2024-11-13T18:07:02.794Z"
   },
   {
    "duration": 1487,
    "start_time": "2024-11-13T18:11:05.245Z"
   },
   {
    "duration": 992,
    "start_time": "2024-11-13T18:15:46.600Z"
   },
   {
    "duration": 243,
    "start_time": "2024-11-13T18:15:47.594Z"
   },
   {
    "duration": 11,
    "start_time": "2024-11-13T18:15:47.839Z"
   },
   {
    "duration": 7,
    "start_time": "2024-11-13T18:15:47.852Z"
   },
   {
    "duration": 7,
    "start_time": "2024-11-13T18:15:47.861Z"
   },
   {
    "duration": 34,
    "start_time": "2024-11-13T18:15:47.869Z"
   },
   {
    "duration": 57,
    "start_time": "2024-11-13T18:15:47.905Z"
   },
   {
    "duration": 32,
    "start_time": "2024-11-13T18:15:47.964Z"
   },
   {
    "duration": 21,
    "start_time": "2024-11-13T18:15:47.998Z"
   },
   {
    "duration": 395,
    "start_time": "2024-11-13T18:15:48.043Z"
   },
   {
    "duration": 413,
    "start_time": "2024-11-13T18:15:48.440Z"
   },
   {
    "duration": 9,
    "start_time": "2024-11-13T18:15:48.854Z"
   },
   {
    "duration": 78,
    "start_time": "2024-11-13T18:15:48.865Z"
   },
   {
    "duration": 16,
    "start_time": "2024-11-13T18:15:48.945Z"
   },
   {
    "duration": 9,
    "start_time": "2024-11-13T18:15:48.963Z"
   },
   {
    "duration": 5,
    "start_time": "2024-11-13T18:15:48.975Z"
   },
   {
    "duration": 4,
    "start_time": "2024-11-13T18:15:48.982Z"
   },
   {
    "duration": 12,
    "start_time": "2024-11-13T18:15:48.988Z"
   },
   {
    "duration": 1535,
    "start_time": "2024-11-13T18:15:49.042Z"
   }
  ],
  "kernelspec": {
   "display_name": "Python 3 (ipykernel)",
   "language": "python",
   "name": "python3"
  },
  "language_info": {
   "codemirror_mode": {
    "name": "ipython",
    "version": 3
   },
   "file_extension": ".py",
   "mimetype": "text/x-python",
   "name": "python",
   "nbconvert_exporter": "python",
   "pygments_lexer": "ipython3",
   "version": "3.9.19"
  },
  "toc": {
   "base_numbering": 1,
   "nav_menu": {},
   "number_sections": true,
   "sideBar": true,
   "skip_h1_title": true,
   "title_cell": "Table of Contents",
   "title_sidebar": "Contents",
   "toc_cell": false,
   "toc_position": {},
   "toc_section_display": true,
   "toc_window_display": false
  }
 },
 "nbformat": 4,
 "nbformat_minor": 2
}
