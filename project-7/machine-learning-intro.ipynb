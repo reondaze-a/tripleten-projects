{
 "cells": [
  {
   "cell_type": "markdown",
   "metadata": {},
   "source": [
    "# Machine Learning Project - Megaline"
   ]
  },
  {
   "cell_type": "markdown",
   "metadata": {},
   "source": [
    "## Introduction\n",
    "\n",
    "Today I will be doing a project on creating a model for Megaline's customers to recommend the newer plans to the users who still uses their legacy plans. The purpose of this project is to put the new skills learned about Machine Learning to the test.\n",
    "\n",
    "Since the pre-processing of the data has been done in the previous chapters, I will go straight to creating the model."
   ]
  },
  {
   "cell_type": "code",
   "execution_count": 1,
   "metadata": {},
   "outputs": [],
   "source": [
    "# Importing necessary libraries\n",
    "import pandas as pd\n",
    "import numpy as np\n",
    "from sklearn.tree import DecisionTreeClassifier\n",
    "from sklearn.ensemble import RandomForestClassifier\n",
    "from sklearn.linear_model import LogisticRegression\n",
    "from sklearn.metrics import accuracy_score\n",
    "from sklearn.model_selection import train_test_split"
   ]
  },
  {
   "cell_type": "code",
   "execution_count": 2,
   "metadata": {},
   "outputs": [],
   "source": [
    "# Loading the dataset\n",
    "df = pd.read_csv('/datasets/users_behavior.csv')"
   ]
  },
  {
   "cell_type": "code",
   "execution_count": 3,
   "metadata": {},
   "outputs": [
    {
     "name": "stdout",
     "output_type": "stream",
     "text": [
      "<class 'pandas.core.frame.DataFrame'>\n",
      "RangeIndex: 3214 entries, 0 to 3213\n",
      "Data columns (total 5 columns):\n",
      " #   Column    Non-Null Count  Dtype  \n",
      "---  ------    --------------  -----  \n",
      " 0   calls     3214 non-null   float64\n",
      " 1   minutes   3214 non-null   float64\n",
      " 2   messages  3214 non-null   float64\n",
      " 3   mb_used   3214 non-null   float64\n",
      " 4   is_ultra  3214 non-null   int64  \n",
      "dtypes: float64(4), int64(1)\n",
      "memory usage: 125.7 KB\n"
     ]
    }
   ],
   "source": [
    "df.info()"
   ]
  },
  {
   "cell_type": "code",
   "execution_count": 4,
   "metadata": {},
   "outputs": [
    {
     "data": {
      "text/html": [
       "<div>\n",
       "<style scoped>\n",
       "    .dataframe tbody tr th:only-of-type {\n",
       "        vertical-align: middle;\n",
       "    }\n",
       "\n",
       "    .dataframe tbody tr th {\n",
       "        vertical-align: top;\n",
       "    }\n",
       "\n",
       "    .dataframe thead th {\n",
       "        text-align: right;\n",
       "    }\n",
       "</style>\n",
       "<table border=\"1\" class=\"dataframe\">\n",
       "  <thead>\n",
       "    <tr style=\"text-align: right;\">\n",
       "      <th></th>\n",
       "      <th>calls</th>\n",
       "      <th>minutes</th>\n",
       "      <th>messages</th>\n",
       "      <th>mb_used</th>\n",
       "      <th>is_ultra</th>\n",
       "    </tr>\n",
       "  </thead>\n",
       "  <tbody>\n",
       "    <tr>\n",
       "      <th>0</th>\n",
       "      <td>40.0</td>\n",
       "      <td>311.90</td>\n",
       "      <td>83.0</td>\n",
       "      <td>19915.42</td>\n",
       "      <td>0</td>\n",
       "    </tr>\n",
       "    <tr>\n",
       "      <th>1</th>\n",
       "      <td>85.0</td>\n",
       "      <td>516.75</td>\n",
       "      <td>56.0</td>\n",
       "      <td>22696.96</td>\n",
       "      <td>0</td>\n",
       "    </tr>\n",
       "    <tr>\n",
       "      <th>2</th>\n",
       "      <td>77.0</td>\n",
       "      <td>467.66</td>\n",
       "      <td>86.0</td>\n",
       "      <td>21060.45</td>\n",
       "      <td>0</td>\n",
       "    </tr>\n",
       "    <tr>\n",
       "      <th>3</th>\n",
       "      <td>106.0</td>\n",
       "      <td>745.53</td>\n",
       "      <td>81.0</td>\n",
       "      <td>8437.39</td>\n",
       "      <td>1</td>\n",
       "    </tr>\n",
       "    <tr>\n",
       "      <th>4</th>\n",
       "      <td>66.0</td>\n",
       "      <td>418.74</td>\n",
       "      <td>1.0</td>\n",
       "      <td>14502.75</td>\n",
       "      <td>0</td>\n",
       "    </tr>\n",
       "    <tr>\n",
       "      <th>5</th>\n",
       "      <td>58.0</td>\n",
       "      <td>344.56</td>\n",
       "      <td>21.0</td>\n",
       "      <td>15823.37</td>\n",
       "      <td>0</td>\n",
       "    </tr>\n",
       "    <tr>\n",
       "      <th>6</th>\n",
       "      <td>57.0</td>\n",
       "      <td>431.64</td>\n",
       "      <td>20.0</td>\n",
       "      <td>3738.90</td>\n",
       "      <td>1</td>\n",
       "    </tr>\n",
       "    <tr>\n",
       "      <th>7</th>\n",
       "      <td>15.0</td>\n",
       "      <td>132.40</td>\n",
       "      <td>6.0</td>\n",
       "      <td>21911.60</td>\n",
       "      <td>0</td>\n",
       "    </tr>\n",
       "    <tr>\n",
       "      <th>8</th>\n",
       "      <td>7.0</td>\n",
       "      <td>43.39</td>\n",
       "      <td>3.0</td>\n",
       "      <td>2538.67</td>\n",
       "      <td>1</td>\n",
       "    </tr>\n",
       "    <tr>\n",
       "      <th>9</th>\n",
       "      <td>90.0</td>\n",
       "      <td>665.41</td>\n",
       "      <td>38.0</td>\n",
       "      <td>17358.61</td>\n",
       "      <td>0</td>\n",
       "    </tr>\n",
       "  </tbody>\n",
       "</table>\n",
       "</div>"
      ],
      "text/plain": [
       "   calls  minutes  messages   mb_used  is_ultra\n",
       "0   40.0   311.90      83.0  19915.42         0\n",
       "1   85.0   516.75      56.0  22696.96         0\n",
       "2   77.0   467.66      86.0  21060.45         0\n",
       "3  106.0   745.53      81.0   8437.39         1\n",
       "4   66.0   418.74       1.0  14502.75         0\n",
       "5   58.0   344.56      21.0  15823.37         0\n",
       "6   57.0   431.64      20.0   3738.90         1\n",
       "7   15.0   132.40       6.0  21911.60         0\n",
       "8    7.0    43.39       3.0   2538.67         1\n",
       "9   90.0   665.41      38.0  17358.61         0"
      ]
     },
     "execution_count": 4,
     "metadata": {},
     "output_type": "execute_result"
    }
   ],
   "source": [
    "df.head(10)"
   ]
  },
  {
   "cell_type": "markdown",
   "metadata": {},
   "source": [
    "## Creating and training the models\n",
    "\n",
    "Now I'm going to try out different models and find the best one for this dataset"
   ]
  },
  {
   "cell_type": "code",
   "execution_count": 5,
   "metadata": {},
   "outputs": [],
   "source": [
    "# Creating features and target\n",
    "features = df.drop(['is_ultra'], axis=1)\n",
    "target = df.is_ultra"
   ]
  },
  {
   "cell_type": "code",
   "execution_count": 6,
   "metadata": {},
   "outputs": [],
   "source": [
    "# Splitting the datasets\n",
    "\n",
    "# Training 70%, remaining 30%, which is a pretty reasonable amount of split\n",
    "features_train, remaining_features, target_train, remaining_target = train_test_split(\n",
    "    features, target, test_size=0.3, random_state=321)\n",
    "\n",
    "# Remaining to 50/50 validation and test set\n",
    "features_valid, features_test, target_valid, target_test = train_test_split(\n",
    "    remaining_features, remaining_target, test_size=0.5, random_state=321)"
   ]
  },
  {
   "cell_type": "code",
   "execution_count": 7,
   "metadata": {},
   "outputs": [],
   "source": [
    "# Creating a function to calculate best scores for a model\n",
    "def model_training(model):\n",
    "    predictions_train = model.predict(features_train)\n",
    "    predictions_acc_train = accuracy_score(target_train, predictions_train)\n",
    "    \n",
    "    # Evaluating the model using validation set\n",
    "    predictions_val = model.predict(features_valid)\n",
    "    predictions_acc_val = accuracy_score(target_valid, predictions_val)\n",
    "    \n",
    "    # Evaluate on test data\n",
    "    predictions_test = model.predict(features_test)\n",
    "    predictions_acc_test = accuracy_score(target_test, predictions_test)\n",
    "    \n",
    "    return np.round([predictions_acc_train, predictions_acc_val, predictions_acc_test], 2)\n",
    "    "
   ]
  },
  {
   "cell_type": "code",
   "execution_count": 8,
   "metadata": {},
   "outputs": [
    {
     "name": "stdout",
     "output_type": "stream",
     "text": [
      "Decision Tree Classifier\n",
      "Depth: 1\n",
      "Score Train: 0.76\n",
      "Score Valid: 0.71\n",
      "Score Test: 0.72\n",
      "\n",
      "Depth: 2\n",
      "Score Train: 0.79\n",
      "Score Valid: 0.75\n",
      "Score Test: 0.76\n",
      "\n",
      "Depth: 3\n",
      "Score Train: 0.81\n",
      "Score Valid: 0.77\n",
      "Score Test: 0.77\n",
      "\n",
      "Depth: 4\n",
      "Score Train: 0.81\n",
      "Score Valid: 0.78\n",
      "Score Test: 0.77\n",
      "\n",
      "Depth: 5\n",
      "Score Train: 0.82\n",
      "Score Valid: 0.79\n",
      "Score Test: 0.77\n",
      "\n"
     ]
    }
   ],
   "source": [
    "# Trying first model of Decision Tree CLassifier\n",
    "\n",
    "print(\"Decision Tree Classifier\")\n",
    "# Cycling through possible depths\n",
    "for depth in range(1, 6):\n",
    "    model_dec_tree = DecisionTreeClassifier(random_state=321, max_depth=depth)\n",
    "\n",
    "    # Fitting the model to training set\n",
    "    model_dec_tree.fit(features_train, target_train)\n",
    "    \n",
    "    # Running the function to get accuracy score\n",
    "    scores = model_training(model_dec_tree)\n",
    "    \n",
    "    print(\"Depth:\", depth)\n",
    "    print(\"Score Train:\", scores[0])\n",
    "    print(\"Score Valid:\", scores[1])\n",
    "    print(\"Score Test:\", scores[2])\n",
    "    print(\"\")"
   ]
  },
  {
   "cell_type": "markdown",
   "metadata": {},
   "source": [
    "Using the Decision Tree Classifier model, I was able to achieve around 77-82% in the accuracy of the predictions with the best parameter on the depth being 5. The accuracy scores seem to be around the same values, which doesn't show signs of overfitting. This has passed the threshold of accuracy, however I still need to compare it with other models."
   ]
  },
  {
   "cell_type": "code",
   "execution_count": 9,
   "metadata": {},
   "outputs": [
    {
     "name": "stdout",
     "output_type": "stream",
     "text": [
      "Random Forest Classifier\n",
      "No. of Trees: 1\n",
      "Score Train: 0.9\n",
      "Score Valid: 0.72\n",
      "Score Test: 0.72\n",
      "\n",
      "No. of Trees: 2\n",
      "Score Train: 0.91\n",
      "Score Valid: 0.76\n",
      "Score Test: 0.75\n",
      "\n",
      "No. of Trees: 3\n",
      "Score Train: 0.95\n",
      "Score Valid: 0.74\n",
      "Score Test: 0.73\n",
      "\n",
      "No. of Trees: 4\n",
      "Score Train: 0.95\n",
      "Score Valid: 0.76\n",
      "Score Test: 0.77\n",
      "\n",
      "No. of Trees: 5\n",
      "Score Train: 0.97\n",
      "Score Valid: 0.76\n",
      "Score Test: 0.77\n",
      "\n",
      "No. of Trees: 6\n",
      "Score Train: 0.97\n",
      "Score Valid: 0.77\n",
      "Score Test: 0.78\n",
      "\n",
      "No. of Trees: 7\n",
      "Score Train: 0.99\n",
      "Score Valid: 0.76\n",
      "Score Test: 0.77\n",
      "\n",
      "No. of Trees: 8\n",
      "Score Train: 0.97\n",
      "Score Valid: 0.77\n",
      "Score Test: 0.78\n",
      "\n",
      "No. of Trees: 9\n",
      "Score Train: 0.99\n",
      "Score Valid: 0.76\n",
      "Score Test: 0.78\n",
      "\n",
      "No. of Trees: 10\n",
      "Score Train: 0.98\n",
      "Score Valid: 0.76\n",
      "Score Test: 0.79\n",
      "\n"
     ]
    }
   ],
   "source": [
    "# Creating second model of Random Forest Classifier\n",
    "print(\"Random Forest Classifier\")\n",
    "\n",
    "# Getiing scores from up to 10 trees for best hyperparameter tuning\n",
    "for est in range(1, 11):\n",
    "    model_rand_for = RandomForestClassifier(random_state=321, n_estimators=est)\n",
    "    \n",
    "    # Fitting model to training set\n",
    "    model_rand_for.fit(features_train, target_train)\n",
    "    \n",
    "     # Running the function to get accuracy score\n",
    "    scores = model_training(model_rand_for)\n",
    "    \n",
    "    print(\"No. of Trees:\", est)\n",
    "    print(\"Score Train:\", scores[0])\n",
    "    print(\"Score Valid:\", scores[1])\n",
    "    print(\"Score Test:\", scores[2])\n",
    "    print(\"\")"
   ]
  },
  {
   "cell_type": "markdown",
   "metadata": {},
   "source": [
    "From the Random Forest model, we can see that the best amount of trees are either 6 or 8, as it has the highest scores on the valid and test, with both values not being too different from each other and while it may show signs of overfitting, the accuracy is high enough to pass the minimum score."
   ]
  },
  {
   "cell_type": "code",
   "execution_count": 10,
   "metadata": {},
   "outputs": [
    {
     "name": "stdout",
     "output_type": "stream",
     "text": [
      "Logistic Regressor\n",
      "Score Train: 0.71\n",
      "Score Valid: 0.67\n",
      "Score Test: 0.69\n"
     ]
    }
   ],
   "source": [
    "# Creating 3rd model, Logistic Regression\n",
    "\n",
    "# Initializing the model with the liblinear solver\n",
    "model_log_reg = LogisticRegression(random_state=321, solver='liblinear')\n",
    "\n",
    "# Fitting the model to training set\n",
    "model_log_reg.fit(features_train, target_train)\n",
    "\n",
    "predict_train = model_log_reg.predict(features_train)\n",
    "predict_valid = model_log_reg.predict(features_valid)\n",
    "predict_test = model_log_reg.predict(features_test)\n",
    "\n",
    "train_acc = accuracy_score(target_train, predict_train)\n",
    "valid_acc = accuracy_score(target_valid, predict_valid)\n",
    "test_acc = accuracy_score(target_test, predict_test)\n",
    "\n",
    "print(\"Logistic Regressor\")\n",
    "print(\"Score Train:\", train_acc.round(2))\n",
    "print(\"Score Valid:\", valid_acc.round(2))\n",
    "print(\"Score Test:\", test_acc.round(2))"
   ]
  },
  {
   "cell_type": "markdown",
   "metadata": {},
   "source": [
    "Sadly, the Logistic Regressor model has very low accuracy even on the training set. This could be due to some features being irrelevant to the target or some of the features have quite a few outliers. Whatever the case, it seems that this model won't be able to work for this dataset."
   ]
  },
  {
   "cell_type": "markdown",
   "metadata": {},
   "source": [
    "# Conclusion"
   ]
  },
  {
   "cell_type": "markdown",
   "metadata": {},
   "source": [
    "From all the models I've trained, I've concluded that the Decision Tree has the best results compared to all the other models. On depth 5, it has the best accuracy, with all 3 sets not too far from each other, which indicates that the model has the best performance in generalizing the data. The Random FOrest model, while having a high accuracy, has too high a score on its training set; up to 97% on the best parameter; which is too huge a gap between it and the valid and test sets. These are signs that the model shows overfitting, and might read in to patterns that might not actually exist. The last model-the Logistic Regressor-has very low accuracy for all sets, not even passing the 75% minimum accuracy score mark, thereby showing that this model is not fit for our current data."
   ]
  },
  {
   "cell_type": "code",
   "execution_count": null,
   "metadata": {},
   "outputs": [],
   "source": []
  }
 ],
 "metadata": {
  "ExecuteTimeLog": [
   {
    "duration": 324,
    "start_time": "2024-06-20T01:12:47.253Z"
   },
   {
    "duration": 462,
    "start_time": "2024-06-20T01:12:56.097Z"
   },
   {
    "duration": 770,
    "start_time": "2024-06-20T01:12:56.562Z"
   },
   {
    "duration": 122,
    "start_time": "2024-06-20T01:13:08.751Z"
   },
   {
    "duration": 19,
    "start_time": "2024-06-20T01:13:33.917Z"
   },
   {
    "duration": 25,
    "start_time": "2024-06-20T01:13:35.798Z"
   },
   {
    "duration": 465,
    "start_time": "2024-06-20T22:45:36.536Z"
   },
   {
    "duration": 3,
    "start_time": "2024-06-20T22:45:37.525Z"
   },
   {
    "duration": 338,
    "start_time": "2024-06-20T22:54:26.250Z"
   },
   {
    "duration": 18,
    "start_time": "2024-06-20T22:54:28.619Z"
   },
   {
    "duration": 16,
    "start_time": "2024-06-20T22:54:29.335Z"
   },
   {
    "duration": 14,
    "start_time": "2024-06-20T22:54:33.030Z"
   },
   {
    "duration": 16,
    "start_time": "2024-06-20T22:54:38.935Z"
   },
   {
    "duration": 4,
    "start_time": "2024-06-20T23:16:46.599Z"
   },
   {
    "duration": 17,
    "start_time": "2024-06-20T23:17:12.629Z"
   },
   {
    "duration": 752,
    "start_time": "2024-06-20T23:22:57.420Z"
   },
   {
    "duration": 4,
    "start_time": "2024-06-20T23:24:36.624Z"
   },
   {
    "duration": 6,
    "start_time": "2024-06-20T23:24:39.499Z"
   },
   {
    "duration": 16,
    "start_time": "2024-06-20T23:24:50.272Z"
   },
   {
    "duration": 4,
    "start_time": "2024-06-20T23:29:08.933Z"
   },
   {
    "duration": 15,
    "start_time": "2024-06-20T23:29:47.407Z"
   },
   {
    "duration": 82,
    "start_time": "2024-06-20T23:30:04.916Z"
   },
   {
    "duration": 8,
    "start_time": "2024-06-20T23:30:11.082Z"
   },
   {
    "duration": 360,
    "start_time": "2024-06-21T00:45:59.651Z"
   },
   {
    "duration": 1249,
    "start_time": "2024-06-21T00:46:06.204Z"
   },
   {
    "duration": 26,
    "start_time": "2024-06-21T00:46:07.456Z"
   },
   {
    "duration": 16,
    "start_time": "2024-06-21T00:46:07.488Z"
   },
   {
    "duration": 34,
    "start_time": "2024-06-21T00:46:07.508Z"
   },
   {
    "duration": 16,
    "start_time": "2024-06-21T00:46:09.589Z"
   },
   {
    "duration": 7,
    "start_time": "2024-06-21T00:46:10.252Z"
   },
   {
    "duration": 4,
    "start_time": "2024-06-21T00:46:10.879Z"
   },
   {
    "duration": 5,
    "start_time": "2024-06-21T00:47:34.428Z"
   },
   {
    "duration": 3,
    "start_time": "2024-06-21T00:50:45.671Z"
   },
   {
    "duration": 122,
    "start_time": "2024-06-21T00:56:50.013Z"
   },
   {
    "duration": 7,
    "start_time": "2024-06-21T00:57:08.945Z"
   },
   {
    "duration": 8,
    "start_time": "2024-06-21T00:57:14.955Z"
   },
   {
    "duration": 9,
    "start_time": "2024-06-21T01:00:32.674Z"
   },
   {
    "duration": 15,
    "start_time": "2024-06-21T01:08:31.490Z"
   },
   {
    "duration": 13,
    "start_time": "2024-06-21T01:08:40.479Z"
   },
   {
    "duration": 4,
    "start_time": "2024-06-21T01:08:47.069Z"
   },
   {
    "duration": 4,
    "start_time": "2024-06-21T01:09:17.339Z"
   },
   {
    "duration": 4,
    "start_time": "2024-06-21T01:09:34.363Z"
   },
   {
    "duration": 13,
    "start_time": "2024-06-21T01:09:38.220Z"
   },
   {
    "duration": 9,
    "start_time": "2024-06-21T01:10:31.823Z"
   },
   {
    "duration": 7,
    "start_time": "2024-06-21T01:14:24.387Z"
   },
   {
    "duration": 7,
    "start_time": "2024-06-21T01:15:42.899Z"
   },
   {
    "duration": 4,
    "start_time": "2024-06-21T01:15:48.705Z"
   },
   {
    "duration": 1219,
    "start_time": "2024-06-21T02:07:54.110Z"
   },
   {
    "duration": 20,
    "start_time": "2024-06-21T02:07:55.333Z"
   },
   {
    "duration": 15,
    "start_time": "2024-06-21T02:07:55.356Z"
   },
   {
    "duration": 38,
    "start_time": "2024-06-21T02:07:55.376Z"
   },
   {
    "duration": 5,
    "start_time": "2024-06-21T02:07:55.416Z"
   },
   {
    "duration": 9,
    "start_time": "2024-06-21T02:07:55.425Z"
   },
   {
    "duration": 6,
    "start_time": "2024-06-21T02:07:55.437Z"
   },
   {
    "duration": 16,
    "start_time": "2024-06-21T02:07:55.445Z"
   },
   {
    "duration": 45,
    "start_time": "2024-06-21T02:07:55.464Z"
   },
   {
    "duration": 5,
    "start_time": "2024-06-21T02:07:55.514Z"
   },
   {
    "duration": 6,
    "start_time": "2024-06-21T02:09:06.816Z"
   },
   {
    "duration": 15,
    "start_time": "2024-06-21T02:09:07.463Z"
   },
   {
    "duration": 8,
    "start_time": "2024-06-21T02:09:07.666Z"
   },
   {
    "duration": 4,
    "start_time": "2024-06-21T02:09:08.142Z"
   },
   {
    "duration": 3,
    "start_time": "2024-06-21T02:09:10.205Z"
   },
   {
    "duration": 11,
    "start_time": "2024-06-21T02:09:10.369Z"
   },
   {
    "duration": 10,
    "start_time": "2024-06-21T02:09:10.580Z"
   },
   {
    "duration": 4,
    "start_time": "2024-06-21T02:09:11.003Z"
   },
   {
    "duration": 4,
    "start_time": "2024-06-21T02:09:13.016Z"
   },
   {
    "duration": 11,
    "start_time": "2024-06-21T02:09:13.180Z"
   },
   {
    "duration": 7,
    "start_time": "2024-06-21T02:09:13.364Z"
   },
   {
    "duration": 4,
    "start_time": "2024-06-21T02:09:13.588Z"
   },
   {
    "duration": 4,
    "start_time": "2024-06-21T02:09:16.002Z"
   },
   {
    "duration": 14,
    "start_time": "2024-06-21T02:09:16.172Z"
   },
   {
    "duration": 7,
    "start_time": "2024-06-21T02:09:16.341Z"
   },
   {
    "duration": 3,
    "start_time": "2024-06-21T02:09:16.506Z"
   },
   {
    "duration": 4,
    "start_time": "2024-06-21T02:09:18.376Z"
   },
   {
    "duration": 15,
    "start_time": "2024-06-21T02:09:18.531Z"
   },
   {
    "duration": 7,
    "start_time": "2024-06-21T02:09:18.649Z"
   },
   {
    "duration": 3,
    "start_time": "2024-06-21T02:09:18.793Z"
   },
   {
    "duration": 4,
    "start_time": "2024-06-21T02:09:56.411Z"
   },
   {
    "duration": 15,
    "start_time": "2024-06-21T02:09:58.160Z"
   },
   {
    "duration": 326,
    "start_time": "2024-06-21T15:18:50.943Z"
   },
   {
    "duration": 1250,
    "start_time": "2024-06-21T15:18:59.232Z"
   },
   {
    "duration": 25,
    "start_time": "2024-06-21T15:19:00.485Z"
   },
   {
    "duration": 23,
    "start_time": "2024-06-21T15:19:00.513Z"
   },
   {
    "duration": 22,
    "start_time": "2024-06-21T15:19:00.540Z"
   },
   {
    "duration": 5,
    "start_time": "2024-06-21T15:19:00.565Z"
   },
   {
    "duration": 10,
    "start_time": "2024-06-21T15:19:00.573Z"
   },
   {
    "duration": 44,
    "start_time": "2024-06-21T15:19:00.624Z"
   },
   {
    "duration": 16,
    "start_time": "2024-06-21T15:19:00.671Z"
   },
   {
    "duration": 33,
    "start_time": "2024-06-21T15:19:00.691Z"
   },
   {
    "duration": 5,
    "start_time": "2024-06-21T15:19:00.729Z"
   },
   {
    "duration": 65,
    "start_time": "2024-06-21T15:21:04.006Z"
   },
   {
    "duration": 10,
    "start_time": "2024-06-21T15:25:46.538Z"
   },
   {
    "duration": 46,
    "start_time": "2024-06-21T15:25:48.365Z"
   },
   {
    "duration": 53,
    "start_time": "2024-06-21T15:25:49.850Z"
   },
   {
    "duration": 471,
    "start_time": "2024-06-21T15:27:49.701Z"
   },
   {
    "duration": 272,
    "start_time": "2024-06-21T15:28:02.635Z"
   },
   {
    "duration": 52,
    "start_time": "2024-06-21T15:28:15.409Z"
   },
   {
    "duration": 1193,
    "start_time": "2024-06-21T16:37:29.775Z"
   },
   {
    "duration": 21,
    "start_time": "2024-06-21T16:37:30.972Z"
   },
   {
    "duration": 18,
    "start_time": "2024-06-21T16:37:30.996Z"
   },
   {
    "duration": 27,
    "start_time": "2024-06-21T16:37:31.017Z"
   },
   {
    "duration": 6,
    "start_time": "2024-06-21T16:37:31.049Z"
   },
   {
    "duration": 48,
    "start_time": "2024-06-21T16:37:31.058Z"
   },
   {
    "duration": 45,
    "start_time": "2024-06-21T16:37:31.109Z"
   },
   {
    "duration": 55,
    "start_time": "2024-06-21T16:45:42.061Z"
   },
   {
    "duration": 55,
    "start_time": "2024-06-21T17:01:30.703Z"
   },
   {
    "duration": 321,
    "start_time": "2024-06-21T20:56:48.094Z"
   },
   {
    "duration": 1282,
    "start_time": "2024-06-22T22:37:38.213Z"
   },
   {
    "duration": 20,
    "start_time": "2024-06-22T22:37:39.499Z"
   },
   {
    "duration": 17,
    "start_time": "2024-06-22T22:37:39.522Z"
   },
   {
    "duration": 23,
    "start_time": "2024-06-22T22:37:39.542Z"
   },
   {
    "duration": 6,
    "start_time": "2024-06-22T22:37:39.568Z"
   },
   {
    "duration": 48,
    "start_time": "2024-06-22T22:37:39.578Z"
   },
   {
    "duration": 92,
    "start_time": "2024-06-22T22:37:39.629Z"
   },
   {
    "duration": 70,
    "start_time": "2024-06-22T22:37:53.433Z"
   },
   {
    "duration": 91,
    "start_time": "2024-06-22T22:39:13.000Z"
   },
   {
    "duration": 4,
    "start_time": "2024-06-22T22:39:16.719Z"
   },
   {
    "duration": 12,
    "start_time": "2024-06-22T22:39:16.902Z"
   },
   {
    "duration": 16,
    "start_time": "2024-06-22T22:39:17.096Z"
   },
   {
    "duration": 17,
    "start_time": "2024-06-22T22:39:17.482Z"
   },
   {
    "duration": 6,
    "start_time": "2024-06-22T22:39:17.748Z"
   },
   {
    "duration": 8,
    "start_time": "2024-06-22T22:39:18.083Z"
   },
   {
    "duration": 71,
    "start_time": "2024-06-22T22:39:18.392Z"
   },
   {
    "duration": 87,
    "start_time": "2024-06-22T22:42:49.708Z"
   },
   {
    "duration": 86,
    "start_time": "2024-06-22T22:42:52.718Z"
   },
   {
    "duration": 80,
    "start_time": "2024-06-22T22:43:44.029Z"
   },
   {
    "duration": 66,
    "start_time": "2024-06-22T22:44:00.011Z"
   },
   {
    "duration": 82,
    "start_time": "2024-06-22T22:44:23.972Z"
   },
   {
    "duration": 70,
    "start_time": "2024-06-22T22:44:48.475Z"
   },
   {
    "duration": 72,
    "start_time": "2024-06-22T22:46:32.002Z"
   },
   {
    "duration": 14,
    "start_time": "2024-06-22T23:00:04.248Z"
   },
   {
    "duration": 350,
    "start_time": "2024-06-23T00:09:47.429Z"
   },
   {
    "duration": 1215,
    "start_time": "2024-06-23T00:09:55.616Z"
   },
   {
    "duration": 13,
    "start_time": "2024-06-23T00:09:56.834Z"
   },
   {
    "duration": 15,
    "start_time": "2024-06-23T00:09:56.850Z"
   },
   {
    "duration": 46,
    "start_time": "2024-06-23T00:09:56.868Z"
   },
   {
    "duration": 6,
    "start_time": "2024-06-23T00:09:56.919Z"
   },
   {
    "duration": 11,
    "start_time": "2024-06-23T00:09:56.928Z"
   },
   {
    "duration": 105,
    "start_time": "2024-06-23T00:09:56.942Z"
   },
   {
    "duration": 4,
    "start_time": "2024-06-23T00:09:57.051Z"
   },
   {
    "duration": 337,
    "start_time": "2024-06-23T00:14:34.230Z"
   },
   {
    "duration": 7,
    "start_time": "2024-06-23T00:26:33.033Z"
   },
   {
    "duration": 7,
    "start_time": "2024-06-23T00:27:34.270Z"
   },
   {
    "duration": 472,
    "start_time": "2024-06-23T00:27:54.250Z"
   },
   {
    "duration": 8,
    "start_time": "2024-06-23T00:28:48.679Z"
   },
   {
    "duration": 63,
    "start_time": "2024-06-23T00:28:50.441Z"
   },
   {
    "duration": 62,
    "start_time": "2024-06-23T00:29:26.362Z"
   },
   {
    "duration": 7,
    "start_time": "2024-06-23T00:29:29.190Z"
   },
   {
    "duration": 64,
    "start_time": "2024-06-23T00:29:29.624Z"
   },
   {
    "duration": 61,
    "start_time": "2024-06-23T00:30:26.502Z"
   },
   {
    "duration": 6,
    "start_time": "2024-06-23T00:30:57.161Z"
   },
   {
    "duration": 61,
    "start_time": "2024-06-23T00:30:57.513Z"
   },
   {
    "duration": 6,
    "start_time": "2024-06-23T00:31:02.268Z"
   },
   {
    "duration": 61,
    "start_time": "2024-06-23T00:31:03.522Z"
   },
   {
    "duration": 7,
    "start_time": "2024-06-23T00:32:39.500Z"
   },
   {
    "duration": 61,
    "start_time": "2024-06-23T00:32:40.782Z"
   },
   {
    "duration": 6,
    "start_time": "2024-06-23T00:32:46.738Z"
   },
   {
    "duration": 61,
    "start_time": "2024-06-23T00:32:47.065Z"
   },
   {
    "duration": 88,
    "start_time": "2024-06-23T00:33:31.997Z"
   },
   {
    "duration": 86,
    "start_time": "2024-06-23T00:33:42.953Z"
   },
   {
    "duration": 80,
    "start_time": "2024-06-23T00:37:22.570Z"
   },
   {
    "duration": 1342,
    "start_time": "2024-06-27T13:31:30.270Z"
   },
   {
    "duration": 49,
    "start_time": "2024-06-27T13:31:31.619Z"
   },
   {
    "duration": 20,
    "start_time": "2024-06-27T13:31:31.679Z"
   },
   {
    "duration": 30,
    "start_time": "2024-06-27T13:31:31.705Z"
   },
   {
    "duration": 14,
    "start_time": "2024-06-27T13:31:31.742Z"
   },
   {
    "duration": 16,
    "start_time": "2024-06-27T13:31:31.765Z"
   },
   {
    "duration": 8,
    "start_time": "2024-06-27T13:31:31.788Z"
   },
   {
    "duration": 572,
    "start_time": "2024-06-27T13:31:31.800Z"
   },
   {
    "duration": 0,
    "start_time": "2024-06-27T13:31:32.375Z"
   },
   {
    "duration": 6,
    "start_time": "2024-06-27T13:37:07.813Z"
   },
   {
    "duration": 6,
    "start_time": "2024-06-27T13:38:17.101Z"
   },
   {
    "duration": 9,
    "start_time": "2024-06-27T13:38:23.715Z"
   },
   {
    "duration": 5,
    "start_time": "2024-06-27T13:38:24.691Z"
   },
   {
    "duration": 31,
    "start_time": "2024-06-27T13:41:47.114Z"
   },
   {
    "duration": 6,
    "start_time": "2024-06-27T13:41:59.382Z"
   },
   {
    "duration": 83,
    "start_time": "2024-06-27T13:42:00.203Z"
   },
   {
    "duration": 71,
    "start_time": "2024-06-27T13:42:05.539Z"
   },
   {
    "duration": 96,
    "start_time": "2024-06-27T13:42:10.662Z"
   },
   {
    "duration": 89,
    "start_time": "2024-06-27T13:42:13.346Z"
   },
   {
    "duration": 63,
    "start_time": "2024-06-27T13:43:06.093Z"
   },
   {
    "duration": 65,
    "start_time": "2024-06-27T13:43:13.023Z"
   },
   {
    "duration": 62,
    "start_time": "2024-06-27T13:43:17.217Z"
   },
   {
    "duration": 61,
    "start_time": "2024-06-27T13:43:19.011Z"
   },
   {
    "duration": 62,
    "start_time": "2024-06-27T13:43:31.288Z"
   },
   {
    "duration": 66,
    "start_time": "2024-06-27T13:43:50.318Z"
   },
   {
    "duration": 85,
    "start_time": "2024-06-27T13:44:09.354Z"
   },
   {
    "duration": 63,
    "start_time": "2024-06-27T13:44:11.635Z"
   },
   {
    "duration": 63,
    "start_time": "2024-06-27T13:44:50.315Z"
   },
   {
    "duration": 325,
    "start_time": "2024-06-27T18:08:53.741Z"
   },
   {
    "duration": 1263,
    "start_time": "2024-06-27T18:09:00.730Z"
   },
   {
    "duration": 19,
    "start_time": "2024-06-27T18:09:01.997Z"
   },
   {
    "duration": 15,
    "start_time": "2024-06-27T18:09:02.019Z"
   },
   {
    "duration": 22,
    "start_time": "2024-06-27T18:09:02.037Z"
   },
   {
    "duration": 5,
    "start_time": "2024-06-27T18:09:02.063Z"
   },
   {
    "duration": 48,
    "start_time": "2024-06-27T18:09:02.071Z"
   },
   {
    "duration": 7,
    "start_time": "2024-06-27T18:09:02.122Z"
   },
   {
    "duration": 96,
    "start_time": "2024-06-27T18:09:02.133Z"
   },
   {
    "duration": 407,
    "start_time": "2024-06-27T18:09:02.232Z"
   },
   {
    "duration": 334,
    "start_time": "2024-06-27T19:48:26.883Z"
   },
   {
    "duration": 1259,
    "start_time": "2024-06-27T19:48:46.197Z"
   },
   {
    "duration": 18,
    "start_time": "2024-06-27T19:48:47.460Z"
   },
   {
    "duration": 15,
    "start_time": "2024-06-27T19:48:47.481Z"
   },
   {
    "duration": 20,
    "start_time": "2024-06-27T19:48:47.514Z"
   },
   {
    "duration": 5,
    "start_time": "2024-06-27T19:48:47.537Z"
   },
   {
    "duration": 10,
    "start_time": "2024-06-27T19:48:47.545Z"
   },
   {
    "duration": 7,
    "start_time": "2024-06-27T19:48:47.558Z"
   },
   {
    "duration": 103,
    "start_time": "2024-06-27T19:48:47.568Z"
   },
   {
    "duration": 447,
    "start_time": "2024-06-27T19:48:47.674Z"
   },
   {
    "duration": 7,
    "start_time": "2024-06-27T19:50:32.829Z"
   },
   {
    "duration": 57,
    "start_time": "2024-06-27T19:50:35.078Z"
   },
   {
    "duration": 4,
    "start_time": "2024-06-27T19:51:47.578Z"
   },
   {
    "duration": 5,
    "start_time": "2024-06-27T19:52:06.249Z"
   },
   {
    "duration": 64,
    "start_time": "2024-06-27T19:52:06.871Z"
   },
   {
    "duration": 64,
    "start_time": "2024-06-27T19:52:26.523Z"
   },
   {
    "duration": 392,
    "start_time": "2024-06-27T19:53:58.083Z"
   },
   {
    "duration": 67,
    "start_time": "2024-06-27T19:54:23.048Z"
   },
   {
    "duration": 392,
    "start_time": "2024-06-27T19:55:36.402Z"
   },
   {
    "duration": 404,
    "start_time": "2024-06-27T19:58:18.033Z"
   },
   {
    "duration": 1251,
    "start_time": "2024-06-27T20:05:44.420Z"
   },
   {
    "duration": 13,
    "start_time": "2024-06-27T20:05:45.674Z"
   },
   {
    "duration": 32,
    "start_time": "2024-06-27T20:05:45.690Z"
   },
   {
    "duration": 21,
    "start_time": "2024-06-27T20:05:45.727Z"
   },
   {
    "duration": 6,
    "start_time": "2024-06-27T20:05:45.751Z"
   },
   {
    "duration": 12,
    "start_time": "2024-06-27T20:05:45.761Z"
   },
   {
    "duration": 7,
    "start_time": "2024-06-27T20:05:45.811Z"
   },
   {
    "duration": 65,
    "start_time": "2024-06-27T20:05:45.821Z"
   },
   {
    "duration": 449,
    "start_time": "2024-06-27T20:05:45.888Z"
   },
   {
    "duration": 749,
    "start_time": "2024-06-27T20:10:17.718Z"
   },
   {
    "duration": 1113,
    "start_time": "2024-06-27T20:10:41.512Z"
   },
   {
    "duration": 496,
    "start_time": "2024-06-27T20:11:44.435Z"
   },
   {
    "duration": 1219,
    "start_time": "2024-06-27T21:59:38.252Z"
   },
   {
    "duration": 416,
    "start_time": "2024-06-27T22:09:46.578Z"
   },
   {
    "duration": 28,
    "start_time": "2024-06-27T22:09:55.312Z"
   },
   {
    "duration": 1180,
    "start_time": "2024-06-27T22:10:03.462Z"
   },
   {
    "duration": 15,
    "start_time": "2024-06-27T22:10:04.645Z"
   },
   {
    "duration": 15,
    "start_time": "2024-06-27T22:10:04.663Z"
   },
   {
    "duration": 38,
    "start_time": "2024-06-27T22:10:04.682Z"
   },
   {
    "duration": 7,
    "start_time": "2024-06-27T22:10:04.723Z"
   },
   {
    "duration": 10,
    "start_time": "2024-06-27T22:10:04.735Z"
   },
   {
    "duration": 6,
    "start_time": "2024-06-27T22:10:04.747Z"
   },
   {
    "duration": 102,
    "start_time": "2024-06-27T22:10:04.756Z"
   },
   {
    "duration": 543,
    "start_time": "2024-06-27T22:10:04.861Z"
   },
   {
    "duration": 21,
    "start_time": "2024-06-27T22:10:05.409Z"
   },
   {
    "duration": 22,
    "start_time": "2024-06-27T22:20:09.286Z"
   },
   {
    "duration": 24,
    "start_time": "2024-06-27T22:24:30.316Z"
   },
   {
    "duration": 22,
    "start_time": "2024-06-27T22:24:53.193Z"
   },
   {
    "duration": 22,
    "start_time": "2024-06-27T22:24:56.443Z"
   },
   {
    "duration": 1238,
    "start_time": "2024-06-27T22:48:01.402Z"
   },
   {
    "duration": 12,
    "start_time": "2024-06-27T22:48:02.644Z"
   },
   {
    "duration": 16,
    "start_time": "2024-06-27T22:48:02.660Z"
   },
   {
    "duration": 42,
    "start_time": "2024-06-27T22:48:02.679Z"
   },
   {
    "duration": 5,
    "start_time": "2024-06-27T22:48:02.724Z"
   },
   {
    "duration": 10,
    "start_time": "2024-06-27T22:48:02.733Z"
   },
   {
    "duration": 5,
    "start_time": "2024-06-27T22:48:02.746Z"
   },
   {
    "duration": 107,
    "start_time": "2024-06-27T22:48:02.754Z"
   },
   {
    "duration": 511,
    "start_time": "2024-06-27T22:48:02.864Z"
   },
   {
    "duration": 35,
    "start_time": "2024-06-27T22:48:03.379Z"
   },
   {
    "duration": 1218,
    "start_time": "2024-06-28T07:08:40.539Z"
   },
   {
    "duration": 19,
    "start_time": "2024-06-28T07:08:41.761Z"
   },
   {
    "duration": 23,
    "start_time": "2024-06-28T07:08:41.782Z"
   },
   {
    "duration": 22,
    "start_time": "2024-06-28T07:08:41.809Z"
   },
   {
    "duration": 5,
    "start_time": "2024-06-28T07:08:41.835Z"
   },
   {
    "duration": 11,
    "start_time": "2024-06-28T07:08:41.843Z"
   },
   {
    "duration": 5,
    "start_time": "2024-06-28T07:08:41.857Z"
   },
   {
    "duration": 63,
    "start_time": "2024-06-28T07:08:41.903Z"
   },
   {
    "duration": 534,
    "start_time": "2024-06-28T07:08:41.970Z"
   },
   {
    "duration": 22,
    "start_time": "2024-06-28T07:08:42.508Z"
   },
   {
    "duration": 159,
    "start_time": "2024-11-29T20:40:05.711Z"
   },
   {
    "duration": 796,
    "start_time": "2024-11-29T20:40:09.854Z"
   },
   {
    "duration": 12,
    "start_time": "2024-11-29T20:40:10.652Z"
   },
   {
    "duration": 9,
    "start_time": "2024-11-29T20:40:10.666Z"
   },
   {
    "duration": 12,
    "start_time": "2024-11-29T20:40:10.677Z"
   },
   {
    "duration": 3,
    "start_time": "2024-11-29T20:40:10.690Z"
   },
   {
    "duration": 5,
    "start_time": "2024-11-29T20:40:10.712Z"
   },
   {
    "duration": 3,
    "start_time": "2024-11-29T20:40:10.719Z"
   },
   {
    "duration": 38,
    "start_time": "2024-11-29T20:40:10.723Z"
   },
   {
    "duration": 311,
    "start_time": "2024-11-29T20:40:10.762Z"
   },
   {
    "duration": 12,
    "start_time": "2024-11-29T20:40:11.076Z"
   }
  ],
  "kernelspec": {
   "display_name": "Python 3 (ipykernel)",
   "language": "python",
   "name": "python3"
  },
  "language_info": {
   "codemirror_mode": {
    "name": "ipython",
    "version": 3
   },
   "file_extension": ".py",
   "mimetype": "text/x-python",
   "name": "python",
   "nbconvert_exporter": "python",
   "pygments_lexer": "ipython3",
   "version": "3.9.19"
  },
  "toc": {
   "base_numbering": 1,
   "nav_menu": {},
   "number_sections": true,
   "sideBar": true,
   "skip_h1_title": true,
   "title_cell": "Table of Contents",
   "title_sidebar": "Contents",
   "toc_cell": false,
   "toc_position": {},
   "toc_section_display": true,
   "toc_window_display": true
  }
 },
 "nbformat": 4,
 "nbformat_minor": 2
}
