{
 "cells": [
  {
   "cell_type": "markdown",
   "metadata": {},
   "source": [
    "# Supervised Learning: Beta Bank"
   ]
  },
  {
   "cell_type": "markdown",
   "metadata": {},
   "source": [
    "## Introduction\n",
    "\n",
    "In this project I will be working with data from Beta Bank. I will be trying to make a machine learning model that helps predict customer's behaviour to find out if they will leave the bank soon, and ultimately find a way to maintain customer count by focusing on keeping existing customers longer instead of trying to attract new customers.\n",
    "\n",
    "For this project I will be going through a few steps:\n",
    "\n",
    "1. Data Overview\n",
    "2. Data Preprocessing\n",
    "3. Model Training\n",
    "\n",
    "Firstly, I will be overviewing the data to get an idea of what I'm working with. I will try to identify from the overview if there's anything that needs to attend to later during the preprocessing.\n",
    "\n",
    "Next, I will be working on the preprocessing the data. I will try to deal with issues that came up during the overview to make the data cleaner before I can start making models.\n",
    "\n",
    "Lastly, I will be training the models and tuning the hyperparameters to get the best results."
   ]
  },
  {
   "cell_type": "markdown",
   "metadata": {},
   "source": [
    "## Data Overview"
   ]
  },
  {
   "cell_type": "code",
   "execution_count": 1,
   "metadata": {},
   "outputs": [],
   "source": [
    "# Importing necessary libraries and packages\n",
    "\n",
    "import pandas as pd\n",
    "import numpy as np\n",
    "from sklearn.model_selection import train_test_split, GridSearchCV, RandomizedSearchCV, cross_val_score\n",
    "from sklearn.linear_model import LogisticRegression\n",
    "from sklearn.tree import DecisionTreeClassifier\n",
    "from sklearn.ensemble import RandomForestClassifier\n",
    "from sklearn.metrics import f1_score, make_scorer, classification_report, precision_score, recall_score, roc_auc_score, accuracy_score\n",
    "from sklearn.preprocessing import OrdinalEncoder\n",
    "from sklearn.utils import shuffle, resample\n",
    "from sklearn.pipeline import Pipeline\n",
    "from sklearn.preprocessing import StandardScaler"
   ]
  },
  {
   "cell_type": "code",
   "execution_count": 2,
   "metadata": {},
   "outputs": [
    {
     "data": {
      "text/html": [
       "<div>\n",
       "<style scoped>\n",
       "    .dataframe tbody tr th:only-of-type {\n",
       "        vertical-align: middle;\n",
       "    }\n",
       "\n",
       "    .dataframe tbody tr th {\n",
       "        vertical-align: top;\n",
       "    }\n",
       "\n",
       "    .dataframe thead th {\n",
       "        text-align: right;\n",
       "    }\n",
       "</style>\n",
       "<table border=\"1\" class=\"dataframe\">\n",
       "  <thead>\n",
       "    <tr style=\"text-align: right;\">\n",
       "      <th></th>\n",
       "      <th>RowNumber</th>\n",
       "      <th>CustomerId</th>\n",
       "      <th>Surname</th>\n",
       "      <th>CreditScore</th>\n",
       "      <th>Geography</th>\n",
       "      <th>Gender</th>\n",
       "      <th>Age</th>\n",
       "      <th>Tenure</th>\n",
       "      <th>Balance</th>\n",
       "      <th>NumOfProducts</th>\n",
       "      <th>HasCrCard</th>\n",
       "      <th>IsActiveMember</th>\n",
       "      <th>EstimatedSalary</th>\n",
       "      <th>Exited</th>\n",
       "    </tr>\n",
       "  </thead>\n",
       "  <tbody>\n",
       "    <tr>\n",
       "      <th>0</th>\n",
       "      <td>1</td>\n",
       "      <td>15634602</td>\n",
       "      <td>Hargrave</td>\n",
       "      <td>619</td>\n",
       "      <td>France</td>\n",
       "      <td>Female</td>\n",
       "      <td>42</td>\n",
       "      <td>2.0</td>\n",
       "      <td>0.00</td>\n",
       "      <td>1</td>\n",
       "      <td>1</td>\n",
       "      <td>1</td>\n",
       "      <td>101348.88</td>\n",
       "      <td>1</td>\n",
       "    </tr>\n",
       "    <tr>\n",
       "      <th>1</th>\n",
       "      <td>2</td>\n",
       "      <td>15647311</td>\n",
       "      <td>Hill</td>\n",
       "      <td>608</td>\n",
       "      <td>Spain</td>\n",
       "      <td>Female</td>\n",
       "      <td>41</td>\n",
       "      <td>1.0</td>\n",
       "      <td>83807.86</td>\n",
       "      <td>1</td>\n",
       "      <td>0</td>\n",
       "      <td>1</td>\n",
       "      <td>112542.58</td>\n",
       "      <td>0</td>\n",
       "    </tr>\n",
       "    <tr>\n",
       "      <th>2</th>\n",
       "      <td>3</td>\n",
       "      <td>15619304</td>\n",
       "      <td>Onio</td>\n",
       "      <td>502</td>\n",
       "      <td>France</td>\n",
       "      <td>Female</td>\n",
       "      <td>42</td>\n",
       "      <td>8.0</td>\n",
       "      <td>159660.80</td>\n",
       "      <td>3</td>\n",
       "      <td>1</td>\n",
       "      <td>0</td>\n",
       "      <td>113931.57</td>\n",
       "      <td>1</td>\n",
       "    </tr>\n",
       "    <tr>\n",
       "      <th>3</th>\n",
       "      <td>4</td>\n",
       "      <td>15701354</td>\n",
       "      <td>Boni</td>\n",
       "      <td>699</td>\n",
       "      <td>France</td>\n",
       "      <td>Female</td>\n",
       "      <td>39</td>\n",
       "      <td>1.0</td>\n",
       "      <td>0.00</td>\n",
       "      <td>2</td>\n",
       "      <td>0</td>\n",
       "      <td>0</td>\n",
       "      <td>93826.63</td>\n",
       "      <td>0</td>\n",
       "    </tr>\n",
       "    <tr>\n",
       "      <th>4</th>\n",
       "      <td>5</td>\n",
       "      <td>15737888</td>\n",
       "      <td>Mitchell</td>\n",
       "      <td>850</td>\n",
       "      <td>Spain</td>\n",
       "      <td>Female</td>\n",
       "      <td>43</td>\n",
       "      <td>2.0</td>\n",
       "      <td>125510.82</td>\n",
       "      <td>1</td>\n",
       "      <td>1</td>\n",
       "      <td>1</td>\n",
       "      <td>79084.10</td>\n",
       "      <td>0</td>\n",
       "    </tr>\n",
       "    <tr>\n",
       "      <th>5</th>\n",
       "      <td>6</td>\n",
       "      <td>15574012</td>\n",
       "      <td>Chu</td>\n",
       "      <td>645</td>\n",
       "      <td>Spain</td>\n",
       "      <td>Male</td>\n",
       "      <td>44</td>\n",
       "      <td>8.0</td>\n",
       "      <td>113755.78</td>\n",
       "      <td>2</td>\n",
       "      <td>1</td>\n",
       "      <td>0</td>\n",
       "      <td>149756.71</td>\n",
       "      <td>1</td>\n",
       "    </tr>\n",
       "    <tr>\n",
       "      <th>6</th>\n",
       "      <td>7</td>\n",
       "      <td>15592531</td>\n",
       "      <td>Bartlett</td>\n",
       "      <td>822</td>\n",
       "      <td>France</td>\n",
       "      <td>Male</td>\n",
       "      <td>50</td>\n",
       "      <td>7.0</td>\n",
       "      <td>0.00</td>\n",
       "      <td>2</td>\n",
       "      <td>1</td>\n",
       "      <td>1</td>\n",
       "      <td>10062.80</td>\n",
       "      <td>0</td>\n",
       "    </tr>\n",
       "    <tr>\n",
       "      <th>7</th>\n",
       "      <td>8</td>\n",
       "      <td>15656148</td>\n",
       "      <td>Obinna</td>\n",
       "      <td>376</td>\n",
       "      <td>Germany</td>\n",
       "      <td>Female</td>\n",
       "      <td>29</td>\n",
       "      <td>4.0</td>\n",
       "      <td>115046.74</td>\n",
       "      <td>4</td>\n",
       "      <td>1</td>\n",
       "      <td>0</td>\n",
       "      <td>119346.88</td>\n",
       "      <td>1</td>\n",
       "    </tr>\n",
       "    <tr>\n",
       "      <th>8</th>\n",
       "      <td>9</td>\n",
       "      <td>15792365</td>\n",
       "      <td>He</td>\n",
       "      <td>501</td>\n",
       "      <td>France</td>\n",
       "      <td>Male</td>\n",
       "      <td>44</td>\n",
       "      <td>4.0</td>\n",
       "      <td>142051.07</td>\n",
       "      <td>2</td>\n",
       "      <td>0</td>\n",
       "      <td>1</td>\n",
       "      <td>74940.50</td>\n",
       "      <td>0</td>\n",
       "    </tr>\n",
       "    <tr>\n",
       "      <th>9</th>\n",
       "      <td>10</td>\n",
       "      <td>15592389</td>\n",
       "      <td>H?</td>\n",
       "      <td>684</td>\n",
       "      <td>France</td>\n",
       "      <td>Male</td>\n",
       "      <td>27</td>\n",
       "      <td>2.0</td>\n",
       "      <td>134603.88</td>\n",
       "      <td>1</td>\n",
       "      <td>1</td>\n",
       "      <td>1</td>\n",
       "      <td>71725.73</td>\n",
       "      <td>0</td>\n",
       "    </tr>\n",
       "  </tbody>\n",
       "</table>\n",
       "</div>"
      ],
      "text/plain": [
       "   RowNumber  CustomerId   Surname  CreditScore Geography  Gender  Age  \\\n",
       "0          1    15634602  Hargrave          619    France  Female   42   \n",
       "1          2    15647311      Hill          608     Spain  Female   41   \n",
       "2          3    15619304      Onio          502    France  Female   42   \n",
       "3          4    15701354      Boni          699    France  Female   39   \n",
       "4          5    15737888  Mitchell          850     Spain  Female   43   \n",
       "5          6    15574012       Chu          645     Spain    Male   44   \n",
       "6          7    15592531  Bartlett          822    France    Male   50   \n",
       "7          8    15656148    Obinna          376   Germany  Female   29   \n",
       "8          9    15792365        He          501    France    Male   44   \n",
       "9         10    15592389        H?          684    France    Male   27   \n",
       "\n",
       "   Tenure    Balance  NumOfProducts  HasCrCard  IsActiveMember  \\\n",
       "0     2.0       0.00              1          1               1   \n",
       "1     1.0   83807.86              1          0               1   \n",
       "2     8.0  159660.80              3          1               0   \n",
       "3     1.0       0.00              2          0               0   \n",
       "4     2.0  125510.82              1          1               1   \n",
       "5     8.0  113755.78              2          1               0   \n",
       "6     7.0       0.00              2          1               1   \n",
       "7     4.0  115046.74              4          1               0   \n",
       "8     4.0  142051.07              2          0               1   \n",
       "9     2.0  134603.88              1          1               1   \n",
       "\n",
       "   EstimatedSalary  Exited  \n",
       "0        101348.88       1  \n",
       "1        112542.58       0  \n",
       "2        113931.57       1  \n",
       "3         93826.63       0  \n",
       "4         79084.10       0  \n",
       "5        149756.71       1  \n",
       "6         10062.80       0  \n",
       "7        119346.88       1  \n",
       "8         74940.50       0  \n",
       "9         71725.73       0  "
      ]
     },
     "execution_count": 2,
     "metadata": {},
     "output_type": "execute_result"
    }
   ],
   "source": [
    "# Pulling data file\n",
    "\n",
    "df = pd.read_csv('/datasets/Churn.csv')\n",
    "\n",
    "# Getting the first 10 rows\n",
    "df.head(10)"
   ]
  },
  {
   "cell_type": "code",
   "execution_count": 3,
   "metadata": {},
   "outputs": [
    {
     "name": "stdout",
     "output_type": "stream",
     "text": [
      "<class 'pandas.core.frame.DataFrame'>\n",
      "RangeIndex: 10000 entries, 0 to 9999\n",
      "Data columns (total 14 columns):\n",
      " #   Column           Non-Null Count  Dtype  \n",
      "---  ------           --------------  -----  \n",
      " 0   RowNumber        10000 non-null  int64  \n",
      " 1   CustomerId       10000 non-null  int64  \n",
      " 2   Surname          10000 non-null  object \n",
      " 3   CreditScore      10000 non-null  int64  \n",
      " 4   Geography        10000 non-null  object \n",
      " 5   Gender           10000 non-null  object \n",
      " 6   Age              10000 non-null  int64  \n",
      " 7   Tenure           9091 non-null   float64\n",
      " 8   Balance          10000 non-null  float64\n",
      " 9   NumOfProducts    10000 non-null  int64  \n",
      " 10  HasCrCard        10000 non-null  int64  \n",
      " 11  IsActiveMember   10000 non-null  int64  \n",
      " 12  EstimatedSalary  10000 non-null  float64\n",
      " 13  Exited           10000 non-null  int64  \n",
      "dtypes: float64(3), int64(8), object(3)\n",
      "memory usage: 1.1+ MB\n"
     ]
    }
   ],
   "source": [
    "# Pulling info on dataframe\n",
    "df.info()"
   ]
  },
  {
   "cell_type": "markdown",
   "metadata": {},
   "source": [
    "The info shows that the Tenure column has missing values. I will be looking into that."
   ]
  },
  {
   "cell_type": "markdown",
   "metadata": {},
   "source": [
    "## Data Preprocessing\n",
    "\n",
    "Now I will begin to delve deeper into the data."
   ]
  },
  {
   "cell_type": "code",
   "execution_count": 4,
   "metadata": {},
   "outputs": [
    {
     "data": {
      "text/plain": [
       "909"
      ]
     },
     "execution_count": 4,
     "metadata": {},
     "output_type": "execute_result"
    }
   ],
   "source": [
    "df.Tenure.isna().sum()"
   ]
  },
  {
   "cell_type": "code",
   "execution_count": 5,
   "metadata": {},
   "outputs": [
    {
     "data": {
      "text/html": [
       "<div>\n",
       "<style scoped>\n",
       "    .dataframe tbody tr th:only-of-type {\n",
       "        vertical-align: middle;\n",
       "    }\n",
       "\n",
       "    .dataframe tbody tr th {\n",
       "        vertical-align: top;\n",
       "    }\n",
       "\n",
       "    .dataframe thead th {\n",
       "        text-align: right;\n",
       "    }\n",
       "</style>\n",
       "<table border=\"1\" class=\"dataframe\">\n",
       "  <thead>\n",
       "    <tr style=\"text-align: right;\">\n",
       "      <th></th>\n",
       "      <th>RowNumber</th>\n",
       "      <th>CustomerId</th>\n",
       "      <th>Surname</th>\n",
       "      <th>CreditScore</th>\n",
       "      <th>Geography</th>\n",
       "      <th>Gender</th>\n",
       "      <th>Age</th>\n",
       "      <th>Tenure</th>\n",
       "      <th>Balance</th>\n",
       "      <th>NumOfProducts</th>\n",
       "      <th>HasCrCard</th>\n",
       "      <th>IsActiveMember</th>\n",
       "      <th>EstimatedSalary</th>\n",
       "      <th>Exited</th>\n",
       "    </tr>\n",
       "  </thead>\n",
       "  <tbody>\n",
       "    <tr>\n",
       "      <th>30</th>\n",
       "      <td>31</td>\n",
       "      <td>15589475</td>\n",
       "      <td>Azikiwe</td>\n",
       "      <td>591</td>\n",
       "      <td>Spain</td>\n",
       "      <td>Female</td>\n",
       "      <td>39</td>\n",
       "      <td>NaN</td>\n",
       "      <td>0.00</td>\n",
       "      <td>3</td>\n",
       "      <td>1</td>\n",
       "      <td>0</td>\n",
       "      <td>140469.38</td>\n",
       "      <td>1</td>\n",
       "    </tr>\n",
       "    <tr>\n",
       "      <th>48</th>\n",
       "      <td>49</td>\n",
       "      <td>15766205</td>\n",
       "      <td>Yin</td>\n",
       "      <td>550</td>\n",
       "      <td>Germany</td>\n",
       "      <td>Male</td>\n",
       "      <td>38</td>\n",
       "      <td>NaN</td>\n",
       "      <td>103391.38</td>\n",
       "      <td>1</td>\n",
       "      <td>0</td>\n",
       "      <td>1</td>\n",
       "      <td>90878.13</td>\n",
       "      <td>0</td>\n",
       "    </tr>\n",
       "    <tr>\n",
       "      <th>51</th>\n",
       "      <td>52</td>\n",
       "      <td>15768193</td>\n",
       "      <td>Trevisani</td>\n",
       "      <td>585</td>\n",
       "      <td>Germany</td>\n",
       "      <td>Male</td>\n",
       "      <td>36</td>\n",
       "      <td>NaN</td>\n",
       "      <td>146050.97</td>\n",
       "      <td>2</td>\n",
       "      <td>0</td>\n",
       "      <td>0</td>\n",
       "      <td>86424.57</td>\n",
       "      <td>0</td>\n",
       "    </tr>\n",
       "    <tr>\n",
       "      <th>53</th>\n",
       "      <td>54</td>\n",
       "      <td>15702298</td>\n",
       "      <td>Parkhill</td>\n",
       "      <td>655</td>\n",
       "      <td>Germany</td>\n",
       "      <td>Male</td>\n",
       "      <td>41</td>\n",
       "      <td>NaN</td>\n",
       "      <td>125561.97</td>\n",
       "      <td>1</td>\n",
       "      <td>0</td>\n",
       "      <td>0</td>\n",
       "      <td>164040.94</td>\n",
       "      <td>1</td>\n",
       "    </tr>\n",
       "    <tr>\n",
       "      <th>60</th>\n",
       "      <td>61</td>\n",
       "      <td>15651280</td>\n",
       "      <td>Hunter</td>\n",
       "      <td>742</td>\n",
       "      <td>Germany</td>\n",
       "      <td>Male</td>\n",
       "      <td>35</td>\n",
       "      <td>NaN</td>\n",
       "      <td>136857.00</td>\n",
       "      <td>1</td>\n",
       "      <td>0</td>\n",
       "      <td>0</td>\n",
       "      <td>84509.57</td>\n",
       "      <td>0</td>\n",
       "    </tr>\n",
       "    <tr>\n",
       "      <th>...</th>\n",
       "      <td>...</td>\n",
       "      <td>...</td>\n",
       "      <td>...</td>\n",
       "      <td>...</td>\n",
       "      <td>...</td>\n",
       "      <td>...</td>\n",
       "      <td>...</td>\n",
       "      <td>...</td>\n",
       "      <td>...</td>\n",
       "      <td>...</td>\n",
       "      <td>...</td>\n",
       "      <td>...</td>\n",
       "      <td>...</td>\n",
       "      <td>...</td>\n",
       "    </tr>\n",
       "    <tr>\n",
       "      <th>9944</th>\n",
       "      <td>9945</td>\n",
       "      <td>15703923</td>\n",
       "      <td>Cameron</td>\n",
       "      <td>744</td>\n",
       "      <td>Germany</td>\n",
       "      <td>Male</td>\n",
       "      <td>41</td>\n",
       "      <td>NaN</td>\n",
       "      <td>190409.34</td>\n",
       "      <td>2</td>\n",
       "      <td>1</td>\n",
       "      <td>1</td>\n",
       "      <td>138361.48</td>\n",
       "      <td>0</td>\n",
       "    </tr>\n",
       "    <tr>\n",
       "      <th>9956</th>\n",
       "      <td>9957</td>\n",
       "      <td>15707861</td>\n",
       "      <td>Nucci</td>\n",
       "      <td>520</td>\n",
       "      <td>France</td>\n",
       "      <td>Female</td>\n",
       "      <td>46</td>\n",
       "      <td>NaN</td>\n",
       "      <td>85216.61</td>\n",
       "      <td>1</td>\n",
       "      <td>1</td>\n",
       "      <td>0</td>\n",
       "      <td>117369.52</td>\n",
       "      <td>1</td>\n",
       "    </tr>\n",
       "    <tr>\n",
       "      <th>9964</th>\n",
       "      <td>9965</td>\n",
       "      <td>15642785</td>\n",
       "      <td>Douglas</td>\n",
       "      <td>479</td>\n",
       "      <td>France</td>\n",
       "      <td>Male</td>\n",
       "      <td>34</td>\n",
       "      <td>NaN</td>\n",
       "      <td>117593.48</td>\n",
       "      <td>2</td>\n",
       "      <td>0</td>\n",
       "      <td>0</td>\n",
       "      <td>113308.29</td>\n",
       "      <td>0</td>\n",
       "    </tr>\n",
       "    <tr>\n",
       "      <th>9985</th>\n",
       "      <td>9986</td>\n",
       "      <td>15586914</td>\n",
       "      <td>Nepean</td>\n",
       "      <td>659</td>\n",
       "      <td>France</td>\n",
       "      <td>Male</td>\n",
       "      <td>36</td>\n",
       "      <td>NaN</td>\n",
       "      <td>123841.49</td>\n",
       "      <td>2</td>\n",
       "      <td>1</td>\n",
       "      <td>0</td>\n",
       "      <td>96833.00</td>\n",
       "      <td>0</td>\n",
       "    </tr>\n",
       "    <tr>\n",
       "      <th>9999</th>\n",
       "      <td>10000</td>\n",
       "      <td>15628319</td>\n",
       "      <td>Walker</td>\n",
       "      <td>792</td>\n",
       "      <td>France</td>\n",
       "      <td>Female</td>\n",
       "      <td>28</td>\n",
       "      <td>NaN</td>\n",
       "      <td>130142.79</td>\n",
       "      <td>1</td>\n",
       "      <td>1</td>\n",
       "      <td>0</td>\n",
       "      <td>38190.78</td>\n",
       "      <td>0</td>\n",
       "    </tr>\n",
       "  </tbody>\n",
       "</table>\n",
       "<p>909 rows × 14 columns</p>\n",
       "</div>"
      ],
      "text/plain": [
       "      RowNumber  CustomerId    Surname  CreditScore Geography  Gender  Age  \\\n",
       "30           31    15589475    Azikiwe          591     Spain  Female   39   \n",
       "48           49    15766205        Yin          550   Germany    Male   38   \n",
       "51           52    15768193  Trevisani          585   Germany    Male   36   \n",
       "53           54    15702298   Parkhill          655   Germany    Male   41   \n",
       "60           61    15651280     Hunter          742   Germany    Male   35   \n",
       "...         ...         ...        ...          ...       ...     ...  ...   \n",
       "9944       9945    15703923    Cameron          744   Germany    Male   41   \n",
       "9956       9957    15707861      Nucci          520    France  Female   46   \n",
       "9964       9965    15642785    Douglas          479    France    Male   34   \n",
       "9985       9986    15586914     Nepean          659    France    Male   36   \n",
       "9999      10000    15628319     Walker          792    France  Female   28   \n",
       "\n",
       "      Tenure    Balance  NumOfProducts  HasCrCard  IsActiveMember  \\\n",
       "30       NaN       0.00              3          1               0   \n",
       "48       NaN  103391.38              1          0               1   \n",
       "51       NaN  146050.97              2          0               0   \n",
       "53       NaN  125561.97              1          0               0   \n",
       "60       NaN  136857.00              1          0               0   \n",
       "...      ...        ...            ...        ...             ...   \n",
       "9944     NaN  190409.34              2          1               1   \n",
       "9956     NaN   85216.61              1          1               0   \n",
       "9964     NaN  117593.48              2          0               0   \n",
       "9985     NaN  123841.49              2          1               0   \n",
       "9999     NaN  130142.79              1          1               0   \n",
       "\n",
       "      EstimatedSalary  Exited  \n",
       "30          140469.38       1  \n",
       "48           90878.13       0  \n",
       "51           86424.57       0  \n",
       "53          164040.94       1  \n",
       "60           84509.57       0  \n",
       "...               ...     ...  \n",
       "9944        138361.48       0  \n",
       "9956        117369.52       1  \n",
       "9964        113308.29       0  \n",
       "9985         96833.00       0  \n",
       "9999         38190.78       0  \n",
       "\n",
       "[909 rows x 14 columns]"
      ]
     },
     "execution_count": 5,
     "metadata": {},
     "output_type": "execute_result"
    }
   ],
   "source": [
    "df[df.Tenure.isna()]"
   ]
  },
  {
   "cell_type": "code",
   "execution_count": 6,
   "metadata": {
    "scrolled": false
   },
   "outputs": [
    {
     "data": {
      "text/html": [
       "<div>\n",
       "<style scoped>\n",
       "    .dataframe tbody tr th:only-of-type {\n",
       "        vertical-align: middle;\n",
       "    }\n",
       "\n",
       "    .dataframe tbody tr th {\n",
       "        vertical-align: top;\n",
       "    }\n",
       "\n",
       "    .dataframe thead th {\n",
       "        text-align: right;\n",
       "    }\n",
       "</style>\n",
       "<table border=\"1\" class=\"dataframe\">\n",
       "  <thead>\n",
       "    <tr style=\"text-align: right;\">\n",
       "      <th></th>\n",
       "      <th>RowNumber</th>\n",
       "      <th>CustomerId</th>\n",
       "      <th>Surname</th>\n",
       "      <th>CreditScore</th>\n",
       "      <th>Geography</th>\n",
       "      <th>Gender</th>\n",
       "      <th>Age</th>\n",
       "      <th>Tenure</th>\n",
       "      <th>Balance</th>\n",
       "      <th>NumOfProducts</th>\n",
       "      <th>HasCrCard</th>\n",
       "      <th>IsActiveMember</th>\n",
       "      <th>EstimatedSalary</th>\n",
       "      <th>Exited</th>\n",
       "    </tr>\n",
       "  </thead>\n",
       "  <tbody>\n",
       "    <tr>\n",
       "      <th>0</th>\n",
       "      <td>1</td>\n",
       "      <td>15634602</td>\n",
       "      <td>Hargrave</td>\n",
       "      <td>619</td>\n",
       "      <td>France</td>\n",
       "      <td>Female</td>\n",
       "      <td>42</td>\n",
       "      <td>2.0</td>\n",
       "      <td>0.00</td>\n",
       "      <td>1</td>\n",
       "      <td>1</td>\n",
       "      <td>1</td>\n",
       "      <td>101348.88</td>\n",
       "      <td>1</td>\n",
       "    </tr>\n",
       "    <tr>\n",
       "      <th>1</th>\n",
       "      <td>2</td>\n",
       "      <td>15647311</td>\n",
       "      <td>Hill</td>\n",
       "      <td>608</td>\n",
       "      <td>Spain</td>\n",
       "      <td>Female</td>\n",
       "      <td>41</td>\n",
       "      <td>1.0</td>\n",
       "      <td>83807.86</td>\n",
       "      <td>1</td>\n",
       "      <td>0</td>\n",
       "      <td>1</td>\n",
       "      <td>112542.58</td>\n",
       "      <td>0</td>\n",
       "    </tr>\n",
       "    <tr>\n",
       "      <th>2</th>\n",
       "      <td>3</td>\n",
       "      <td>15619304</td>\n",
       "      <td>Onio</td>\n",
       "      <td>502</td>\n",
       "      <td>France</td>\n",
       "      <td>Female</td>\n",
       "      <td>42</td>\n",
       "      <td>8.0</td>\n",
       "      <td>159660.80</td>\n",
       "      <td>3</td>\n",
       "      <td>1</td>\n",
       "      <td>0</td>\n",
       "      <td>113931.57</td>\n",
       "      <td>1</td>\n",
       "    </tr>\n",
       "    <tr>\n",
       "      <th>3</th>\n",
       "      <td>4</td>\n",
       "      <td>15701354</td>\n",
       "      <td>Boni</td>\n",
       "      <td>699</td>\n",
       "      <td>France</td>\n",
       "      <td>Female</td>\n",
       "      <td>39</td>\n",
       "      <td>1.0</td>\n",
       "      <td>0.00</td>\n",
       "      <td>2</td>\n",
       "      <td>0</td>\n",
       "      <td>0</td>\n",
       "      <td>93826.63</td>\n",
       "      <td>0</td>\n",
       "    </tr>\n",
       "    <tr>\n",
       "      <th>4</th>\n",
       "      <td>5</td>\n",
       "      <td>15737888</td>\n",
       "      <td>Mitchell</td>\n",
       "      <td>850</td>\n",
       "      <td>Spain</td>\n",
       "      <td>Female</td>\n",
       "      <td>43</td>\n",
       "      <td>2.0</td>\n",
       "      <td>125510.82</td>\n",
       "      <td>1</td>\n",
       "      <td>1</td>\n",
       "      <td>1</td>\n",
       "      <td>79084.10</td>\n",
       "      <td>0</td>\n",
       "    </tr>\n",
       "    <tr>\n",
       "      <th>...</th>\n",
       "      <td>...</td>\n",
       "      <td>...</td>\n",
       "      <td>...</td>\n",
       "      <td>...</td>\n",
       "      <td>...</td>\n",
       "      <td>...</td>\n",
       "      <td>...</td>\n",
       "      <td>...</td>\n",
       "      <td>...</td>\n",
       "      <td>...</td>\n",
       "      <td>...</td>\n",
       "      <td>...</td>\n",
       "      <td>...</td>\n",
       "      <td>...</td>\n",
       "    </tr>\n",
       "    <tr>\n",
       "      <th>9994</th>\n",
       "      <td>9995</td>\n",
       "      <td>15719294</td>\n",
       "      <td>Wood</td>\n",
       "      <td>800</td>\n",
       "      <td>France</td>\n",
       "      <td>Female</td>\n",
       "      <td>29</td>\n",
       "      <td>2.0</td>\n",
       "      <td>0.00</td>\n",
       "      <td>2</td>\n",
       "      <td>0</td>\n",
       "      <td>0</td>\n",
       "      <td>167773.55</td>\n",
       "      <td>0</td>\n",
       "    </tr>\n",
       "    <tr>\n",
       "      <th>9995</th>\n",
       "      <td>9996</td>\n",
       "      <td>15606229</td>\n",
       "      <td>Obijiaku</td>\n",
       "      <td>771</td>\n",
       "      <td>France</td>\n",
       "      <td>Male</td>\n",
       "      <td>39</td>\n",
       "      <td>5.0</td>\n",
       "      <td>0.00</td>\n",
       "      <td>2</td>\n",
       "      <td>1</td>\n",
       "      <td>0</td>\n",
       "      <td>96270.64</td>\n",
       "      <td>0</td>\n",
       "    </tr>\n",
       "    <tr>\n",
       "      <th>9996</th>\n",
       "      <td>9997</td>\n",
       "      <td>15569892</td>\n",
       "      <td>Johnstone</td>\n",
       "      <td>516</td>\n",
       "      <td>France</td>\n",
       "      <td>Male</td>\n",
       "      <td>35</td>\n",
       "      <td>10.0</td>\n",
       "      <td>57369.61</td>\n",
       "      <td>1</td>\n",
       "      <td>1</td>\n",
       "      <td>1</td>\n",
       "      <td>101699.77</td>\n",
       "      <td>0</td>\n",
       "    </tr>\n",
       "    <tr>\n",
       "      <th>9997</th>\n",
       "      <td>9998</td>\n",
       "      <td>15584532</td>\n",
       "      <td>Liu</td>\n",
       "      <td>709</td>\n",
       "      <td>France</td>\n",
       "      <td>Female</td>\n",
       "      <td>36</td>\n",
       "      <td>7.0</td>\n",
       "      <td>0.00</td>\n",
       "      <td>1</td>\n",
       "      <td>0</td>\n",
       "      <td>1</td>\n",
       "      <td>42085.58</td>\n",
       "      <td>1</td>\n",
       "    </tr>\n",
       "    <tr>\n",
       "      <th>9998</th>\n",
       "      <td>9999</td>\n",
       "      <td>15682355</td>\n",
       "      <td>Sabbatini</td>\n",
       "      <td>772</td>\n",
       "      <td>Germany</td>\n",
       "      <td>Male</td>\n",
       "      <td>42</td>\n",
       "      <td>3.0</td>\n",
       "      <td>75075.31</td>\n",
       "      <td>2</td>\n",
       "      <td>1</td>\n",
       "      <td>0</td>\n",
       "      <td>92888.52</td>\n",
       "      <td>1</td>\n",
       "    </tr>\n",
       "  </tbody>\n",
       "</table>\n",
       "<p>9091 rows × 14 columns</p>\n",
       "</div>"
      ],
      "text/plain": [
       "      RowNumber  CustomerId    Surname  CreditScore Geography  Gender  Age  \\\n",
       "0             1    15634602   Hargrave          619    France  Female   42   \n",
       "1             2    15647311       Hill          608     Spain  Female   41   \n",
       "2             3    15619304       Onio          502    France  Female   42   \n",
       "3             4    15701354       Boni          699    France  Female   39   \n",
       "4             5    15737888   Mitchell          850     Spain  Female   43   \n",
       "...         ...         ...        ...          ...       ...     ...  ...   \n",
       "9994       9995    15719294       Wood          800    France  Female   29   \n",
       "9995       9996    15606229   Obijiaku          771    France    Male   39   \n",
       "9996       9997    15569892  Johnstone          516    France    Male   35   \n",
       "9997       9998    15584532        Liu          709    France  Female   36   \n",
       "9998       9999    15682355  Sabbatini          772   Germany    Male   42   \n",
       "\n",
       "      Tenure    Balance  NumOfProducts  HasCrCard  IsActiveMember  \\\n",
       "0        2.0       0.00              1          1               1   \n",
       "1        1.0   83807.86              1          0               1   \n",
       "2        8.0  159660.80              3          1               0   \n",
       "3        1.0       0.00              2          0               0   \n",
       "4        2.0  125510.82              1          1               1   \n",
       "...      ...        ...            ...        ...             ...   \n",
       "9994     2.0       0.00              2          0               0   \n",
       "9995     5.0       0.00              2          1               0   \n",
       "9996    10.0   57369.61              1          1               1   \n",
       "9997     7.0       0.00              1          0               1   \n",
       "9998     3.0   75075.31              2          1               0   \n",
       "\n",
       "      EstimatedSalary  Exited  \n",
       "0           101348.88       1  \n",
       "1           112542.58       0  \n",
       "2           113931.57       1  \n",
       "3            93826.63       0  \n",
       "4            79084.10       0  \n",
       "...               ...     ...  \n",
       "9994        167773.55       0  \n",
       "9995         96270.64       0  \n",
       "9996        101699.77       0  \n",
       "9997         42085.58       1  \n",
       "9998         92888.52       1  \n",
       "\n",
       "[9091 rows x 14 columns]"
      ]
     },
     "execution_count": 6,
     "metadata": {},
     "output_type": "execute_result"
    }
   ],
   "source": [
    "df[df['Tenure'].notna()]"
   ]
  },
  {
   "cell_type": "code",
   "execution_count": 7,
   "metadata": {},
   "outputs": [
    {
     "name": "stdout",
     "output_type": "stream",
     "text": [
      "count    9091.000000\n",
      "mean        4.997690\n",
      "std         2.894723\n",
      "min         0.000000\n",
      "25%         2.000000\n",
      "50%         5.000000\n",
      "75%         7.000000\n",
      "max        10.000000\n",
      "Name: Tenure, dtype: float64\n"
     ]
    }
   ],
   "source": [
    "print(df.Tenure.describe())"
   ]
  },
  {
   "cell_type": "markdown",
   "metadata": {},
   "source": [
    "It looks like the values from the Tenure column are evenly spread without any outliers, which means I can safely change the NaN values to the mean of the column."
   ]
  },
  {
   "cell_type": "code",
   "execution_count": 8,
   "metadata": {},
   "outputs": [],
   "source": [
    "df.Tenure = df['Tenure'].fillna(df.Tenure.mean()).round(2)"
   ]
  },
  {
   "cell_type": "code",
   "execution_count": 9,
   "metadata": {},
   "outputs": [
    {
     "data": {
      "text/html": [
       "<div>\n",
       "<style scoped>\n",
       "    .dataframe tbody tr th:only-of-type {\n",
       "        vertical-align: middle;\n",
       "    }\n",
       "\n",
       "    .dataframe tbody tr th {\n",
       "        vertical-align: top;\n",
       "    }\n",
       "\n",
       "    .dataframe thead th {\n",
       "        text-align: right;\n",
       "    }\n",
       "</style>\n",
       "<table border=\"1\" class=\"dataframe\">\n",
       "  <thead>\n",
       "    <tr style=\"text-align: right;\">\n",
       "      <th></th>\n",
       "      <th>RowNumber</th>\n",
       "      <th>CustomerId</th>\n",
       "      <th>Surname</th>\n",
       "      <th>CreditScore</th>\n",
       "      <th>Geography</th>\n",
       "      <th>Gender</th>\n",
       "      <th>Age</th>\n",
       "      <th>Tenure</th>\n",
       "      <th>Balance</th>\n",
       "      <th>NumOfProducts</th>\n",
       "      <th>HasCrCard</th>\n",
       "      <th>IsActiveMember</th>\n",
       "      <th>EstimatedSalary</th>\n",
       "      <th>Exited</th>\n",
       "    </tr>\n",
       "  </thead>\n",
       "  <tbody>\n",
       "    <tr>\n",
       "      <th>9985</th>\n",
       "      <td>9986</td>\n",
       "      <td>15586914</td>\n",
       "      <td>Nepean</td>\n",
       "      <td>659</td>\n",
       "      <td>France</td>\n",
       "      <td>Male</td>\n",
       "      <td>36</td>\n",
       "      <td>5.0</td>\n",
       "      <td>123841.49</td>\n",
       "      <td>2</td>\n",
       "      <td>1</td>\n",
       "      <td>0</td>\n",
       "      <td>96833.00</td>\n",
       "      <td>0</td>\n",
       "    </tr>\n",
       "    <tr>\n",
       "      <th>9986</th>\n",
       "      <td>9987</td>\n",
       "      <td>15581736</td>\n",
       "      <td>Bartlett</td>\n",
       "      <td>673</td>\n",
       "      <td>Germany</td>\n",
       "      <td>Male</td>\n",
       "      <td>47</td>\n",
       "      <td>1.0</td>\n",
       "      <td>183579.54</td>\n",
       "      <td>2</td>\n",
       "      <td>0</td>\n",
       "      <td>1</td>\n",
       "      <td>34047.54</td>\n",
       "      <td>0</td>\n",
       "    </tr>\n",
       "    <tr>\n",
       "      <th>9987</th>\n",
       "      <td>9988</td>\n",
       "      <td>15588839</td>\n",
       "      <td>Mancini</td>\n",
       "      <td>606</td>\n",
       "      <td>Spain</td>\n",
       "      <td>Male</td>\n",
       "      <td>30</td>\n",
       "      <td>8.0</td>\n",
       "      <td>180307.73</td>\n",
       "      <td>2</td>\n",
       "      <td>1</td>\n",
       "      <td>1</td>\n",
       "      <td>1914.41</td>\n",
       "      <td>0</td>\n",
       "    </tr>\n",
       "    <tr>\n",
       "      <th>9988</th>\n",
       "      <td>9989</td>\n",
       "      <td>15589329</td>\n",
       "      <td>Pirozzi</td>\n",
       "      <td>775</td>\n",
       "      <td>France</td>\n",
       "      <td>Male</td>\n",
       "      <td>30</td>\n",
       "      <td>4.0</td>\n",
       "      <td>0.00</td>\n",
       "      <td>2</td>\n",
       "      <td>1</td>\n",
       "      <td>0</td>\n",
       "      <td>49337.84</td>\n",
       "      <td>0</td>\n",
       "    </tr>\n",
       "    <tr>\n",
       "      <th>9989</th>\n",
       "      <td>9990</td>\n",
       "      <td>15605622</td>\n",
       "      <td>McMillan</td>\n",
       "      <td>841</td>\n",
       "      <td>Spain</td>\n",
       "      <td>Male</td>\n",
       "      <td>28</td>\n",
       "      <td>4.0</td>\n",
       "      <td>0.00</td>\n",
       "      <td>2</td>\n",
       "      <td>1</td>\n",
       "      <td>1</td>\n",
       "      <td>179436.60</td>\n",
       "      <td>0</td>\n",
       "    </tr>\n",
       "    <tr>\n",
       "      <th>9990</th>\n",
       "      <td>9991</td>\n",
       "      <td>15798964</td>\n",
       "      <td>Nkemakonam</td>\n",
       "      <td>714</td>\n",
       "      <td>Germany</td>\n",
       "      <td>Male</td>\n",
       "      <td>33</td>\n",
       "      <td>3.0</td>\n",
       "      <td>35016.60</td>\n",
       "      <td>1</td>\n",
       "      <td>1</td>\n",
       "      <td>0</td>\n",
       "      <td>53667.08</td>\n",
       "      <td>0</td>\n",
       "    </tr>\n",
       "    <tr>\n",
       "      <th>9991</th>\n",
       "      <td>9992</td>\n",
       "      <td>15769959</td>\n",
       "      <td>Ajuluchukwu</td>\n",
       "      <td>597</td>\n",
       "      <td>France</td>\n",
       "      <td>Female</td>\n",
       "      <td>53</td>\n",
       "      <td>4.0</td>\n",
       "      <td>88381.21</td>\n",
       "      <td>1</td>\n",
       "      <td>1</td>\n",
       "      <td>0</td>\n",
       "      <td>69384.71</td>\n",
       "      <td>1</td>\n",
       "    </tr>\n",
       "    <tr>\n",
       "      <th>9992</th>\n",
       "      <td>9993</td>\n",
       "      <td>15657105</td>\n",
       "      <td>Chukwualuka</td>\n",
       "      <td>726</td>\n",
       "      <td>Spain</td>\n",
       "      <td>Male</td>\n",
       "      <td>36</td>\n",
       "      <td>2.0</td>\n",
       "      <td>0.00</td>\n",
       "      <td>1</td>\n",
       "      <td>1</td>\n",
       "      <td>0</td>\n",
       "      <td>195192.40</td>\n",
       "      <td>0</td>\n",
       "    </tr>\n",
       "    <tr>\n",
       "      <th>9993</th>\n",
       "      <td>9994</td>\n",
       "      <td>15569266</td>\n",
       "      <td>Rahman</td>\n",
       "      <td>644</td>\n",
       "      <td>France</td>\n",
       "      <td>Male</td>\n",
       "      <td>28</td>\n",
       "      <td>7.0</td>\n",
       "      <td>155060.41</td>\n",
       "      <td>1</td>\n",
       "      <td>1</td>\n",
       "      <td>0</td>\n",
       "      <td>29179.52</td>\n",
       "      <td>0</td>\n",
       "    </tr>\n",
       "    <tr>\n",
       "      <th>9994</th>\n",
       "      <td>9995</td>\n",
       "      <td>15719294</td>\n",
       "      <td>Wood</td>\n",
       "      <td>800</td>\n",
       "      <td>France</td>\n",
       "      <td>Female</td>\n",
       "      <td>29</td>\n",
       "      <td>2.0</td>\n",
       "      <td>0.00</td>\n",
       "      <td>2</td>\n",
       "      <td>0</td>\n",
       "      <td>0</td>\n",
       "      <td>167773.55</td>\n",
       "      <td>0</td>\n",
       "    </tr>\n",
       "    <tr>\n",
       "      <th>9995</th>\n",
       "      <td>9996</td>\n",
       "      <td>15606229</td>\n",
       "      <td>Obijiaku</td>\n",
       "      <td>771</td>\n",
       "      <td>France</td>\n",
       "      <td>Male</td>\n",
       "      <td>39</td>\n",
       "      <td>5.0</td>\n",
       "      <td>0.00</td>\n",
       "      <td>2</td>\n",
       "      <td>1</td>\n",
       "      <td>0</td>\n",
       "      <td>96270.64</td>\n",
       "      <td>0</td>\n",
       "    </tr>\n",
       "    <tr>\n",
       "      <th>9996</th>\n",
       "      <td>9997</td>\n",
       "      <td>15569892</td>\n",
       "      <td>Johnstone</td>\n",
       "      <td>516</td>\n",
       "      <td>France</td>\n",
       "      <td>Male</td>\n",
       "      <td>35</td>\n",
       "      <td>10.0</td>\n",
       "      <td>57369.61</td>\n",
       "      <td>1</td>\n",
       "      <td>1</td>\n",
       "      <td>1</td>\n",
       "      <td>101699.77</td>\n",
       "      <td>0</td>\n",
       "    </tr>\n",
       "    <tr>\n",
       "      <th>9997</th>\n",
       "      <td>9998</td>\n",
       "      <td>15584532</td>\n",
       "      <td>Liu</td>\n",
       "      <td>709</td>\n",
       "      <td>France</td>\n",
       "      <td>Female</td>\n",
       "      <td>36</td>\n",
       "      <td>7.0</td>\n",
       "      <td>0.00</td>\n",
       "      <td>1</td>\n",
       "      <td>0</td>\n",
       "      <td>1</td>\n",
       "      <td>42085.58</td>\n",
       "      <td>1</td>\n",
       "    </tr>\n",
       "    <tr>\n",
       "      <th>9998</th>\n",
       "      <td>9999</td>\n",
       "      <td>15682355</td>\n",
       "      <td>Sabbatini</td>\n",
       "      <td>772</td>\n",
       "      <td>Germany</td>\n",
       "      <td>Male</td>\n",
       "      <td>42</td>\n",
       "      <td>3.0</td>\n",
       "      <td>75075.31</td>\n",
       "      <td>2</td>\n",
       "      <td>1</td>\n",
       "      <td>0</td>\n",
       "      <td>92888.52</td>\n",
       "      <td>1</td>\n",
       "    </tr>\n",
       "    <tr>\n",
       "      <th>9999</th>\n",
       "      <td>10000</td>\n",
       "      <td>15628319</td>\n",
       "      <td>Walker</td>\n",
       "      <td>792</td>\n",
       "      <td>France</td>\n",
       "      <td>Female</td>\n",
       "      <td>28</td>\n",
       "      <td>5.0</td>\n",
       "      <td>130142.79</td>\n",
       "      <td>1</td>\n",
       "      <td>1</td>\n",
       "      <td>0</td>\n",
       "      <td>38190.78</td>\n",
       "      <td>0</td>\n",
       "    </tr>\n",
       "  </tbody>\n",
       "</table>\n",
       "</div>"
      ],
      "text/plain": [
       "      RowNumber  CustomerId      Surname  CreditScore Geography  Gender  Age  \\\n",
       "9985       9986    15586914       Nepean          659    France    Male   36   \n",
       "9986       9987    15581736     Bartlett          673   Germany    Male   47   \n",
       "9987       9988    15588839      Mancini          606     Spain    Male   30   \n",
       "9988       9989    15589329      Pirozzi          775    France    Male   30   \n",
       "9989       9990    15605622     McMillan          841     Spain    Male   28   \n",
       "9990       9991    15798964   Nkemakonam          714   Germany    Male   33   \n",
       "9991       9992    15769959  Ajuluchukwu          597    France  Female   53   \n",
       "9992       9993    15657105  Chukwualuka          726     Spain    Male   36   \n",
       "9993       9994    15569266       Rahman          644    France    Male   28   \n",
       "9994       9995    15719294         Wood          800    France  Female   29   \n",
       "9995       9996    15606229     Obijiaku          771    France    Male   39   \n",
       "9996       9997    15569892    Johnstone          516    France    Male   35   \n",
       "9997       9998    15584532          Liu          709    France  Female   36   \n",
       "9998       9999    15682355    Sabbatini          772   Germany    Male   42   \n",
       "9999      10000    15628319       Walker          792    France  Female   28   \n",
       "\n",
       "      Tenure    Balance  NumOfProducts  HasCrCard  IsActiveMember  \\\n",
       "9985     5.0  123841.49              2          1               0   \n",
       "9986     1.0  183579.54              2          0               1   \n",
       "9987     8.0  180307.73              2          1               1   \n",
       "9988     4.0       0.00              2          1               0   \n",
       "9989     4.0       0.00              2          1               1   \n",
       "9990     3.0   35016.60              1          1               0   \n",
       "9991     4.0   88381.21              1          1               0   \n",
       "9992     2.0       0.00              1          1               0   \n",
       "9993     7.0  155060.41              1          1               0   \n",
       "9994     2.0       0.00              2          0               0   \n",
       "9995     5.0       0.00              2          1               0   \n",
       "9996    10.0   57369.61              1          1               1   \n",
       "9997     7.0       0.00              1          0               1   \n",
       "9998     3.0   75075.31              2          1               0   \n",
       "9999     5.0  130142.79              1          1               0   \n",
       "\n",
       "      EstimatedSalary  Exited  \n",
       "9985         96833.00       0  \n",
       "9986         34047.54       0  \n",
       "9987          1914.41       0  \n",
       "9988         49337.84       0  \n",
       "9989        179436.60       0  \n",
       "9990         53667.08       0  \n",
       "9991         69384.71       1  \n",
       "9992        195192.40       0  \n",
       "9993         29179.52       0  \n",
       "9994        167773.55       0  \n",
       "9995         96270.64       0  \n",
       "9996        101699.77       0  \n",
       "9997         42085.58       1  \n",
       "9998         92888.52       1  \n",
       "9999         38190.78       0  "
      ]
     },
     "execution_count": 9,
     "metadata": {},
     "output_type": "execute_result"
    }
   ],
   "source": [
    "df.tail(15)"
   ]
  },
  {
   "cell_type": "code",
   "execution_count": 10,
   "metadata": {},
   "outputs": [
    {
     "name": "stdout",
     "output_type": "stream",
     "text": [
      "<class 'pandas.core.frame.DataFrame'>\n",
      "RangeIndex: 10000 entries, 0 to 9999\n",
      "Data columns (total 14 columns):\n",
      " #   Column           Non-Null Count  Dtype  \n",
      "---  ------           --------------  -----  \n",
      " 0   RowNumber        10000 non-null  int64  \n",
      " 1   CustomerId       10000 non-null  int64  \n",
      " 2   Surname          10000 non-null  object \n",
      " 3   CreditScore      10000 non-null  int64  \n",
      " 4   Geography        10000 non-null  object \n",
      " 5   Gender           10000 non-null  object \n",
      " 6   Age              10000 non-null  int64  \n",
      " 7   Tenure           10000 non-null  float64\n",
      " 8   Balance          10000 non-null  float64\n",
      " 9   NumOfProducts    10000 non-null  int64  \n",
      " 10  HasCrCard        10000 non-null  int64  \n",
      " 11  IsActiveMember   10000 non-null  int64  \n",
      " 12  EstimatedSalary  10000 non-null  float64\n",
      " 13  Exited           10000 non-null  int64  \n",
      "dtypes: float64(3), int64(8), object(3)\n",
      "memory usage: 1.1+ MB\n"
     ]
    }
   ],
   "source": [
    "df.info()"
   ]
  },
  {
   "cell_type": "markdown",
   "metadata": {},
   "source": [
    "Now all the values are filled and are ready to be worked on."
   ]
  },
  {
   "cell_type": "markdown",
   "metadata": {},
   "source": [
    "## Model Selection and Training"
   ]
  },
  {
   "cell_type": "markdown",
   "metadata": {},
   "source": [
    "Now I will be working on making the target and feature frames, and try to include and/or exclude unused columns."
   ]
  },
  {
   "cell_type": "code",
   "execution_count": 11,
   "metadata": {},
   "outputs": [
    {
     "data": {
      "text/html": [
       "<div>\n",
       "<style scoped>\n",
       "    .dataframe tbody tr th:only-of-type {\n",
       "        vertical-align: middle;\n",
       "    }\n",
       "\n",
       "    .dataframe tbody tr th {\n",
       "        vertical-align: top;\n",
       "    }\n",
       "\n",
       "    .dataframe thead th {\n",
       "        text-align: right;\n",
       "    }\n",
       "</style>\n",
       "<table border=\"1\" class=\"dataframe\">\n",
       "  <thead>\n",
       "    <tr style=\"text-align: right;\">\n",
       "      <th></th>\n",
       "      <th>RowNumber</th>\n",
       "      <th>CustomerId</th>\n",
       "      <th>Surname</th>\n",
       "      <th>CreditScore</th>\n",
       "      <th>Geography</th>\n",
       "      <th>Gender</th>\n",
       "      <th>Age</th>\n",
       "      <th>Tenure</th>\n",
       "      <th>Balance</th>\n",
       "      <th>NumOfProducts</th>\n",
       "      <th>HasCrCard</th>\n",
       "      <th>IsActiveMember</th>\n",
       "      <th>EstimatedSalary</th>\n",
       "      <th>Exited</th>\n",
       "    </tr>\n",
       "  </thead>\n",
       "  <tbody>\n",
       "    <tr>\n",
       "      <th>0</th>\n",
       "      <td>1</td>\n",
       "      <td>15634602</td>\n",
       "      <td>Hargrave</td>\n",
       "      <td>619</td>\n",
       "      <td>France</td>\n",
       "      <td>Female</td>\n",
       "      <td>42</td>\n",
       "      <td>2.0</td>\n",
       "      <td>0.00</td>\n",
       "      <td>1</td>\n",
       "      <td>1</td>\n",
       "      <td>1</td>\n",
       "      <td>101348.88</td>\n",
       "      <td>1</td>\n",
       "    </tr>\n",
       "    <tr>\n",
       "      <th>1</th>\n",
       "      <td>2</td>\n",
       "      <td>15647311</td>\n",
       "      <td>Hill</td>\n",
       "      <td>608</td>\n",
       "      <td>Spain</td>\n",
       "      <td>Female</td>\n",
       "      <td>41</td>\n",
       "      <td>1.0</td>\n",
       "      <td>83807.86</td>\n",
       "      <td>1</td>\n",
       "      <td>0</td>\n",
       "      <td>1</td>\n",
       "      <td>112542.58</td>\n",
       "      <td>0</td>\n",
       "    </tr>\n",
       "    <tr>\n",
       "      <th>2</th>\n",
       "      <td>3</td>\n",
       "      <td>15619304</td>\n",
       "      <td>Onio</td>\n",
       "      <td>502</td>\n",
       "      <td>France</td>\n",
       "      <td>Female</td>\n",
       "      <td>42</td>\n",
       "      <td>8.0</td>\n",
       "      <td>159660.80</td>\n",
       "      <td>3</td>\n",
       "      <td>1</td>\n",
       "      <td>0</td>\n",
       "      <td>113931.57</td>\n",
       "      <td>1</td>\n",
       "    </tr>\n",
       "    <tr>\n",
       "      <th>3</th>\n",
       "      <td>4</td>\n",
       "      <td>15701354</td>\n",
       "      <td>Boni</td>\n",
       "      <td>699</td>\n",
       "      <td>France</td>\n",
       "      <td>Female</td>\n",
       "      <td>39</td>\n",
       "      <td>1.0</td>\n",
       "      <td>0.00</td>\n",
       "      <td>2</td>\n",
       "      <td>0</td>\n",
       "      <td>0</td>\n",
       "      <td>93826.63</td>\n",
       "      <td>0</td>\n",
       "    </tr>\n",
       "    <tr>\n",
       "      <th>4</th>\n",
       "      <td>5</td>\n",
       "      <td>15737888</td>\n",
       "      <td>Mitchell</td>\n",
       "      <td>850</td>\n",
       "      <td>Spain</td>\n",
       "      <td>Female</td>\n",
       "      <td>43</td>\n",
       "      <td>2.0</td>\n",
       "      <td>125510.82</td>\n",
       "      <td>1</td>\n",
       "      <td>1</td>\n",
       "      <td>1</td>\n",
       "      <td>79084.10</td>\n",
       "      <td>0</td>\n",
       "    </tr>\n",
       "    <tr>\n",
       "      <th>5</th>\n",
       "      <td>6</td>\n",
       "      <td>15574012</td>\n",
       "      <td>Chu</td>\n",
       "      <td>645</td>\n",
       "      <td>Spain</td>\n",
       "      <td>Male</td>\n",
       "      <td>44</td>\n",
       "      <td>8.0</td>\n",
       "      <td>113755.78</td>\n",
       "      <td>2</td>\n",
       "      <td>1</td>\n",
       "      <td>0</td>\n",
       "      <td>149756.71</td>\n",
       "      <td>1</td>\n",
       "    </tr>\n",
       "    <tr>\n",
       "      <th>6</th>\n",
       "      <td>7</td>\n",
       "      <td>15592531</td>\n",
       "      <td>Bartlett</td>\n",
       "      <td>822</td>\n",
       "      <td>France</td>\n",
       "      <td>Male</td>\n",
       "      <td>50</td>\n",
       "      <td>7.0</td>\n",
       "      <td>0.00</td>\n",
       "      <td>2</td>\n",
       "      <td>1</td>\n",
       "      <td>1</td>\n",
       "      <td>10062.80</td>\n",
       "      <td>0</td>\n",
       "    </tr>\n",
       "    <tr>\n",
       "      <th>7</th>\n",
       "      <td>8</td>\n",
       "      <td>15656148</td>\n",
       "      <td>Obinna</td>\n",
       "      <td>376</td>\n",
       "      <td>Germany</td>\n",
       "      <td>Female</td>\n",
       "      <td>29</td>\n",
       "      <td>4.0</td>\n",
       "      <td>115046.74</td>\n",
       "      <td>4</td>\n",
       "      <td>1</td>\n",
       "      <td>0</td>\n",
       "      <td>119346.88</td>\n",
       "      <td>1</td>\n",
       "    </tr>\n",
       "    <tr>\n",
       "      <th>8</th>\n",
       "      <td>9</td>\n",
       "      <td>15792365</td>\n",
       "      <td>He</td>\n",
       "      <td>501</td>\n",
       "      <td>France</td>\n",
       "      <td>Male</td>\n",
       "      <td>44</td>\n",
       "      <td>4.0</td>\n",
       "      <td>142051.07</td>\n",
       "      <td>2</td>\n",
       "      <td>0</td>\n",
       "      <td>1</td>\n",
       "      <td>74940.50</td>\n",
       "      <td>0</td>\n",
       "    </tr>\n",
       "    <tr>\n",
       "      <th>9</th>\n",
       "      <td>10</td>\n",
       "      <td>15592389</td>\n",
       "      <td>H?</td>\n",
       "      <td>684</td>\n",
       "      <td>France</td>\n",
       "      <td>Male</td>\n",
       "      <td>27</td>\n",
       "      <td>2.0</td>\n",
       "      <td>134603.88</td>\n",
       "      <td>1</td>\n",
       "      <td>1</td>\n",
       "      <td>1</td>\n",
       "      <td>71725.73</td>\n",
       "      <td>0</td>\n",
       "    </tr>\n",
       "  </tbody>\n",
       "</table>\n",
       "</div>"
      ],
      "text/plain": [
       "   RowNumber  CustomerId   Surname  CreditScore Geography  Gender  Age  \\\n",
       "0          1    15634602  Hargrave          619    France  Female   42   \n",
       "1          2    15647311      Hill          608     Spain  Female   41   \n",
       "2          3    15619304      Onio          502    France  Female   42   \n",
       "3          4    15701354      Boni          699    France  Female   39   \n",
       "4          5    15737888  Mitchell          850     Spain  Female   43   \n",
       "5          6    15574012       Chu          645     Spain    Male   44   \n",
       "6          7    15592531  Bartlett          822    France    Male   50   \n",
       "7          8    15656148    Obinna          376   Germany  Female   29   \n",
       "8          9    15792365        He          501    France    Male   44   \n",
       "9         10    15592389        H?          684    France    Male   27   \n",
       "\n",
       "   Tenure    Balance  NumOfProducts  HasCrCard  IsActiveMember  \\\n",
       "0     2.0       0.00              1          1               1   \n",
       "1     1.0   83807.86              1          0               1   \n",
       "2     8.0  159660.80              3          1               0   \n",
       "3     1.0       0.00              2          0               0   \n",
       "4     2.0  125510.82              1          1               1   \n",
       "5     8.0  113755.78              2          1               0   \n",
       "6     7.0       0.00              2          1               1   \n",
       "7     4.0  115046.74              4          1               0   \n",
       "8     4.0  142051.07              2          0               1   \n",
       "9     2.0  134603.88              1          1               1   \n",
       "\n",
       "   EstimatedSalary  Exited  \n",
       "0        101348.88       1  \n",
       "1        112542.58       0  \n",
       "2        113931.57       1  \n",
       "3         93826.63       0  \n",
       "4         79084.10       0  \n",
       "5        149756.71       1  \n",
       "6         10062.80       0  \n",
       "7        119346.88       1  \n",
       "8         74940.50       0  \n",
       "9         71725.73       0  "
      ]
     },
     "execution_count": 11,
     "metadata": {},
     "output_type": "execute_result"
    }
   ],
   "source": [
    "df.head(10)"
   ]
  },
  {
   "cell_type": "markdown",
   "metadata": {},
   "source": [
    "It looks like for the training of the model, the column Row Number, Customer Id, and Surname will not be useful for the training so I will be dropping them. Columns such as Geography and Gender are also still objects/strings which I would need to convert to numerical values for the model to understand."
   ]
  },
  {
   "cell_type": "code",
   "execution_count": 12,
   "metadata": {},
   "outputs": [
    {
     "name": "stdout",
     "output_type": "stream",
     "text": [
      "0    7963\n",
      "1    2037\n",
      "Name: Exited, dtype: int64\n"
     ]
    }
   ],
   "source": [
    "# Checking for imbalances\n",
    "class_distribution = df.Exited.value_counts()\n",
    "print(class_distribution)"
   ]
  },
  {
   "cell_type": "markdown",
   "metadata": {},
   "source": [
    "It seems that nearly 20% of customers are closing their accounts. This imbalance in values would lead to poor recall and f1 scores."
   ]
  },
  {
   "cell_type": "code",
   "execution_count": 13,
   "metadata": {},
   "outputs": [
    {
     "data": {
      "text/html": [
       "<div>\n",
       "<style scoped>\n",
       "    .dataframe tbody tr th:only-of-type {\n",
       "        vertical-align: middle;\n",
       "    }\n",
       "\n",
       "    .dataframe tbody tr th {\n",
       "        vertical-align: top;\n",
       "    }\n",
       "\n",
       "    .dataframe thead th {\n",
       "        text-align: right;\n",
       "    }\n",
       "</style>\n",
       "<table border=\"1\" class=\"dataframe\">\n",
       "  <thead>\n",
       "    <tr style=\"text-align: right;\">\n",
       "      <th></th>\n",
       "      <th>CreditScore</th>\n",
       "      <th>Age</th>\n",
       "      <th>Tenure</th>\n",
       "      <th>Balance</th>\n",
       "      <th>NumOfProducts</th>\n",
       "      <th>HasCrCard</th>\n",
       "      <th>IsActiveMember</th>\n",
       "      <th>EstimatedSalary</th>\n",
       "      <th>Female</th>\n",
       "      <th>Male</th>\n",
       "      <th>France</th>\n",
       "      <th>Germany</th>\n",
       "      <th>Spain</th>\n",
       "    </tr>\n",
       "  </thead>\n",
       "  <tbody>\n",
       "    <tr>\n",
       "      <th>0</th>\n",
       "      <td>619</td>\n",
       "      <td>42</td>\n",
       "      <td>2.0</td>\n",
       "      <td>0.00</td>\n",
       "      <td>1</td>\n",
       "      <td>1</td>\n",
       "      <td>1</td>\n",
       "      <td>101348.88</td>\n",
       "      <td>1</td>\n",
       "      <td>0</td>\n",
       "      <td>1</td>\n",
       "      <td>0</td>\n",
       "      <td>0</td>\n",
       "    </tr>\n",
       "    <tr>\n",
       "      <th>1</th>\n",
       "      <td>608</td>\n",
       "      <td>41</td>\n",
       "      <td>1.0</td>\n",
       "      <td>83807.86</td>\n",
       "      <td>1</td>\n",
       "      <td>0</td>\n",
       "      <td>1</td>\n",
       "      <td>112542.58</td>\n",
       "      <td>1</td>\n",
       "      <td>0</td>\n",
       "      <td>0</td>\n",
       "      <td>0</td>\n",
       "      <td>1</td>\n",
       "    </tr>\n",
       "    <tr>\n",
       "      <th>2</th>\n",
       "      <td>502</td>\n",
       "      <td>42</td>\n",
       "      <td>8.0</td>\n",
       "      <td>159660.80</td>\n",
       "      <td>3</td>\n",
       "      <td>1</td>\n",
       "      <td>0</td>\n",
       "      <td>113931.57</td>\n",
       "      <td>1</td>\n",
       "      <td>0</td>\n",
       "      <td>1</td>\n",
       "      <td>0</td>\n",
       "      <td>0</td>\n",
       "    </tr>\n",
       "    <tr>\n",
       "      <th>3</th>\n",
       "      <td>699</td>\n",
       "      <td>39</td>\n",
       "      <td>1.0</td>\n",
       "      <td>0.00</td>\n",
       "      <td>2</td>\n",
       "      <td>0</td>\n",
       "      <td>0</td>\n",
       "      <td>93826.63</td>\n",
       "      <td>1</td>\n",
       "      <td>0</td>\n",
       "      <td>1</td>\n",
       "      <td>0</td>\n",
       "      <td>0</td>\n",
       "    </tr>\n",
       "    <tr>\n",
       "      <th>4</th>\n",
       "      <td>850</td>\n",
       "      <td>43</td>\n",
       "      <td>2.0</td>\n",
       "      <td>125510.82</td>\n",
       "      <td>1</td>\n",
       "      <td>1</td>\n",
       "      <td>1</td>\n",
       "      <td>79084.10</td>\n",
       "      <td>1</td>\n",
       "      <td>0</td>\n",
       "      <td>0</td>\n",
       "      <td>0</td>\n",
       "      <td>1</td>\n",
       "    </tr>\n",
       "    <tr>\n",
       "      <th>5</th>\n",
       "      <td>645</td>\n",
       "      <td>44</td>\n",
       "      <td>8.0</td>\n",
       "      <td>113755.78</td>\n",
       "      <td>2</td>\n",
       "      <td>1</td>\n",
       "      <td>0</td>\n",
       "      <td>149756.71</td>\n",
       "      <td>0</td>\n",
       "      <td>1</td>\n",
       "      <td>0</td>\n",
       "      <td>0</td>\n",
       "      <td>1</td>\n",
       "    </tr>\n",
       "    <tr>\n",
       "      <th>6</th>\n",
       "      <td>822</td>\n",
       "      <td>50</td>\n",
       "      <td>7.0</td>\n",
       "      <td>0.00</td>\n",
       "      <td>2</td>\n",
       "      <td>1</td>\n",
       "      <td>1</td>\n",
       "      <td>10062.80</td>\n",
       "      <td>0</td>\n",
       "      <td>1</td>\n",
       "      <td>1</td>\n",
       "      <td>0</td>\n",
       "      <td>0</td>\n",
       "    </tr>\n",
       "    <tr>\n",
       "      <th>7</th>\n",
       "      <td>376</td>\n",
       "      <td>29</td>\n",
       "      <td>4.0</td>\n",
       "      <td>115046.74</td>\n",
       "      <td>4</td>\n",
       "      <td>1</td>\n",
       "      <td>0</td>\n",
       "      <td>119346.88</td>\n",
       "      <td>1</td>\n",
       "      <td>0</td>\n",
       "      <td>0</td>\n",
       "      <td>1</td>\n",
       "      <td>0</td>\n",
       "    </tr>\n",
       "    <tr>\n",
       "      <th>8</th>\n",
       "      <td>501</td>\n",
       "      <td>44</td>\n",
       "      <td>4.0</td>\n",
       "      <td>142051.07</td>\n",
       "      <td>2</td>\n",
       "      <td>0</td>\n",
       "      <td>1</td>\n",
       "      <td>74940.50</td>\n",
       "      <td>0</td>\n",
       "      <td>1</td>\n",
       "      <td>1</td>\n",
       "      <td>0</td>\n",
       "      <td>0</td>\n",
       "    </tr>\n",
       "    <tr>\n",
       "      <th>9</th>\n",
       "      <td>684</td>\n",
       "      <td>27</td>\n",
       "      <td>2.0</td>\n",
       "      <td>134603.88</td>\n",
       "      <td>1</td>\n",
       "      <td>1</td>\n",
       "      <td>1</td>\n",
       "      <td>71725.73</td>\n",
       "      <td>0</td>\n",
       "      <td>1</td>\n",
       "      <td>1</td>\n",
       "      <td>0</td>\n",
       "      <td>0</td>\n",
       "    </tr>\n",
       "  </tbody>\n",
       "</table>\n",
       "</div>"
      ],
      "text/plain": [
       "   CreditScore  Age  Tenure    Balance  NumOfProducts  HasCrCard  \\\n",
       "0          619   42     2.0       0.00              1          1   \n",
       "1          608   41     1.0   83807.86              1          0   \n",
       "2          502   42     8.0  159660.80              3          1   \n",
       "3          699   39     1.0       0.00              2          0   \n",
       "4          850   43     2.0  125510.82              1          1   \n",
       "5          645   44     8.0  113755.78              2          1   \n",
       "6          822   50     7.0       0.00              2          1   \n",
       "7          376   29     4.0  115046.74              4          1   \n",
       "8          501   44     4.0  142051.07              2          0   \n",
       "9          684   27     2.0  134603.88              1          1   \n",
       "\n",
       "   IsActiveMember  EstimatedSalary  Female  Male  France  Germany  Spain  \n",
       "0               1        101348.88       1     0       1        0      0  \n",
       "1               1        112542.58       1     0       0        0      1  \n",
       "2               0        113931.57       1     0       1        0      0  \n",
       "3               0         93826.63       1     0       1        0      0  \n",
       "4               1         79084.10       1     0       0        0      1  \n",
       "5               0        149756.71       0     1       0        0      1  \n",
       "6               1         10062.80       0     1       1        0      0  \n",
       "7               0        119346.88       1     0       0        1      0  \n",
       "8               1         74940.50       0     1       1        0      0  \n",
       "9               1         71725.73       0     1       1        0      0  "
      ]
     },
     "execution_count": 13,
     "metadata": {},
     "output_type": "execute_result"
    }
   ],
   "source": [
    "# Setting the target column\n",
    "target = df.Exited\n",
    "# OHE on Gender and Geography column\n",
    "gender_dummy = pd.get_dummies(df.Gender)\n",
    "geo_dummy = pd.get_dummies(df.Geography)\n",
    "\n",
    "df_new = pd.concat([df, gender_dummy, geo_dummy], axis=1)\n",
    "df_new = df_new.drop(['Gender', 'Geography'], axis=1)\n",
    "\n",
    "\n",
    "features = df_new.drop(['Exited', 'RowNumber', 'CustomerId', 'Surname'], axis=1) \n",
    "features.head(10)"
   ]
  },
  {
   "cell_type": "code",
   "execution_count": 14,
   "metadata": {},
   "outputs": [
    {
     "data": {
      "text/plain": [
       "0    1\n",
       "1    0\n",
       "2    1\n",
       "3    0\n",
       "4    0\n",
       "Name: Exited, dtype: int64"
      ]
     },
     "execution_count": 14,
     "metadata": {},
     "output_type": "execute_result"
    }
   ],
   "source": [
    "target.head()"
   ]
  },
  {
   "cell_type": "code",
   "execution_count": 15,
   "metadata": {},
   "outputs": [],
   "source": [
    "# Training 70%, test 30%, which is a pretty reasonable amount of split\n",
    "features_train, features_test, target_train, target_test = train_test_split(\n",
    "    features, target, test_size=0.3, random_state=321)\n",
    "\n",
    "\n",
    "# Creating a dictionary for multiple model training\n",
    "\n",
    "models = {\n",
    "    \"Decision Tree\": DecisionTreeClassifier(random_state=123),\n",
    "    \"Logistic Regression\": LogisticRegression(random_state=123),\n",
    "    \"Random Forest\": RandomForestClassifier(random_state=123)\n",
    "}\n",
    "\n",
    "for name, model in models.items():\n",
    "    model.fit(features_train, target_train)"
   ]
  },
  {
   "cell_type": "code",
   "execution_count": 16,
   "metadata": {},
   "outputs": [
    {
     "name": "stdout",
     "output_type": "stream",
     "text": [
      "F1 Score: 0.523\n",
      "F1 Score: 0.089\n",
      "F1 Score: 0.586\n"
     ]
    }
   ],
   "source": [
    "# Making the prediction variable and testing the F1 score on test data\n",
    "\n",
    "for name, model in models.items():\n",
    "    predicted_test = model.predict(features_test)\n",
    "    f1 = f1_score(target_test, predicted_test)\n",
    "    print(\"F1 Score:\", f1.round(3))"
   ]
  },
  {
   "cell_type": "markdown",
   "metadata": {},
   "source": [
    "From the base results without any tuning, it seems that the Random Forest model has the highest F1 score compared to the other 2 models. This hasn't taken into account the fact that the class is heavily imbalanced."
   ]
  },
  {
   "cell_type": "code",
   "execution_count": 17,
   "metadata": {},
   "outputs": [
    {
     "name": "stdout",
     "output_type": "stream",
     "text": [
      "              precision    recall  f1-score   support\n",
      "\n",
      "           0       0.87      0.97      0.92      2381\n",
      "           1       0.79      0.47      0.59       619\n",
      "\n",
      "    accuracy                           0.86      3000\n",
      "   macro avg       0.83      0.72      0.75      3000\n",
      "weighted avg       0.86      0.86      0.85      3000\n",
      "\n"
     ]
    }
   ],
   "source": [
    "print(classification_report(target_test, predicted_test))"
   ]
  },
  {
   "cell_type": "code",
   "execution_count": 18,
   "metadata": {},
   "outputs": [
    {
     "name": "stdout",
     "output_type": "stream",
     "text": [
      "Precision: 0.791, Recall: 0.465, F1 Score: 0.586\n"
     ]
    }
   ],
   "source": [
    "precision = precision_score(target_test, predicted_test)\n",
    "recall = recall_score(target_test, predicted_test)\n",
    "f1 = f1_score(target_test, predicted_test)\n",
    "\n",
    "print(f\"Precision: {precision.round(3)}, Recall: {recall.round(3)}, F1 Score: {f1.round(3)}\")"
   ]
  },
  {
   "cell_type": "markdown",
   "metadata": {},
   "source": [
    "The imbalances to the class results in very poor scores. This is why the model will do poorly in predicting the values.\n",
    "\n",
    "I will now try to improve the quality of the models and deal with the class imbalances."
   ]
  },
  {
   "cell_type": "code",
   "execution_count": 19,
   "metadata": {},
   "outputs": [],
   "source": [
    "# Setting up the model's variables\n",
    "dt = DecisionTreeClassifier(random_state=123, class_weight='balanced')\n",
    "# Added the balanced parameter to make the model more focused on the minority class\n",
    "lr = LogisticRegression(random_state=123, class_weight='balanced') \n",
    "rf = RandomForestClassifier(random_state=123, class_weight='balanced')\n",
    "\n",
    "\n",
    "## Defining the pipelines\n",
    "\n",
    "pipeline_dt = Pipeline([\n",
    "    ('scaler', StandardScaler()),\n",
    "    ('model', dt)\n",
    "])\n",
    "\n",
    "pipeline_lr = Pipeline([\n",
    "    ('scaler', StandardScaler()),\n",
    "    ('model', lr)\n",
    "])\n",
    "\n",
    "pipeline_rf = Pipeline([\n",
    "    ('scaler', StandardScaler()),\n",
    "    ('model', rf)\n",
    "])\n"
   ]
  },
  {
   "cell_type": "code",
   "execution_count": 20,
   "metadata": {},
   "outputs": [
    {
     "data": {
      "text/plain": [
       "GridSearchCV(cv=5,\n",
       "             estimator=Pipeline(steps=[('scaler', StandardScaler()),\n",
       "                                       ('model',\n",
       "                                        RandomForestClassifier(class_weight='balanced',\n",
       "                                                               random_state=123))]),\n",
       "             n_jobs=-1,\n",
       "             param_grid={'model__max_depth': [10, 20],\n",
       "                         'model__min_samples_split': [2, 5, 10],\n",
       "                         'model__n_estimators': [100, 200]},\n",
       "             scoring='f1')"
      ]
     },
     "execution_count": 20,
     "metadata": {},
     "output_type": "execute_result"
    }
   ],
   "source": [
    "# Setting up the hyperparameters for each model\n",
    "param_grid_dt = {\n",
    "    'model__max_depth': [5, 10, 15],\n",
    "    'model__min_samples_split': [2, 5, 10]\n",
    "}\n",
    "\n",
    "param_grid_lr = {\n",
    "    'model__C': [0.1, 1, 10],\n",
    "    'model__solver': ['liblinear']\n",
    "}\n",
    "\n",
    "param_grid_rf = {\n",
    "    'model__n_estimators': [100, 200],\n",
    "    'model__max_depth': [10, 20],\n",
    "    'model__min_samples_split': [2, 5, 10]\n",
    "}\n",
    "\n",
    "# Performing GridSearch for all the models, prioritizing on the F1 scores\n",
    "\n",
    "grid_search_dt = GridSearchCV(pipeline_dt, param_grid_dt, cv=5, scoring='f1', n_jobs=-1)\n",
    "grid_search_lr = GridSearchCV(pipeline_lr, param_grid_lr, cv=5, scoring='f1', n_jobs=-1)\n",
    "grid_search_rf = GridSearchCV(pipeline_rf, param_grid_rf, cv=5, scoring='f1', n_jobs=-1)\n",
    "\n",
    "# Fitting the GridSearch parameters to the train dataset\n",
    "\n",
    "grid_search_dt.fit(features_train, target_train)\n",
    "grid_search_lr.fit(features_train, target_train)\n",
    "grid_search_rf.fit(features_train, target_train)"
   ]
  },
  {
   "cell_type": "markdown",
   "metadata": {},
   "source": [
    "Now that I have trained the models with the best parameters, I will be checking their performance on the scores."
   ]
  },
  {
   "cell_type": "code",
   "execution_count": 21,
   "metadata": {},
   "outputs": [
    {
     "name": "stdout",
     "output_type": "stream",
     "text": [
      "F1 Score for Decision Tree: 0.56\n",
      "F1 Score for Logistic Regression: 0.492\n",
      "F1 Score Random Forest: 0.624\n"
     ]
    }
   ],
   "source": [
    "# Printing the F1 scores\n",
    "print(\"F1 Score for Decision Tree:\", grid_search_dt.best_score_.round(3))\n",
    "print(\"F1 Score for Logistic Regression:\", grid_search_lr.best_score_.round(3))\n",
    "print(\"F1 Score Random Forest:\", grid_search_rf.best_score_.round(3))"
   ]
  },
  {
   "cell_type": "markdown",
   "metadata": {},
   "source": [
    "The Random Forest model seems to be performing much better than before, and when compared to the other models. I will be focusing on this model and re-tuning it to see if I can improve the scores. I will also be using other methods to deal with the class imbalances."
   ]
  },
  {
   "cell_type": "code",
   "execution_count": 22,
   "metadata": {},
   "outputs": [],
   "source": [
    "# Upsampling the train data\n",
    "\n",
    "# Merging the train data\n",
    "merged_train = pd.concat([features_train, target_train], axis=1)\n",
    "\n",
    "# Separate majority and minority classes\n",
    "train_majority = merged_train[merged_train.Exited == 0]\n",
    "train_minority = merged_train[merged_train.Exited == 1]\n",
    "\n",
    "# Upsample minority class\n",
    "train_minority_upsampled = resample(train_minority, \n",
    "                                 replace=True,        # Sample with replacement\n",
    "                                 n_samples=len(train_majority), # Match number of majority class\n",
    "                                 random_state=42)     # Set seed for reproducibility\n",
    "\n",
    "# Combine majority class with upsampled minority class\n",
    "train_upsampled = pd.concat([train_majority, train_minority_upsampled])\n",
    "\n",
    "# Shuffle the combined dataset\n",
    "train_upsampled = train_upsampled.sample(frac=1, random_state=42).reset_index(drop=True)\n",
    "\n",
    "features_train_upsampled = train_upsampled.drop(['Exited'], axis=1)\n",
    "target_train_upsampled = train_upsampled.Exited\n"
   ]
  },
  {
   "cell_type": "code",
   "execution_count": 23,
   "metadata": {},
   "outputs": [
    {
     "name": "stdout",
     "output_type": "stream",
     "text": [
      "<class 'pandas.core.frame.DataFrame'>\n",
      "RangeIndex: 11164 entries, 0 to 11163\n",
      "Data columns (total 14 columns):\n",
      " #   Column           Non-Null Count  Dtype  \n",
      "---  ------           --------------  -----  \n",
      " 0   CreditScore      11164 non-null  int64  \n",
      " 1   Age              11164 non-null  int64  \n",
      " 2   Tenure           11164 non-null  float64\n",
      " 3   Balance          11164 non-null  float64\n",
      " 4   NumOfProducts    11164 non-null  int64  \n",
      " 5   HasCrCard        11164 non-null  int64  \n",
      " 6   IsActiveMember   11164 non-null  int64  \n",
      " 7   EstimatedSalary  11164 non-null  float64\n",
      " 8   Female           11164 non-null  uint8  \n",
      " 9   Male             11164 non-null  uint8  \n",
      " 10  France           11164 non-null  uint8  \n",
      " 11  Germany          11164 non-null  uint8  \n",
      " 12  Spain            11164 non-null  uint8  \n",
      " 13  Exited           11164 non-null  int64  \n",
      "dtypes: float64(3), int64(6), uint8(5)\n",
      "memory usage: 839.6 KB\n"
     ]
    }
   ],
   "source": [
    "train_upsampled.info()"
   ]
  },
  {
   "cell_type": "markdown",
   "metadata": {},
   "source": [
    "Now I have the upsampled data and will be using it for further testing."
   ]
  },
  {
   "cell_type": "code",
   "execution_count": 24,
   "metadata": {},
   "outputs": [
    {
     "data": {
      "text/plain": [
       "RandomForestClassifier(class_weight='balanced', min_samples_leaf=4,\n",
       "                       min_samples_split=5, n_estimators=150, random_state=123)"
      ]
     },
     "execution_count": 24,
     "metadata": {},
     "output_type": "execute_result"
    }
   ],
   "source": [
    "# Manually adjusting the model to avoid distortion of cross validation process\n",
    "\n",
    "# Reinitializing the model with adjusted parameters\n",
    "rf = RandomForestClassifier(\n",
    "    random_state=123,\n",
    "    class_weight='balanced',\n",
    "    n_estimators=150,\n",
    "    bootstrap=True,\n",
    "    min_samples_split=5,\n",
    "    min_samples_leaf=4\n",
    ")\n",
    "\n",
    "rf.fit(features_train_upsampled, target_train_upsampled)"
   ]
  },
  {
   "cell_type": "code",
   "execution_count": 25,
   "metadata": {},
   "outputs": [
    {
     "name": "stdout",
     "output_type": "stream",
     "text": [
      "Accuracy: 0.841\n",
      "F1 Score: 0.61\n",
      "\n",
      "              precision    recall  f1-score   support\n",
      "\n",
      "           0       0.90      0.90      0.90      2381\n",
      "           1       0.61      0.61      0.61       619\n",
      "\n",
      "    accuracy                           0.84      3000\n",
      "   macro avg       0.76      0.76      0.76      3000\n",
      "weighted avg       0.84      0.84      0.84      3000\n",
      "\n"
     ]
    }
   ],
   "source": [
    "# Predict on the test set\n",
    "predicted_test = rf.predict(features_test)\n",
    "\n",
    "\n",
    "# Display metrics\n",
    "print(f\"Accuracy: {accuracy_score(target_test, predicted_test).round(3)}\")\n",
    "print(f\"F1 Score: {f1_score(target_test, predicted_test).round(2)}\")\n",
    "print()\n",
    "print(classification_report(target_test, predicted_test))"
   ]
  },
  {
   "cell_type": "markdown",
   "metadata": {},
   "source": [
    "Now the model is performing above the required threshold with all the methods combined. I am ready to perform the final testing as well as cross-checking with the AUC-ROC."
   ]
  },
  {
   "cell_type": "markdown",
   "metadata": {},
   "source": [
    "## Final Testing"
   ]
  },
  {
   "cell_type": "markdown",
   "metadata": {},
   "source": [
    "Now I'm going to perform the final testing with the test data."
   ]
  },
  {
   "cell_type": "code",
   "execution_count": 26,
   "metadata": {},
   "outputs": [
    {
     "name": "stdout",
     "output_type": "stream",
     "text": [
      "F1 Score on Test Data: 0.61\n"
     ]
    }
   ],
   "source": [
    "# Getting the best model\n",
    "best_model = rf\n",
    "\n",
    "# Calculating the F1 score\n",
    "Y_pred = best_model.predict(features_test)\n",
    "\n",
    "f1 = f1_score(target_test, Y_pred)\n",
    "print(\"F1 Score on Test Data:\", f1.round(2))"
   ]
  },
  {
   "cell_type": "code",
   "execution_count": 27,
   "metadata": {},
   "outputs": [
    {
     "name": "stdout",
     "output_type": "stream",
     "text": [
      "              precision    recall  f1-score   support\n",
      "\n",
      "           0       0.90      0.90      0.90      2381\n",
      "           1       0.61      0.61      0.61       619\n",
      "\n",
      "    accuracy                           0.84      3000\n",
      "   macro avg       0.76      0.76      0.76      3000\n",
      "weighted avg       0.84      0.84      0.84      3000\n",
      "\n"
     ]
    }
   ],
   "source": [
    "print(classification_report(target_test, Y_pred))"
   ]
  },
  {
   "cell_type": "code",
   "execution_count": 28,
   "metadata": {},
   "outputs": [
    {
     "name": "stdout",
     "output_type": "stream",
     "text": [
      "AUC-ROC Score on Test Data: 0.851\n"
     ]
    }
   ],
   "source": [
    "# Getting the probabilities for the AUC-ROC\n",
    "target_proba = best_model.predict_proba(features_test)[:, 1]\n",
    "\n",
    "# Calculate the AUC-ROC score\n",
    "auc_roc = roc_auc_score(target_test, target_proba)\n",
    "print(\"AUC-ROC Score on Test Data:\", auc_roc.round(3))"
   ]
  },
  {
   "cell_type": "code",
   "execution_count": 29,
   "metadata": {},
   "outputs": [
    {
     "name": "stdout",
     "output_type": "stream",
     "text": [
      "Cross-validated F1 Scores: [0.613 0.647 0.606 0.623 0.627]\n",
      "Mean F1 Score: 0.623\n"
     ]
    }
   ],
   "source": [
    "# Performing manual cross validation\n",
    "f1_scores = cross_val_score(rf, features, target, cv=5, scoring='f1')\n",
    "print(f\"Cross-validated F1 Scores: {f1_scores.round(3)}\")\n",
    "print(f\"Mean F1 Score: {f1_scores.mean().round(3)}\")"
   ]
  },
  {
   "cell_type": "markdown",
   "metadata": {},
   "source": [
    "After performing all the necessary methods in dealing with the class imbalances, the model has achieved satisfactory results, having over 60% F1 Score on the test data set as well as 85% on the AUC-ROC. This indicates that the model is performing well in distinguishing between classes and yet would struggle at a certain threshold for predicting on the minority class."
   ]
  },
  {
   "cell_type": "markdown",
   "metadata": {},
   "source": [
    "## Conclusion\n",
    "\n",
    "The data provided has high imbalance on the target column, which led to poor F1 Scores. Even with the hypertuning of the parameters, it didn't really improve that much. So the imbalance of the classes had to be addressed. I have chosen to upsample the data so as to avoid data-loss, as well as re-adjusted the model and add class weighing to it. The class weighing and additional parameters had led to an increase to the F1 Score, which shows that the Random Forest model would be the best option for this data. I have then re-adjusted the parameters and upsampled the data for better scores. The results finally reached satisfactory levels, going above 60% in the F1 score, which led me to performing the final testing on the test data, and getting 85% on the AUC-ROC. The model has been well-calibrated and is ready for the task at hand. "
   ]
  }
 ],
 "metadata": {
  "ExecuteTimeLog": [
   {
    "duration": 448,
    "start_time": "2024-07-30T18:26:44.347Z"
   },
   {
    "duration": 1049,
    "start_time": "2024-07-30T18:28:30.030Z"
   },
   {
    "duration": 60,
    "start_time": "2024-07-30T18:28:39.734Z"
   },
   {
    "duration": 38,
    "start_time": "2024-07-30T18:29:01.708Z"
   },
   {
    "duration": 16,
    "start_time": "2024-07-30T18:29:09.908Z"
   },
   {
    "duration": 8,
    "start_time": "2024-07-30T18:29:49.037Z"
   },
   {
    "duration": 23,
    "start_time": "2024-07-30T18:29:53.295Z"
   },
   {
    "duration": 7,
    "start_time": "2024-07-30T18:29:59.351Z"
   },
   {
    "duration": 7,
    "start_time": "2024-07-30T18:30:10.248Z"
   },
   {
    "duration": 6,
    "start_time": "2024-07-30T18:30:20.663Z"
   },
   {
    "duration": 29,
    "start_time": "2024-07-30T18:30:30.184Z"
   },
   {
    "duration": 8,
    "start_time": "2024-07-30T18:32:03.205Z"
   },
   {
    "duration": 3,
    "start_time": "2024-07-30T18:32:08.728Z"
   },
   {
    "duration": 5,
    "start_time": "2024-07-30T18:32:12.670Z"
   },
   {
    "duration": 4,
    "start_time": "2024-07-30T18:32:24.253Z"
   },
   {
    "duration": 5,
    "start_time": "2024-07-30T18:32:30.424Z"
   },
   {
    "duration": 11,
    "start_time": "2024-07-30T18:32:38.696Z"
   },
   {
    "duration": 5,
    "start_time": "2024-07-30T18:33:02.114Z"
   },
   {
    "duration": 921,
    "start_time": "2024-07-30T18:33:19.895Z"
   },
   {
    "duration": 31,
    "start_time": "2024-07-30T18:33:51.651Z"
   },
   {
    "duration": 29,
    "start_time": "2024-07-30T18:33:55.929Z"
   },
   {
    "duration": 315,
    "start_time": "2024-07-31T18:32:18.106Z"
   },
   {
    "duration": 460,
    "start_time": "2024-07-31T18:32:21.235Z"
   },
   {
    "duration": 60,
    "start_time": "2024-07-31T18:32:21.699Z"
   },
   {
    "duration": 17,
    "start_time": "2024-07-31T18:32:21.762Z"
   },
   {
    "duration": 6,
    "start_time": "2024-07-31T18:32:21.918Z"
   },
   {
    "duration": 30,
    "start_time": "2024-07-31T18:32:22.069Z"
   },
   {
    "duration": 30,
    "start_time": "2024-07-31T18:32:22.212Z"
   },
   {
    "duration": 1000,
    "start_time": "2024-07-31T18:32:22.901Z"
   },
   {
    "duration": 912,
    "start_time": "2024-07-31T18:32:57.709Z"
   },
   {
    "duration": 27,
    "start_time": "2024-07-31T18:33:07.965Z"
   },
   {
    "duration": 31,
    "start_time": "2024-07-31T18:33:20.400Z"
   },
   {
    "duration": 1202,
    "start_time": "2024-07-31T22:21:39.812Z"
   },
   {
    "duration": 65,
    "start_time": "2024-07-31T22:21:41.018Z"
   },
   {
    "duration": 19,
    "start_time": "2024-07-31T22:21:41.620Z"
   },
   {
    "duration": 6,
    "start_time": "2024-07-31T22:21:41.917Z"
   },
   {
    "duration": 30,
    "start_time": "2024-07-31T22:21:42.225Z"
   },
   {
    "duration": 45,
    "start_time": "2024-07-31T22:21:42.504Z"
   },
   {
    "duration": 404,
    "start_time": "2024-07-31T22:23:35.375Z"
   },
   {
    "duration": 30,
    "start_time": "2024-07-31T22:23:38.160Z"
   },
   {
    "duration": 40,
    "start_time": "2024-07-31T22:23:38.383Z"
   },
   {
    "duration": 4,
    "start_time": "2024-07-31T22:23:42.601Z"
   },
   {
    "duration": 43,
    "start_time": "2024-07-31T22:23:42.735Z"
   },
   {
    "duration": 17,
    "start_time": "2024-07-31T22:23:42.870Z"
   },
   {
    "duration": 6,
    "start_time": "2024-07-31T22:23:43.308Z"
   },
   {
    "duration": 28,
    "start_time": "2024-07-31T22:23:43.448Z"
   },
   {
    "duration": 37,
    "start_time": "2024-07-31T22:23:43.590Z"
   },
   {
    "duration": 28,
    "start_time": "2024-07-31T22:23:44.209Z"
   },
   {
    "duration": 28,
    "start_time": "2024-07-31T22:23:58.432Z"
   },
   {
    "duration": 11,
    "start_time": "2024-07-31T22:24:05.432Z"
   },
   {
    "duration": 44,
    "start_time": "2024-07-31T22:24:45.835Z"
   },
   {
    "duration": 315,
    "start_time": "2024-08-05T18:49:51.704Z"
   },
   {
    "duration": 1153,
    "start_time": "2024-08-05T18:49:55.767Z"
   },
   {
    "duration": 59,
    "start_time": "2024-08-05T18:49:56.923Z"
   },
   {
    "duration": 18,
    "start_time": "2024-08-05T18:49:56.985Z"
   },
   {
    "duration": 11,
    "start_time": "2024-08-05T18:49:57.006Z"
   },
   {
    "duration": 32,
    "start_time": "2024-08-05T18:49:57.020Z"
   },
   {
    "duration": 73,
    "start_time": "2024-08-05T18:49:57.054Z"
   },
   {
    "duration": 14,
    "start_time": "2024-08-05T18:49:57.753Z"
   },
   {
    "duration": 15,
    "start_time": "2024-08-05T18:50:18.072Z"
   },
   {
    "duration": 50,
    "start_time": "2024-08-05T19:14:41.078Z"
   },
   {
    "duration": 1288,
    "start_time": "2024-08-07T19:12:16.456Z"
   },
   {
    "duration": 407,
    "start_time": "2024-08-07T19:12:28.428Z"
   },
   {
    "duration": 4,
    "start_time": "2024-08-07T19:12:31.671Z"
   },
   {
    "duration": 76,
    "start_time": "2024-08-07T19:12:31.869Z"
   },
   {
    "duration": 16,
    "start_time": "2024-08-07T19:12:32.055Z"
   },
   {
    "duration": 7,
    "start_time": "2024-08-07T19:12:32.682Z"
   },
   {
    "duration": 30,
    "start_time": "2024-08-07T19:12:32.949Z"
   },
   {
    "duration": 29,
    "start_time": "2024-08-07T19:12:33.224Z"
   },
   {
    "duration": 11,
    "start_time": "2024-08-07T19:12:34.608Z"
   },
   {
    "duration": 16,
    "start_time": "2024-08-07T19:15:26.088Z"
   },
   {
    "duration": 32,
    "start_time": "2024-08-07T19:15:43.955Z"
   },
   {
    "duration": 15,
    "start_time": "2024-08-07T19:15:51.403Z"
   },
   {
    "duration": 4,
    "start_time": "2024-08-07T19:21:16.360Z"
   },
   {
    "duration": 66,
    "start_time": "2024-08-07T19:24:02.944Z"
   },
   {
    "duration": 64,
    "start_time": "2024-08-07T19:24:26.511Z"
   },
   {
    "duration": 59,
    "start_time": "2024-08-07T19:24:34.210Z"
   },
   {
    "duration": 30,
    "start_time": "2024-08-07T19:24:40.034Z"
   },
   {
    "duration": 60,
    "start_time": "2024-08-07T19:24:41.831Z"
   },
   {
    "duration": 214,
    "start_time": "2024-08-07T19:24:47.935Z"
   },
   {
    "duration": 398,
    "start_time": "2024-08-19T18:24:18.937Z"
   },
   {
    "duration": 24,
    "start_time": "2024-08-19T18:24:19.464Z"
   },
   {
    "duration": 24,
    "start_time": "2024-08-19T18:24:19.802Z"
   },
   {
    "duration": 22,
    "start_time": "2024-08-19T18:24:20.189Z"
   },
   {
    "duration": 5,
    "start_time": "2024-08-19T18:24:23.777Z"
   },
   {
    "duration": 56,
    "start_time": "2024-08-19T18:24:24.162Z"
   },
   {
    "duration": 17,
    "start_time": "2024-08-19T18:24:24.467Z"
   },
   {
    "duration": 6,
    "start_time": "2024-08-19T18:24:25.716Z"
   },
   {
    "duration": 32,
    "start_time": "2024-08-19T18:24:26.136Z"
   },
   {
    "duration": 31,
    "start_time": "2024-08-19T18:24:26.967Z"
   },
   {
    "duration": 69,
    "start_time": "2024-08-19T18:24:29.027Z"
   },
   {
    "duration": 34,
    "start_time": "2024-08-19T18:56:38.816Z"
   },
   {
    "duration": 62,
    "start_time": "2024-08-19T18:56:54.621Z"
   },
   {
    "duration": 10,
    "start_time": "2024-08-19T18:58:16.421Z"
   },
   {
    "duration": 335,
    "start_time": "2024-08-19T18:58:31.726Z"
   },
   {
    "duration": 17,
    "start_time": "2024-08-19T18:58:43.282Z"
   },
   {
    "duration": 11,
    "start_time": "2024-08-19T18:59:46.770Z"
   },
   {
    "duration": 64,
    "start_time": "2024-08-19T19:00:20.496Z"
   },
   {
    "duration": 7,
    "start_time": "2024-08-19T19:00:40.257Z"
   },
   {
    "duration": 1218,
    "start_time": "2024-08-20T14:11:22.241Z"
   },
   {
    "duration": 62,
    "start_time": "2024-08-20T14:11:23.463Z"
   },
   {
    "duration": 17,
    "start_time": "2024-08-20T14:11:23.529Z"
   },
   {
    "duration": 6,
    "start_time": "2024-08-20T14:11:23.550Z"
   },
   {
    "duration": 59,
    "start_time": "2024-08-20T14:11:23.560Z"
   },
   {
    "duration": 35,
    "start_time": "2024-08-20T14:11:23.622Z"
   },
   {
    "duration": 267,
    "start_time": "2024-08-20T14:11:23.660Z"
   },
   {
    "duration": 0,
    "start_time": "2024-08-20T14:11:23.931Z"
   },
   {
    "duration": 28,
    "start_time": "2024-08-20T14:16:37.303Z"
   },
   {
    "duration": 9,
    "start_time": "2024-08-20T14:21:28.672Z"
   },
   {
    "duration": 66,
    "start_time": "2024-08-20T14:21:43.816Z"
   },
   {
    "duration": 12,
    "start_time": "2024-08-20T14:21:58.977Z"
   },
   {
    "duration": 262,
    "start_time": "2024-08-20T14:22:10.765Z"
   },
   {
    "duration": 24,
    "start_time": "2024-08-20T14:22:14.045Z"
   },
   {
    "duration": 28,
    "start_time": "2024-08-20T14:23:36.311Z"
   },
   {
    "duration": 5,
    "start_time": "2024-08-20T14:28:08.477Z"
   },
   {
    "duration": 27,
    "start_time": "2024-08-20T14:29:22.182Z"
   },
   {
    "duration": 12,
    "start_time": "2024-08-20T14:29:27.878Z"
   },
   {
    "duration": 14,
    "start_time": "2024-08-20T14:29:48.080Z"
   },
   {
    "duration": 21,
    "start_time": "2024-08-20T14:29:53.498Z"
   },
   {
    "duration": 15,
    "start_time": "2024-08-20T14:30:55.150Z"
   },
   {
    "duration": 23,
    "start_time": "2024-08-20T14:33:10.092Z"
   },
   {
    "duration": 42,
    "start_time": "2024-08-20T14:33:19.070Z"
   },
   {
    "duration": 31,
    "start_time": "2024-08-20T14:35:36.122Z"
   },
   {
    "duration": 21,
    "start_time": "2024-08-20T14:38:46.992Z"
   },
   {
    "duration": 36,
    "start_time": "2024-08-20T14:41:08.331Z"
   },
   {
    "duration": 13,
    "start_time": "2024-08-20T14:41:43.408Z"
   },
   {
    "duration": 35,
    "start_time": "2024-08-20T14:41:46.699Z"
   },
   {
    "duration": 21,
    "start_time": "2024-08-20T14:49:08.836Z"
   },
   {
    "duration": 7,
    "start_time": "2024-08-20T14:49:57.480Z"
   },
   {
    "duration": 860,
    "start_time": "2024-08-20T14:50:05.860Z"
   },
   {
    "duration": 23,
    "start_time": "2024-08-20T14:50:17.885Z"
   },
   {
    "duration": 85,
    "start_time": "2024-08-20T14:50:24.443Z"
   },
   {
    "duration": 26,
    "start_time": "2024-08-20T14:50:31.369Z"
   },
   {
    "duration": 38,
    "start_time": "2024-08-20T14:51:18.951Z"
   },
   {
    "duration": 14,
    "start_time": "2024-08-20T14:54:27.444Z"
   },
   {
    "duration": 9,
    "start_time": "2024-08-20T14:54:29.953Z"
   },
   {
    "duration": 479,
    "start_time": "2024-08-20T14:54:36.195Z"
   },
   {
    "duration": 16,
    "start_time": "2024-08-20T14:54:56.427Z"
   },
   {
    "duration": 143,
    "start_time": "2024-08-20T14:54:56.973Z"
   },
   {
    "duration": 33,
    "start_time": "2024-08-20T14:55:19.079Z"
   },
   {
    "duration": 37,
    "start_time": "2024-08-20T14:59:31.358Z"
   },
   {
    "duration": 9,
    "start_time": "2024-08-20T15:18:04.045Z"
   },
   {
    "duration": 20,
    "start_time": "2024-08-20T15:18:06.958Z"
   },
   {
    "duration": 37,
    "start_time": "2024-08-20T15:18:13.083Z"
   },
   {
    "duration": 1164,
    "start_time": "2024-08-20T15:18:39.222Z"
   },
   {
    "duration": 49,
    "start_time": "2024-08-20T15:18:40.390Z"
   },
   {
    "duration": 17,
    "start_time": "2024-08-20T15:18:40.443Z"
   },
   {
    "duration": 29,
    "start_time": "2024-08-20T15:18:40.465Z"
   },
   {
    "duration": 31,
    "start_time": "2024-08-20T15:18:40.497Z"
   },
   {
    "duration": 62,
    "start_time": "2024-08-20T15:18:40.531Z"
   },
   {
    "duration": 8,
    "start_time": "2024-08-20T15:18:40.596Z"
   },
   {
    "duration": 20,
    "start_time": "2024-08-20T15:18:40.608Z"
   },
   {
    "duration": 71,
    "start_time": "2024-08-20T15:18:40.632Z"
   },
   {
    "duration": 57,
    "start_time": "2024-08-20T15:18:40.708Z"
   },
   {
    "duration": 584,
    "start_time": "2024-08-20T15:18:40.770Z"
   },
   {
    "duration": 1269,
    "start_time": "2024-08-20T15:20:18.224Z"
   },
   {
    "duration": 219,
    "start_time": "2024-08-20T15:20:19.496Z"
   },
   {
    "duration": 5,
    "start_time": "2024-08-20T15:38:34.148Z"
   },
   {
    "duration": 33,
    "start_time": "2024-08-20T15:53:17.113Z"
   },
   {
    "duration": 1206,
    "start_time": "2024-08-20T15:55:45.171Z"
   },
   {
    "duration": 246,
    "start_time": "2024-08-20T15:55:46.383Z"
   },
   {
    "duration": 1527,
    "start_time": "2024-08-20T15:56:35.038Z"
   },
   {
    "duration": 229,
    "start_time": "2024-08-20T15:56:36.571Z"
   },
   {
    "duration": 40,
    "start_time": "2024-08-20T16:03:21.086Z"
   },
   {
    "duration": 5,
    "start_time": "2024-08-20T16:03:49.800Z"
   },
   {
    "duration": 5505,
    "start_time": "2024-08-20T16:03:53.339Z"
   },
   {
    "duration": 69662,
    "start_time": "2024-08-20T16:04:14.114Z"
   },
   {
    "duration": 79219,
    "start_time": "2024-08-20T16:11:02.977Z"
   },
   {
    "duration": 217,
    "start_time": "2024-08-20T16:17:43.525Z"
   },
   {
    "duration": 178,
    "start_time": "2024-08-20T16:17:51.768Z"
   },
   {
    "duration": 1235,
    "start_time": "2024-08-20T16:18:03.736Z"
   },
   {
    "duration": 56,
    "start_time": "2024-08-20T16:18:04.975Z"
   },
   {
    "duration": 19,
    "start_time": "2024-08-20T16:18:05.034Z"
   },
   {
    "duration": 33,
    "start_time": "2024-08-20T16:18:05.057Z"
   },
   {
    "duration": 29,
    "start_time": "2024-08-20T16:18:05.093Z"
   },
   {
    "duration": 29,
    "start_time": "2024-08-20T16:18:05.125Z"
   },
   {
    "duration": 37,
    "start_time": "2024-08-20T16:18:05.157Z"
   },
   {
    "duration": 20,
    "start_time": "2024-08-20T16:18:05.197Z"
   },
   {
    "duration": 33,
    "start_time": "2024-08-20T16:18:05.221Z"
   },
   {
    "duration": 1304,
    "start_time": "2024-08-20T16:18:05.259Z"
   },
   {
    "duration": 237,
    "start_time": "2024-08-20T16:18:06.565Z"
   },
   {
    "duration": 67806,
    "start_time": "2024-08-20T16:18:06.805Z"
   },
   {
    "duration": 241,
    "start_time": "2024-08-20T16:19:14.614Z"
   },
   {
    "duration": 64318,
    "start_time": "2024-08-20T16:20:04.097Z"
   },
   {
    "duration": 1247,
    "start_time": "2024-08-20T16:37:56.501Z"
   },
   {
    "duration": 243,
    "start_time": "2024-08-20T16:39:02.984Z"
   },
   {
    "duration": 1158,
    "start_time": "2024-08-20T16:39:36.636Z"
   },
   {
    "duration": 47,
    "start_time": "2024-08-20T16:39:37.797Z"
   },
   {
    "duration": 17,
    "start_time": "2024-08-20T16:39:37.847Z"
   },
   {
    "duration": 28,
    "start_time": "2024-08-20T16:39:37.868Z"
   },
   {
    "duration": 28,
    "start_time": "2024-08-20T16:39:37.898Z"
   },
   {
    "duration": 61,
    "start_time": "2024-08-20T16:39:37.930Z"
   },
   {
    "duration": 9,
    "start_time": "2024-08-20T16:39:37.994Z"
   },
   {
    "duration": 20,
    "start_time": "2024-08-20T16:39:38.006Z"
   },
   {
    "duration": 65,
    "start_time": "2024-08-20T16:39:38.029Z"
   },
   {
    "duration": 1264,
    "start_time": "2024-08-20T16:39:38.099Z"
   },
   {
    "duration": 149,
    "start_time": "2024-08-20T16:39:39.365Z"
   },
   {
    "duration": 68013,
    "start_time": "2024-08-20T16:39:39.517Z"
   },
   {
    "duration": 203,
    "start_time": "2024-08-20T16:40:47.533Z"
   },
   {
    "duration": 1216,
    "start_time": "2024-08-24T20:54:33.276Z"
   },
   {
    "duration": 60,
    "start_time": "2024-08-24T20:54:34.495Z"
   },
   {
    "duration": 18,
    "start_time": "2024-08-24T20:54:34.558Z"
   },
   {
    "duration": 7,
    "start_time": "2024-08-24T20:54:34.581Z"
   },
   {
    "duration": 62,
    "start_time": "2024-08-24T20:54:34.591Z"
   },
   {
    "duration": 30,
    "start_time": "2024-08-24T20:54:34.656Z"
   },
   {
    "duration": 10,
    "start_time": "2024-08-24T20:54:34.689Z"
   },
   {
    "duration": 48,
    "start_time": "2024-08-24T20:54:34.702Z"
   },
   {
    "duration": 33,
    "start_time": "2024-08-24T20:54:34.753Z"
   },
   {
    "duration": 1297,
    "start_time": "2024-08-24T20:54:34.791Z"
   },
   {
    "duration": 153,
    "start_time": "2024-08-24T20:54:36.090Z"
   },
   {
    "duration": 102952,
    "start_time": "2024-08-24T20:54:36.247Z"
   },
   {
    "duration": 200,
    "start_time": "2024-08-24T20:56:19.201Z"
   },
   {
    "duration": 39819,
    "start_time": "2024-08-24T21:18:52.908Z"
   },
   {
    "duration": 201,
    "start_time": "2024-08-24T21:19:32.734Z"
   },
   {
    "duration": 85,
    "start_time": "2024-08-24T21:21:00.469Z"
   },
   {
    "duration": 163,
    "start_time": "2024-08-24T21:23:15.475Z"
   },
   {
    "duration": 68,
    "start_time": "2024-08-24T21:24:12.987Z"
   },
   {
    "duration": 162,
    "start_time": "2024-08-24T21:26:29.671Z"
   },
   {
    "duration": 6,
    "start_time": "2024-08-24T21:30:15.146Z"
   },
   {
    "duration": 1197,
    "start_time": "2024-08-24T21:33:37.386Z"
   },
   {
    "duration": 155,
    "start_time": "2024-08-24T21:33:38.587Z"
   },
   {
    "duration": 40050,
    "start_time": "2024-08-24T21:33:41.117Z"
   },
   {
    "duration": 160,
    "start_time": "2024-08-24T21:34:21.173Z"
   },
   {
    "duration": 49124,
    "start_time": "2024-08-24T21:38:45.055Z"
   },
   {
    "duration": 162,
    "start_time": "2024-08-24T21:39:34.183Z"
   },
   {
    "duration": 1196,
    "start_time": "2024-08-24T21:40:36.890Z"
   },
   {
    "duration": 208,
    "start_time": "2024-08-24T21:40:38.140Z"
   },
   {
    "duration": 41636,
    "start_time": "2024-08-24T21:40:40.564Z"
   },
   {
    "duration": 129,
    "start_time": "2024-08-24T21:41:22.204Z"
   },
   {
    "duration": 6,
    "start_time": "2024-08-24T21:44:13.825Z"
   },
   {
    "duration": 30076,
    "start_time": "2024-08-24T21:44:47.830Z"
   },
   {
    "duration": 144,
    "start_time": "2024-08-24T21:45:17.909Z"
   },
   {
    "duration": 957,
    "start_time": "2024-08-24T21:46:04.614Z"
   },
   {
    "duration": 1183,
    "start_time": "2024-08-24T21:46:44.591Z"
   },
   {
    "duration": 58,
    "start_time": "2024-08-24T21:46:45.778Z"
   },
   {
    "duration": 18,
    "start_time": "2024-08-24T21:46:45.838Z"
   },
   {
    "duration": 6,
    "start_time": "2024-08-24T21:46:45.861Z"
   },
   {
    "duration": 67,
    "start_time": "2024-08-24T21:46:45.870Z"
   },
   {
    "duration": 29,
    "start_time": "2024-08-24T21:46:45.940Z"
   },
   {
    "duration": 10,
    "start_time": "2024-08-24T21:46:45.972Z"
   },
   {
    "duration": 48,
    "start_time": "2024-08-24T21:46:45.985Z"
   },
   {
    "duration": 7,
    "start_time": "2024-08-24T21:46:46.036Z"
   },
   {
    "duration": 30,
    "start_time": "2024-08-24T21:46:46.048Z"
   },
   {
    "duration": 7,
    "start_time": "2024-08-24T21:46:46.081Z"
   },
   {
    "duration": 1260,
    "start_time": "2024-08-24T21:46:46.133Z"
   },
   {
    "duration": 173,
    "start_time": "2024-08-24T21:46:47.396Z"
   },
   {
    "duration": 31410,
    "start_time": "2024-08-24T21:46:47.571Z"
   },
   {
    "duration": 421,
    "start_time": "2024-08-24T21:47:18.984Z"
   },
   {
    "duration": 216,
    "start_time": "2024-08-24T21:47:46.355Z"
   },
   {
    "duration": 224,
    "start_time": "2024-08-24T21:47:56.921Z"
   },
   {
    "duration": 55274,
    "start_time": "2024-08-24T21:49:35.224Z"
   },
   {
    "duration": 239,
    "start_time": "2024-08-24T21:50:30.502Z"
   },
   {
    "duration": 56591,
    "start_time": "2024-08-24T21:54:54.243Z"
   },
   {
    "duration": 276,
    "start_time": "2024-08-24T21:55:50.838Z"
   },
   {
    "duration": 5,
    "start_time": "2024-08-24T21:59:56.619Z"
   },
   {
    "duration": 39,
    "start_time": "2024-08-24T21:59:57.655Z"
   },
   {
    "duration": 17,
    "start_time": "2024-08-24T21:59:57.824Z"
   },
   {
    "duration": 7,
    "start_time": "2024-08-24T21:59:58.274Z"
   },
   {
    "duration": 30,
    "start_time": "2024-08-24T21:59:58.423Z"
   },
   {
    "duration": 32,
    "start_time": "2024-08-24T21:59:58.581Z"
   },
   {
    "duration": 9,
    "start_time": "2024-08-24T21:59:58.880Z"
   },
   {
    "duration": 19,
    "start_time": "2024-08-24T21:59:59.319Z"
   },
   {
    "duration": 6,
    "start_time": "2024-08-24T21:59:59.606Z"
   },
   {
    "duration": 30,
    "start_time": "2024-08-24T21:59:59.923Z"
   },
   {
    "duration": 7,
    "start_time": "2024-08-24T22:00:00.045Z"
   },
   {
    "duration": 1191,
    "start_time": "2024-08-24T22:00:00.210Z"
   },
   {
    "duration": 166,
    "start_time": "2024-08-24T22:00:01.406Z"
   },
   {
    "duration": 51049,
    "start_time": "2024-08-24T22:00:01.575Z"
   },
   {
    "duration": 281,
    "start_time": "2024-08-24T22:00:52.632Z"
   },
   {
    "duration": 15,
    "start_time": "2024-08-24T22:02:26.830Z"
   },
   {
    "duration": 12,
    "start_time": "2024-08-24T22:03:40.438Z"
   },
   {
    "duration": 34,
    "start_time": "2024-08-24T22:14:14.066Z"
   },
   {
    "duration": 26,
    "start_time": "2024-08-24T22:14:27.562Z"
   },
   {
    "duration": 6,
    "start_time": "2024-08-24T22:19:14.323Z"
   },
   {
    "duration": 22,
    "start_time": "2024-08-24T22:22:16.550Z"
   },
   {
    "duration": 121513,
    "start_time": "2024-08-24T22:23:36.077Z"
   },
   {
    "duration": 248,
    "start_time": "2024-08-24T22:25:37.595Z"
   },
   {
    "duration": 23,
    "start_time": "2024-08-24T22:26:08.490Z"
   },
   {
    "duration": 133071,
    "start_time": "2024-08-24T22:26:09.428Z"
   },
   {
    "duration": 249,
    "start_time": "2024-08-24T22:28:22.502Z"
   },
   {
    "duration": 1155,
    "start_time": "2024-08-26T15:42:35.852Z"
   },
   {
    "duration": 1177,
    "start_time": "2024-08-26T15:42:41.683Z"
   },
   {
    "duration": 62,
    "start_time": "2024-08-26T15:42:42.863Z"
   },
   {
    "duration": 18,
    "start_time": "2024-08-26T15:42:42.929Z"
   },
   {
    "duration": 6,
    "start_time": "2024-08-26T15:42:42.951Z"
   },
   {
    "duration": 62,
    "start_time": "2024-08-26T15:42:42.961Z"
   },
   {
    "duration": 32,
    "start_time": "2024-08-26T15:42:43.026Z"
   },
   {
    "duration": 10,
    "start_time": "2024-08-26T15:42:43.061Z"
   },
   {
    "duration": 56,
    "start_time": "2024-08-26T15:42:43.074Z"
   },
   {
    "duration": 7,
    "start_time": "2024-08-26T15:42:43.132Z"
   },
   {
    "duration": 69,
    "start_time": "2024-08-26T15:42:43.147Z"
   },
   {
    "duration": 8,
    "start_time": "2024-08-26T15:42:43.219Z"
   },
   {
    "duration": 1443,
    "start_time": "2024-08-26T15:42:43.231Z"
   },
   {
    "duration": 160,
    "start_time": "2024-08-26T15:42:44.677Z"
   },
   {
    "duration": 56279,
    "start_time": "2024-08-26T15:42:44.840Z"
   },
   {
    "duration": 265,
    "start_time": "2024-08-26T15:43:41.124Z"
   },
   {
    "duration": 23,
    "start_time": "2024-08-26T15:43:41.392Z"
   },
   {
    "duration": 17,
    "start_time": "2024-08-26T15:43:41.418Z"
   },
   {
    "duration": 26,
    "start_time": "2024-08-26T15:43:41.439Z"
   },
   {
    "duration": 154594,
    "start_time": "2024-08-26T15:43:41.468Z"
   },
   {
    "duration": 255,
    "start_time": "2024-08-26T15:46:16.065Z"
   },
   {
    "duration": 816,
    "start_time": "2024-08-26T18:32:32.537Z"
   },
   {
    "duration": 37,
    "start_time": "2024-08-26T18:32:33.356Z"
   },
   {
    "duration": 9,
    "start_time": "2024-08-26T18:32:33.395Z"
   },
   {
    "duration": 4,
    "start_time": "2024-08-26T18:32:33.406Z"
   },
   {
    "duration": 20,
    "start_time": "2024-08-26T18:32:33.411Z"
   },
   {
    "duration": 15,
    "start_time": "2024-08-26T18:32:33.433Z"
   },
   {
    "duration": 5,
    "start_time": "2024-08-26T18:32:33.450Z"
   },
   {
    "duration": 10,
    "start_time": "2024-08-26T18:32:33.457Z"
   },
   {
    "duration": 4,
    "start_time": "2024-08-26T18:32:33.468Z"
   },
   {
    "duration": 51,
    "start_time": "2024-08-26T18:32:33.476Z"
   },
   {
    "duration": 4,
    "start_time": "2024-08-26T18:32:33.528Z"
   },
   {
    "duration": 865,
    "start_time": "2024-08-26T18:32:33.534Z"
   },
   {
    "duration": 135,
    "start_time": "2024-08-26T18:32:34.401Z"
   },
   {
    "duration": 34676,
    "start_time": "2024-08-26T18:32:34.539Z"
   },
   {
    "duration": 163,
    "start_time": "2024-08-26T18:33:09.222Z"
   },
   {
    "duration": 9,
    "start_time": "2024-08-26T18:33:09.421Z"
   },
   {
    "duration": 7,
    "start_time": "2024-08-26T18:33:09.431Z"
   },
   {
    "duration": 15,
    "start_time": "2024-08-26T18:33:09.439Z"
   },
   {
    "duration": 90169,
    "start_time": "2024-08-26T18:33:09.455Z"
   },
   {
    "duration": 356,
    "start_time": "2024-08-26T18:34:39.628Z"
   },
   {
    "duration": 414,
    "start_time": "2024-08-26T18:37:39.357Z"
   },
   {
    "duration": 152,
    "start_time": "2024-08-27T18:30:49.237Z"
   },
   {
    "duration": 742,
    "start_time": "2024-08-27T18:30:55.068Z"
   },
   {
    "duration": 31,
    "start_time": "2024-08-27T18:30:55.812Z"
   },
   {
    "duration": 10,
    "start_time": "2024-08-27T18:30:55.844Z"
   },
   {
    "duration": 4,
    "start_time": "2024-08-27T18:30:55.856Z"
   },
   {
    "duration": 29,
    "start_time": "2024-08-27T18:30:55.862Z"
   },
   {
    "duration": 18,
    "start_time": "2024-08-27T18:30:55.892Z"
   },
   {
    "duration": 146,
    "start_time": "2024-08-27T18:30:55.912Z"
   },
   {
    "duration": 0,
    "start_time": "2024-08-27T18:30:56.061Z"
   },
   {
    "duration": 0,
    "start_time": "2024-08-27T18:30:56.062Z"
   },
   {
    "duration": 0,
    "start_time": "2024-08-27T18:30:56.064Z"
   },
   {
    "duration": 0,
    "start_time": "2024-08-27T18:30:56.066Z"
   },
   {
    "duration": 0,
    "start_time": "2024-08-27T18:30:56.067Z"
   },
   {
    "duration": 0,
    "start_time": "2024-08-27T18:30:56.068Z"
   },
   {
    "duration": 0,
    "start_time": "2024-08-27T18:30:56.070Z"
   },
   {
    "duration": 0,
    "start_time": "2024-08-27T18:30:56.071Z"
   },
   {
    "duration": 0,
    "start_time": "2024-08-27T18:30:56.073Z"
   },
   {
    "duration": 0,
    "start_time": "2024-08-27T18:30:56.087Z"
   },
   {
    "duration": 0,
    "start_time": "2024-08-27T18:30:56.088Z"
   },
   {
    "duration": 0,
    "start_time": "2024-08-27T18:30:56.090Z"
   },
   {
    "duration": 0,
    "start_time": "2024-08-27T18:30:56.091Z"
   },
   {
    "duration": 1,
    "start_time": "2024-08-27T18:30:56.091Z"
   },
   {
    "duration": 6,
    "start_time": "2024-08-27T18:31:05.944Z"
   },
   {
    "duration": 4,
    "start_time": "2024-08-27T18:35:02.889Z"
   },
   {
    "duration": 3,
    "start_time": "2024-08-27T18:35:09.190Z"
   },
   {
    "duration": 17,
    "start_time": "2024-08-27T18:35:17.370Z"
   },
   {
    "duration": 3,
    "start_time": "2024-08-27T18:36:53.443Z"
   },
   {
    "duration": 16,
    "start_time": "2024-08-27T18:36:53.948Z"
   },
   {
    "duration": 9,
    "start_time": "2024-08-27T18:38:13.662Z"
   },
   {
    "duration": 761,
    "start_time": "2024-08-27T18:43:04.033Z"
   },
   {
    "duration": 27,
    "start_time": "2024-08-27T18:43:04.797Z"
   },
   {
    "duration": 10,
    "start_time": "2024-08-27T18:43:04.826Z"
   },
   {
    "duration": 4,
    "start_time": "2024-08-27T18:43:04.838Z"
   },
   {
    "duration": 15,
    "start_time": "2024-08-27T18:43:04.843Z"
   },
   {
    "duration": 35,
    "start_time": "2024-08-27T18:43:04.860Z"
   },
   {
    "duration": 6,
    "start_time": "2024-08-27T18:43:04.896Z"
   },
   {
    "duration": 4,
    "start_time": "2024-08-27T18:43:04.903Z"
   },
   {
    "duration": 14,
    "start_time": "2024-08-27T18:43:04.909Z"
   },
   {
    "duration": 9,
    "start_time": "2024-08-27T18:43:04.926Z"
   },
   {
    "duration": 11,
    "start_time": "2024-08-27T18:43:04.936Z"
   },
   {
    "duration": 4,
    "start_time": "2024-08-27T18:43:04.948Z"
   },
   {
    "duration": 17,
    "start_time": "2024-08-27T18:43:04.987Z"
   },
   {
    "duration": 5,
    "start_time": "2024-08-27T18:43:05.006Z"
   },
   {
    "duration": 807,
    "start_time": "2024-08-27T18:43:05.013Z"
   },
   {
    "duration": 216,
    "start_time": "2024-08-27T18:43:05.821Z"
   },
   {
    "duration": 0,
    "start_time": "2024-08-27T18:43:06.039Z"
   },
   {
    "duration": 0,
    "start_time": "2024-08-27T18:43:06.040Z"
   },
   {
    "duration": 0,
    "start_time": "2024-08-27T18:43:06.042Z"
   },
   {
    "duration": 0,
    "start_time": "2024-08-27T18:43:06.043Z"
   },
   {
    "duration": 0,
    "start_time": "2024-08-27T18:43:06.054Z"
   },
   {
    "duration": 0,
    "start_time": "2024-08-27T18:43:06.055Z"
   },
   {
    "duration": 0,
    "start_time": "2024-08-27T18:43:06.059Z"
   },
   {
    "duration": 93,
    "start_time": "2024-08-27T18:47:31.915Z"
   },
   {
    "duration": 36116,
    "start_time": "2024-08-27T18:47:45.184Z"
   },
   {
    "duration": 179,
    "start_time": "2024-08-27T18:48:23.527Z"
   },
   {
    "duration": 8,
    "start_time": "2024-08-27T18:48:49.976Z"
   },
   {
    "duration": 15,
    "start_time": "2024-08-27T18:48:55.195Z"
   },
   {
    "duration": 15,
    "start_time": "2024-08-27T18:48:55.462Z"
   },
   {
    "duration": 9,
    "start_time": "2024-08-27T18:51:14.392Z"
   },
   {
    "duration": 8,
    "start_time": "2024-08-27T18:52:47.557Z"
   },
   {
    "duration": 21,
    "start_time": "2024-08-27T18:52:57.000Z"
   },
   {
    "duration": 12,
    "start_time": "2024-08-27T18:55:05.517Z"
   },
   {
    "duration": 8,
    "start_time": "2024-08-27T18:57:18.894Z"
   },
   {
    "duration": 2,
    "start_time": "2024-08-27T19:00:39.400Z"
   },
   {
    "duration": 8,
    "start_time": "2024-08-27T19:03:44.306Z"
   },
   {
    "duration": 8,
    "start_time": "2024-08-27T19:10:52.541Z"
   },
   {
    "duration": 21,
    "start_time": "2024-08-27T19:11:31.821Z"
   },
   {
    "duration": 9,
    "start_time": "2024-08-27T19:11:42.517Z"
   },
   {
    "duration": 10,
    "start_time": "2024-08-27T19:11:59.120Z"
   },
   {
    "duration": 804,
    "start_time": "2024-08-27T19:14:29.596Z"
   },
   {
    "duration": 28,
    "start_time": "2024-08-27T19:14:30.402Z"
   },
   {
    "duration": 10,
    "start_time": "2024-08-27T19:14:30.432Z"
   },
   {
    "duration": 4,
    "start_time": "2024-08-27T19:14:30.443Z"
   },
   {
    "duration": 16,
    "start_time": "2024-08-27T19:14:30.448Z"
   },
   {
    "duration": 15,
    "start_time": "2024-08-27T19:14:30.486Z"
   },
   {
    "duration": 5,
    "start_time": "2024-08-27T19:14:30.503Z"
   },
   {
    "duration": 3,
    "start_time": "2024-08-27T19:14:30.510Z"
   },
   {
    "duration": 12,
    "start_time": "2024-08-27T19:14:30.515Z"
   },
   {
    "duration": 8,
    "start_time": "2024-08-27T19:14:30.530Z"
   },
   {
    "duration": 11,
    "start_time": "2024-08-27T19:14:30.539Z"
   },
   {
    "duration": 37,
    "start_time": "2024-08-27T19:14:30.552Z"
   },
   {
    "duration": 16,
    "start_time": "2024-08-27T19:14:30.591Z"
   },
   {
    "duration": 4,
    "start_time": "2024-08-27T19:14:30.609Z"
   },
   {
    "duration": 820,
    "start_time": "2024-08-27T19:14:30.614Z"
   },
   {
    "duration": 162,
    "start_time": "2024-08-27T19:14:31.436Z"
   },
   {
    "duration": 35760,
    "start_time": "2024-08-27T19:14:31.600Z"
   },
   {
    "duration": 271,
    "start_time": "2024-08-27T19:15:07.362Z"
   },
   {
    "duration": 0,
    "start_time": "2024-08-27T19:15:07.635Z"
   },
   {
    "duration": 0,
    "start_time": "2024-08-27T19:15:07.637Z"
   },
   {
    "duration": 0,
    "start_time": "2024-08-27T19:15:07.638Z"
   },
   {
    "duration": 0,
    "start_time": "2024-08-27T19:15:07.640Z"
   },
   {
    "duration": 0,
    "start_time": "2024-08-27T19:15:07.641Z"
   },
   {
    "duration": 3,
    "start_time": "2024-08-27T19:16:05.306Z"
   },
   {
    "duration": 3,
    "start_time": "2024-08-27T19:16:48.704Z"
   },
   {
    "duration": 4,
    "start_time": "2024-08-27T19:23:05.807Z"
   },
   {
    "duration": 9,
    "start_time": "2024-08-27T19:24:22.822Z"
   },
   {
    "duration": 9,
    "start_time": "2024-08-27T19:24:26.064Z"
   },
   {
    "duration": 25,
    "start_time": "2024-08-27T19:24:28.300Z"
   },
   {
    "duration": 15,
    "start_time": "2024-08-27T19:26:07.642Z"
   },
   {
    "duration": 818,
    "start_time": "2024-08-28T01:17:27.914Z"
   },
   {
    "duration": 44,
    "start_time": "2024-08-28T01:17:28.734Z"
   },
   {
    "duration": 10,
    "start_time": "2024-08-28T01:17:28.780Z"
   },
   {
    "duration": 3,
    "start_time": "2024-08-28T01:17:28.792Z"
   },
   {
    "duration": 23,
    "start_time": "2024-08-28T01:17:28.797Z"
   },
   {
    "duration": 15,
    "start_time": "2024-08-28T01:17:28.822Z"
   },
   {
    "duration": 5,
    "start_time": "2024-08-28T01:17:28.839Z"
   },
   {
    "duration": 3,
    "start_time": "2024-08-28T01:17:28.846Z"
   },
   {
    "duration": 11,
    "start_time": "2024-08-28T01:17:28.852Z"
   },
   {
    "duration": 9,
    "start_time": "2024-08-28T01:17:28.866Z"
   },
   {
    "duration": 40,
    "start_time": "2024-08-28T01:17:28.876Z"
   },
   {
    "duration": 4,
    "start_time": "2024-08-28T01:17:28.918Z"
   },
   {
    "duration": 16,
    "start_time": "2024-08-28T01:17:28.923Z"
   },
   {
    "duration": 4,
    "start_time": "2024-08-28T01:17:28.941Z"
   },
   {
    "duration": 846,
    "start_time": "2024-08-28T01:17:28.947Z"
   },
   {
    "duration": 132,
    "start_time": "2024-08-28T01:17:29.795Z"
   },
   {
    "duration": 37580,
    "start_time": "2024-08-28T01:17:29.930Z"
   },
   {
    "duration": 5,
    "start_time": "2024-08-28T01:18:07.511Z"
   },
   {
    "duration": 9,
    "start_time": "2024-08-28T01:18:07.518Z"
   },
   {
    "duration": 7,
    "start_time": "2024-08-28T01:18:07.528Z"
   },
   {
    "duration": 17,
    "start_time": "2024-08-28T01:18:07.537Z"
   },
   {
    "duration": 162710,
    "start_time": "2024-08-28T01:18:07.555Z"
   },
   {
    "duration": 409,
    "start_time": "2024-08-28T01:20:50.267Z"
   },
   {
    "duration": 0,
    "start_time": "2024-08-28T01:20:50.678Z"
   },
   {
    "duration": 7,
    "start_time": "2024-08-28T01:23:13.803Z"
   },
   {
    "duration": 5,
    "start_time": "2024-08-28T01:23:18.848Z"
   },
   {
    "duration": 176,
    "start_time": "2024-08-28T01:23:33.183Z"
   },
   {
    "duration": 174,
    "start_time": "2024-08-28T01:23:44.099Z"
   },
   {
    "duration": 190,
    "start_time": "2024-08-28T01:23:47.548Z"
   },
   {
    "duration": 1048,
    "start_time": "2024-08-28T01:24:11.235Z"
   },
   {
    "duration": 1,
    "start_time": "2024-08-28T01:24:12.285Z"
   },
   {
    "duration": 0,
    "start_time": "2024-08-28T01:24:12.287Z"
   },
   {
    "duration": 0,
    "start_time": "2024-08-28T01:24:12.288Z"
   },
   {
    "duration": 0,
    "start_time": "2024-08-28T01:24:12.290Z"
   },
   {
    "duration": 0,
    "start_time": "2024-08-28T01:24:12.291Z"
   },
   {
    "duration": 0,
    "start_time": "2024-08-28T01:24:12.293Z"
   },
   {
    "duration": 0,
    "start_time": "2024-08-28T01:24:12.308Z"
   },
   {
    "duration": 0,
    "start_time": "2024-08-28T01:24:12.309Z"
   },
   {
    "duration": 0,
    "start_time": "2024-08-28T01:24:12.310Z"
   },
   {
    "duration": 0,
    "start_time": "2024-08-28T01:24:12.312Z"
   },
   {
    "duration": 0,
    "start_time": "2024-08-28T01:24:12.313Z"
   },
   {
    "duration": 0,
    "start_time": "2024-08-28T01:24:12.314Z"
   },
   {
    "duration": 0,
    "start_time": "2024-08-28T01:24:12.315Z"
   },
   {
    "duration": 0,
    "start_time": "2024-08-28T01:24:12.316Z"
   },
   {
    "duration": 0,
    "start_time": "2024-08-28T01:24:12.317Z"
   },
   {
    "duration": 0,
    "start_time": "2024-08-28T01:24:12.318Z"
   },
   {
    "duration": 0,
    "start_time": "2024-08-28T01:24:12.319Z"
   },
   {
    "duration": 0,
    "start_time": "2024-08-28T01:24:12.320Z"
   },
   {
    "duration": 0,
    "start_time": "2024-08-28T01:24:12.321Z"
   },
   {
    "duration": 0,
    "start_time": "2024-08-28T01:24:12.322Z"
   },
   {
    "duration": 0,
    "start_time": "2024-08-28T01:24:12.323Z"
   },
   {
    "duration": 0,
    "start_time": "2024-08-28T01:24:12.324Z"
   },
   {
    "duration": 1003,
    "start_time": "2024-08-28T01:25:01.148Z"
   },
   {
    "duration": 0,
    "start_time": "2024-08-28T01:25:02.153Z"
   },
   {
    "duration": 0,
    "start_time": "2024-08-28T01:25:02.154Z"
   },
   {
    "duration": 0,
    "start_time": "2024-08-28T01:25:02.156Z"
   },
   {
    "duration": 0,
    "start_time": "2024-08-28T01:25:02.157Z"
   },
   {
    "duration": 0,
    "start_time": "2024-08-28T01:25:02.158Z"
   },
   {
    "duration": 0,
    "start_time": "2024-08-28T01:25:02.159Z"
   },
   {
    "duration": 0,
    "start_time": "2024-08-28T01:25:02.160Z"
   },
   {
    "duration": 0,
    "start_time": "2024-08-28T01:25:02.161Z"
   },
   {
    "duration": 0,
    "start_time": "2024-08-28T01:25:02.162Z"
   },
   {
    "duration": 0,
    "start_time": "2024-08-28T01:25:02.163Z"
   },
   {
    "duration": 0,
    "start_time": "2024-08-28T01:25:02.164Z"
   },
   {
    "duration": 0,
    "start_time": "2024-08-28T01:25:02.165Z"
   },
   {
    "duration": 0,
    "start_time": "2024-08-28T01:25:02.166Z"
   },
   {
    "duration": 0,
    "start_time": "2024-08-28T01:25:02.167Z"
   },
   {
    "duration": 0,
    "start_time": "2024-08-28T01:25:02.168Z"
   },
   {
    "duration": 0,
    "start_time": "2024-08-28T01:25:02.169Z"
   },
   {
    "duration": 0,
    "start_time": "2024-08-28T01:25:02.170Z"
   },
   {
    "duration": 0,
    "start_time": "2024-08-28T01:25:02.171Z"
   },
   {
    "duration": 0,
    "start_time": "2024-08-28T01:25:02.172Z"
   },
   {
    "duration": 0,
    "start_time": "2024-08-28T01:25:02.173Z"
   },
   {
    "duration": 0,
    "start_time": "2024-08-28T01:25:02.174Z"
   },
   {
    "duration": 0,
    "start_time": "2024-08-28T01:25:02.174Z"
   },
   {
    "duration": 807,
    "start_time": "2024-08-28T01:25:13.914Z"
   },
   {
    "duration": 27,
    "start_time": "2024-08-28T01:25:14.722Z"
   },
   {
    "duration": 11,
    "start_time": "2024-08-28T01:25:14.751Z"
   },
   {
    "duration": 6,
    "start_time": "2024-08-28T01:25:14.767Z"
   },
   {
    "duration": 38,
    "start_time": "2024-08-28T01:25:14.775Z"
   },
   {
    "duration": 17,
    "start_time": "2024-08-28T01:25:14.815Z"
   },
   {
    "duration": 6,
    "start_time": "2024-08-28T01:25:14.833Z"
   },
   {
    "duration": 3,
    "start_time": "2024-08-28T01:25:14.841Z"
   },
   {
    "duration": 11,
    "start_time": "2024-08-28T01:25:14.846Z"
   },
   {
    "duration": 9,
    "start_time": "2024-08-28T01:25:14.861Z"
   },
   {
    "duration": 46,
    "start_time": "2024-08-28T01:25:14.872Z"
   },
   {
    "duration": 4,
    "start_time": "2024-08-28T01:25:14.919Z"
   },
   {
    "duration": 17,
    "start_time": "2024-08-28T01:25:14.924Z"
   },
   {
    "duration": 4,
    "start_time": "2024-08-28T01:25:14.944Z"
   },
   {
    "duration": 852,
    "start_time": "2024-08-28T01:25:14.949Z"
   },
   {
    "duration": 126,
    "start_time": "2024-08-28T01:25:15.802Z"
   },
   {
    "duration": 34848,
    "start_time": "2024-08-28T01:25:15.930Z"
   },
   {
    "duration": 4,
    "start_time": "2024-08-28T01:25:50.781Z"
   },
   {
    "duration": 23,
    "start_time": "2024-08-28T01:25:50.786Z"
   },
   {
    "duration": 7,
    "start_time": "2024-08-28T01:25:50.811Z"
   },
   {
    "duration": 16,
    "start_time": "2024-08-28T01:25:50.820Z"
   },
   {
    "duration": 88534,
    "start_time": "2024-08-28T01:25:50.838Z"
   },
   {
    "duration": 136,
    "start_time": "2024-08-28T01:27:19.374Z"
   },
   {
    "duration": 757,
    "start_time": "2024-08-29T19:01:47.394Z"
   },
   {
    "duration": 32,
    "start_time": "2024-08-29T19:01:48.153Z"
   },
   {
    "duration": 8,
    "start_time": "2024-08-29T19:01:48.187Z"
   },
   {
    "duration": 4,
    "start_time": "2024-08-29T19:01:48.197Z"
   },
   {
    "duration": 29,
    "start_time": "2024-08-29T19:01:48.203Z"
   },
   {
    "duration": 18,
    "start_time": "2024-08-29T19:01:48.235Z"
   },
   {
    "duration": 6,
    "start_time": "2024-08-29T19:01:48.254Z"
   },
   {
    "duration": 7,
    "start_time": "2024-08-29T19:01:48.261Z"
   },
   {
    "duration": 11,
    "start_time": "2024-08-29T19:01:48.270Z"
   },
   {
    "duration": 40,
    "start_time": "2024-08-29T19:01:48.284Z"
   },
   {
    "duration": 10,
    "start_time": "2024-08-29T19:01:48.326Z"
   },
   {
    "duration": 4,
    "start_time": "2024-08-29T19:01:48.338Z"
   },
   {
    "duration": 18,
    "start_time": "2024-08-29T19:01:48.343Z"
   },
   {
    "duration": 6,
    "start_time": "2024-08-29T19:01:48.363Z"
   },
   {
    "duration": 843,
    "start_time": "2024-08-29T19:01:48.370Z"
   },
   {
    "duration": 132,
    "start_time": "2024-08-29T19:01:49.214Z"
   },
   {
    "duration": 43982,
    "start_time": "2024-08-29T19:01:49.348Z"
   },
   {
    "duration": 4,
    "start_time": "2024-08-29T19:02:33.332Z"
   },
   {
    "duration": 7,
    "start_time": "2024-08-29T19:02:33.337Z"
   },
   {
    "duration": 6,
    "start_time": "2024-08-29T19:02:33.346Z"
   },
   {
    "duration": 20,
    "start_time": "2024-08-29T19:02:33.354Z"
   },
   {
    "duration": 108149,
    "start_time": "2024-08-29T19:02:33.376Z"
   },
   {
    "duration": 152,
    "start_time": "2024-08-29T19:04:21.527Z"
   },
   {
    "duration": 93103,
    "start_time": "2024-08-29T19:10:02.926Z"
   },
   {
    "duration": 104,
    "start_time": "2024-08-29T19:11:36.031Z"
   },
   {
    "duration": 7,
    "start_time": "2024-08-29T19:14:48.502Z"
   },
   {
    "duration": 249,
    "start_time": "2024-08-29T19:18:29.642Z"
   },
   {
    "duration": 14,
    "start_time": "2024-08-29T19:18:33.309Z"
   },
   {
    "duration": 150,
    "start_time": "2024-08-29T19:20:24.478Z"
   },
   {
    "duration": 781,
    "start_time": "2024-09-03T15:11:22.731Z"
   },
   {
    "duration": 815,
    "start_time": "2024-09-03T15:12:55.679Z"
   },
   {
    "duration": 38,
    "start_time": "2024-09-03T15:12:56.496Z"
   },
   {
    "duration": 10,
    "start_time": "2024-09-03T15:12:56.536Z"
   },
   {
    "duration": 4,
    "start_time": "2024-09-03T15:12:56.548Z"
   },
   {
    "duration": 16,
    "start_time": "2024-09-03T15:12:56.554Z"
   },
   {
    "duration": 17,
    "start_time": "2024-09-03T15:12:56.573Z"
   },
   {
    "duration": 6,
    "start_time": "2024-09-03T15:12:56.591Z"
   },
   {
    "duration": 4,
    "start_time": "2024-09-03T15:12:56.598Z"
   },
   {
    "duration": 41,
    "start_time": "2024-09-03T15:12:56.603Z"
   },
   {
    "duration": 9,
    "start_time": "2024-09-03T15:12:56.647Z"
   },
   {
    "duration": 13,
    "start_time": "2024-09-03T15:12:56.658Z"
   },
   {
    "duration": 4,
    "start_time": "2024-09-03T15:12:56.673Z"
   },
   {
    "duration": 18,
    "start_time": "2024-09-03T15:12:56.679Z"
   },
   {
    "duration": 3,
    "start_time": "2024-09-03T15:12:56.699Z"
   },
   {
    "duration": 863,
    "start_time": "2024-09-03T15:12:56.704Z"
   },
   {
    "duration": 178,
    "start_time": "2024-09-03T15:12:57.569Z"
   },
   {
    "duration": 38554,
    "start_time": "2024-09-03T15:12:57.749Z"
   },
   {
    "duration": 4,
    "start_time": "2024-09-03T15:13:36.305Z"
   },
   {
    "duration": 8,
    "start_time": "2024-09-03T15:13:36.310Z"
   },
   {
    "duration": 7,
    "start_time": "2024-09-03T15:13:36.319Z"
   },
   {
    "duration": 15,
    "start_time": "2024-09-03T15:13:36.343Z"
   },
   {
    "duration": 116716,
    "start_time": "2024-09-03T15:13:36.360Z"
   },
   {
    "duration": 6,
    "start_time": "2024-09-03T15:15:33.077Z"
   },
   {
    "duration": 0,
    "start_time": "2024-09-03T15:15:33.085Z"
   },
   {
    "duration": 158,
    "start_time": "2024-09-03T15:22:29.226Z"
   },
   {
    "duration": 8906,
    "start_time": "2024-09-03T16:26:52.586Z"
   },
   {
    "duration": 227,
    "start_time": "2024-09-03T16:36:29.562Z"
   },
   {
    "duration": 18,
    "start_time": "2024-09-03T16:37:21.270Z"
   },
   {
    "duration": 14,
    "start_time": "2024-09-03T16:37:35.122Z"
   },
   {
    "duration": 773,
    "start_time": "2024-09-04T18:17:46.114Z"
   },
   {
    "duration": 4,
    "start_time": "2024-09-04T18:24:46.901Z"
   },
   {
    "duration": 223,
    "start_time": "2024-09-04T18:30:58.697Z"
   },
   {
    "duration": 841,
    "start_time": "2024-09-04T18:31:03.465Z"
   },
   {
    "duration": 42,
    "start_time": "2024-09-04T18:31:04.308Z"
   },
   {
    "duration": 12,
    "start_time": "2024-09-04T18:31:04.353Z"
   },
   {
    "duration": 4,
    "start_time": "2024-09-04T18:31:04.369Z"
   },
   {
    "duration": 17,
    "start_time": "2024-09-04T18:31:04.376Z"
   },
   {
    "duration": 18,
    "start_time": "2024-09-04T18:31:04.395Z"
   },
   {
    "duration": 7,
    "start_time": "2024-09-04T18:31:04.444Z"
   },
   {
    "duration": 4,
    "start_time": "2024-09-04T18:31:04.453Z"
   },
   {
    "duration": 14,
    "start_time": "2024-09-04T18:31:04.458Z"
   },
   {
    "duration": 10,
    "start_time": "2024-09-04T18:31:04.475Z"
   },
   {
    "duration": 11,
    "start_time": "2024-09-04T18:31:04.486Z"
   },
   {
    "duration": 4,
    "start_time": "2024-09-04T18:31:04.499Z"
   },
   {
    "duration": 53,
    "start_time": "2024-09-04T18:31:04.504Z"
   },
   {
    "duration": 4,
    "start_time": "2024-09-04T18:31:04.559Z"
   },
   {
    "duration": 878,
    "start_time": "2024-09-04T18:31:04.565Z"
   },
   {
    "duration": 127,
    "start_time": "2024-09-04T18:31:05.445Z"
   },
   {
    "duration": 608,
    "start_time": "2024-09-04T18:31:05.575Z"
   },
   {
    "duration": 0,
    "start_time": "2024-09-04T18:31:06.185Z"
   },
   {
    "duration": 0,
    "start_time": "2024-09-04T18:31:06.186Z"
   },
   {
    "duration": 0,
    "start_time": "2024-09-04T18:31:06.187Z"
   },
   {
    "duration": 0,
    "start_time": "2024-09-04T18:31:06.188Z"
   },
   {
    "duration": 9,
    "start_time": "2024-09-04T18:37:55.051Z"
   },
   {
    "duration": 8,
    "start_time": "2024-09-04T18:38:02.106Z"
   },
   {
    "duration": 3,
    "start_time": "2024-09-04T18:49:45.669Z"
   },
   {
    "duration": 17,
    "start_time": "2024-09-04T19:03:19.666Z"
   },
   {
    "duration": 4,
    "start_time": "2024-09-04T19:03:24.616Z"
   },
   {
    "duration": 4,
    "start_time": "2024-09-04T19:03:30.991Z"
   },
   {
    "duration": 4,
    "start_time": "2024-09-04T19:03:31.555Z"
   },
   {
    "duration": 41948,
    "start_time": "2024-09-04T19:04:43.220Z"
   },
   {
    "duration": 43784,
    "start_time": "2024-09-04T19:05:57.569Z"
   },
   {
    "duration": 15,
    "start_time": "2024-09-04T19:06:41.355Z"
   },
   {
    "duration": 4,
    "start_time": "2024-09-04T19:07:41.913Z"
   },
   {
    "duration": 26,
    "start_time": "2024-09-04T19:08:16.643Z"
   },
   {
    "duration": 5,
    "start_time": "2024-09-04T19:08:24.362Z"
   },
   {
    "duration": 754,
    "start_time": "2024-09-05T18:06:54.938Z"
   },
   {
    "duration": 220,
    "start_time": "2024-09-05T18:09:04.596Z"
   },
   {
    "duration": 773,
    "start_time": "2024-09-05T18:09:11.715Z"
   },
   {
    "duration": 38,
    "start_time": "2024-09-05T18:09:12.490Z"
   },
   {
    "duration": 11,
    "start_time": "2024-09-05T18:09:12.529Z"
   },
   {
    "duration": 4,
    "start_time": "2024-09-05T18:09:12.542Z"
   },
   {
    "duration": 15,
    "start_time": "2024-09-05T18:09:12.548Z"
   },
   {
    "duration": 16,
    "start_time": "2024-09-05T18:09:12.570Z"
   },
   {
    "duration": 6,
    "start_time": "2024-09-05T18:09:12.587Z"
   },
   {
    "duration": 4,
    "start_time": "2024-09-05T18:09:12.595Z"
   },
   {
    "duration": 11,
    "start_time": "2024-09-05T18:09:12.600Z"
   },
   {
    "duration": 8,
    "start_time": "2024-09-05T18:09:12.614Z"
   },
   {
    "duration": 46,
    "start_time": "2024-09-05T18:09:12.624Z"
   },
   {
    "duration": 4,
    "start_time": "2024-09-05T18:09:12.672Z"
   },
   {
    "duration": 16,
    "start_time": "2024-09-05T18:09:12.677Z"
   },
   {
    "duration": 4,
    "start_time": "2024-09-05T18:09:12.695Z"
   },
   {
    "duration": 847,
    "start_time": "2024-09-05T18:09:12.701Z"
   },
   {
    "duration": 126,
    "start_time": "2024-09-05T18:09:13.549Z"
   },
   {
    "duration": 7,
    "start_time": "2024-09-05T18:09:13.677Z"
   },
   {
    "duration": 7,
    "start_time": "2024-09-05T18:09:13.686Z"
   },
   {
    "duration": 3,
    "start_time": "2024-09-05T18:09:13.694Z"
   },
   {
    "duration": 41518,
    "start_time": "2024-09-05T18:09:13.699Z"
   },
   {
    "duration": 4,
    "start_time": "2024-09-05T18:09:55.219Z"
   },
   {
    "duration": 229,
    "start_time": "2024-09-05T18:09:55.224Z"
   },
   {
    "duration": 15,
    "start_time": "2024-09-05T18:19:49.392Z"
   },
   {
    "duration": 4,
    "start_time": "2024-09-05T18:19:54.535Z"
   },
   {
    "duration": 11,
    "start_time": "2024-09-05T18:20:01.224Z"
   },
   {
    "duration": 19,
    "start_time": "2024-09-05T18:20:15.539Z"
   },
   {
    "duration": 14,
    "start_time": "2024-09-05T18:20:23.965Z"
   },
   {
    "duration": 8,
    "start_time": "2024-09-05T18:20:34.890Z"
   },
   {
    "duration": 5,
    "start_time": "2024-09-05T18:20:52.577Z"
   },
   {
    "duration": 790,
    "start_time": "2024-09-05T18:20:55.148Z"
   },
   {
    "duration": 69,
    "start_time": "2024-09-05T18:21:07.324Z"
   },
   {
    "duration": 9,
    "start_time": "2024-09-05T18:21:09.709Z"
   },
   {
    "duration": 7,
    "start_time": "2024-09-05T18:21:12.605Z"
   },
   {
    "duration": 4,
    "start_time": "2024-09-05T18:21:14.669Z"
   },
   {
    "duration": 3,
    "start_time": "2024-09-05T18:22:00.856Z"
   },
   {
    "duration": 24,
    "start_time": "2024-09-05T18:22:00.861Z"
   },
   {
    "duration": 4,
    "start_time": "2024-09-05T18:22:00.887Z"
   },
   {
    "duration": 838,
    "start_time": "2024-09-05T18:22:00.894Z"
   },
   {
    "duration": 151,
    "start_time": "2024-09-05T18:22:01.734Z"
   },
   {
    "duration": 7,
    "start_time": "2024-09-05T18:22:01.887Z"
   },
   {
    "duration": 8,
    "start_time": "2024-09-05T18:22:01.896Z"
   },
   {
    "duration": 3,
    "start_time": "2024-09-05T18:22:01.905Z"
   },
   {
    "duration": 41514,
    "start_time": "2024-09-05T18:22:01.911Z"
   },
   {
    "duration": 5,
    "start_time": "2024-09-05T18:22:43.427Z"
   },
   {
    "duration": 365,
    "start_time": "2024-09-05T18:27:28.548Z"
   },
   {
    "duration": 87,
    "start_time": "2024-09-05T18:28:00.033Z"
   },
   {
    "duration": 741,
    "start_time": "2024-09-05T18:38:52.345Z"
   },
   {
    "duration": 27,
    "start_time": "2024-09-05T18:38:53.088Z"
   },
   {
    "duration": 9,
    "start_time": "2024-09-05T18:38:53.117Z"
   },
   {
    "duration": 4,
    "start_time": "2024-09-05T18:38:53.128Z"
   },
   {
    "duration": 16,
    "start_time": "2024-09-05T18:38:53.133Z"
   },
   {
    "duration": 16,
    "start_time": "2024-09-05T18:38:53.170Z"
   },
   {
    "duration": 5,
    "start_time": "2024-09-05T18:38:53.188Z"
   },
   {
    "duration": 4,
    "start_time": "2024-09-05T18:38:53.194Z"
   },
   {
    "duration": 11,
    "start_time": "2024-09-05T18:38:53.200Z"
   },
   {
    "duration": 11,
    "start_time": "2024-09-05T18:38:53.215Z"
   },
   {
    "duration": 42,
    "start_time": "2024-09-05T18:38:53.228Z"
   },
   {
    "duration": 3,
    "start_time": "2024-09-05T18:38:53.272Z"
   },
   {
    "duration": 17,
    "start_time": "2024-09-05T18:38:53.277Z"
   },
   {
    "duration": 3,
    "start_time": "2024-09-05T18:38:53.296Z"
   },
   {
    "duration": 817,
    "start_time": "2024-09-05T18:38:53.301Z"
   },
   {
    "duration": 161,
    "start_time": "2024-09-05T18:38:54.120Z"
   },
   {
    "duration": 8,
    "start_time": "2024-09-05T18:38:54.283Z"
   },
   {
    "duration": 7,
    "start_time": "2024-09-05T18:38:54.292Z"
   },
   {
    "duration": 4,
    "start_time": "2024-09-05T18:38:54.301Z"
   },
   {
    "duration": 41473,
    "start_time": "2024-09-05T18:38:54.306Z"
   },
   {
    "duration": 3,
    "start_time": "2024-09-05T18:39:35.781Z"
   },
   {
    "duration": 810,
    "start_time": "2024-09-05T19:11:12.223Z"
   },
   {
    "duration": 40,
    "start_time": "2024-09-05T19:11:13.035Z"
   },
   {
    "duration": 11,
    "start_time": "2024-09-05T19:11:13.077Z"
   },
   {
    "duration": 4,
    "start_time": "2024-09-05T19:11:13.091Z"
   },
   {
    "duration": 15,
    "start_time": "2024-09-05T19:11:13.097Z"
   },
   {
    "duration": 28,
    "start_time": "2024-09-05T19:11:13.115Z"
   },
   {
    "duration": 12,
    "start_time": "2024-09-05T19:11:13.145Z"
   },
   {
    "duration": 5,
    "start_time": "2024-09-05T19:11:13.159Z"
   },
   {
    "duration": 14,
    "start_time": "2024-09-05T19:11:13.165Z"
   },
   {
    "duration": 14,
    "start_time": "2024-09-05T19:11:13.182Z"
   },
   {
    "duration": 35,
    "start_time": "2024-09-05T19:11:13.198Z"
   },
   {
    "duration": 4,
    "start_time": "2024-09-05T19:11:13.235Z"
   },
   {
    "duration": 18,
    "start_time": "2024-09-05T19:11:13.241Z"
   },
   {
    "duration": 4,
    "start_time": "2024-09-05T19:11:13.261Z"
   },
   {
    "duration": 857,
    "start_time": "2024-09-05T19:11:13.266Z"
   },
   {
    "duration": 135,
    "start_time": "2024-09-05T19:11:14.124Z"
   },
   {
    "duration": 7,
    "start_time": "2024-09-05T19:11:14.263Z"
   },
   {
    "duration": 7,
    "start_time": "2024-09-05T19:11:14.272Z"
   },
   {
    "duration": 4,
    "start_time": "2024-09-05T19:11:14.281Z"
   },
   {
    "duration": 41911,
    "start_time": "2024-09-05T19:11:14.286Z"
   },
   {
    "duration": 3,
    "start_time": "2024-09-05T19:11:56.199Z"
   },
   {
    "duration": 805,
    "start_time": "2024-09-06T17:03:26.153Z"
   },
   {
    "duration": 42,
    "start_time": "2024-09-06T17:03:26.960Z"
   },
   {
    "duration": 19,
    "start_time": "2024-09-06T17:03:27.004Z"
   },
   {
    "duration": 4,
    "start_time": "2024-09-06T17:03:27.027Z"
   },
   {
    "duration": 18,
    "start_time": "2024-09-06T17:03:27.034Z"
   },
   {
    "duration": 17,
    "start_time": "2024-09-06T17:03:27.054Z"
   },
   {
    "duration": 6,
    "start_time": "2024-09-06T17:03:27.073Z"
   },
   {
    "duration": 3,
    "start_time": "2024-09-06T17:03:27.081Z"
   },
   {
    "duration": 40,
    "start_time": "2024-09-06T17:03:27.085Z"
   },
   {
    "duration": 10,
    "start_time": "2024-09-06T17:03:27.129Z"
   },
   {
    "duration": 15,
    "start_time": "2024-09-06T17:03:27.141Z"
   },
   {
    "duration": 4,
    "start_time": "2024-09-06T17:03:27.158Z"
   },
   {
    "duration": 25,
    "start_time": "2024-09-06T17:03:27.165Z"
   },
   {
    "duration": 33,
    "start_time": "2024-09-06T17:03:27.192Z"
   },
   {
    "duration": 954,
    "start_time": "2024-09-06T17:03:27.227Z"
   },
   {
    "duration": 145,
    "start_time": "2024-09-06T17:03:28.184Z"
   },
   {
    "duration": 15,
    "start_time": "2024-09-06T17:03:28.331Z"
   },
   {
    "duration": 9,
    "start_time": "2024-09-06T17:03:28.347Z"
   },
   {
    "duration": 5,
    "start_time": "2024-09-06T17:03:28.358Z"
   },
   {
    "duration": 43500,
    "start_time": "2024-09-06T17:03:28.365Z"
   },
   {
    "duration": 3,
    "start_time": "2024-09-06T17:04:11.867Z"
   },
   {
    "duration": 623,
    "start_time": "2024-09-06T17:16:00.245Z"
   },
   {
    "duration": 7,
    "start_time": "2024-09-06T17:38:34.312Z"
   },
   {
    "duration": 741,
    "start_time": "2024-09-06T18:55:56.618Z"
   },
   {
    "duration": 33,
    "start_time": "2024-09-06T18:55:57.363Z"
   },
   {
    "duration": 11,
    "start_time": "2024-09-06T18:55:57.398Z"
   },
   {
    "duration": 3,
    "start_time": "2024-09-06T18:55:57.412Z"
   },
   {
    "duration": 23,
    "start_time": "2024-09-06T18:55:57.417Z"
   },
   {
    "duration": 15,
    "start_time": "2024-09-06T18:55:57.441Z"
   },
   {
    "duration": 5,
    "start_time": "2024-09-06T18:55:57.458Z"
   },
   {
    "duration": 4,
    "start_time": "2024-09-06T18:55:57.464Z"
   },
   {
    "duration": 11,
    "start_time": "2024-09-06T18:55:57.470Z"
   },
   {
    "duration": 39,
    "start_time": "2024-09-06T18:55:57.484Z"
   },
   {
    "duration": 16,
    "start_time": "2024-09-06T18:55:57.525Z"
   },
   {
    "duration": 4,
    "start_time": "2024-09-06T18:55:57.542Z"
   },
   {
    "duration": 16,
    "start_time": "2024-09-06T18:55:57.548Z"
   },
   {
    "duration": 4,
    "start_time": "2024-09-06T18:55:57.565Z"
   },
   {
    "duration": 897,
    "start_time": "2024-09-06T18:55:57.570Z"
   },
   {
    "duration": 165,
    "start_time": "2024-09-06T18:55:58.469Z"
   },
   {
    "duration": 8,
    "start_time": "2024-09-06T18:55:58.635Z"
   },
   {
    "duration": 6,
    "start_time": "2024-09-06T18:55:58.645Z"
   },
   {
    "duration": 3,
    "start_time": "2024-09-06T18:55:58.653Z"
   },
   {
    "duration": 41191,
    "start_time": "2024-09-06T18:55:58.657Z"
   },
   {
    "duration": 3,
    "start_time": "2024-09-06T18:56:39.851Z"
   },
   {
    "duration": 764,
    "start_time": "2024-09-07T16:25:48.888Z"
   },
   {
    "duration": 41,
    "start_time": "2024-09-07T16:25:49.655Z"
   },
   {
    "duration": 10,
    "start_time": "2024-09-07T16:25:49.697Z"
   },
   {
    "duration": 4,
    "start_time": "2024-09-07T16:25:49.710Z"
   },
   {
    "duration": 16,
    "start_time": "2024-09-07T16:25:49.715Z"
   },
   {
    "duration": 16,
    "start_time": "2024-09-07T16:25:49.732Z"
   },
   {
    "duration": 6,
    "start_time": "2024-09-07T16:25:49.749Z"
   },
   {
    "duration": 5,
    "start_time": "2024-09-07T16:25:49.758Z"
   },
   {
    "duration": 19,
    "start_time": "2024-09-07T16:25:49.764Z"
   },
   {
    "duration": 10,
    "start_time": "2024-09-07T16:25:49.813Z"
   },
   {
    "duration": 11,
    "start_time": "2024-09-07T16:25:49.825Z"
   },
   {
    "duration": 3,
    "start_time": "2024-09-07T16:25:49.838Z"
   },
   {
    "duration": 17,
    "start_time": "2024-09-07T16:25:49.843Z"
   },
   {
    "duration": 4,
    "start_time": "2024-09-07T16:25:49.862Z"
   },
   {
    "duration": 895,
    "start_time": "2024-09-07T16:25:49.867Z"
   },
   {
    "duration": 156,
    "start_time": "2024-09-07T16:25:50.764Z"
   },
   {
    "duration": 8,
    "start_time": "2024-09-07T16:25:50.922Z"
   },
   {
    "duration": 7,
    "start_time": "2024-09-07T16:25:50.933Z"
   },
   {
    "duration": 3,
    "start_time": "2024-09-07T16:25:50.943Z"
   },
   {
    "duration": 41299,
    "start_time": "2024-09-07T16:25:50.948Z"
   },
   {
    "duration": 3,
    "start_time": "2024-09-07T16:26:32.249Z"
   },
   {
    "duration": 223,
    "start_time": "2024-09-07T16:26:32.254Z"
   },
   {
    "duration": 9409,
    "start_time": "2024-09-07T16:52:14.225Z"
   },
   {
    "duration": 1042,
    "start_time": "2024-09-07T16:52:37.328Z"
   },
   {
    "duration": 28,
    "start_time": "2024-09-07T16:53:14.685Z"
   },
   {
    "duration": 4,
    "start_time": "2024-09-07T16:53:18.999Z"
   },
   {
    "duration": 4,
    "start_time": "2024-09-07T16:53:25.626Z"
   },
   {
    "duration": 29,
    "start_time": "2024-09-07T16:53:25.902Z"
   },
   {
    "duration": 10,
    "start_time": "2024-09-07T16:53:26.291Z"
   },
   {
    "duration": 4,
    "start_time": "2024-09-07T16:53:27.833Z"
   },
   {
    "duration": 16,
    "start_time": "2024-09-07T16:53:28.240Z"
   },
   {
    "duration": 17,
    "start_time": "2024-09-07T16:53:28.517Z"
   },
   {
    "duration": 5,
    "start_time": "2024-09-07T16:53:28.872Z"
   },
   {
    "duration": 4,
    "start_time": "2024-09-07T16:53:29.866Z"
   },
   {
    "duration": 12,
    "start_time": "2024-09-07T16:53:30.185Z"
   },
   {
    "duration": 10,
    "start_time": "2024-09-07T16:53:30.539Z"
   },
   {
    "duration": 11,
    "start_time": "2024-09-07T16:53:35.542Z"
   },
   {
    "duration": 6,
    "start_time": "2024-09-07T16:53:36.232Z"
   },
   {
    "duration": 17,
    "start_time": "2024-09-07T16:53:38.045Z"
   },
   {
    "duration": 4,
    "start_time": "2024-09-07T16:53:41.654Z"
   },
   {
    "duration": 827,
    "start_time": "2024-09-07T16:53:43.394Z"
   },
   {
    "duration": 741,
    "start_time": "2024-09-07T16:56:37.996Z"
   },
   {
    "duration": 26,
    "start_time": "2024-09-07T16:56:38.739Z"
   },
   {
    "duration": 11,
    "start_time": "2024-09-07T16:56:38.931Z"
   },
   {
    "duration": 5,
    "start_time": "2024-09-07T16:56:39.804Z"
   },
   {
    "duration": 20,
    "start_time": "2024-09-07T16:56:39.940Z"
   },
   {
    "duration": 18,
    "start_time": "2024-09-07T16:56:40.100Z"
   },
   {
    "duration": 6,
    "start_time": "2024-09-07T16:56:40.247Z"
   },
   {
    "duration": 4,
    "start_time": "2024-09-07T16:56:40.550Z"
   },
   {
    "duration": 13,
    "start_time": "2024-09-07T16:56:40.724Z"
   },
   {
    "duration": 10,
    "start_time": "2024-09-07T16:56:40.887Z"
   },
   {
    "duration": 11,
    "start_time": "2024-09-07T16:56:42.109Z"
   },
   {
    "duration": 4,
    "start_time": "2024-09-07T16:56:42.557Z"
   },
   {
    "duration": 18,
    "start_time": "2024-09-07T16:56:43.977Z"
   },
   {
    "duration": 3,
    "start_time": "2024-09-07T16:56:46.999Z"
   },
   {
    "duration": 797,
    "start_time": "2024-09-07T16:56:55.153Z"
   },
   {
    "duration": 162,
    "start_time": "2024-09-07T16:58:52.512Z"
   },
   {
    "duration": 767,
    "start_time": "2024-09-07T16:58:58.266Z"
   },
   {
    "duration": 26,
    "start_time": "2024-09-07T16:58:59.035Z"
   },
   {
    "duration": 9,
    "start_time": "2024-09-07T16:58:59.063Z"
   },
   {
    "duration": 4,
    "start_time": "2024-09-07T16:58:59.074Z"
   },
   {
    "duration": 37,
    "start_time": "2024-09-07T16:58:59.079Z"
   },
   {
    "duration": 16,
    "start_time": "2024-09-07T16:58:59.117Z"
   },
   {
    "duration": 6,
    "start_time": "2024-09-07T16:58:59.135Z"
   },
   {
    "duration": 3,
    "start_time": "2024-09-07T16:58:59.142Z"
   },
   {
    "duration": 12,
    "start_time": "2024-09-07T16:58:59.146Z"
   },
   {
    "duration": 8,
    "start_time": "2024-09-07T16:58:59.162Z"
   },
   {
    "duration": 41,
    "start_time": "2024-09-07T16:58:59.171Z"
   },
   {
    "duration": 3,
    "start_time": "2024-09-07T16:58:59.214Z"
   },
   {
    "duration": 16,
    "start_time": "2024-09-07T16:58:59.219Z"
   },
   {
    "duration": 4,
    "start_time": "2024-09-07T16:58:59.236Z"
   },
   {
    "duration": 838,
    "start_time": "2024-09-07T16:58:59.241Z"
   },
   {
    "duration": 150,
    "start_time": "2024-09-07T16:59:00.081Z"
   },
   {
    "duration": 12,
    "start_time": "2024-09-07T16:59:00.233Z"
   },
   {
    "duration": 6,
    "start_time": "2024-09-07T16:59:00.247Z"
   },
   {
    "duration": 3,
    "start_time": "2024-09-07T16:59:00.255Z"
   },
   {
    "duration": 41648,
    "start_time": "2024-09-07T16:59:00.260Z"
   },
   {
    "duration": 4,
    "start_time": "2024-09-07T16:59:41.909Z"
   },
   {
    "duration": 3,
    "start_time": "2024-09-07T16:59:41.915Z"
   },
   {
    "duration": 121776,
    "start_time": "2024-09-07T16:59:41.920Z"
   },
   {
    "duration": 3,
    "start_time": "2024-09-07T17:01:43.698Z"
   },
   {
    "duration": 818,
    "start_time": "2024-09-07T17:07:08.248Z"
   },
   {
    "duration": 28,
    "start_time": "2024-09-07T17:07:09.069Z"
   },
   {
    "duration": 19,
    "start_time": "2024-09-07T17:07:09.099Z"
   },
   {
    "duration": 4,
    "start_time": "2024-09-07T17:07:09.121Z"
   },
   {
    "duration": 16,
    "start_time": "2024-09-07T17:07:09.127Z"
   },
   {
    "duration": 16,
    "start_time": "2024-09-07T17:07:09.144Z"
   },
   {
    "duration": 6,
    "start_time": "2024-09-07T17:07:09.162Z"
   },
   {
    "duration": 5,
    "start_time": "2024-09-07T17:07:09.170Z"
   },
   {
    "duration": 46,
    "start_time": "2024-09-07T17:07:09.176Z"
   },
   {
    "duration": 10,
    "start_time": "2024-09-07T17:07:09.225Z"
   },
   {
    "duration": 11,
    "start_time": "2024-09-07T17:07:09.237Z"
   },
   {
    "duration": 4,
    "start_time": "2024-09-07T17:07:09.250Z"
   },
   {
    "duration": 20,
    "start_time": "2024-09-07T17:07:09.256Z"
   },
   {
    "duration": 37,
    "start_time": "2024-09-07T17:07:09.278Z"
   },
   {
    "duration": 815,
    "start_time": "2024-09-07T17:07:09.317Z"
   },
   {
    "duration": 182,
    "start_time": "2024-09-07T17:07:10.134Z"
   },
   {
    "duration": 8,
    "start_time": "2024-09-07T17:07:10.318Z"
   },
   {
    "duration": 8,
    "start_time": "2024-09-07T17:07:10.328Z"
   },
   {
    "duration": 4,
    "start_time": "2024-09-07T17:07:10.337Z"
   },
   {
    "duration": 41381,
    "start_time": "2024-09-07T17:07:10.343Z"
   },
   {
    "duration": 3,
    "start_time": "2024-09-07T17:07:51.726Z"
   },
   {
    "duration": 3,
    "start_time": "2024-09-07T17:07:51.731Z"
   },
   {
    "duration": 815,
    "start_time": "2024-09-07T17:09:45.346Z"
   },
   {
    "duration": 26,
    "start_time": "2024-09-07T17:09:46.163Z"
   },
   {
    "duration": 9,
    "start_time": "2024-09-07T17:09:46.191Z"
   },
   {
    "duration": 12,
    "start_time": "2024-09-07T17:09:46.202Z"
   },
   {
    "duration": 14,
    "start_time": "2024-09-07T17:09:46.216Z"
   },
   {
    "duration": 17,
    "start_time": "2024-09-07T17:09:46.232Z"
   },
   {
    "duration": 6,
    "start_time": "2024-09-07T17:09:46.250Z"
   },
   {
    "duration": 3,
    "start_time": "2024-09-07T17:09:46.257Z"
   },
   {
    "duration": 11,
    "start_time": "2024-09-07T17:09:46.262Z"
   },
   {
    "duration": 8,
    "start_time": "2024-09-07T17:09:46.312Z"
   },
   {
    "duration": 10,
    "start_time": "2024-09-07T17:09:46.322Z"
   },
   {
    "duration": 4,
    "start_time": "2024-09-07T17:09:46.334Z"
   },
   {
    "duration": 17,
    "start_time": "2024-09-07T17:09:46.340Z"
   },
   {
    "duration": 3,
    "start_time": "2024-09-07T17:09:46.359Z"
   },
   {
    "duration": 850,
    "start_time": "2024-09-07T17:09:46.364Z"
   },
   {
    "duration": 125,
    "start_time": "2024-09-07T17:09:47.216Z"
   },
   {
    "duration": 8,
    "start_time": "2024-09-07T17:09:47.342Z"
   },
   {
    "duration": 66,
    "start_time": "2024-09-07T17:09:47.352Z"
   },
   {
    "duration": 4,
    "start_time": "2024-09-07T17:09:47.419Z"
   },
   {
    "duration": 41390,
    "start_time": "2024-09-07T17:09:47.425Z"
   },
   {
    "duration": 3,
    "start_time": "2024-09-07T17:10:28.817Z"
   },
   {
    "duration": 3,
    "start_time": "2024-09-07T17:10:28.822Z"
   },
   {
    "duration": 747,
    "start_time": "2024-09-07T17:14:53.887Z"
   },
   {
    "duration": 28,
    "start_time": "2024-09-07T17:14:54.636Z"
   },
   {
    "duration": 9,
    "start_time": "2024-09-07T17:14:54.666Z"
   },
   {
    "duration": 4,
    "start_time": "2024-09-07T17:14:54.678Z"
   },
   {
    "duration": 36,
    "start_time": "2024-09-07T17:14:54.684Z"
   },
   {
    "duration": 16,
    "start_time": "2024-09-07T17:14:54.722Z"
   },
   {
    "duration": 7,
    "start_time": "2024-09-07T17:14:54.740Z"
   },
   {
    "duration": 3,
    "start_time": "2024-09-07T17:14:54.749Z"
   },
   {
    "duration": 11,
    "start_time": "2024-09-07T17:14:54.754Z"
   },
   {
    "duration": 8,
    "start_time": "2024-09-07T17:14:54.768Z"
   },
   {
    "duration": 47,
    "start_time": "2024-09-07T17:14:54.777Z"
   },
   {
    "duration": 5,
    "start_time": "2024-09-07T17:14:54.826Z"
   },
   {
    "duration": 17,
    "start_time": "2024-09-07T17:14:54.833Z"
   },
   {
    "duration": 4,
    "start_time": "2024-09-07T17:14:54.852Z"
   },
   {
    "duration": 865,
    "start_time": "2024-09-07T17:14:54.857Z"
   },
   {
    "duration": 117,
    "start_time": "2024-09-07T17:14:55.724Z"
   },
   {
    "duration": 72,
    "start_time": "2024-09-07T17:14:55.844Z"
   },
   {
    "duration": 8,
    "start_time": "2024-09-07T17:14:55.919Z"
   },
   {
    "duration": 4,
    "start_time": "2024-09-07T17:14:55.928Z"
   },
   {
    "duration": 41487,
    "start_time": "2024-09-07T17:14:55.934Z"
   },
   {
    "duration": 3,
    "start_time": "2024-09-07T17:15:37.423Z"
   },
   {
    "duration": 3,
    "start_time": "2024-09-07T17:15:37.429Z"
   },
   {
    "duration": 756,
    "start_time": "2024-09-07T17:28:38.293Z"
   },
   {
    "duration": 29,
    "start_time": "2024-09-07T17:28:39.051Z"
   },
   {
    "duration": 10,
    "start_time": "2024-09-07T17:28:39.082Z"
   },
   {
    "duration": 4,
    "start_time": "2024-09-07T17:28:39.095Z"
   },
   {
    "duration": 16,
    "start_time": "2024-09-07T17:28:39.112Z"
   },
   {
    "duration": 16,
    "start_time": "2024-09-07T17:28:39.130Z"
   },
   {
    "duration": 5,
    "start_time": "2024-09-07T17:28:39.148Z"
   },
   {
    "duration": 4,
    "start_time": "2024-09-07T17:28:39.155Z"
   },
   {
    "duration": 11,
    "start_time": "2024-09-07T17:28:39.161Z"
   },
   {
    "duration": 10,
    "start_time": "2024-09-07T17:28:39.211Z"
   },
   {
    "duration": 10,
    "start_time": "2024-09-07T17:28:39.222Z"
   },
   {
    "duration": 4,
    "start_time": "2024-09-07T17:28:39.234Z"
   },
   {
    "duration": 17,
    "start_time": "2024-09-07T17:28:39.240Z"
   },
   {
    "duration": 4,
    "start_time": "2024-09-07T17:28:39.259Z"
   },
   {
    "duration": 860,
    "start_time": "2024-09-07T17:28:39.264Z"
   },
   {
    "duration": 186,
    "start_time": "2024-09-07T17:28:40.127Z"
   },
   {
    "duration": 8,
    "start_time": "2024-09-07T17:28:40.315Z"
   },
   {
    "duration": 7,
    "start_time": "2024-09-07T17:28:40.325Z"
   },
   {
    "duration": 4,
    "start_time": "2024-09-07T17:28:40.334Z"
   },
   {
    "duration": 42409,
    "start_time": "2024-09-07T17:28:40.340Z"
   },
   {
    "duration": 3,
    "start_time": "2024-09-07T17:29:22.752Z"
   },
   {
    "duration": 3,
    "start_time": "2024-09-07T17:29:22.757Z"
   },
   {
    "duration": 355953,
    "start_time": "2024-09-07T17:29:22.762Z"
   },
   {
    "duration": 3,
    "start_time": "2024-09-07T17:35:18.717Z"
   },
   {
    "duration": 813,
    "start_time": "2024-09-07T17:46:32.732Z"
   },
   {
    "duration": 28,
    "start_time": "2024-09-07T17:46:33.548Z"
   },
   {
    "duration": 10,
    "start_time": "2024-09-07T17:46:33.578Z"
   },
   {
    "duration": 4,
    "start_time": "2024-09-07T17:46:33.590Z"
   },
   {
    "duration": 27,
    "start_time": "2024-09-07T17:46:33.596Z"
   },
   {
    "duration": 16,
    "start_time": "2024-09-07T17:46:33.625Z"
   },
   {
    "duration": 6,
    "start_time": "2024-09-07T17:46:33.643Z"
   },
   {
    "duration": 5,
    "start_time": "2024-09-07T17:46:33.651Z"
   },
   {
    "duration": 12,
    "start_time": "2024-09-07T17:46:33.658Z"
   },
   {
    "duration": 42,
    "start_time": "2024-09-07T17:46:33.673Z"
   },
   {
    "duration": 11,
    "start_time": "2024-09-07T17:46:33.717Z"
   },
   {
    "duration": 4,
    "start_time": "2024-09-07T17:46:33.730Z"
   },
   {
    "duration": 17,
    "start_time": "2024-09-07T17:46:33.736Z"
   },
   {
    "duration": 4,
    "start_time": "2024-09-07T17:46:33.754Z"
   },
   {
    "duration": 840,
    "start_time": "2024-09-07T17:46:33.760Z"
   },
   {
    "duration": 133,
    "start_time": "2024-09-07T17:46:34.603Z"
   },
   {
    "duration": 9,
    "start_time": "2024-09-07T17:46:34.738Z"
   },
   {
    "duration": 7,
    "start_time": "2024-09-07T17:46:34.749Z"
   },
   {
    "duration": 4,
    "start_time": "2024-09-07T17:46:34.757Z"
   },
   {
    "duration": 41488,
    "start_time": "2024-09-07T17:46:34.762Z"
   },
   {
    "duration": 3,
    "start_time": "2024-09-07T17:47:16.252Z"
   },
   {
    "duration": 3,
    "start_time": "2024-09-07T17:47:16.257Z"
   },
   {
    "duration": 469764,
    "start_time": "2024-09-07T17:47:16.262Z"
   },
   {
    "duration": 3,
    "start_time": "2024-09-07T17:55:06.035Z"
   },
   {
    "duration": 802,
    "start_time": "2024-09-08T04:49:39.198Z"
   },
   {
    "duration": 30,
    "start_time": "2024-09-08T04:49:40.002Z"
   },
   {
    "duration": 10,
    "start_time": "2024-09-08T04:49:40.034Z"
   },
   {
    "duration": 4,
    "start_time": "2024-09-08T04:49:40.045Z"
   },
   {
    "duration": 35,
    "start_time": "2024-09-08T04:49:40.051Z"
   },
   {
    "duration": 16,
    "start_time": "2024-09-08T04:49:40.088Z"
   },
   {
    "duration": 5,
    "start_time": "2024-09-08T04:49:40.106Z"
   },
   {
    "duration": 4,
    "start_time": "2024-09-08T04:49:40.112Z"
   },
   {
    "duration": 11,
    "start_time": "2024-09-08T04:49:40.117Z"
   },
   {
    "duration": 9,
    "start_time": "2024-09-08T04:49:40.131Z"
   },
   {
    "duration": 11,
    "start_time": "2024-09-08T04:49:40.141Z"
   },
   {
    "duration": 3,
    "start_time": "2024-09-08T04:49:40.186Z"
   },
   {
    "duration": 15,
    "start_time": "2024-09-08T04:49:40.191Z"
   },
   {
    "duration": 3,
    "start_time": "2024-09-08T04:49:40.208Z"
   },
   {
    "duration": 835,
    "start_time": "2024-09-08T04:49:40.213Z"
   },
   {
    "duration": 149,
    "start_time": "2024-09-08T04:49:41.050Z"
   },
   {
    "duration": 8,
    "start_time": "2024-09-08T04:49:41.201Z"
   },
   {
    "duration": 7,
    "start_time": "2024-09-08T04:49:41.210Z"
   },
   {
    "duration": 3,
    "start_time": "2024-09-08T04:49:41.219Z"
   },
   {
    "duration": 41416,
    "start_time": "2024-09-08T04:49:41.223Z"
   },
   {
    "duration": 4,
    "start_time": "2024-09-08T04:50:22.640Z"
   },
   {
    "duration": 3,
    "start_time": "2024-09-08T04:50:22.645Z"
   },
   {
    "duration": 452525,
    "start_time": "2024-09-08T04:50:22.650Z"
   },
   {
    "duration": 11,
    "start_time": "2024-09-08T04:57:55.177Z"
   },
   {
    "duration": 804,
    "start_time": "2024-09-09T15:23:03.712Z"
   },
   {
    "duration": 49,
    "start_time": "2024-09-09T15:23:04.518Z"
   },
   {
    "duration": 12,
    "start_time": "2024-09-09T15:23:04.569Z"
   },
   {
    "duration": 5,
    "start_time": "2024-09-09T15:23:04.584Z"
   },
   {
    "duration": 20,
    "start_time": "2024-09-09T15:23:04.591Z"
   },
   {
    "duration": 41,
    "start_time": "2024-09-09T15:23:04.613Z"
   },
   {
    "duration": 8,
    "start_time": "2024-09-09T15:23:04.656Z"
   },
   {
    "duration": 5,
    "start_time": "2024-09-09T15:23:04.667Z"
   },
   {
    "duration": 15,
    "start_time": "2024-09-09T15:23:04.675Z"
   },
   {
    "duration": 46,
    "start_time": "2024-09-09T15:23:04.694Z"
   },
   {
    "duration": 13,
    "start_time": "2024-09-09T15:23:04.742Z"
   },
   {
    "duration": 5,
    "start_time": "2024-09-09T15:23:04.757Z"
   },
   {
    "duration": 22,
    "start_time": "2024-09-09T15:23:04.764Z"
   },
   {
    "duration": 4,
    "start_time": "2024-09-09T15:23:04.788Z"
   },
   {
    "duration": 875,
    "start_time": "2024-09-09T15:23:04.794Z"
   },
   {
    "duration": 170,
    "start_time": "2024-09-09T15:23:05.670Z"
   },
   {
    "duration": 10,
    "start_time": "2024-09-09T15:23:05.842Z"
   },
   {
    "duration": 7,
    "start_time": "2024-09-09T15:23:05.853Z"
   },
   {
    "duration": 4,
    "start_time": "2024-09-09T15:23:05.862Z"
   },
   {
    "duration": 41889,
    "start_time": "2024-09-09T15:23:05.867Z"
   },
   {
    "duration": 4,
    "start_time": "2024-09-09T15:23:47.757Z"
   },
   {
    "duration": 3,
    "start_time": "2024-09-09T15:23:47.764Z"
   },
   {
    "duration": 458898,
    "start_time": "2024-09-09T15:23:47.768Z"
   },
   {
    "duration": 3,
    "start_time": "2024-09-09T15:31:26.668Z"
   },
   {
    "duration": 3,
    "start_time": "2024-09-09T15:32:06.348Z"
   },
   {
    "duration": 23,
    "start_time": "2024-09-09T15:50:17.323Z"
   },
   {
    "duration": 15,
    "start_time": "2024-09-09T15:50:28.025Z"
   },
   {
    "duration": 12,
    "start_time": "2024-09-09T15:50:38.159Z"
   },
   {
    "duration": 10,
    "start_time": "2024-09-09T15:50:56.626Z"
   },
   {
    "duration": 278,
    "start_time": "2024-09-09T15:51:11.197Z"
   },
   {
    "duration": 4,
    "start_time": "2024-09-09T15:51:14.153Z"
   },
   {
    "duration": 8,
    "start_time": "2024-09-09T15:51:25.279Z"
   },
   {
    "duration": 16,
    "start_time": "2024-09-09T15:52:31.753Z"
   },
   {
    "duration": 15,
    "start_time": "2024-09-09T15:52:42.293Z"
   },
   {
    "duration": 10,
    "start_time": "2024-09-09T15:52:45.229Z"
   },
   {
    "duration": 718134,
    "start_time": "2024-09-09T15:52:48.554Z"
   },
   {
    "duration": 3,
    "start_time": "2024-09-09T16:04:46.690Z"
   },
   {
    "duration": 111,
    "start_time": "2024-09-09T16:23:51.696Z"
   },
   {
    "duration": 5,
    "start_time": "2024-09-09T16:24:53.516Z"
   },
   {
    "duration": 13,
    "start_time": "2024-09-09T16:25:04.063Z"
   },
   {
    "duration": 13,
    "start_time": "2024-09-09T16:25:12.245Z"
   },
   {
    "duration": 4,
    "start_time": "2024-09-09T16:25:20.108Z"
   },
   {
    "duration": 119,
    "start_time": "2024-09-09T16:26:00.690Z"
   },
   {
    "duration": 127,
    "start_time": "2024-09-09T16:26:17.649Z"
   },
   {
    "duration": 119,
    "start_time": "2024-09-09T16:26:33.765Z"
   },
   {
    "duration": 817,
    "start_time": "2024-09-09T16:30:48.661Z"
   },
   {
    "duration": 30,
    "start_time": "2024-09-09T16:30:49.481Z"
   },
   {
    "duration": 10,
    "start_time": "2024-09-09T16:30:49.513Z"
   },
   {
    "duration": 5,
    "start_time": "2024-09-09T16:30:49.533Z"
   },
   {
    "duration": 18,
    "start_time": "2024-09-09T16:30:49.539Z"
   },
   {
    "duration": 17,
    "start_time": "2024-09-09T16:30:49.559Z"
   },
   {
    "duration": 7,
    "start_time": "2024-09-09T16:30:49.579Z"
   },
   {
    "duration": 4,
    "start_time": "2024-09-09T16:30:49.588Z"
   },
   {
    "duration": 41,
    "start_time": "2024-09-09T16:30:49.593Z"
   },
   {
    "duration": 10,
    "start_time": "2024-09-09T16:30:49.637Z"
   },
   {
    "duration": 10,
    "start_time": "2024-09-09T16:30:49.648Z"
   },
   {
    "duration": 4,
    "start_time": "2024-09-09T16:30:49.660Z"
   },
   {
    "duration": 17,
    "start_time": "2024-09-09T16:30:49.666Z"
   },
   {
    "duration": 3,
    "start_time": "2024-09-09T16:30:49.685Z"
   },
   {
    "duration": 895,
    "start_time": "2024-09-09T16:30:49.690Z"
   },
   {
    "duration": 154,
    "start_time": "2024-09-09T16:30:50.587Z"
   },
   {
    "duration": 9,
    "start_time": "2024-09-09T16:30:50.742Z"
   },
   {
    "duration": 7,
    "start_time": "2024-09-09T16:30:50.753Z"
   },
   {
    "duration": 5,
    "start_time": "2024-09-09T16:30:50.762Z"
   },
   {
    "duration": 41843,
    "start_time": "2024-09-09T16:30:50.768Z"
   },
   {
    "duration": 4,
    "start_time": "2024-09-09T16:31:32.613Z"
   },
   {
    "duration": 15,
    "start_time": "2024-09-09T16:31:32.618Z"
   },
   {
    "duration": 21,
    "start_time": "2024-09-09T16:31:32.634Z"
   },
   {
    "duration": 9,
    "start_time": "2024-09-09T16:31:32.657Z"
   },
   {
    "duration": 709346,
    "start_time": "2024-09-09T16:31:32.667Z"
   },
   {
    "duration": 4,
    "start_time": "2024-09-09T16:43:22.015Z"
   },
   {
    "duration": 126,
    "start_time": "2024-09-09T16:43:22.020Z"
   },
   {
    "duration": 785,
    "start_time": "2024-09-10T14:44:08.996Z"
   },
   {
    "duration": 42,
    "start_time": "2024-09-10T14:44:09.783Z"
   },
   {
    "duration": 11,
    "start_time": "2024-09-10T14:44:09.826Z"
   },
   {
    "duration": 4,
    "start_time": "2024-09-10T14:44:09.839Z"
   },
   {
    "duration": 18,
    "start_time": "2024-09-10T14:44:09.845Z"
   },
   {
    "duration": 24,
    "start_time": "2024-09-10T14:44:09.864Z"
   },
   {
    "duration": 6,
    "start_time": "2024-09-10T14:44:09.890Z"
   },
   {
    "duration": 33,
    "start_time": "2024-09-10T14:44:09.898Z"
   },
   {
    "duration": 14,
    "start_time": "2024-09-10T14:44:09.933Z"
   },
   {
    "duration": 9,
    "start_time": "2024-09-10T14:44:09.950Z"
   },
   {
    "duration": 11,
    "start_time": "2024-09-10T14:44:09.961Z"
   },
   {
    "duration": 4,
    "start_time": "2024-09-10T14:44:09.974Z"
   },
   {
    "duration": 52,
    "start_time": "2024-09-10T14:44:09.980Z"
   },
   {
    "duration": 4,
    "start_time": "2024-09-10T14:44:10.034Z"
   },
   {
    "duration": 860,
    "start_time": "2024-09-10T14:44:10.040Z"
   },
   {
    "duration": 147,
    "start_time": "2024-09-10T14:44:10.903Z"
   },
   {
    "duration": 8,
    "start_time": "2024-09-10T14:44:11.051Z"
   },
   {
    "duration": 7,
    "start_time": "2024-09-10T14:44:11.061Z"
   },
   {
    "duration": 4,
    "start_time": "2024-09-10T14:44:11.069Z"
   },
   {
    "duration": 42077,
    "start_time": "2024-09-10T14:44:11.075Z"
   },
   {
    "duration": 3,
    "start_time": "2024-09-10T14:44:53.154Z"
   },
   {
    "duration": 3,
    "start_time": "2024-09-10T14:44:53.159Z"
   },
   {
    "duration": 15,
    "start_time": "2024-09-10T14:44:53.164Z"
   },
   {
    "duration": 9,
    "start_time": "2024-09-10T14:44:53.181Z"
   },
   {
    "duration": 705791,
    "start_time": "2024-09-10T14:44:53.191Z"
   },
   {
    "duration": 3,
    "start_time": "2024-09-10T14:56:38.984Z"
   },
   {
    "duration": 122,
    "start_time": "2024-09-10T14:56:38.989Z"
   },
   {
    "duration": 118106,
    "start_time": "2024-09-10T15:06:40.156Z"
   },
   {
    "duration": 4,
    "start_time": "2024-09-10T15:11:19.883Z"
   },
   {
    "duration": 9,
    "start_time": "2024-09-10T15:11:47.001Z"
   },
   {
    "duration": 378,
    "start_time": "2024-09-10T15:11:58.524Z"
   },
   {
    "duration": 119,
    "start_time": "2024-09-10T15:12:10.536Z"
   },
   {
    "duration": 836,
    "start_time": "2024-09-10T15:12:25.342Z"
   },
   {
    "duration": 29,
    "start_time": "2024-09-10T15:12:26.180Z"
   },
   {
    "duration": 10,
    "start_time": "2024-09-10T15:12:26.210Z"
   },
   {
    "duration": 4,
    "start_time": "2024-09-10T15:12:26.232Z"
   },
   {
    "duration": 16,
    "start_time": "2024-09-10T15:12:26.238Z"
   },
   {
    "duration": 17,
    "start_time": "2024-09-10T15:12:26.256Z"
   },
   {
    "duration": 7,
    "start_time": "2024-09-10T15:12:26.274Z"
   },
   {
    "duration": 4,
    "start_time": "2024-09-10T15:12:26.282Z"
   },
   {
    "duration": 46,
    "start_time": "2024-09-10T15:12:26.287Z"
   },
   {
    "duration": 11,
    "start_time": "2024-09-10T15:12:26.337Z"
   },
   {
    "duration": 12,
    "start_time": "2024-09-10T15:12:26.350Z"
   },
   {
    "duration": 4,
    "start_time": "2024-09-10T15:12:26.364Z"
   },
   {
    "duration": 17,
    "start_time": "2024-09-10T15:12:26.370Z"
   },
   {
    "duration": 3,
    "start_time": "2024-09-10T15:12:26.389Z"
   },
   {
    "duration": 871,
    "start_time": "2024-09-10T15:12:26.394Z"
   },
   {
    "duration": 172,
    "start_time": "2024-09-10T15:12:27.266Z"
   },
   {
    "duration": 8,
    "start_time": "2024-09-10T15:12:27.440Z"
   },
   {
    "duration": 7,
    "start_time": "2024-09-10T15:12:27.449Z"
   },
   {
    "duration": 3,
    "start_time": "2024-09-10T15:12:27.458Z"
   },
   {
    "duration": 41827,
    "start_time": "2024-09-10T15:12:27.463Z"
   },
   {
    "duration": 3,
    "start_time": "2024-09-10T15:13:09.292Z"
   },
   {
    "duration": 3,
    "start_time": "2024-09-10T15:13:09.297Z"
   },
   {
    "duration": 30,
    "start_time": "2024-09-10T15:13:09.302Z"
   },
   {
    "duration": 12,
    "start_time": "2024-09-10T15:13:09.334Z"
   },
   {
    "duration": 117814,
    "start_time": "2024-09-10T15:13:09.348Z"
   },
   {
    "duration": 3,
    "start_time": "2024-09-10T15:15:07.164Z"
   },
   {
    "duration": 122,
    "start_time": "2024-09-10T15:15:07.169Z"
   },
   {
    "duration": 10,
    "start_time": "2024-09-10T15:15:07.295Z"
   },
   {
    "duration": 116,
    "start_time": "2024-09-10T15:17:19.833Z"
   },
   {
    "duration": 111,
    "start_time": "2024-09-10T15:17:23.717Z"
   },
   {
    "duration": 7,
    "start_time": "2024-09-10T16:31:47.746Z"
   },
   {
    "duration": 162,
    "start_time": "2024-09-10T16:40:33.292Z"
   },
   {
    "duration": 9228,
    "start_time": "2024-09-10T16:41:42.227Z"
   },
   {
    "duration": 873,
    "start_time": "2024-09-10T16:42:10.683Z"
   },
   {
    "duration": 16,
    "start_time": "2024-09-10T16:43:18.902Z"
   },
   {
    "duration": 3,
    "start_time": "2024-09-10T16:46:13.683Z"
   },
   {
    "duration": 1604,
    "start_time": "2024-09-10T16:46:24.428Z"
   },
   {
    "duration": 20,
    "start_time": "2024-09-10T16:46:30.877Z"
   },
   {
    "duration": 787,
    "start_time": "2024-09-10T16:50:43.278Z"
   },
   {
    "duration": 52,
    "start_time": "2024-09-10T16:50:44.067Z"
   },
   {
    "duration": 11,
    "start_time": "2024-09-10T16:50:44.121Z"
   },
   {
    "duration": 5,
    "start_time": "2024-09-10T16:50:44.135Z"
   },
   {
    "duration": 17,
    "start_time": "2024-09-10T16:50:44.141Z"
   },
   {
    "duration": 18,
    "start_time": "2024-09-10T16:50:44.160Z"
   },
   {
    "duration": 35,
    "start_time": "2024-09-10T16:50:44.180Z"
   },
   {
    "duration": 3,
    "start_time": "2024-09-10T16:50:44.219Z"
   },
   {
    "duration": 13,
    "start_time": "2024-09-10T16:50:44.224Z"
   },
   {
    "duration": 10,
    "start_time": "2024-09-10T16:50:44.240Z"
   },
   {
    "duration": 11,
    "start_time": "2024-09-10T16:50:44.251Z"
   },
   {
    "duration": 4,
    "start_time": "2024-09-10T16:50:44.264Z"
   },
   {
    "duration": 20,
    "start_time": "2024-09-10T16:50:44.309Z"
   },
   {
    "duration": 4,
    "start_time": "2024-09-10T16:50:44.331Z"
   },
   {
    "duration": 853,
    "start_time": "2024-09-10T16:50:44.337Z"
   },
   {
    "duration": 137,
    "start_time": "2024-09-10T16:50:45.192Z"
   },
   {
    "duration": 8,
    "start_time": "2024-09-10T16:50:45.331Z"
   },
   {
    "duration": 7,
    "start_time": "2024-09-10T16:50:45.340Z"
   },
   {
    "duration": 4,
    "start_time": "2024-09-10T16:50:45.349Z"
   },
   {
    "duration": 41934,
    "start_time": "2024-09-10T16:50:45.354Z"
   },
   {
    "duration": 5,
    "start_time": "2024-09-10T16:51:27.290Z"
   },
   {
    "duration": 3,
    "start_time": "2024-09-10T16:51:27.297Z"
   },
   {
    "duration": 16,
    "start_time": "2024-09-10T16:51:27.310Z"
   },
   {
    "duration": 9,
    "start_time": "2024-09-10T16:51:27.328Z"
   },
   {
    "duration": 117670,
    "start_time": "2024-09-10T16:51:27.339Z"
   },
   {
    "duration": 4,
    "start_time": "2024-09-10T16:53:25.011Z"
   },
   {
    "duration": 124,
    "start_time": "2024-09-10T16:53:25.016Z"
   },
   {
    "duration": 8,
    "start_time": "2024-09-10T16:53:25.145Z"
   },
   {
    "duration": 129,
    "start_time": "2024-09-10T16:53:25.155Z"
   },
   {
    "duration": 1445,
    "start_time": "2024-09-10T16:53:25.286Z"
   },
   {
    "duration": 229,
    "start_time": "2024-09-10T16:53:26.734Z"
   },
   {
    "duration": 4,
    "start_time": "2024-09-10T17:05:12.228Z"
   },
   {
    "duration": 1442,
    "start_time": "2024-09-10T17:08:31.955Z"
   },
   {
    "duration": 81,
    "start_time": "2024-09-10T17:09:37.488Z"
   },
   {
    "duration": 3,
    "start_time": "2024-09-10T17:11:37.066Z"
   },
   {
    "duration": 76,
    "start_time": "2024-09-10T17:11:44.141Z"
   },
   {
    "duration": 78,
    "start_time": "2024-09-10T17:12:18.092Z"
   },
   {
    "duration": 77,
    "start_time": "2024-09-10T17:12:37.045Z"
   },
   {
    "duration": 5,
    "start_time": "2024-09-10T17:13:31.915Z"
   },
   {
    "duration": 111,
    "start_time": "2024-09-10T17:13:36.447Z"
   },
   {
    "duration": 111,
    "start_time": "2024-09-10T17:13:50.639Z"
   },
   {
    "duration": 4,
    "start_time": "2024-09-10T17:15:51.632Z"
   },
   {
    "duration": 266,
    "start_time": "2024-09-10T17:16:33.179Z"
   },
   {
    "duration": 111,
    "start_time": "2024-09-10T17:16:42.508Z"
   },
   {
    "duration": 120,
    "start_time": "2024-09-10T17:16:48.331Z"
   },
   {
    "duration": 10,
    "start_time": "2024-09-10T17:16:48.694Z"
   },
   {
    "duration": 116,
    "start_time": "2024-09-10T17:17:00.278Z"
   },
   {
    "duration": 855,
    "start_time": "2024-09-10T17:17:06.910Z"
   },
   {
    "duration": 31,
    "start_time": "2024-09-10T17:17:07.770Z"
   },
   {
    "duration": 15,
    "start_time": "2024-09-10T17:17:07.803Z"
   },
   {
    "duration": 4,
    "start_time": "2024-09-10T17:17:07.821Z"
   },
   {
    "duration": 17,
    "start_time": "2024-09-10T17:17:07.827Z"
   },
   {
    "duration": 17,
    "start_time": "2024-09-10T17:17:07.846Z"
   },
   {
    "duration": 5,
    "start_time": "2024-09-10T17:17:07.865Z"
   },
   {
    "duration": 5,
    "start_time": "2024-09-10T17:17:07.871Z"
   },
   {
    "duration": 48,
    "start_time": "2024-09-10T17:17:07.877Z"
   },
   {
    "duration": 9,
    "start_time": "2024-09-10T17:17:07.929Z"
   },
   {
    "duration": 11,
    "start_time": "2024-09-10T17:17:07.940Z"
   },
   {
    "duration": 4,
    "start_time": "2024-09-10T17:17:07.953Z"
   },
   {
    "duration": 19,
    "start_time": "2024-09-10T17:17:07.959Z"
   },
   {
    "duration": 30,
    "start_time": "2024-09-10T17:17:07.980Z"
   },
   {
    "duration": 846,
    "start_time": "2024-09-10T17:17:08.011Z"
   },
   {
    "duration": 163,
    "start_time": "2024-09-10T17:17:08.858Z"
   },
   {
    "duration": 9,
    "start_time": "2024-09-10T17:17:09.023Z"
   },
   {
    "duration": 7,
    "start_time": "2024-09-10T17:17:09.034Z"
   },
   {
    "duration": 3,
    "start_time": "2024-09-10T17:17:09.043Z"
   },
   {
    "duration": 42372,
    "start_time": "2024-09-10T17:17:09.048Z"
   },
   {
    "duration": 3,
    "start_time": "2024-09-10T17:17:51.422Z"
   },
   {
    "duration": 24,
    "start_time": "2024-09-10T17:17:51.426Z"
   },
   {
    "duration": 10,
    "start_time": "2024-09-10T17:17:51.452Z"
   },
   {
    "duration": 1340,
    "start_time": "2024-09-10T17:17:51.464Z"
   },
   {
    "duration": 76,
    "start_time": "2024-09-10T17:17:52.808Z"
   },
   {
    "duration": 123,
    "start_time": "2024-09-10T17:17:52.886Z"
   },
   {
    "duration": 8,
    "start_time": "2024-09-10T17:17:53.011Z"
   },
   {
    "duration": 122,
    "start_time": "2024-09-10T17:17:53.023Z"
   },
   {
    "duration": 1449,
    "start_time": "2024-09-10T17:17:53.147Z"
   },
   {
    "duration": 229,
    "start_time": "2024-09-10T17:17:54.598Z"
   },
   {
    "duration": 233,
    "start_time": "2024-09-10T18:50:08.595Z"
   },
   {
    "duration": 899,
    "start_time": "2024-09-10T18:50:14.461Z"
   },
   {
    "duration": 56,
    "start_time": "2024-09-10T18:50:15.362Z"
   },
   {
    "duration": 10,
    "start_time": "2024-09-10T18:50:15.420Z"
   },
   {
    "duration": 4,
    "start_time": "2024-09-10T18:50:15.433Z"
   },
   {
    "duration": 16,
    "start_time": "2024-09-10T18:50:15.439Z"
   },
   {
    "duration": 17,
    "start_time": "2024-09-10T18:50:15.457Z"
   },
   {
    "duration": 8,
    "start_time": "2024-09-10T18:50:15.476Z"
   },
   {
    "duration": 3,
    "start_time": "2024-09-10T18:50:15.486Z"
   },
   {
    "duration": 16,
    "start_time": "2024-09-10T18:50:15.491Z"
   },
   {
    "duration": 11,
    "start_time": "2024-09-10T18:50:15.545Z"
   },
   {
    "duration": 11,
    "start_time": "2024-09-10T18:50:15.558Z"
   },
   {
    "duration": 4,
    "start_time": "2024-09-10T18:50:15.571Z"
   },
   {
    "duration": 23,
    "start_time": "2024-09-10T18:50:15.577Z"
   },
   {
    "duration": 7,
    "start_time": "2024-09-10T18:50:15.602Z"
   },
   {
    "duration": 990,
    "start_time": "2024-09-10T18:50:15.610Z"
   },
   {
    "duration": 144,
    "start_time": "2024-09-10T18:50:16.602Z"
   },
   {
    "duration": 10,
    "start_time": "2024-09-10T18:50:16.748Z"
   },
   {
    "duration": 8,
    "start_time": "2024-09-10T18:50:16.759Z"
   },
   {
    "duration": 4,
    "start_time": "2024-09-10T18:50:16.768Z"
   },
   {
    "duration": 42825,
    "start_time": "2024-09-10T18:50:16.774Z"
   },
   {
    "duration": 3,
    "start_time": "2024-09-10T18:50:59.601Z"
   },
   {
    "duration": 16,
    "start_time": "2024-09-10T18:50:59.606Z"
   },
   {
    "duration": 29,
    "start_time": "2024-09-10T18:50:59.624Z"
   },
   {
    "duration": 1370,
    "start_time": "2024-09-10T18:50:59.654Z"
   },
   {
    "duration": 85,
    "start_time": "2024-09-10T18:51:01.026Z"
   },
   {
    "duration": 120,
    "start_time": "2024-09-10T18:51:01.112Z"
   },
   {
    "duration": 18,
    "start_time": "2024-09-10T18:51:01.233Z"
   },
   {
    "duration": 121,
    "start_time": "2024-09-10T18:51:01.254Z"
   },
   {
    "duration": 9550,
    "start_time": "2024-09-10T18:51:01.377Z"
   },
   {
    "duration": 237,
    "start_time": "2024-09-10T18:51:10.929Z"
   },
   {
    "duration": 8768,
    "start_time": "2024-09-10T19:53:59.333Z"
   },
   {
    "duration": 177,
    "start_time": "2024-09-10T19:54:13.182Z"
   },
   {
    "duration": 11,
    "start_time": "2024-09-10T19:54:49.626Z"
   },
   {
    "duration": 1354,
    "start_time": "2024-09-10T19:55:26.712Z"
   },
   {
    "duration": 34,
    "start_time": "2024-09-10T19:55:29.653Z"
   },
   {
    "duration": 158,
    "start_time": "2024-09-10T22:14:36.709Z"
   },
   {
    "duration": 768,
    "start_time": "2024-09-10T22:14:41.534Z"
   },
   {
    "duration": 41,
    "start_time": "2024-09-10T22:14:42.307Z"
   },
   {
    "duration": 9,
    "start_time": "2024-09-10T22:14:42.350Z"
   },
   {
    "duration": 4,
    "start_time": "2024-09-10T22:14:42.361Z"
   },
   {
    "duration": 24,
    "start_time": "2024-09-10T22:14:42.367Z"
   },
   {
    "duration": 16,
    "start_time": "2024-09-10T22:14:42.393Z"
   },
   {
    "duration": 5,
    "start_time": "2024-09-10T22:14:42.411Z"
   },
   {
    "duration": 4,
    "start_time": "2024-09-10T22:14:42.417Z"
   },
   {
    "duration": 13,
    "start_time": "2024-09-10T22:14:42.422Z"
   },
   {
    "duration": 8,
    "start_time": "2024-09-10T22:14:42.436Z"
   },
   {
    "duration": 44,
    "start_time": "2024-09-10T22:14:42.446Z"
   },
   {
    "duration": 4,
    "start_time": "2024-09-10T22:14:42.492Z"
   },
   {
    "duration": 16,
    "start_time": "2024-09-10T22:14:42.497Z"
   },
   {
    "duration": 4,
    "start_time": "2024-09-10T22:14:42.516Z"
   },
   {
    "duration": 868,
    "start_time": "2024-09-10T22:14:42.522Z"
   },
   {
    "duration": 126,
    "start_time": "2024-09-10T22:14:43.392Z"
   },
   {
    "duration": 8,
    "start_time": "2024-09-10T22:14:43.520Z"
   },
   {
    "duration": 61,
    "start_time": "2024-09-10T22:14:43.530Z"
   },
   {
    "duration": 4,
    "start_time": "2024-09-10T22:14:43.593Z"
   },
   {
    "duration": 41236,
    "start_time": "2024-09-10T22:14:43.599Z"
   },
   {
    "duration": 3,
    "start_time": "2024-09-10T22:15:24.837Z"
   },
   {
    "duration": 143,
    "start_time": "2024-09-10T22:15:24.842Z"
   },
   {
    "duration": 0,
    "start_time": "2024-09-10T22:15:24.987Z"
   },
   {
    "duration": 0,
    "start_time": "2024-09-10T22:15:24.988Z"
   },
   {
    "duration": 0,
    "start_time": "2024-09-10T22:15:24.989Z"
   },
   {
    "duration": 0,
    "start_time": "2024-09-10T22:15:24.991Z"
   },
   {
    "duration": 0,
    "start_time": "2024-09-10T22:15:24.993Z"
   },
   {
    "duration": 0,
    "start_time": "2024-09-10T22:15:24.994Z"
   },
   {
    "duration": 0,
    "start_time": "2024-09-10T22:15:24.996Z"
   },
   {
    "duration": 796,
    "start_time": "2024-09-10T22:17:52.936Z"
   },
   {
    "duration": 13,
    "start_time": "2024-09-10T22:18:16.393Z"
   },
   {
    "duration": 8,
    "start_time": "2024-09-10T22:18:17.400Z"
   },
   {
    "duration": 7,
    "start_time": "2024-09-10T22:18:44.447Z"
   },
   {
    "duration": 13,
    "start_time": "2024-09-10T22:19:02.531Z"
   },
   {
    "duration": 13,
    "start_time": "2024-09-10T22:19:10.644Z"
   },
   {
    "duration": 5,
    "start_time": "2024-09-10T22:19:23.279Z"
   },
   {
    "duration": 20,
    "start_time": "2024-09-10T22:19:33.721Z"
   },
   {
    "duration": 14,
    "start_time": "2024-09-10T22:21:37.539Z"
   },
   {
    "duration": 4,
    "start_time": "2024-09-10T22:21:46.875Z"
   },
   {
    "duration": 13,
    "start_time": "2024-09-10T22:21:52.804Z"
   },
   {
    "duration": 14,
    "start_time": "2024-09-10T22:22:04.152Z"
   },
   {
    "duration": 19,
    "start_time": "2024-09-10T22:22:11.850Z"
   },
   {
    "duration": 16,
    "start_time": "2024-09-10T22:22:26.453Z"
   },
   {
    "duration": 12,
    "start_time": "2024-09-10T22:22:37.115Z"
   },
   {
    "duration": 14,
    "start_time": "2024-09-10T22:22:48.705Z"
   },
   {
    "duration": 9,
    "start_time": "2024-09-10T22:23:22.563Z"
   },
   {
    "duration": 1230,
    "start_time": "2024-09-10T22:23:49.957Z"
   },
   {
    "duration": 56,
    "start_time": "2024-09-10T22:25:16.141Z"
   },
   {
    "duration": 1241,
    "start_time": "2024-09-10T22:25:23.208Z"
   },
   {
    "duration": 52,
    "start_time": "2024-09-10T22:25:26.511Z"
   },
   {
    "duration": 14,
    "start_time": "2024-09-10T22:25:54.296Z"
   },
   {
    "duration": 182,
    "start_time": "2024-09-10T22:26:07.412Z"
   },
   {
    "duration": 9,
    "start_time": "2024-09-10T22:26:25.044Z"
   },
   {
    "duration": 14,
    "start_time": "2024-09-10T22:26:29.791Z"
   },
   {
    "duration": 52,
    "start_time": "2024-09-10T22:26:46.557Z"
   },
   {
    "duration": 1229,
    "start_time": "2024-09-10T22:26:48.826Z"
   },
   {
    "duration": 61,
    "start_time": "2024-09-10T22:26:50.057Z"
   },
   {
    "duration": 73,
    "start_time": "2024-09-10T22:26:58.006Z"
   },
   {
    "duration": 8,
    "start_time": "2024-09-10T22:26:59.203Z"
   },
   {
    "duration": 73,
    "start_time": "2024-09-10T22:27:14.712Z"
   },
   {
    "duration": 158,
    "start_time": "2024-09-11T01:06:51.762Z"
   },
   {
    "duration": 775,
    "start_time": "2024-09-11T01:07:09.996Z"
   },
   {
    "duration": 41,
    "start_time": "2024-09-11T01:07:10.773Z"
   },
   {
    "duration": 10,
    "start_time": "2024-09-11T01:07:10.816Z"
   },
   {
    "duration": 4,
    "start_time": "2024-09-11T01:07:10.828Z"
   },
   {
    "duration": 16,
    "start_time": "2024-09-11T01:07:10.834Z"
   },
   {
    "duration": 17,
    "start_time": "2024-09-11T01:07:10.852Z"
   },
   {
    "duration": 6,
    "start_time": "2024-09-11T01:07:10.871Z"
   },
   {
    "duration": 4,
    "start_time": "2024-09-11T01:07:10.878Z"
   },
   {
    "duration": 12,
    "start_time": "2024-09-11T01:07:10.883Z"
   },
   {
    "duration": 9,
    "start_time": "2024-09-11T01:07:10.932Z"
   },
   {
    "duration": 11,
    "start_time": "2024-09-11T01:07:10.943Z"
   },
   {
    "duration": 3,
    "start_time": "2024-09-11T01:07:10.956Z"
   },
   {
    "duration": 16,
    "start_time": "2024-09-11T01:07:10.961Z"
   },
   {
    "duration": 3,
    "start_time": "2024-09-11T01:07:10.979Z"
   },
   {
    "duration": 848,
    "start_time": "2024-09-11T01:07:10.984Z"
   },
   {
    "duration": 125,
    "start_time": "2024-09-11T01:07:11.833Z"
   },
   {
    "duration": 9,
    "start_time": "2024-09-11T01:07:11.961Z"
   },
   {
    "duration": 7,
    "start_time": "2024-09-11T01:07:11.972Z"
   },
   {
    "duration": 54,
    "start_time": "2024-09-11T01:07:11.980Z"
   },
   {
    "duration": 41671,
    "start_time": "2024-09-11T01:07:12.035Z"
   },
   {
    "duration": 3,
    "start_time": "2024-09-11T01:07:53.708Z"
   },
   {
    "duration": 31,
    "start_time": "2024-09-11T01:07:53.713Z"
   },
   {
    "duration": 9,
    "start_time": "2024-09-11T01:07:53.746Z"
   },
   {
    "duration": 1242,
    "start_time": "2024-09-11T01:07:53.756Z"
   },
   {
    "duration": 85,
    "start_time": "2024-09-11T01:07:55.001Z"
   },
   {
    "duration": 77,
    "start_time": "2024-09-11T01:07:55.088Z"
   },
   {
    "duration": 8,
    "start_time": "2024-09-11T01:07:55.167Z"
   },
   {
    "duration": 86,
    "start_time": "2024-09-11T01:07:55.179Z"
   },
   {
    "duration": 9150,
    "start_time": "2024-09-11T01:07:55.267Z"
   },
   {
    "duration": 79,
    "start_time": "2024-09-11T01:08:55.126Z"
   },
   {
    "duration": 73,
    "start_time": "2024-09-11T01:09:06.944Z"
   },
   {
    "duration": 5,
    "start_time": "2024-09-11T01:11:28.387Z"
   },
   {
    "duration": 3,
    "start_time": "2024-09-11T01:11:31.980Z"
   },
   {
    "duration": 128,
    "start_time": "2024-09-11T01:11:37.029Z"
   },
   {
    "duration": 90,
    "start_time": "2024-09-11T01:12:21.182Z"
   },
   {
    "duration": 89,
    "start_time": "2024-09-11T01:12:49.729Z"
   },
   {
    "duration": 1446,
    "start_time": "2024-09-11T01:18:52.503Z"
   },
   {
    "duration": 87,
    "start_time": "2024-09-11T01:18:56.266Z"
   },
   {
    "duration": 1804,
    "start_time": "2024-09-11T01:18:59.798Z"
   },
   {
    "duration": 112,
    "start_time": "2024-09-11T01:19:01.604Z"
   },
   {
    "duration": 1270,
    "start_time": "2024-09-11T01:19:06.352Z"
   },
   {
    "duration": 107,
    "start_time": "2024-09-11T01:19:07.625Z"
   },
   {
    "duration": 1265,
    "start_time": "2024-09-11T01:19:26.052Z"
   },
   {
    "duration": 100,
    "start_time": "2024-09-11T01:19:27.319Z"
   },
   {
    "duration": 78,
    "start_time": "2024-09-11T01:19:31.034Z"
   },
   {
    "duration": 1239,
    "start_time": "2024-09-11T01:19:36.325Z"
   },
   {
    "duration": 91,
    "start_time": "2024-09-11T01:19:37.567Z"
   },
   {
    "duration": 77,
    "start_time": "2024-09-11T01:19:43.081Z"
   },
   {
    "duration": 1223,
    "start_time": "2024-09-11T01:20:01.499Z"
   },
   {
    "duration": 80,
    "start_time": "2024-09-11T01:20:02.724Z"
   },
   {
    "duration": 1180,
    "start_time": "2024-09-11T01:20:06.457Z"
   },
   {
    "duration": 80,
    "start_time": "2024-09-11T01:20:08.915Z"
   },
   {
    "duration": 1177,
    "start_time": "2024-09-11T01:20:13.468Z"
   },
   {
    "duration": 71,
    "start_time": "2024-09-11T01:20:14.647Z"
   },
   {
    "duration": 1178,
    "start_time": "2024-09-11T01:20:24.362Z"
   },
   {
    "duration": 72,
    "start_time": "2024-09-11T01:20:25.542Z"
   },
   {
    "duration": 68,
    "start_time": "2024-09-11T01:20:56.489Z"
   },
   {
    "duration": 10,
    "start_time": "2024-09-11T01:20:57.436Z"
   },
   {
    "duration": 8,
    "start_time": "2024-09-11T01:21:05.197Z"
   },
   {
    "duration": 68,
    "start_time": "2024-09-11T01:21:16.990Z"
   },
   {
    "duration": 110,
    "start_time": "2024-09-11T01:24:20.492Z"
   },
   {
    "duration": 13,
    "start_time": "2024-09-11T01:24:45.125Z"
   },
   {
    "duration": 5059,
    "start_time": "2024-09-11T01:25:03.904Z"
   },
   {
    "duration": 776,
    "start_time": "2024-09-11T01:28:53.068Z"
   },
   {
    "duration": 28,
    "start_time": "2024-09-11T01:28:53.846Z"
   },
   {
    "duration": 10,
    "start_time": "2024-09-11T01:28:53.876Z"
   },
   {
    "duration": 4,
    "start_time": "2024-09-11T01:28:53.889Z"
   },
   {
    "duration": 37,
    "start_time": "2024-09-11T01:28:53.894Z"
   },
   {
    "duration": 17,
    "start_time": "2024-09-11T01:28:53.932Z"
   },
   {
    "duration": 6,
    "start_time": "2024-09-11T01:28:53.950Z"
   },
   {
    "duration": 4,
    "start_time": "2024-09-11T01:28:53.957Z"
   },
   {
    "duration": 12,
    "start_time": "2024-09-11T01:28:53.963Z"
   },
   {
    "duration": 9,
    "start_time": "2024-09-11T01:28:53.978Z"
   },
   {
    "duration": 43,
    "start_time": "2024-09-11T01:28:53.989Z"
   },
   {
    "duration": 5,
    "start_time": "2024-09-11T01:28:54.033Z"
   },
   {
    "duration": 18,
    "start_time": "2024-09-11T01:28:54.039Z"
   },
   {
    "duration": 4,
    "start_time": "2024-09-11T01:28:54.059Z"
   },
   {
    "duration": 828,
    "start_time": "2024-09-11T01:28:54.064Z"
   },
   {
    "duration": 155,
    "start_time": "2024-09-11T01:28:54.894Z"
   },
   {
    "duration": 8,
    "start_time": "2024-09-11T01:28:55.050Z"
   },
   {
    "duration": 8,
    "start_time": "2024-09-11T01:28:55.059Z"
   },
   {
    "duration": 5,
    "start_time": "2024-09-11T01:28:55.068Z"
   },
   {
    "duration": 779,
    "start_time": "2024-09-11T08:40:33.684Z"
   },
   {
    "duration": 40,
    "start_time": "2024-09-11T08:40:34.465Z"
   },
   {
    "duration": 10,
    "start_time": "2024-09-11T08:40:34.506Z"
   },
   {
    "duration": 4,
    "start_time": "2024-09-11T08:40:34.519Z"
   },
   {
    "duration": 24,
    "start_time": "2024-09-11T08:40:34.525Z"
   },
   {
    "duration": 17,
    "start_time": "2024-09-11T08:40:34.552Z"
   },
   {
    "duration": 6,
    "start_time": "2024-09-11T08:40:34.571Z"
   },
   {
    "duration": 3,
    "start_time": "2024-09-11T08:40:34.598Z"
   },
   {
    "duration": 11,
    "start_time": "2024-09-11T08:40:34.680Z"
   },
   {
    "duration": 9,
    "start_time": "2024-09-11T08:40:34.762Z"
   },
   {
    "duration": 11,
    "start_time": "2024-09-11T08:40:35.349Z"
   },
   {
    "duration": 4,
    "start_time": "2024-09-11T08:40:35.516Z"
   },
   {
    "duration": 18,
    "start_time": "2024-09-11T08:40:35.923Z"
   },
   {
    "duration": 5,
    "start_time": "2024-09-11T08:40:36.496Z"
   },
   {
    "duration": 779,
    "start_time": "2024-09-11T08:40:36.583Z"
   },
   {
    "duration": 185,
    "start_time": "2024-09-11T08:40:37.364Z"
   },
   {
    "duration": 7,
    "start_time": "2024-09-11T08:40:37.764Z"
   },
   {
    "duration": 7,
    "start_time": "2024-09-11T08:40:37.842Z"
   },
   {
    "duration": 3,
    "start_time": "2024-09-11T08:40:38.010Z"
   },
   {
    "duration": 41457,
    "start_time": "2024-09-11T08:40:39.277Z"
   },
   {
    "duration": 3,
    "start_time": "2024-09-11T08:41:20.744Z"
   },
   {
    "duration": 13,
    "start_time": "2024-09-11T08:41:20.749Z"
   },
   {
    "duration": 8,
    "start_time": "2024-09-11T08:41:20.765Z"
   },
   {
    "duration": 1183,
    "start_time": "2024-09-11T08:41:20.775Z"
   },
   {
    "duration": 71,
    "start_time": "2024-09-11T08:41:21.960Z"
   },
   {
    "duration": 66,
    "start_time": "2024-09-11T08:41:22.042Z"
   },
   {
    "duration": 7,
    "start_time": "2024-09-11T08:41:22.110Z"
   },
   {
    "duration": 83,
    "start_time": "2024-09-11T08:41:22.119Z"
   },
   {
    "duration": 5409,
    "start_time": "2024-09-11T08:41:22.205Z"
   },
   {
    "duration": 5,
    "start_time": "2024-09-11T09:21:36.246Z"
   },
   {
    "duration": 156,
    "start_time": "2024-09-11T14:31:14.359Z"
   },
   {
    "duration": 826,
    "start_time": "2024-09-11T14:31:57.529Z"
   },
   {
    "duration": 37,
    "start_time": "2024-09-11T14:31:58.357Z"
   },
   {
    "duration": 11,
    "start_time": "2024-09-11T14:31:58.396Z"
   },
   {
    "duration": 4,
    "start_time": "2024-09-11T14:31:58.409Z"
   },
   {
    "duration": 20,
    "start_time": "2024-09-11T14:31:58.423Z"
   },
   {
    "duration": 16,
    "start_time": "2024-09-11T14:31:58.444Z"
   },
   {
    "duration": 6,
    "start_time": "2024-09-11T14:31:58.461Z"
   },
   {
    "duration": 4,
    "start_time": "2024-09-11T14:31:58.468Z"
   },
   {
    "duration": 11,
    "start_time": "2024-09-11T14:31:58.474Z"
   },
   {
    "duration": 9,
    "start_time": "2024-09-11T14:31:58.524Z"
   },
   {
    "duration": 10,
    "start_time": "2024-09-11T14:31:58.535Z"
   },
   {
    "duration": 4,
    "start_time": "2024-09-11T14:31:58.546Z"
   },
   {
    "duration": 16,
    "start_time": "2024-09-11T14:31:58.551Z"
   },
   {
    "duration": 4,
    "start_time": "2024-09-11T14:31:58.568Z"
   },
   {
    "duration": 846,
    "start_time": "2024-09-11T14:31:58.574Z"
   },
   {
    "duration": 126,
    "start_time": "2024-09-11T14:31:59.421Z"
   },
   {
    "duration": 8,
    "start_time": "2024-09-11T14:31:59.548Z"
   },
   {
    "duration": 7,
    "start_time": "2024-09-11T14:31:59.559Z"
   },
   {
    "duration": 3,
    "start_time": "2024-09-11T14:31:59.567Z"
   },
   {
    "duration": 41315,
    "start_time": "2024-09-11T14:31:59.572Z"
   },
   {
    "duration": 4,
    "start_time": "2024-09-11T14:32:40.890Z"
   },
   {
    "duration": 18,
    "start_time": "2024-09-11T14:32:40.895Z"
   },
   {
    "duration": 17,
    "start_time": "2024-09-11T14:32:40.914Z"
   },
   {
    "duration": 1154,
    "start_time": "2024-09-11T14:32:40.932Z"
   },
   {
    "duration": 81,
    "start_time": "2024-09-11T14:32:42.088Z"
   },
   {
    "duration": 75,
    "start_time": "2024-09-11T14:32:42.170Z"
   },
   {
    "duration": 7,
    "start_time": "2024-09-11T14:32:42.247Z"
   },
   {
    "duration": 75,
    "start_time": "2024-09-11T14:32:42.257Z"
   },
   {
    "duration": 4614,
    "start_time": "2024-09-11T14:32:42.333Z"
   },
   {
    "duration": 8861,
    "start_time": "2024-09-11T14:32:46.948Z"
   }
  ],
  "kernelspec": {
   "display_name": "Python 3 (ipykernel)",
   "language": "python",
   "name": "python3"
  },
  "language_info": {
   "codemirror_mode": {
    "name": "ipython",
    "version": 3
   },
   "file_extension": ".py",
   "mimetype": "text/x-python",
   "name": "python",
   "nbconvert_exporter": "python",
   "pygments_lexer": "ipython3",
   "version": "3.9.19"
  },
  "toc": {
   "base_numbering": 1,
   "nav_menu": {},
   "number_sections": true,
   "sideBar": true,
   "skip_h1_title": true,
   "title_cell": "Table of Contents",
   "title_sidebar": "Contents",
   "toc_cell": false,
   "toc_position": {},
   "toc_section_display": true,
   "toc_window_display": false
  }
 },
 "nbformat": 4,
 "nbformat_minor": 2
}
